{
 "cells": [
  {
   "cell_type": "markdown",
   "id": "9b5fb36a-bc93-4f66-b91f-8cc586c56e87",
   "metadata": {},
   "source": [
    "# Score LCL dsQTL variants"
   ]
  },
  {
   "cell_type": "markdown",
   "id": "f945eb76-8120-48cc-8983-073f70905d28",
   "metadata": {},
   "source": [
    "In this notebook, we score LCL dsQTLs with the trained GM12878 DNase regression model."
   ]
  },
  {
   "cell_type": "code",
   "execution_count": 136,
   "id": "a4ef50fb-af60-490c-86cb-1ab762869ab2",
   "metadata": {},
   "outputs": [],
   "source": [
    "# ! pip install git+https://github.com/Genentech/gReLU"
   ]
  },
  {
   "cell_type": "code",
   "execution_count": 1,
   "id": "d79a359c-ed31-4ab7-84dd-ed859ba7fa83",
   "metadata": {},
   "outputs": [],
   "source": [
    "import os\n",
    "import numpy as np\n",
    "import pandas as pd\n",
    "import torch"
   ]
  },
  {
   "cell_type": "code",
   "execution_count": 2,
   "id": "59e40a76-460a-417d-ba3f-d47491e5e8dc",
   "metadata": {},
   "outputs": [],
   "source": [
    "import matplotlib as mpl\n",
    "mpl.rcParams['pdf.fonttype'] = 42\n",
    "mpl.rcParams['ps.fonttype'] = 42"
   ]
  },
  {
   "cell_type": "markdown",
   "id": "bf7b4807-a380-4bc8-ab66-1946e70643cf",
   "metadata": {},
   "source": [
    "## Set experiment parameters"
   ]
  },
  {
   "cell_type": "code",
   "execution_count": 3,
   "id": "cb7564d7-96e6-4b80-a857-7574bf7107e4",
   "metadata": {},
   "outputs": [
    {
     "name": "stderr",
     "output_type": "stream",
     "text": [
      "/usr/local/lib/python3.11/dist-packages/tqdm/auto.py:21: TqdmWarning: IProgress not found. Please update jupyter and ipywidgets. See https://ipywidgets.readthedocs.io/en/stable/user_install.html\n",
      "  from .autonotebook import tqdm as notebook_tqdm\n"
     ]
    }
   ],
   "source": [
    "import grelu.lightning\n",
    "import grelu.resources"
   ]
  },
  {
   "cell_type": "code",
   "execution_count": 4,
   "id": "6a3ec7ea-51f9-4c71-87a0-da665b88b636",
   "metadata": {},
   "outputs": [
    {
     "name": "stderr",
     "output_type": "stream",
     "text": [
      "\u001b[34m\u001b[1mwandb\u001b[0m: Currently logged in as: \u001b[33msuragnair\u001b[0m (\u001b[33msuragnair-Genentech\u001b[0m). Use \u001b[1m`wandb login --relogin`\u001b[0m to force relogin\n",
      "\u001b[34m\u001b[1mwandb\u001b[0m:   1 of 1 files downloaded.  \n"
     ]
    }
   ],
   "source": [
    "model = grelu.resources.load_model(project=\"GM12878_dnase\", model_name='regression', host=\"https://api.wandb.ai\")"
   ]
  },
  {
   "cell_type": "markdown",
   "id": "d5d89c0d-6b4c-47d2-9568-1617586bea2f",
   "metadata": {},
   "source": [
    "## Variants"
   ]
  },
  {
   "cell_type": "code",
   "execution_count": 5,
   "id": "03365109-120a-44bd-ae14-b653996e4ce9",
   "metadata": {},
   "outputs": [
    {
     "name": "stderr",
     "output_type": "stream",
     "text": [
      "/tmp/ipykernel_212073/2148077579.py:5: SettingWithCopyWarning: \n",
      "A value is trying to be set on a copy of a slice from a DataFrame\n",
      "\n",
      "See the caveats in the documentation: https://pandas.pydata.org/pandas-docs/stable/user_guide/indexing.html#returning-a-view-versus-a-copy\n",
      "  variants_df['label'][variants_df['label']==-1] = 0\n"
     ]
    },
    {
     "data": {
      "text/html": [
       "<div>\n",
       "<style scoped>\n",
       "    .dataframe tbody tr th:only-of-type {\n",
       "        vertical-align: middle;\n",
       "    }\n",
       "\n",
       "    .dataframe tbody tr th {\n",
       "        vertical-align: top;\n",
       "    }\n",
       "\n",
       "    .dataframe thead th {\n",
       "        text-align: right;\n",
       "    }\n",
       "</style>\n",
       "<table border=\"1\" class=\"dataframe\">\n",
       "  <thead>\n",
       "    <tr style=\"text-align: right;\">\n",
       "      <th></th>\n",
       "      <th>chrom</th>\n",
       "      <th>pos</th>\n",
       "      <th>ref</th>\n",
       "      <th>alt</th>\n",
       "      <th>label</th>\n",
       "      <th>abs_gkm_SVM</th>\n",
       "    </tr>\n",
       "  </thead>\n",
       "  <tbody>\n",
       "    <tr>\n",
       "      <th>0</th>\n",
       "      <td>chr1</td>\n",
       "      <td>856583</td>\n",
       "      <td>A</td>\n",
       "      <td>G</td>\n",
       "      <td>1</td>\n",
       "      <td>2.653531</td>\n",
       "    </tr>\n",
       "    <tr>\n",
       "      <th>1</th>\n",
       "      <td>chr1</td>\n",
       "      <td>911595</td>\n",
       "      <td>G</td>\n",
       "      <td>A</td>\n",
       "      <td>1</td>\n",
       "      <td>2.821422</td>\n",
       "    </tr>\n",
       "    <tr>\n",
       "      <th>2</th>\n",
       "      <td>chr1</td>\n",
       "      <td>1186502</td>\n",
       "      <td>T</td>\n",
       "      <td>A</td>\n",
       "      <td>1</td>\n",
       "      <td>7.167236</td>\n",
       "    </tr>\n",
       "    <tr>\n",
       "      <th>3</th>\n",
       "      <td>chr1</td>\n",
       "      <td>1227412</td>\n",
       "      <td>A</td>\n",
       "      <td>G</td>\n",
       "      <td>1</td>\n",
       "      <td>3.957382</td>\n",
       "    </tr>\n",
       "    <tr>\n",
       "      <th>4</th>\n",
       "      <td>chr1</td>\n",
       "      <td>1590575</td>\n",
       "      <td>A</td>\n",
       "      <td>G</td>\n",
       "      <td>1</td>\n",
       "      <td>4.785596</td>\n",
       "    </tr>\n",
       "  </tbody>\n",
       "</table>\n",
       "</div>"
      ],
      "text/plain": [
       "  chrom      pos ref alt  label  abs_gkm_SVM\n",
       "0  chr1   856583   A   G      1     2.653531\n",
       "1  chr1   911595   G   A      1     2.821422\n",
       "2  chr1  1186502   T   A      1     7.167236\n",
       "3  chr1  1227412   A   G      1     3.957382\n",
       "4  chr1  1590575   A   G      1     4.785596"
      ]
     },
     "execution_count": 5,
     "metadata": {},
     "output_type": "execute_result"
    }
   ],
   "source": [
    "# file can be downloaded from https://static-content.springer.com/esm/art%3A10.1038%2Fng.3331/MediaObjects/41588_2015_BFng3331_MOESM26_ESM.xlsx\n",
    "variants_df = pd.read_csv(\"/home/nairs51/resources/LCL_dsQTL/41588_2015_BFng3331_MOESM26_ESM.tsv\", sep='\\t')\n",
    "variants_df = variants_df[['chrom_hg19', 'pos_hg19', 'allele1', 'allele2', 'label', 'abs_gkm_SVM']]\n",
    "variants_df = variants_df.set_axis(['chrom', 'pos', 'ref', 'alt', 'label', 'abs_gkm_SVM'], axis=1)\n",
    "variants_df['label'][variants_df['label']==-1] = 0 \n",
    "variants_df.head()"
   ]
  },
  {
   "cell_type": "code",
   "execution_count": 6,
   "id": "7df002e4-2322-4296-b36a-9a3a00b04b44",
   "metadata": {},
   "outputs": [],
   "source": [
    "from grelu.data.preprocess import filter_blacklist, filter_chromosomes\n",
    "from grelu.variant import filter_variants"
   ]
  },
  {
   "cell_type": "code",
   "execution_count": 7,
   "id": "8b38da9c-7d99-4ae1-b287-c9d725795e69",
   "metadata": {},
   "outputs": [
    {
     "name": "stdout",
     "output_type": "stream",
     "text": [
      "Initial number of variants: 28309\n",
      "Final number of variants: 28309\n"
     ]
    }
   ],
   "source": [
    "variants = filter_variants(variants_df, max_del_len=0, max_insert_len=0, standard_bases=True)"
   ]
  },
  {
   "cell_type": "code",
   "execution_count": 8,
   "id": "b9d77ffd-79bd-4d38-9112-67bd473d2277",
   "metadata": {},
   "outputs": [
    {
     "name": "stdout",
     "output_type": "stream",
     "text": [
      "Keeping 28309 intervals\n"
     ]
    }
   ],
   "source": [
    "variants = filter_chromosomes(variants, include='autosomesXY')"
   ]
  },
  {
   "cell_type": "markdown",
   "id": "a593fce2-1d82-4d19-83b2-63e32bd14f68",
   "metadata": {},
   "source": [
    "## Predict"
   ]
  },
  {
   "cell_type": "code",
   "execution_count": 9,
   "id": "b87d68ca-2d66-4a8b-922f-9b1eaa1ba07c",
   "metadata": {},
   "outputs": [
    {
     "name": "stdout",
     "output_type": "stream",
     "text": [
      "making dataset\n"
     ]
    },
    {
     "name": "stderr",
     "output_type": "stream",
     "text": [
      "GPU available: True (cuda), used: True\n",
      "TPU available: False, using: 0 TPU cores\n",
      "HPU available: False, using: 0 HPUs\n",
      "LOCAL_RANK: 0 - CUDA_VISIBLE_DEVICES: [0,1,2,3,4,5,6,7]\n"
     ]
    },
    {
     "name": "stdout",
     "output_type": "stream",
     "text": [
      "Predicting DataLoader 0: 100%|██████████████████████████████████████████████████████████████████████████████████████████████████████| 885/885 [00:44<00:00, 20.04it/s]\n"
     ]
    },
    {
     "name": "stderr",
     "output_type": "stream",
     "text": [
      "/usr/local/lib/python3.11/dist-packages/anndata/_core/aligned_df.py:67: ImplicitModificationWarning: Transforming to str index.\n",
      "  warnings.warn(\"Transforming to str index.\", ImplicitModificationWarning)\n"
     ]
    }
   ],
   "source": [
    "import grelu.variant\n",
    "\n",
    "odds = grelu.variant.predict_variant_effects(\n",
    "    variants=variants,\n",
    "    model=model, \n",
    "    devices=0, # Run on GPU 0\n",
    "    num_workers=8,\n",
    "    batch_size=128,\n",
    "    genome=\"hg19\",\n",
    "    compare_func=\"subtract\", \n",
    "    return_ad=True, # Return an anndata object.\n",
    "    rc = True, # Reverse complement the ref/alt predictions and average them.\n",
    ")"
   ]
  },
  {
   "cell_type": "code",
   "execution_count": 11,
   "id": "7a56a834-26c7-490b-8605-39ebbe781681",
   "metadata": {},
   "outputs": [],
   "source": [
    "import sklearn.metrics"
   ]
  },
  {
   "cell_type": "code",
   "execution_count": 12,
   "id": "b7a0605e-ae1f-4b08-b895-f4df25824892",
   "metadata": {},
   "outputs": [
    {
     "data": {
      "text/plain": [
       "0.2998101249840145"
      ]
     },
     "execution_count": 12,
     "metadata": {},
     "output_type": "execute_result"
    }
   ],
   "source": [
    "auprc = sklearn.metrics.average_precision_score(variants['label'].ravel(), np.abs(odds.X.ravel()))\n",
    "auprc"
   ]
  },
  {
   "cell_type": "code",
   "execution_count": 13,
   "id": "a745da27-43df-4a99-b910-cbea641aae39",
   "metadata": {},
   "outputs": [],
   "source": [
    "pr, rec, _ = sklearn.metrics.precision_recall_curve(variants['label'].ravel(), np.abs(odds.X.ravel()))"
   ]
  },
  {
   "cell_type": "code",
   "execution_count": null,
   "id": "f21b671f-4b6d-463d-a2fe-585c25232865",
   "metadata": {},
   "outputs": [],
   "source": []
  },
  {
   "cell_type": "markdown",
   "id": "ed328d77-214e-4568-aa76-2a96a7aa5942",
   "metadata": {},
   "source": [
    "### Plot"
   ]
  },
  {
   "cell_type": "code",
   "execution_count": 23,
   "id": "b8e2cf4b-2b59-49c8-8896-ce63186dab24",
   "metadata": {},
   "outputs": [],
   "source": [
    "import matplotlib.pyplot as plt"
   ]
  },
  {
   "cell_type": "code",
   "execution_count": 14,
   "id": "ad51d545-0eb8-4165-9f40-2e1acd9953f2",
   "metadata": {},
   "outputs": [],
   "source": [
    "prsvm, recsvm, _ = sklearn.metrics.precision_recall_curve(variants_df['label'].ravel(), variants_df['abs_gkm_SVM'].ravel())"
   ]
  },
  {
   "cell_type": "code",
   "execution_count": 15,
   "id": "2a9ca325-89f5-4d74-b3e3-e1c39b14c19f",
   "metadata": {},
   "outputs": [],
   "source": [
    "prrd, recrd, _ = sklearn.metrics.precision_recall_curve(variants_df['label'].ravel(), variants_df['abs_gkm_SVM'].ravel()[np.random.permutation(len(variants_df))])"
   ]
  },
  {
   "cell_type": "code",
   "execution_count": 16,
   "id": "348fc2aa-491e-4098-aa63-00ac33a88df2",
   "metadata": {},
   "outputs": [],
   "source": [
    "gkm_auprc = sklearn.metrics.average_precision_score(variants_df['label'].ravel(), variants_df['abs_gkm_SVM'].ravel())"
   ]
  },
  {
   "cell_type": "code",
   "execution_count": 17,
   "id": "d0084413-0497-4536-b57c-ddcb37a7fe31",
   "metadata": {},
   "outputs": [],
   "source": [
    "random_auprc = sklearn.metrics.average_precision_score(variants_df['label'].ravel(), variants_df['abs_gkm_SVM'].ravel()[np.random.permutation(len(variants_df))])"
   ]
  },
  {
   "cell_type": "code",
   "execution_count": null,
   "id": "56255362-a3c9-4994-9d5b-fa5167b17d3f",
   "metadata": {},
   "outputs": [],
   "source": []
  },
  {
   "cell_type": "code",
   "execution_count": 18,
   "id": "27d77404-3b36-4c9e-adff-b16ccf132712",
   "metadata": {},
   "outputs": [
    {
     "data": {
      "text/html": [
       "<div>\n",
       "<style scoped>\n",
       "    .dataframe tbody tr th:only-of-type {\n",
       "        vertical-align: middle;\n",
       "    }\n",
       "\n",
       "    .dataframe tbody tr th {\n",
       "        vertical-align: top;\n",
       "    }\n",
       "\n",
       "    .dataframe thead th {\n",
       "        text-align: right;\n",
       "    }\n",
       "</style>\n",
       "<table border=\"1\" class=\"dataframe\">\n",
       "  <thead>\n",
       "    <tr style=\"text-align: right;\">\n",
       "      <th></th>\n",
       "      <th>chrom_hg19</th>\n",
       "      <th>pos_hg19</th>\n",
       "      <th>allele1</th>\n",
       "      <th>allele2</th>\n",
       "      <th>gkm_SVM</th>\n",
       "      <th>abs_gkm_SVM</th>\n",
       "      <th>label</th>\n",
       "      <th>enformer_task_12_ENCFF093VXI_LFC</th>\n",
       "      <th>enformer_task_69_ENCFF915DFR_LFC</th>\n",
       "    </tr>\n",
       "  </thead>\n",
       "  <tbody>\n",
       "    <tr>\n",
       "      <th>0</th>\n",
       "      <td>chr1</td>\n",
       "      <td>856583</td>\n",
       "      <td>A</td>\n",
       "      <td>G</td>\n",
       "      <td>2.653531</td>\n",
       "      <td>2.653531</td>\n",
       "      <td>1</td>\n",
       "      <td>0.247190</td>\n",
       "      <td>0.212708</td>\n",
       "    </tr>\n",
       "    <tr>\n",
       "      <th>1</th>\n",
       "      <td>chr1</td>\n",
       "      <td>911595</td>\n",
       "      <td>G</td>\n",
       "      <td>A</td>\n",
       "      <td>2.821422</td>\n",
       "      <td>2.821422</td>\n",
       "      <td>1</td>\n",
       "      <td>-0.407559</td>\n",
       "      <td>-0.470603</td>\n",
       "    </tr>\n",
       "  </tbody>\n",
       "</table>\n",
       "</div>"
      ],
      "text/plain": [
       "  chrom_hg19  pos_hg19 allele1 allele2   gkm_SVM  abs_gkm_SVM  label  \\\n",
       "0       chr1    856583       A       G  2.653531     2.653531      1   \n",
       "1       chr1    911595       G       A  2.821422     2.821422      1   \n",
       "\n",
       "   enformer_task_12_ENCFF093VXI_LFC  enformer_task_69_ENCFF915DFR_LFC  \n",
       "0                          0.247190                          0.212708  \n",
       "1                         -0.407559                         -0.470603  "
      ]
     },
     "execution_count": 18,
     "metadata": {},
     "output_type": "execute_result"
    }
   ],
   "source": [
    "# enformer computed scores\n",
    "enformer_preds = pd.read_csv(\"/home/nairs51/relu/sequence-function-mask-model/src/notebooks/20240514_Enformer_Borzoi_grelu_dsQTL/enformer_scores_1152bp.tsv\", sep='\\t')\n",
    "enformer_preds.head(2)"
   ]
  },
  {
   "cell_type": "code",
   "execution_count": 19,
   "id": "342a569e-6371-4141-a68c-acf0ffcd9909",
   "metadata": {},
   "outputs": [
    {
     "data": {
      "text/plain": [
       "True"
      ]
     },
     "execution_count": 19,
     "metadata": {},
     "output_type": "execute_result"
    }
   ],
   "source": [
    "len(enformer_preds) == len(variants_df)"
   ]
  },
  {
   "cell_type": "code",
   "execution_count": 20,
   "id": "75dfc809-2abc-4bcd-a94b-1372d69d4b49",
   "metadata": {},
   "outputs": [],
   "source": [
    "enf_auprc = sklearn.metrics.average_precision_score(enformer_preds['label'].ravel(), np.abs(enformer_preds['enformer_task_12_ENCFF093VXI_LFC'].ravel()))"
   ]
  },
  {
   "cell_type": "code",
   "execution_count": 21,
   "id": "fccb7c8b-7350-4ae3-b5a9-56cdd3a22281",
   "metadata": {},
   "outputs": [],
   "source": [
    "prenf, recenf, _ = sklearn.metrics.precision_recall_curve(enformer_preds['label'].ravel(), np.abs(enformer_preds['enformer_task_12_ENCFF093VXI_LFC'].ravel()))"
   ]
  },
  {
   "cell_type": "code",
   "execution_count": null,
   "id": "163e38a4-c796-41b8-b763-36f7fdfe4755",
   "metadata": {},
   "outputs": [],
   "source": []
  },
  {
   "cell_type": "code",
   "execution_count": null,
   "id": "440a0385-3168-4ae5-bc7e-3991db569959",
   "metadata": {},
   "outputs": [],
   "source": []
  },
  {
   "cell_type": "code",
   "execution_count": 24,
   "id": "1cfc44b2-2c60-4182-bc94-26719b4f1478",
   "metadata": {},
   "outputs": [
    {
     "data": {
      "text/plain": [
       "Text(0.5, 1.0, 'LCL DNase QTL classification')"
      ]
     },
     "execution_count": 24,
     "metadata": {},
     "output_type": "execute_result"
    },
    {
     "data": {
      "image/png": "[encoded data removed]",
      "text/plain": [
       "<Figure size 640x480 with 1 Axes>"
      ]
     },
     "metadata": {},
     "output_type": "display_data"
    }
   ],
   "source": [
    "plt.plot(recrd, prrd, label='random (AUPRC={})'.format(round(random_auprc,3)), c='gray', linestyle='--')\n",
    "plt.plot(recsvm, prsvm, 'k', label='gkmSVM (AUPRC={})'.format(round(gkm_auprc,3)))\n",
    "plt.plot(recenf, prenf, label='Enformer (AUPRC={})'.format(round(enf_auprc,3)))\n",
    "plt.plot(rec, pr, label='gReLU (AUPRC={})'.format(round(auprc, 3)))\n",
    "plt.xlabel(\"Recall\")\n",
    "plt.ylabel(\"Precision\")\n",
    "plt.legend()\n",
    "plt.title(\"LCL DNase QTL classification\")\n",
    "\n",
    "# plt.savefig(\"figures/AUPRC.pdf\", dpi=300)"
   ]
  },
  {
   "cell_type": "code",
   "execution_count": null,
   "id": "255aafad-2625-4e73-b23c-0bc6d5574562",
   "metadata": {},
   "outputs": [],
   "source": []
  },
  {
   "cell_type": "markdown",
   "id": "a3147004-ea19-4186-891e-4b8245d5d816",
   "metadata": {},
   "source": [
    "## Examples"
   ]
  },
  {
   "cell_type": "code",
   "execution_count": 25,
   "id": "eaebbfa8-cf67-4aa1-9fb5-740913ad1337",
   "metadata": {},
   "outputs": [],
   "source": [
    "from grelu.transforms.prediction_transforms import Aggregate\n",
    "lcl_score = Aggregate(tasks=[0], model=model)"
   ]
  },
  {
   "cell_type": "code",
   "execution_count": 26,
   "id": "5c896f78-41b4-4dbe-8c7f-3d69105f9994",
   "metadata": {},
   "outputs": [
    {
     "data": {
      "text/plain": [
       "array([191,  95, 242, 189,  25, 352, 498,  41, 359, 330, 456, 523, 230,\n",
       "        65, 170, 304,  67, 283, 379, 263, 302, 194, 376,  14, 226, 521,\n",
       "       396, 218,  68, 524,   9, 288, 127, 467,  79, 284, 495, 468, 173,\n",
       "       422, 535, 337,   3, 161, 148, 357, 490, 485, 436, 123])"
      ]
     },
     "execution_count": 26,
     "metadata": {},
     "output_type": "execute_result"
    }
   ],
   "source": [
    "np.argsort(np.abs(odds.X.ravel()[:573]))[::-1][:50]"
   ]
  },
  {
   "cell_type": "code",
   "execution_count": 27,
   "id": "a0ea6407-a0ff-4071-9402-0a6910edbc39",
   "metadata": {},
   "outputs": [],
   "source": [
    "VARIANT_IDX = 337\n",
    "variant = odds[VARIANT_IDX, :] "
   ]
  },
  {
   "cell_type": "code",
   "execution_count": 28,
   "id": "65fb36f4-d312-406e-b915-478c60e5f853",
   "metadata": {},
   "outputs": [
    {
     "data": {
      "text/plain": [
       "chrom               chr2\n",
       "pos            216696316\n",
       "ref                    G\n",
       "alt                    A\n",
       "label                  1\n",
       "abs_gkm_SVM     6.607731\n",
       "Name: 337, dtype: object"
      ]
     },
     "execution_count": 28,
     "metadata": {},
     "output_type": "execute_result"
    }
   ],
   "source": [
    "variants_df.iloc[VARIANT_IDX]"
   ]
  },
  {
   "cell_type": "code",
   "execution_count": 29,
   "id": "0a3e7834-7b53-4351-b706-91a6777bbdd9",
   "metadata": {},
   "outputs": [],
   "source": [
    "ref_seq, alt_seq = grelu.variant.variant_to_seqs(\n",
    "    seq_len=model.data_params['train_seq_len'],\n",
    "    genome='hg19',\n",
    "    **variant.obs.iloc[0][[\"chrom\", \"pos\", \"ref\", \"alt\"]]\n",
    ")"
   ]
  },
  {
   "cell_type": "code",
   "execution_count": 30,
   "id": "8dec0f04-a98b-4eef-88d7-e52ee35e41fc",
   "metadata": {},
   "outputs": [],
   "source": [
    "SEQLEN = 2114"
   ]
  },
  {
   "cell_type": "code",
   "execution_count": 31,
   "id": "f085ad8f-bb03-419b-a474-16ae6529fdfb",
   "metadata": {},
   "outputs": [
    {
     "name": "stderr",
     "output_type": "stream",
     "text": [
      "/usr/local/lib/python3.11/dist-packages/captum/_utils/gradient.py:57: UserWarning: Input Tensor 0 did not already require gradients, required_grads has been set automatically.\n",
      "  warnings.warn(\n"
     ]
    }
   ],
   "source": [
    "import grelu.interpret.score\n",
    "\n",
    "ref_attrs = grelu.interpret.score.get_attributions(\n",
    "    model, ref_seq, prediction_transform=lcl_score, device=0,\n",
    "    seed=0, method=\"inputxgradient\",\n",
    ")\n",
    "\n",
    "alt_attrs = grelu.interpret.score.get_attributions(\n",
    "    model, alt_seq, prediction_transform=lcl_score, device=0,\n",
    "    seed=0, method=\"inputxgradient\",\n",
    ")"
   ]
  },
  {
   "cell_type": "code",
   "execution_count": 32,
   "id": "34280ee2-34cb-4e68-ad1d-c9f3aa81dc35",
   "metadata": {},
   "outputs": [
    {
     "data": {
      "image/png": "[encoded data removed]",
      "text/plain": [
       "<Figure size 600x200 with 1 Axes>"
      ]
     },
     "metadata": {},
     "output_type": "display_data"
    }
   ],
   "source": [
    "import grelu.visualize\n",
    "grelu.visualize.plot_attributions(\n",
    "    ref_attrs, start_pos=SEQLEN//2-30, end_pos=SEQLEN//2+30,\n",
    "    highlight_positions=[SEQLEN//2-1], ticks=10,\n",
    "    edgecolor='red', \n",
    "    figsize=(6,2),\n",
    ")\n",
    "plt.ylim(-0.1,0.6)\n",
    "plt.savefig(\"figures/ref.pdf\")"
   ]
  },
  {
   "cell_type": "code",
   "execution_count": 33,
   "id": "41f75852-9316-4b4a-aa98-ac2b04778207",
   "metadata": {},
   "outputs": [
    {
     "data": {
      "image/png": "[encoded data removed]",
      "text/plain": [
       "<Figure size 600x200 with 1 Axes>"
      ]
     },
     "metadata": {},
     "output_type": "display_data"
    }
   ],
   "source": [
    "grelu.visualize.plot_attributions(\n",
    "    alt_attrs, start_pos=SEQLEN//2-30, end_pos=SEQLEN//2+30,\n",
    "    highlight_positions=[SEQLEN//2-1], ticks=10,\n",
    "    edgecolor='red',\n",
    "    figsize=(6,2)\n",
    ")\n",
    "plt.ylim(-0.1,0.6)\n",
    "plt.savefig(\"figures/alt.pdf\")"
   ]
  },
  {
   "cell_type": "code",
   "execution_count": null,
   "id": "cdd016b5-fdc5-4f9b-8f16-86e4d58f0440",
   "metadata": {},
   "outputs": [],
   "source": []
  }
 ],
 "metadata": {
  "kernelspec": {
   "display_name": "Python 3 (ipykernel)",
   "language": "python",
   "name": "python3"
  },
  "language_info": {
   "codemirror_mode": {
    "name": "ipython",
    "version": 3
   },
   "file_extension": ".py",
   "mimetype": "text/x-python",
   "name": "python",
   "nbconvert_exporter": "python",
   "pygments_lexer": "ipython3",
   "version": "3.11.8"
  }
 },
 "nbformat": 4,
 "nbformat_minor": 5
}
