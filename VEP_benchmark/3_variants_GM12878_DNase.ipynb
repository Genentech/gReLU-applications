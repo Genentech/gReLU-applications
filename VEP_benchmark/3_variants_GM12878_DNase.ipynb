{
 "cells": [
  {
   "cell_type": "markdown",
   "id": "9b5fb36a-bc93-4f66-b91f-8cc586c56e87",
   "metadata": {},
   "source": [
    "# Score LCL dsQTL variants"
   ]
  },
  {
   "cell_type": "markdown",
   "id": "f945eb76-8120-48cc-8983-073f70905d28",
   "metadata": {},
   "source": [
    "In this notebook, we score LCL dsQTLs with the trained GM12878 DNase regression model."
   ]
  },
  {
   "cell_type": "code",
   "execution_count": 2,
   "id": "a4ef50fb-af60-490c-86cb-1ab762869ab2",
   "metadata": {},
   "outputs": [],
   "source": [
    "# ! pip install git+https://github.com/Genentech/gReLU"
   ]
  },
  {
   "cell_type": "code",
   "execution_count": 1,
   "id": "d79a359c-ed31-4ab7-84dd-ed859ba7fa83",
   "metadata": {},
   "outputs": [],
   "source": [
    "import os\n",
    "import numpy as np\n",
    "import pandas as pd\n",
    "import torch\n",
    "from tqdm import tqdm\n",
    "import warnings\n",
    "import matplotlib.pyplot as plt"
   ]
  },
  {
   "cell_type": "code",
   "execution_count": 2,
   "id": "59e40a76-460a-417d-ba3f-d47491e5e8dc",
   "metadata": {},
   "outputs": [],
   "source": [
    "import matplotlib as mpl\n",
    "mpl.rcParams['pdf.fonttype'] = 42\n",
    "mpl.rcParams['ps.fonttype'] = 42"
   ]
  },
  {
   "cell_type": "markdown",
   "id": "bf7b4807-a380-4bc8-ab66-1946e70643cf",
   "metadata": {},
   "source": [
    "## Set experiment parameters"
   ]
  },
  {
   "cell_type": "code",
   "execution_count": 3,
   "id": "7b50c577-2287-404a-8a52-1e0abbe956f8",
   "metadata": {},
   "outputs": [
    {
     "data": {
      "text/plain": [
       "'1.0.5.post1.dev13'"
      ]
     },
     "execution_count": 3,
     "metadata": {},
     "output_type": "execute_result"
    }
   ],
   "source": [
    "import grelu\n",
    "grelu.__version__"
   ]
  },
  {
   "cell_type": "code",
   "execution_count": 4,
   "id": "cb7564d7-96e6-4b80-a857-7574bf7107e4",
   "metadata": {},
   "outputs": [
    {
     "name": "stderr",
     "output_type": "stream",
     "text": [
      "/home/nairs51/miniforge3/envs/grelu/lib/python3.11/site-packages/tqdm/auto.py:21: TqdmWarning: IProgress not found. Please update jupyter and ipywidgets. See https://ipywidgets.readthedocs.io/en/stable/user_install.html\n",
      "  from .autonotebook import tqdm as notebook_tqdm\n"
     ]
    }
   ],
   "source": [
    "import grelu.lightning\n",
    "import grelu.resources"
   ]
  },
  {
   "cell_type": "code",
   "execution_count": 5,
   "id": "6a3ec7ea-51f9-4c71-87a0-da665b88b636",
   "metadata": {},
   "outputs": [
    {
     "name": "stderr",
     "output_type": "stream",
     "text": [
      "\u001b[34m\u001b[1mwandb\u001b[0m: Currently logged in as: \u001b[33manony-mouse-444847806635717680\u001b[0m to \u001b[32mhttps://api.wandb.ai\u001b[0m. Use \u001b[1m`wandb login --relogin`\u001b[0m to force relogin\n",
      "\u001b[34m\u001b[1mwandb\u001b[0m:   1 of 1 files downloaded.  \n"
     ]
    }
   ],
   "source": [
    "model = grelu.resources.load_model(project=\"GM12878_dnase\", model_name='model', host=\"https://api.wandb.ai\")"
   ]
  },
  {
   "cell_type": "markdown",
   "id": "d5d89c0d-6b4c-47d2-9568-1617586bea2f",
   "metadata": {},
   "source": [
    "## Variants"
   ]
  },
  {
   "cell_type": "code",
   "execution_count": 6,
   "id": "03365109-120a-44bd-ae14-b653996e4ce9",
   "metadata": {},
   "outputs": [
    {
     "data": {
      "text/html": [
       "<div>\n",
       "<style scoped>\n",
       "    .dataframe tbody tr th:only-of-type {\n",
       "        vertical-align: middle;\n",
       "    }\n",
       "\n",
       "    .dataframe tbody tr th {\n",
       "        vertical-align: top;\n",
       "    }\n",
       "\n",
       "    .dataframe thead th {\n",
       "        text-align: right;\n",
       "    }\n",
       "</style>\n",
       "<table border=\"1\" class=\"dataframe\">\n",
       "  <thead>\n",
       "    <tr style=\"text-align: right;\">\n",
       "      <th></th>\n",
       "      <th>chrom</th>\n",
       "      <th>pos</th>\n",
       "      <th>ref</th>\n",
       "      <th>alt</th>\n",
       "      <th>label</th>\n",
       "      <th>abs_gkm_SVM</th>\n",
       "      <th>start</th>\n",
       "      <th>end</th>\n",
       "    </tr>\n",
       "  </thead>\n",
       "  <tbody>\n",
       "    <tr>\n",
       "      <th>0</th>\n",
       "      <td>chr1</td>\n",
       "      <td>856583</td>\n",
       "      <td>A</td>\n",
       "      <td>G</td>\n",
       "      <td>1</td>\n",
       "      <td>2.653531</td>\n",
       "      <td>856583</td>\n",
       "      <td>856584</td>\n",
       "    </tr>\n",
       "    <tr>\n",
       "      <th>1</th>\n",
       "      <td>chr1</td>\n",
       "      <td>911595</td>\n",
       "      <td>G</td>\n",
       "      <td>A</td>\n",
       "      <td>1</td>\n",
       "      <td>2.821422</td>\n",
       "      <td>911595</td>\n",
       "      <td>911596</td>\n",
       "    </tr>\n",
       "    <tr>\n",
       "      <th>2</th>\n",
       "      <td>chr1</td>\n",
       "      <td>1186502</td>\n",
       "      <td>T</td>\n",
       "      <td>A</td>\n",
       "      <td>1</td>\n",
       "      <td>7.167236</td>\n",
       "      <td>1186502</td>\n",
       "      <td>1186503</td>\n",
       "    </tr>\n",
       "    <tr>\n",
       "      <th>3</th>\n",
       "      <td>chr1</td>\n",
       "      <td>1227412</td>\n",
       "      <td>A</td>\n",
       "      <td>G</td>\n",
       "      <td>1</td>\n",
       "      <td>3.957382</td>\n",
       "      <td>1227412</td>\n",
       "      <td>1227413</td>\n",
       "    </tr>\n",
       "    <tr>\n",
       "      <th>4</th>\n",
       "      <td>chr1</td>\n",
       "      <td>1590575</td>\n",
       "      <td>A</td>\n",
       "      <td>G</td>\n",
       "      <td>1</td>\n",
       "      <td>4.785596</td>\n",
       "      <td>1590575</td>\n",
       "      <td>1590576</td>\n",
       "    </tr>\n",
       "  </tbody>\n",
       "</table>\n",
       "</div>"
      ],
      "text/plain": [
       "  chrom      pos ref alt  label  abs_gkm_SVM    start      end\n",
       "0  chr1   856583   A   G      1     2.653531   856583   856584\n",
       "1  chr1   911595   G   A      1     2.821422   911595   911596\n",
       "2  chr1  1186502   T   A      1     7.167236  1186502  1186503\n",
       "3  chr1  1227412   A   G      1     3.957382  1227412  1227413\n",
       "4  chr1  1590575   A   G      1     4.785596  1590575  1590576"
      ]
     },
     "execution_count": 6,
     "metadata": {},
     "output_type": "execute_result"
    }
   ],
   "source": [
    "# file can be downloaded from https://static-content.springer.com/esm/art%3A10.1038%2Fng.3331/MediaObjects/41588_2015_BFng3331_MOESM26_ESM.xlsx\n",
    "variants_df = pd.read_csv(\"/home/nairs51/resources/LCL_dsQTL/41588_2015_BFng3331_MOESM26_ESM.tsv\", sep='\\t')\n",
    "variants_df = variants_df[['chrom_hg19', 'pos_hg19', 'allele1', 'allele2', 'label', 'abs_gkm_SVM']]\n",
    "variants_df = variants_df.set_axis(['chrom', 'pos', 'ref', 'alt', 'label', 'abs_gkm_SVM'], axis=1)\n",
    "variants_df['label'] = variants_df['label'].replace(-1, 0)\n",
    "\n",
    "variants_df['start'] = variants_df['pos']\n",
    "variants_df['end'] = variants_df['start'] + 1\n",
    "\n",
    "variants_df.head()"
   ]
  },
  {
   "cell_type": "code",
   "execution_count": 7,
   "id": "7df002e4-2322-4296-b36a-9a3a00b04b44",
   "metadata": {},
   "outputs": [],
   "source": [
    "from grelu.data.preprocess import filter_blacklist, filter_chromosomes, filter_chrom_ends\n",
    "from grelu.variant import filter_variants"
   ]
  },
  {
   "cell_type": "code",
   "execution_count": 8,
   "id": "8b38da9c-7d99-4ae1-b287-c9d725795e69",
   "metadata": {},
   "outputs": [
    {
     "name": "stdout",
     "output_type": "stream",
     "text": [
      "Initial number of variants: 28309\n",
      "Final number of variants: 28309\n"
     ]
    }
   ],
   "source": [
    "variants = filter_variants(variants_df, max_del_len=0, max_insert_len=0, standard_bases=True)"
   ]
  },
  {
   "cell_type": "code",
   "execution_count": 9,
   "id": "b9d77ffd-79bd-4d38-9112-67bd473d2277",
   "metadata": {},
   "outputs": [
    {
     "name": "stdout",
     "output_type": "stream",
     "text": [
      "Keeping 28309 intervals\n"
     ]
    }
   ],
   "source": [
    "variants = filter_chromosomes(variants, include='autosomesXY')"
   ]
  },
  {
   "cell_type": "code",
   "execution_count": 10,
   "id": "67d3b6d8-17b5-4cb8-8643-5d551f70e269",
   "metadata": {},
   "outputs": [],
   "source": [
    "ENFORMER_SEQLEN = 196608"
   ]
  },
  {
   "cell_type": "code",
   "execution_count": 11,
   "id": "f62c25e1-8f0e-42a6-a73f-b3a3b0292215",
   "metadata": {},
   "outputs": [
    {
     "name": "stdout",
     "output_type": "stream",
     "text": [
      "Keeping 28274 intervals\n"
     ]
    }
   ],
   "source": [
    "variants = filter_chrom_ends(variants, genome='hg19', pad=ENFORMER_SEQLEN//2)"
   ]
  },
  {
   "cell_type": "code",
   "execution_count": null,
   "id": "e756fde2-4bec-45f9-92d9-4f25ee81cfea",
   "metadata": {},
   "outputs": [],
   "source": []
  },
  {
   "cell_type": "markdown",
   "id": "a593fce2-1d82-4d19-83b2-63e32bd14f68",
   "metadata": {},
   "source": [
    "## Predict"
   ]
  },
  {
   "cell_type": "code",
   "execution_count": 12,
   "id": "b87d68ca-2d66-4a8b-922f-9b1eaa1ba07c",
   "metadata": {},
   "outputs": [
    {
     "name": "stdout",
     "output_type": "stream",
     "text": [
      "making dataset\n"
     ]
    },
    {
     "name": "stderr",
     "output_type": "stream",
     "text": [
      "GPU available: True (cuda), used: True\n",
      "TPU available: False, using: 0 TPU cores\n",
      "HPU available: False, using: 0 HPUs\n",
      "/home/nairs51/miniforge3/envs/grelu/lib/python3.11/site-packages/pytorch_lightning/trainer/connectors/logger_connector/logger_connector.py:76: Starting from v1.9.0, `tensorboardX` has been removed as a dependency of the `pytorch_lightning` package, due to potential conflicts with other packages in the ML ecosystem. For this reason, `logger=True` will use `CSVLogger` as the default logger, unless the `tensorboard` or `tensorboardX` packages are found. Please `pip install lightning[extra]` or one of them to enable TensorBoard support by default\n",
      "LOCAL_RANK: 0 - CUDA_VISIBLE_DEVICES: [0,1,2,3,4,5,6,7]\n"
     ]
    },
    {
     "name": "stdout",
     "output_type": "stream",
     "text": [
      "Predicting DataLoader 0: 100%|█████████████████████████████████████████████████████████████████████████████████████████████████████████████████████████████████████████████████████████████████████████████████████████████████████████████████████████████| 884/884 [01:42<00:00,  8.60it/s]\n"
     ]
    },
    {
     "name": "stderr",
     "output_type": "stream",
     "text": [
      "/home/nairs51/miniforge3/envs/grelu/lib/python3.11/site-packages/anndata/_core/aligned_df.py:68: ImplicitModificationWarning: Transforming to str index.\n",
      "  warnings.warn(\"Transforming to str index.\", ImplicitModificationWarning)\n"
     ]
    }
   ],
   "source": [
    "import grelu.variant\n",
    "\n",
    "odds = grelu.variant.predict_variant_effects(\n",
    "    variants=variants,\n",
    "    model=model, \n",
    "    devices=0, # Run on GPU 0\n",
    "    num_workers=8,\n",
    "    batch_size=128,\n",
    "    genome=\"hg19\",\n",
    "    compare_func=\"subtract\", \n",
    "    return_ad=True, # Return an anndata object.\n",
    "    rc = True, # Reverse complement the ref/alt predictions and average them.\n",
    ")"
   ]
  },
  {
   "cell_type": "code",
   "execution_count": 13,
   "id": "7a56a834-26c7-490b-8605-39ebbe781681",
   "metadata": {},
   "outputs": [],
   "source": [
    "import sklearn.metrics"
   ]
  },
  {
   "cell_type": "code",
   "execution_count": 14,
   "id": "060e9587-9aa9-430e-ae31-d0829ae72a1e",
   "metadata": {},
   "outputs": [
    {
     "data": {
      "text/plain": [
       "0.27340074797516273"
      ]
     },
     "execution_count": 14,
     "metadata": {},
     "output_type": "execute_result"
    }
   ],
   "source": [
    "auprc = sklearn.metrics.average_precision_score(variants['label'], np.abs(odds.X.ravel()))\n",
    "auprc"
   ]
  },
  {
   "cell_type": "code",
   "execution_count": 15,
   "id": "a745da27-43df-4a99-b910-cbea641aae39",
   "metadata": {},
   "outputs": [],
   "source": [
    "pr, rec, _ = sklearn.metrics.precision_recall_curve(variants['label'], np.abs(odds.X.ravel()))"
   ]
  },
  {
   "cell_type": "code",
   "execution_count": null,
   "id": "f21b671f-4b6d-463d-a2fe-585c25232865",
   "metadata": {},
   "outputs": [],
   "source": []
  },
  {
   "cell_type": "markdown",
   "id": "ed328d77-214e-4568-aa76-2a96a7aa5942",
   "metadata": {},
   "source": [
    "### Plot"
   ]
  },
  {
   "cell_type": "code",
   "execution_count": 21,
   "id": "6a3d28d3-32a0-4207-a455-320e802fb5e4",
   "metadata": {},
   "outputs": [
    {
     "data": {
      "text/plain": [
       "(28274, 8)"
      ]
     },
     "execution_count": 21,
     "metadata": {},
     "output_type": "execute_result"
    }
   ],
   "source": [
    "variants_df = variants.reset_index(drop=True)\n",
    "variants_df.shape"
   ]
  },
  {
   "cell_type": "code",
   "execution_count": 22,
   "id": "ad51d545-0eb8-4165-9f40-2e1acd9953f2",
   "metadata": {},
   "outputs": [],
   "source": [
    "prsvm, recsvm, _ = sklearn.metrics.precision_recall_curve(variants_df['label'], variants_df['abs_gkm_SVM'])"
   ]
  },
  {
   "cell_type": "code",
   "execution_count": 23,
   "id": "2a9ca325-89f5-4d74-b3e3-e1c39b14c19f",
   "metadata": {},
   "outputs": [],
   "source": [
    "prrd, recrd, _ = sklearn.metrics.precision_recall_curve(variants_df['label'], variants_df['abs_gkm_SVM'][np.random.permutation(len(variants_df))])"
   ]
  },
  {
   "cell_type": "code",
   "execution_count": 24,
   "id": "348fc2aa-491e-4098-aa63-00ac33a88df2",
   "metadata": {},
   "outputs": [],
   "source": [
    "gkm_auprc = sklearn.metrics.average_precision_score(variants_df['label'], variants_df['abs_gkm_SVM'])"
   ]
  },
  {
   "cell_type": "code",
   "execution_count": 25,
   "id": "d0084413-0497-4536-b57c-ddcb37a7fe31",
   "metadata": {},
   "outputs": [],
   "source": [
    "random_auprc = sklearn.metrics.average_precision_score(variants_df['label'], variants_df['abs_gkm_SVM'][np.random.permutation(len(variants_df))])"
   ]
  },
  {
   "cell_type": "code",
   "execution_count": null,
   "id": "56255362-a3c9-4994-9d5b-fa5167b17d3f",
   "metadata": {},
   "outputs": [],
   "source": []
  },
  {
   "cell_type": "code",
   "execution_count": 26,
   "id": "27d77404-3b36-4c9e-adff-b16ccf132712",
   "metadata": {},
   "outputs": [
    {
     "data": {
      "text/html": [
       "<div>\n",
       "<style scoped>\n",
       "    .dataframe tbody tr th:only-of-type {\n",
       "        vertical-align: middle;\n",
       "    }\n",
       "\n",
       "    .dataframe tbody tr th {\n",
       "        vertical-align: top;\n",
       "    }\n",
       "\n",
       "    .dataframe thead th {\n",
       "        text-align: right;\n",
       "    }\n",
       "</style>\n",
       "<table border=\"1\" class=\"dataframe\">\n",
       "  <thead>\n",
       "    <tr style=\"text-align: right;\">\n",
       "      <th></th>\n",
       "      <th>chrom</th>\n",
       "      <th>pos</th>\n",
       "      <th>ref</th>\n",
       "      <th>alt</th>\n",
       "      <th>label</th>\n",
       "      <th>abs_gkm_SVM</th>\n",
       "      <th>start</th>\n",
       "      <th>end</th>\n",
       "      <th>enformer_task_12_ENCFF093VXI_LFC_rc</th>\n",
       "    </tr>\n",
       "  </thead>\n",
       "  <tbody>\n",
       "    <tr>\n",
       "      <th>0</th>\n",
       "      <td>chr1</td>\n",
       "      <td>856583</td>\n",
       "      <td>A</td>\n",
       "      <td>G</td>\n",
       "      <td>1</td>\n",
       "      <td>2.653531</td>\n",
       "      <td>856583</td>\n",
       "      <td>856584</td>\n",
       "      <td>-0.200571</td>\n",
       "    </tr>\n",
       "    <tr>\n",
       "      <th>1</th>\n",
       "      <td>chr1</td>\n",
       "      <td>911595</td>\n",
       "      <td>G</td>\n",
       "      <td>A</td>\n",
       "      <td>1</td>\n",
       "      <td>2.821422</td>\n",
       "      <td>911595</td>\n",
       "      <td>911596</td>\n",
       "      <td>0.307417</td>\n",
       "    </tr>\n",
       "  </tbody>\n",
       "</table>\n",
       "</div>"
      ],
      "text/plain": [
       "  chrom     pos ref alt  label  abs_gkm_SVM   start     end  \\\n",
       "0  chr1  856583   A   G      1     2.653531  856583  856584   \n",
       "1  chr1  911595   G   A      1     2.821422  911595  911596   \n",
       "\n",
       "   enformer_task_12_ENCFF093VXI_LFC_rc  \n",
       "0                            -0.200571  \n",
       "1                             0.307417  "
      ]
     },
     "execution_count": 26,
     "metadata": {},
     "output_type": "execute_result"
    }
   ],
   "source": [
    "# enformer computed scores (see `2_variants_Enformer.ipynb`)\n",
    "enformer_preds = pd.read_csv(\"./out/enformer_dsQTL.tsv\", sep='\\t')\n",
    "enformer_preds.head(2)"
   ]
  },
  {
   "cell_type": "code",
   "execution_count": 27,
   "id": "342a569e-6371-4141-a68c-acf0ffcd9909",
   "metadata": {},
   "outputs": [
    {
     "data": {
      "text/plain": [
       "True"
      ]
     },
     "execution_count": 27,
     "metadata": {},
     "output_type": "execute_result"
    }
   ],
   "source": [
    "len(enformer_preds) == len(variants_df)"
   ]
  },
  {
   "cell_type": "code",
   "execution_count": 28,
   "id": "75dfc809-2abc-4bcd-a94b-1372d69d4b49",
   "metadata": {},
   "outputs": [],
   "source": [
    "enf_auprc = sklearn.metrics.average_precision_score(variants_df['label'], np.abs(enformer_preds['enformer_task_12_ENCFF093VXI_LFC_rc']))"
   ]
  },
  {
   "cell_type": "code",
   "execution_count": 29,
   "id": "fccb7c8b-7350-4ae3-b5a9-56cdd3a22281",
   "metadata": {},
   "outputs": [],
   "source": [
    "prenf, recenf, _ = sklearn.metrics.precision_recall_curve(variants_df['label'], np.abs(enformer_preds['enformer_task_12_ENCFF093VXI_LFC_rc']))"
   ]
  },
  {
   "cell_type": "code",
   "execution_count": null,
   "id": "163e38a4-c796-41b8-b763-36f7fdfe4755",
   "metadata": {},
   "outputs": [],
   "source": []
  },
  {
   "cell_type": "code",
   "execution_count": null,
   "id": "440a0385-3168-4ae5-bc7e-3991db569959",
   "metadata": {},
   "outputs": [],
   "source": []
  },
  {
   "cell_type": "code",
   "execution_count": 32,
   "id": "f333e5f7-168d-40b7-9c10-0acd4fa51078",
   "metadata": {},
   "outputs": [
    {
     "data": {
      "image/png": "[encoded data removed]",
      "text/plain": [
       "<Figure size 640x480 with 1 Axes>"
      ]
     },
     "metadata": {},
     "output_type": "display_data"
    }
   ],
   "source": [
    "plt.plot(recrd, prrd, label='random (AUPRC={})'.format(round(random_auprc,3)), c='gray', linestyle='--')\n",
    "plt.plot(recsvm, prsvm, 'k', label='gkmSVM (AUPRC={})'.format(round(gkm_auprc,3)))\n",
    "plt.plot(recenf, prenf, label='Enformer (AUPRC={})'.format(round(enf_auprc,3)))\n",
    "plt.plot(rec, pr, label='gReLU (AUPRC={})'.format(round(auprc, 3)))\n",
    "plt.xlabel(\"Recall\")\n",
    "plt.ylabel(\"Precision\")\n",
    "plt.legend()\n",
    "plt.title(\"LCL DNase QTL classification\")\n",
    "\n",
    "# plt.savefig(\"figures/AUPRC.pdf\", dpi=300)"
   ]
  },
  {
   "cell_type": "code",
   "execution_count": null,
   "id": "255aafad-2625-4e73-b23c-0bc6d5574562",
   "metadata": {},
   "outputs": [],
   "source": []
  },
  {
   "cell_type": "markdown",
   "id": "a3147004-ea19-4186-891e-4b8245d5d816",
   "metadata": {},
   "source": [
    "## Examples"
   ]
  },
  {
   "cell_type": "code",
   "execution_count": 12,
   "id": "eaebbfa8-cf67-4aa1-9fb5-740913ad1337",
   "metadata": {},
   "outputs": [],
   "source": [
    "from grelu.transforms.prediction_transforms import Aggregate\n",
    "lcl_score = Aggregate(tasks=[0], model=model)"
   ]
  },
  {
   "cell_type": "code",
   "execution_count": 34,
   "id": "5c896f78-41b4-4dbe-8c7f-3d69105f9994",
   "metadata": {},
   "outputs": [
    {
     "data": {
      "text/plain": [
       "array([191, 352,  67, 170,  25, 456, 379,   9, 304, 283, 396, 194, 263,\n",
       "        95,  79,  41, 226, 242, 523, 359, 436, 498, 521, 284, 433, 127,\n",
       "       524, 189, 556, 230, 330, 218, 422,  65, 490, 123, 355, 569, 325,\n",
       "       467, 358, 424, 231, 302,  10,  68,  35, 495, 106, 337])"
      ]
     },
     "execution_count": 34,
     "metadata": {},
     "output_type": "execute_result"
    }
   ],
   "source": [
    "np.argsort(np.abs(odds.X.ravel()[:573]))[::-1][:50]"
   ]
  },
  {
   "cell_type": "code",
   "execution_count": 35,
   "id": "a0ea6407-a0ff-4071-9402-0a6910edbc39",
   "metadata": {},
   "outputs": [],
   "source": [
    "VARIANT_IDX = 337\n",
    "variant = variants.iloc[VARIANT_IDX] "
   ]
  },
  {
   "cell_type": "code",
   "execution_count": 36,
   "id": "65fb36f4-d312-406e-b915-478c60e5f853",
   "metadata": {},
   "outputs": [
    {
     "data": {
      "text/plain": [
       "chrom               chr2\n",
       "pos            216696316\n",
       "ref                    G\n",
       "alt                    A\n",
       "label                  1\n",
       "abs_gkm_SVM     6.607731\n",
       "start          216696316\n",
       "end            216696317\n",
       "Name: 337, dtype: object"
      ]
     },
     "execution_count": 36,
     "metadata": {},
     "output_type": "execute_result"
    }
   ],
   "source": [
    "variant"
   ]
  },
  {
   "cell_type": "code",
   "execution_count": 37,
   "id": "0a3e7834-7b53-4351-b706-91a6777bbdd9",
   "metadata": {},
   "outputs": [],
   "source": [
    "ref_seq, alt_seq = grelu.variant.variant_to_seqs(\n",
    "    seq_len=model.data_params['train']['seq_len'],\n",
    "    genome='hg19',\n",
    "    **variant[[\"chrom\", \"pos\", \"ref\", \"alt\"]]\n",
    ")"
   ]
  },
  {
   "cell_type": "code",
   "execution_count": 38,
   "id": "8dec0f04-a98b-4eef-88d7-e52ee35e41fc",
   "metadata": {},
   "outputs": [],
   "source": [
    "SEQLEN = 2114"
   ]
  },
  {
   "cell_type": "code",
   "execution_count": 39,
   "id": "f085ad8f-bb03-419b-a474-16ae6529fdfb",
   "metadata": {},
   "outputs": [
    {
     "name": "stderr",
     "output_type": "stream",
     "text": [
      "/home/nairs51/miniforge3/envs/grelu/lib/python3.11/site-packages/captum/_utils/gradient.py:57: UserWarning: Input Tensor 0 did not already require gradients, required_grads has been set automatically.\n",
      "  warnings.warn(\n"
     ]
    }
   ],
   "source": [
    "import grelu.interpret.score\n",
    "\n",
    "ref_attrs = grelu.interpret.score.get_attributions(\n",
    "    model, ref_seq, prediction_transform=lcl_score, device=0,\n",
    "    seed=0, method=\"saliency\", correct_grad=True\n",
    ")\n",
    "\n",
    "alt_attrs = grelu.interpret.score.get_attributions(\n",
    "    model, alt_seq, prediction_transform=lcl_score, device=0,\n",
    "    seed=0, method=\"saliency\", correct_grad=True\n",
    ")"
   ]
  },
  {
   "cell_type": "code",
   "execution_count": 40,
   "id": "1cec1314-d43c-455a-98a0-70f9ffb25289",
   "metadata": {},
   "outputs": [],
   "source": [
    "ref_seq_ohe = grelu.sequence.format.strings_to_one_hot([ref_seq]).numpy()\n",
    "alt_seq_ohe = grelu.sequence.format.strings_to_one_hot([alt_seq]).numpy()"
   ]
  },
  {
   "cell_type": "code",
   "execution_count": 41,
   "id": "a3ac012d-f236-49e5-8338-0adf7459b1b8",
   "metadata": {},
   "outputs": [
    {
     "data": {
      "image/png": "[encoded data removed]",
      "text/plain": [
       "<Figure size 600x200 with 1 Axes>"
      ]
     },
     "metadata": {},
     "output_type": "display_data"
    }
   ],
   "source": [
    "import grelu.visualize\n",
    "grelu.visualize.plot_attributions(\n",
    "    ref_attrs*ref_seq_ohe, start_pos=SEQLEN//2-30, end_pos=SEQLEN//2+30,\n",
    "    highlight_positions=[SEQLEN//2-1], ticks=10,\n",
    "    edgecolor='red', \n",
    "    figsize=(6,2),\n",
    ")\n",
    "plt.ylim(-0.1,0.6)\n",
    "plt.savefig(\"figures/ref.pdf\")"
   ]
  },
  {
   "cell_type": "code",
   "execution_count": 42,
   "id": "41f75852-9316-4b4a-aa98-ac2b04778207",
   "metadata": {},
   "outputs": [
    {
     "data": {
      "image/png": "[encoded data removed]",
      "text/plain": [
       "<Figure size 600x200 with 1 Axes>"
      ]
     },
     "metadata": {},
     "output_type": "display_data"
    }
   ],
   "source": [
    "grelu.visualize.plot_attributions(\n",
    "    alt_attrs*alt_seq_ohe, start_pos=SEQLEN//2-30, end_pos=SEQLEN//2+30,\n",
    "    highlight_positions=[SEQLEN//2-1], ticks=10,\n",
    "    edgecolor='red',\n",
    "    figsize=(6,2)\n",
    ")\n",
    "plt.ylim(-0.1,0.6)\n",
    "plt.savefig(\"figures/alt.pdf\")"
   ]
  },
  {
   "cell_type": "code",
   "execution_count": null,
   "id": "2ed8fa81-4fa7-4bfe-b9a7-df917bb74a0a",
   "metadata": {},
   "outputs": [],
   "source": []
  },
  {
   "cell_type": "code",
   "execution_count": null,
   "id": "b2f9d52d-c385-4c61-9e7b-d2b12bbc3626",
   "metadata": {},
   "outputs": [],
   "source": []
  },
  {
   "cell_type": "markdown",
   "id": "f6b37c80-2cef-4e81-9f71-541ecd46ad67",
   "metadata": {},
   "source": [
    "## TF-MoDISco on all variants\n",
    "\n",
    "Perform TF-MoDISco on all variants to see if motifs are preferentially enriched around dsQTLs (as per the model)."
   ]
  },
  {
   "cell_type": "code",
   "execution_count": 13,
   "id": "bcf00cdf-6fa2-4236-ae70-26f66bf7999c",
   "metadata": {
    "scrolled": true
   },
   "outputs": [
    {
     "name": "stderr",
     "output_type": "stream",
     "text": [
      "100%|█████████████████████████████████████████████████████████████████████████████████████████████████████████████████████████████████████████████████████████████████████████████████████████████████████████████████████████████████████████████████| 28274/28274 [01:33<00:00, 302.53it/s]\n"
     ]
    }
   ],
   "source": [
    "warnings.filterwarnings('ignore') \n",
    "\n",
    "all_ref_seqs = []\n",
    "all_alt_seqs = []\n",
    "\n",
    "for i in tqdm(range(len(variants))):\n",
    "    ref_seq, alt_seq = grelu.variant.variant_to_seqs(\n",
    "            seq_len=model.data_params['train']['seq_len'],\n",
    "            genome='hg19',\n",
    "            **variants.iloc[i][[\"chrom\", \"pos\", \"ref\", \"alt\"]]\n",
    "        )\n",
    "    all_ref_seqs.append(ref_seq)\n",
    "    all_alt_seqs.append(alt_seq)\n",
    "\n",
    "warnings.filterwarnings('default')"
   ]
  },
  {
   "cell_type": "code",
   "execution_count": 14,
   "id": "2bb2bf0e-6e0c-468b-8bb5-de679d3f8e91",
   "metadata": {},
   "outputs": [
    {
     "data": {
      "text/plain": [
       "(28274, 28274)"
      ]
     },
     "execution_count": 14,
     "metadata": {},
     "output_type": "execute_result"
    }
   ],
   "source": [
    "len(all_ref_seqs), len(all_alt_seqs)"
   ]
  },
  {
   "cell_type": "code",
   "execution_count": 15,
   "id": "7d223b50-5e0f-4a3f-a47d-d297a1a32d4d",
   "metadata": {},
   "outputs": [],
   "source": [
    "interleaved_seqs = []\n",
    "\n",
    "for i in range(len(all_ref_seqs)):\n",
    "    interleaved_seqs.append(all_ref_seqs[i])\n",
    "    interleaved_seqs.append(all_alt_seqs[i])"
   ]
  },
  {
   "cell_type": "code",
   "execution_count": 16,
   "id": "fa68538b-ba09-461c-9237-3de15150bd21",
   "metadata": {},
   "outputs": [
    {
     "data": {
      "text/plain": [
       "56548"
      ]
     },
     "execution_count": 16,
     "metadata": {},
     "output_type": "execute_result"
    }
   ],
   "source": [
    "len(interleaved_seqs)"
   ]
  },
  {
   "cell_type": "code",
   "execution_count": null,
   "id": "2c91c394-f716-4688-8aea-90252baf631f",
   "metadata": {},
   "outputs": [],
   "source": []
  },
  {
   "cell_type": "code",
   "execution_count": 17,
   "id": "9b68f2f7-4b51-4150-ab5f-fa252807b6d7",
   "metadata": {},
   "outputs": [],
   "source": [
    "import grelu.interpret.modisco"
   ]
  },
  {
   "cell_type": "code",
   "execution_count": 19,
   "id": "9fb1674a-8215-4366-9b79-9a8e785b5936",
   "metadata": {},
   "outputs": [
    {
     "name": "stdout",
     "output_type": "stream",
     "text": [
      "Getting attributions\n",
      "Running modisco\n",
      "Writing modisco output\n",
      "Creating sequence logos\n",
      "Creating html report\n",
      "Running TOMTOM\n"
     ]
    }
   ],
   "source": [
    "warnings.filterwarnings('ignore') \n",
    "\n",
    "grelu.interpret.modisco.run_modisco(model,\n",
    "                                    interleaved_seqs,\n",
    "                                    prediction_transform=lcl_score,\n",
    "                                    window=100,\n",
    "                                    devices=4,\n",
    "                                    meme_file=\"./resources/HOCOMOCOv11_core_HUMAN_mono_meme_format.meme\",\n",
    "                                    method='saliency',\n",
    "                                    correct_grad=True,\n",
    "                                   out_dir=\"./modisco/\",\n",
    "                                   max_seqlets_per_metacluster=1000000 # ensures all seqlets are considered\n",
    "                                   )\n",
    "\n",
    "warnings.filterwarnings('default')"
   ]
  },
  {
   "cell_type": "code",
   "execution_count": null,
   "id": "11feb806-1eee-477e-8700-24554967e2ea",
   "metadata": {},
   "outputs": [],
   "source": []
  }
 ],
 "metadata": {
  "kernelspec": {
   "display_name": "Python 3 (ipykernel)",
   "language": "python",
   "name": "python3"
  },
  "language_info": {
   "codemirror_mode": {
    "name": "ipython",
    "version": 3
   },
   "file_extension": ".py",
   "mimetype": "text/x-python",
   "name": "python",
   "nbconvert_exporter": "python",
   "pygments_lexer": "ipython3",
   "version": "3.11.11"
  }
 },
 "nbformat": 4,
 "nbformat_minor": 5
}
