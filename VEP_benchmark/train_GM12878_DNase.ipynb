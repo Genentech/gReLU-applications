{
 "cells": [
  {
   "cell_type": "markdown",
   "id": "9b5fb36a-bc93-4f66-b91f-8cc586c56e87",
   "metadata": {},
   "source": [
    "# Train a single-task regression model from scratch"
   ]
  },
  {
   "cell_type": "markdown",
   "id": "f945eb76-8120-48cc-8983-073f70905d28",
   "metadata": {},
   "source": [
    "In this tutorial, we train a single-task convolutional regression model to predict total coverage over DNase-seq peaks, starting from ENCODE DNase-seq read coverage file."
   ]
  },
  {
   "cell_type": "code",
   "execution_count": 1,
   "id": "5a9630ed-bf7d-4e0c-8845-aa7451820e99",
   "metadata": {
    "scrolled": true
   },
   "outputs": [],
   "source": [
    "# ! pip install git+https://github.com/genentech/grelu"
   ]
  },
  {
   "cell_type": "code",
   "execution_count": 2,
   "id": "d79a359c-ed31-4ab7-84dd-ed859ba7fa83",
   "metadata": {},
   "outputs": [],
   "source": [
    "import os\n",
    "import numpy as np\n",
    "import pandas as pd\n",
    "import torch"
   ]
  },
  {
   "cell_type": "code",
   "execution_count": 3,
   "id": "651ecefb-e34e-4880-88a2-d2375b838849",
   "metadata": {},
   "outputs": [],
   "source": [
    "import matplotlib as mpl\n",
    "mpl.rcParams['pdf.fonttype'] = 42\n",
    "mpl.rcParams['ps.fonttype'] = 42"
   ]
  },
  {
   "cell_type": "markdown",
   "id": "bf7b4807-a380-4bc8-ab66-1946e70643cf",
   "metadata": {},
   "source": [
    "## Set experiment parameters"
   ]
  },
  {
   "cell_type": "code",
   "execution_count": 4,
   "id": "e3fa1a08-6375-4f98-b473-a089885ec59e",
   "metadata": {},
   "outputs": [],
   "source": [
    "experiment='train_GM12878_DNase'\n",
    "if not os.path.exists(experiment):\n",
    "    os.makedirs(experiment)"
   ]
  },
  {
   "cell_type": "markdown",
   "id": "d5d89c0d-6b4c-47d2-9568-1617586bea2f",
   "metadata": {},
   "source": [
    "## Peak and fragment files"
   ]
  },
  {
   "cell_type": "markdown",
   "id": "311d0d2c-acda-435b-a29f-f82c3b799395",
   "metadata": {},
   "source": [
    "We downloaded pseudobulk scATAC data for https://www.encodeproject.org/experiments/ENCSR000EJD/:"
   ]
  },
  {
   "cell_type": "code",
   "execution_count": 5,
   "id": "7188ebed-64d0-407e-8887-3a7cb2d7b709",
   "metadata": {},
   "outputs": [],
   "source": [
    "import grelu"
   ]
  },
  {
   "cell_type": "code",
   "execution_count": 6,
   "id": "a5896d9b-a22a-446b-aa23-a5c4e54ab2e2",
   "metadata": {},
   "outputs": [
    {
     "data": {
      "text/plain": [
       "'1.0.2.post1.dev12+g19b6e99'"
      ]
     },
     "execution_count": 6,
     "metadata": {},
     "output_type": "execute_result"
    }
   ],
   "source": [
    "grelu.__version__"
   ]
  },
  {
   "cell_type": "code",
   "execution_count": 5,
   "id": "1e30a103-e5b9-4044-921a-7536a606d356",
   "metadata": {},
   "outputs": [
    {
     "name": "stderr",
     "output_type": "stream",
     "text": [
      "/usr/local/lib/python3.11/dist-packages/tqdm/auto.py:21: TqdmWarning: IProgress not found. Please update jupyter and ipywidgets. See https://ipywidgets.readthedocs.io/en/stable/user_install.html\n",
      "  from .autonotebook import tqdm as notebook_tqdm\n"
     ]
    }
   ],
   "source": [
    "import grelu.resources"
   ]
  },
  {
   "cell_type": "code",
   "execution_count": 6,
   "id": "a7e75053-b64c-4b6a-a52a-2c15102638da",
   "metadata": {},
   "outputs": [],
   "source": [
    "# Paths to files\n",
    "peak_file = os.path.join(\"./data/ENCFF588OCA.summit.500bp.narrowPeak\")\n",
    "bw_file = \"./data/downloads/ENCFF093VXI.bw\""
   ]
  },
  {
   "cell_type": "markdown",
   "id": "a593fce2-1d82-4d19-83b2-63e32bd14f68",
   "metadata": {},
   "source": [
    "## Set parameters"
   ]
  },
  {
   "cell_type": "code",
   "execution_count": 7,
   "id": "2b471ef2-e124-4a36-bcbb-78bd51edb661",
   "metadata": {},
   "outputs": [],
   "source": [
    "seq_len=2114 # Length of the input sequence\n",
    "label_len=1000 # Length over which we calculate total coverage\n",
    "val_chroms=[\"chr10\"]\n",
    "test_chroms=[\"chr11\"]\n",
    "genome=\"hg38\""
   ]
  },
  {
   "cell_type": "markdown",
   "id": "9af5ff0c-d2f9-4f02-8ca4-5c969e9c3f34",
   "metadata": {},
   "source": [
    "## Read peak file"
   ]
  },
  {
   "cell_type": "markdown",
   "id": "bc12c4cf-0a89-4418-8cf0-6ee4313854ab",
   "metadata": {},
   "source": [
    "We read peak coordinates from the narrowPeak file."
   ]
  },
  {
   "cell_type": "code",
   "execution_count": 8,
   "id": "048626a4-9e37-44e6-a3c0-75246456e8f9",
   "metadata": {},
   "outputs": [
    {
     "data": {
      "text/html": [
       "<div>\n",
       "<style scoped>\n",
       "    .dataframe tbody tr th:only-of-type {\n",
       "        vertical-align: middle;\n",
       "    }\n",
       "\n",
       "    .dataframe tbody tr th {\n",
       "        vertical-align: top;\n",
       "    }\n",
       "\n",
       "    .dataframe thead th {\n",
       "        text-align: right;\n",
       "    }\n",
       "</style>\n",
       "<table border=\"1\" class=\"dataframe\">\n",
       "  <thead>\n",
       "    <tr style=\"text-align: right;\">\n",
       "      <th></th>\n",
       "      <th>chrom</th>\n",
       "      <th>start</th>\n",
       "      <th>end</th>\n",
       "      <th>name</th>\n",
       "      <th>score</th>\n",
       "      <th>strand</th>\n",
       "      <th>signal</th>\n",
       "      <th>pvalue</th>\n",
       "      <th>qvalue</th>\n",
       "      <th>summit</th>\n",
       "    </tr>\n",
       "  </thead>\n",
       "  <tbody>\n",
       "    <tr>\n",
       "      <th>230418</th>\n",
       "      <td>chrY</td>\n",
       "      <td>56839080</td>\n",
       "      <td>56839580</td>\n",
       "      <td>.</td>\n",
       "      <td>.</td>\n",
       "      <td>.</td>\n",
       "      <td>.</td>\n",
       "      <td>.</td>\n",
       "      <td>.</td>\n",
       "      <td>250</td>\n",
       "    </tr>\n",
       "    <tr>\n",
       "      <th>230419</th>\n",
       "      <td>chrY</td>\n",
       "      <td>56840592</td>\n",
       "      <td>56841242</td>\n",
       "      <td>.</td>\n",
       "      <td>.</td>\n",
       "      <td>.</td>\n",
       "      <td>.</td>\n",
       "      <td>.</td>\n",
       "      <td>.</td>\n",
       "      <td>325</td>\n",
       "    </tr>\n",
       "    <tr>\n",
       "      <th>230420</th>\n",
       "      <td>chrY</td>\n",
       "      <td>56849849</td>\n",
       "      <td>56850349</td>\n",
       "      <td>.</td>\n",
       "      <td>.</td>\n",
       "      <td>.</td>\n",
       "      <td>.</td>\n",
       "      <td>.</td>\n",
       "      <td>.</td>\n",
       "      <td>250</td>\n",
       "    </tr>\n",
       "  </tbody>\n",
       "</table>\n",
       "</div>"
      ],
      "text/plain": [
       "       chrom     start       end name score strand signal pvalue qvalue  \\\n",
       "230418  chrY  56839080  56839580    .     .      .      .      .      .   \n",
       "230419  chrY  56840592  56841242    .     .      .      .      .      .   \n",
       "230420  chrY  56849849  56850349    .     .      .      .      .      .   \n",
       "\n",
       "        summit  \n",
       "230418     250  \n",
       "230419     325  \n",
       "230420     250  "
      ]
     },
     "execution_count": 8,
     "metadata": {},
     "output_type": "execute_result"
    }
   ],
   "source": [
    "import grelu.io.bed\n",
    "\n",
    "peaks = grelu.io.bed.read_narrowpeak(peak_file)\n",
    "peaks.tail(3)"
   ]
  },
  {
   "cell_type": "markdown",
   "id": "8605162d-5dd1-4c91-884f-b6ed710bdb72",
   "metadata": {},
   "source": [
    "## Summit-center peaks"
   ]
  },
  {
   "cell_type": "markdown",
   "id": "86098be0-04d4-4468-a397-31eb47f40d5f",
   "metadata": {},
   "source": [
    "We extract the genomic coordinates for the 2114 bases surrounding the summit of each peak."
   ]
  },
  {
   "cell_type": "code",
   "execution_count": 9,
   "id": "6620e13f-9d66-4b59-8f05-ea6a5106ca5c",
   "metadata": {},
   "outputs": [
    {
     "data": {
      "text/html": [
       "<div>\n",
       "<style scoped>\n",
       "    .dataframe tbody tr th:only-of-type {\n",
       "        vertical-align: middle;\n",
       "    }\n",
       "\n",
       "    .dataframe tbody tr th {\n",
       "        vertical-align: top;\n",
       "    }\n",
       "\n",
       "    .dataframe thead th {\n",
       "        text-align: right;\n",
       "    }\n",
       "</style>\n",
       "<table border=\"1\" class=\"dataframe\">\n",
       "  <thead>\n",
       "    <tr style=\"text-align: right;\">\n",
       "      <th></th>\n",
       "      <th>chrom</th>\n",
       "      <th>start</th>\n",
       "      <th>end</th>\n",
       "    </tr>\n",
       "  </thead>\n",
       "  <tbody>\n",
       "    <tr>\n",
       "      <th>230418</th>\n",
       "      <td>chrY</td>\n",
       "      <td>56838273</td>\n",
       "      <td>56840387</td>\n",
       "    </tr>\n",
       "    <tr>\n",
       "      <th>230419</th>\n",
       "      <td>chrY</td>\n",
       "      <td>56839860</td>\n",
       "      <td>56841974</td>\n",
       "    </tr>\n",
       "    <tr>\n",
       "      <th>230420</th>\n",
       "      <td>chrY</td>\n",
       "      <td>56849042</td>\n",
       "      <td>56851156</td>\n",
       "    </tr>\n",
       "  </tbody>\n",
       "</table>\n",
       "</div>"
      ],
      "text/plain": [
       "       chrom     start       end\n",
       "230418  chrY  56838273  56840387\n",
       "230419  chrY  56839860  56841974\n",
       "230420  chrY  56849042  56851156"
      ]
     },
     "execution_count": 9,
     "metadata": {},
     "output_type": "execute_result"
    }
   ],
   "source": [
    "import grelu.data.preprocess\n",
    "\n",
    "peaks = grelu.data.preprocess.extend_from_coord(\n",
    "    peaks,\n",
    "    seq_len=seq_len,\n",
    "    center_col=\"summit\"\n",
    ")\n",
    "peaks.tail(3)"
   ]
  },
  {
   "cell_type": "code",
   "execution_count": 10,
   "id": "9f9e0aa4-fe8d-46ba-8df9-48e7d71d08e8",
   "metadata": {},
   "outputs": [
    {
     "data": {
      "text/plain": [
       "230421"
      ]
     },
     "execution_count": 10,
     "metadata": {},
     "output_type": "execute_result"
    }
   ],
   "source": [
    "len(peaks)"
   ]
  },
  {
   "cell_type": "markdown",
   "id": "c3286073-1270-4f3f-9289-4461504c2407",
   "metadata": {},
   "source": [
    "## Filter peaks"
   ]
  },
  {
   "cell_type": "code",
   "execution_count": 11,
   "id": "eeac5047-f85b-4ff8-b4b5-f528e0a4bcc1",
   "metadata": {},
   "outputs": [
    {
     "name": "stdout",
     "output_type": "stream",
     "text": [
      "Keeping 223259 intervals\n"
     ]
    }
   ],
   "source": [
    "# Filter peaks outside autosomes\n",
    "# Change to \"autosomesX\" or \"autosomesXY\" to include sex chromosomes\n",
    "peaks = grelu.data.preprocess.filter_chromosomes(peaks, 'autosomes')"
   ]
  },
  {
   "cell_type": "code",
   "execution_count": 12,
   "id": "79bccf2a-2e25-471f-951e-1f50eb523d8a",
   "metadata": {},
   "outputs": [
    {
     "name": "stdout",
     "output_type": "stream",
     "text": [
      "Keeping 222151 intervals\n"
     ]
    }
   ],
   "source": [
    "# Filter peaks close to blacklist regions\n",
    "peaks = grelu.data.preprocess.filter_blacklist(\n",
    "    peaks,\n",
    "    genome=genome,\n",
    "    window=50 # Remove peaks if they are within 50 bp of a blacklist region\n",
    ")"
   ]
  },
  {
   "cell_type": "markdown",
   "id": "37922eb5-4bf7-4136-8b14-1d6907884a35",
   "metadata": {},
   "source": [
    "## Get GC matched negative regions"
   ]
  },
  {
   "cell_type": "markdown",
   "id": "c38fe88d-54c4-4afd-97f0-de7986baaca6",
   "metadata": {},
   "source": [
    "To ensure that the model also learns to recognize regions that are not peaks, we will include a set of \"negative\" (non-peak) regions with similar GC content to the peaks."
   ]
  },
  {
   "cell_type": "code",
   "execution_count": 13,
   "id": "0ad3c925-162b-4bca-a8e6-6a9b99fe8a15",
   "metadata": {
    "scrolled": true
   },
   "outputs": [
    {
     "name": "stderr",
     "output_type": "stream",
     "text": [
      "\u001b[32m18:03:18\u001b[0m \u001b[1m|\u001b[0m \u001b[34mINFO\u001b[0m \u001b[1m|\u001b[0m Downloading assembly summaries from GENCODE\n",
      "\u001b[32m18:03:49\u001b[0m \u001b[1m|\u001b[0m \u001b[34mINFO\u001b[0m \u001b[1m|\u001b[0m Downloading assembly summaries from UCSC\n",
      "\u001b[32m18:03:52\u001b[0m \u001b[1m|\u001b[0m \u001b[34mINFO\u001b[0m \u001b[1m|\u001b[0m Downloading assembly summaries from Ensembl\n",
      "\u001b[32m18:04:09\u001b[0m \u001b[1m|\u001b[0m \u001b[34mINFO\u001b[0m \u001b[1m|\u001b[0m Downloading genome from UCSC. Target URL: https://hgdownload.soe.ucsc.edu/goldenPath/hg38/bigZips/hg38.fa.gz...\n",
      "Download: 100%|█████████████████████████████████████████████████████████████████████████████████████████████████████████████████████| 938M/938M [00:09<00:00, 106MB/s]\n",
      "\u001b[32m18:04:18\u001b[0m \u001b[1m|\u001b[0m \u001b[34mINFO\u001b[0m \u001b[1m|\u001b[0m Genome download successful, starting post processing...\n",
      "\u001b[32m18:04:35\u001b[0m \u001b[1m|\u001b[0m \u001b[34mINFO\u001b[0m \u001b[1m|\u001b[0m name: hg38\n",
      "\u001b[32m18:04:35\u001b[0m \u001b[1m|\u001b[0m \u001b[34mINFO\u001b[0m \u001b[1m|\u001b[0m local name: hg38\n",
      "\u001b[32m18:04:35\u001b[0m \u001b[1m|\u001b[0m \u001b[34mINFO\u001b[0m \u001b[1m|\u001b[0m fasta: /root/.local/share/genomes/hg38/hg38.fa\n",
      "Filtering Fasta: 64.2M lines [00:20, 3.12M lines/s]\n"
     ]
    },
    {
     "name": "stdout",
     "output_type": "stream",
     "text": [
      "Extracting matching intervals\n"
     ]
    },
    {
     "name": "stderr",
     "output_type": "stream",
     "text": [
      "100%|███████████████████████████████████████████████████████████████████████████████████████████████████████████████████████| 222151/222151 [00:32<00:00, 6818.78it/s]\n",
      "Choosing loci...: 100%|███████████████████████████████████████████████████████████████████████████████████████████████████████████████| 22/22 [08:00<00:00, 21.84s/it]\n",
      "100%|███████████████████████████████████████████████████████████████████████████████████████████████████████████████████████| 222151/222151 [00:32<00:00, 6744.09it/s]\n"
     ]
    },
    {
     "name": "stdout",
     "output_type": "stream",
     "text": [
      "GC paired t-test: 0.122, 0.0\n",
      "Filtering blacklist\n",
      "Keeping 214650 intervals\n"
     ]
    },
    {
     "data": {
      "text/html": [
       "<div>\n",
       "<style scoped>\n",
       "    .dataframe tbody tr th:only-of-type {\n",
       "        vertical-align: middle;\n",
       "    }\n",
       "\n",
       "    .dataframe tbody tr th {\n",
       "        vertical-align: top;\n",
       "    }\n",
       "\n",
       "    .dataframe thead th {\n",
       "        text-align: right;\n",
       "    }\n",
       "</style>\n",
       "<table border=\"1\" class=\"dataframe\">\n",
       "  <thead>\n",
       "    <tr style=\"text-align: right;\">\n",
       "      <th></th>\n",
       "      <th>chrom</th>\n",
       "      <th>start</th>\n",
       "      <th>end</th>\n",
       "    </tr>\n",
       "  </thead>\n",
       "  <tbody>\n",
       "    <tr>\n",
       "      <th>0</th>\n",
       "      <td>chr9</td>\n",
       "      <td>36850274</td>\n",
       "      <td>36852388</td>\n",
       "    </tr>\n",
       "    <tr>\n",
       "      <th>1</th>\n",
       "      <td>chr14</td>\n",
       "      <td>72687664</td>\n",
       "      <td>72689778</td>\n",
       "    </tr>\n",
       "    <tr>\n",
       "      <th>2</th>\n",
       "      <td>chr1</td>\n",
       "      <td>208511064</td>\n",
       "      <td>208513178</td>\n",
       "    </tr>\n",
       "  </tbody>\n",
       "</table>\n",
       "</div>"
      ],
      "text/plain": [
       "   chrom      start        end\n",
       "0   chr9   36850274   36852388\n",
       "1  chr14   72687664   72689778\n",
       "2   chr1  208511064  208513178"
      ]
     },
     "execution_count": 13,
     "metadata": {},
     "output_type": "execute_result"
    }
   ],
   "source": [
    "negatives = grelu.data.preprocess.get_gc_matched_intervals(\n",
    "    peaks,\n",
    "    binwidth=0.05, # resolution of measuring GC content\n",
    "    genome=genome,\n",
    "    chroms=\"autosomes\", # negative regions will also be chosen from autosomes\n",
    "    # gc_bw_file='gc_hg38_2114.bw',\n",
    "    blacklist=genome, # negative regions overlapping the blacklist will be dropped\n",
    ")\n",
    "negatives.head(3)"
   ]
  },
  {
   "cell_type": "markdown",
   "id": "5d2cb38f-5529-4c8f-92fe-bfba0a9ea3f2",
   "metadata": {},
   "source": [
    "We can visualize a histogram of GC content in the peaks and negative regions to verify that they are similar."
   ]
  },
  {
   "cell_type": "code",
   "execution_count": 14,
   "id": "b551d1e0-bac0-4d96-953c-d2cee89eefea",
   "metadata": {},
   "outputs": [
    {
     "data": {
      "image/png": "[encoded data removed]"
     },
     "metadata": {
      "image/png": {
       "height": 300,
       "width": 400
      }
     },
     "output_type": "display_data"
    }
   ],
   "source": [
    "import grelu.visualize\n",
    "grelu.visualize.plot_gc_match(\n",
    "    positives=peaks, negatives=negatives, binwidth=0.05, genome=\"hg38\"\n",
    ")"
   ]
  },
  {
   "cell_type": "markdown",
   "id": "41a643e0-60bc-4d07-b362-ff50b7e56e91",
   "metadata": {},
   "source": [
    "## Combine peaks and negative regions"
   ]
  },
  {
   "cell_type": "markdown",
   "id": "786fd409-66a1-4c71-a893-45e67e9904c6",
   "metadata": {},
   "source": [
    "The full dataset includes both peaks and negative regions."
   ]
  },
  {
   "cell_type": "code",
   "execution_count": 15,
   "id": "8f174ef8-4f59-47c5-9b9b-2df0c7b15c05",
   "metadata": {},
   "outputs": [],
   "source": [
    "regions = pd.concat([peaks, negatives])"
   ]
  },
  {
   "cell_type": "code",
   "execution_count": 16,
   "id": "a4290dde-b84e-4199-8702-87a4688dcdb5",
   "metadata": {},
   "outputs": [
    {
     "data": {
      "text/plain": [
       "(436801, 3)"
      ]
     },
     "execution_count": 16,
     "metadata": {},
     "output_type": "execute_result"
    }
   ],
   "source": [
    "regions.shape"
   ]
  },
  {
   "cell_type": "markdown",
   "id": "be9758a9-dc40-4ed4-8b40-8dd895cc9dc2",
   "metadata": {},
   "source": [
    "## Split data by chromosome"
   ]
  },
  {
   "cell_type": "markdown",
   "id": "d8803810-9a23-4e15-9abe-466c166a0e3b",
   "metadata": {},
   "source": [
    "We now split the dataset by chromosome to create separate datasets for training, validation and testing."
   ]
  },
  {
   "cell_type": "code",
   "execution_count": 17,
   "id": "4235d849-e46c-4dde-9fe5-a800fdbdd3df",
   "metadata": {},
   "outputs": [
    {
     "name": "stdout",
     "output_type": "stream",
     "text": [
      "Selecting training samples\n",
      "Keeping 392993 intervals\n",
      "\n",
      "\n",
      "Selecting validation samples\n",
      "Keeping 21560 intervals\n",
      "\n",
      "\n",
      "Selecting test samples\n",
      "Keeping 22248 intervals\n",
      "Final sizes: train: (353985, 3), val: (1341, 3), test: (1449, 3)\n"
     ]
    }
   ],
   "source": [
    "train, val, test = grelu.data.preprocess.split(\n",
    "    regions, val_chroms=val_chroms, test_chroms=test_chroms)"
   ]
  },
  {
   "cell_type": "markdown",
   "id": "1b4f21ef-c6ee-4ca5-89c3-99981eedc69d",
   "metadata": {},
   "source": [
    "## Make labeled datasets"
   ]
  },
  {
   "cell_type": "markdown",
   "id": "1aadc7b1-f465-4ef5-8e44-587a2acee662",
   "metadata": {},
   "source": [
    "We now make pytorch dataset objects in order to load paired sequences and coverage values from the genome and the bigWig file. We use the `BigWigSeqDataset` class."
   ]
  },
  {
   "cell_type": "markdown",
   "id": "04cb619b-337b-4fcb-b18c-f51a99bd98a6",
   "metadata": {},
   "source": [
    "We first make the training dataset. To increase model robustness we use several forms of data augmentation here: `rc=True` (reverse complementing the input sequence), `max_seq_shift=3` (shifting the coordinates of the input sequence by upto 3 bp in either direction; also known as jitter), and `max_pair_shift=50` (shifting both the input sequence and the region for which to calculate coverage by upto 50 bp in either direction).\n",
    "\n",
    "Further, we use `label_aggfunc=\"sum\"` which means that the label will be the summed coverage over the central region of the interval."
   ]
  },
  {
   "cell_type": "code",
   "execution_count": 18,
   "id": "44ed7a4d-aebd-4160-bd38-bb7dfe73aab5",
   "metadata": {},
   "outputs": [],
   "source": [
    "import grelu.data.dataset\n",
    "\n",
    "train_ds = grelu.data.dataset.BigWigSeqDataset(\n",
    "    intervals = train,\n",
    "    bw_files=[bw_file],\n",
    "    label_len=label_len,\n",
    "    label_aggfunc=\"sum\",\n",
    "    label_transform_func=np.log1p,\n",
    "    rc=True, # reverse complement\n",
    "    max_seq_shift=3, # Shift the sequence\n",
    "    max_pair_shift=50, # Shift both sequence and label\n",
    "    augment_mode=\"random\",\n",
    "    seed=0,\n",
    "    genome=genome\n",
    ")"
   ]
  },
  {
   "cell_type": "markdown",
   "id": "d0bee1f6-d2f0-430f-a5bb-588f05f43fa4",
   "metadata": {},
   "source": [
    "We do not apply any augmentations to the validation and test datasets (although it is possible to do so)."
   ]
  },
  {
   "cell_type": "code",
   "execution_count": 19,
   "id": "98c52998-7b4a-4c45-8122-aab175b76201",
   "metadata": {},
   "outputs": [],
   "source": [
    "val_ds = grelu.data.dataset.BigWigSeqDataset(\n",
    "    intervals = val,\n",
    "    bw_files=[bw_file],\n",
    "    label_len=label_len,\n",
    "    label_aggfunc=\"sum\", \n",
    "    label_transform_func=np.log1p,\n",
    "    genome=genome\n",
    ")"
   ]
  },
  {
   "cell_type": "code",
   "execution_count": 20,
   "id": "4f432723-08c6-4504-9911-1a11911e0272",
   "metadata": {},
   "outputs": [
    {
     "data": {
      "text/plain": [
       "(353985, 1341, 1449)"
      ]
     },
     "execution_count": 20,
     "metadata": {},
     "output_type": "execute_result"
    }
   ],
   "source": [
    "test_ds = grelu.data.dataset.BigWigSeqDataset(\n",
    "    intervals = test,\n",
    "    bw_files=[bw_file],\n",
    "    label_len=label_len,\n",
    "    label_aggfunc=\"sum\",\n",
    "    label_transform_func=np.log1p,\n",
    "    genome=genome\n",
    ")\n",
    "\n",
    "len(train_ds), len(val_ds), len(test_ds)"
   ]
  },
  {
   "cell_type": "markdown",
   "id": "f7c1abdb-00e7-4ebe-8d27-40e44ee4e69d",
   "metadata": {},
   "source": [
    "## Build model"
   ]
  },
  {
   "cell_type": "code",
   "execution_count": 32,
   "id": "eb8ae740-cfce-4832-a2c4-b6c62eaec31f",
   "metadata": {},
   "outputs": [],
   "source": [
    "model_params = {\n",
    "    'model_type':'DilatedConvModel',\n",
    "    'crop_len':(seq_len-label_len)//2,\n",
    "    'n_tasks':1,\n",
    "    'channels':256,\n",
    "    'n_conv':9,\n",
    "}\n",
    "\n",
    "train_params = {\n",
    "    'task':'regression',\n",
    "    'loss': 'mse', \n",
    "    'logger':'csv',\n",
    "    'lr':1e-4,\n",
    "    'batch_size':128,\n",
    "    'max_epochs':50,\n",
    "    'devices':0,\n",
    "    'num_workers':16,\n",
    "    'save_dir':experiment,\n",
    "    'checkpoint': {\"monitor\":\"val_pearson\", \"mode\":\"max\", \"save_last\":True}\n",
    "}\n",
    "\n",
    "import grelu.lightning\n",
    "model = grelu.lightning.LightningModel(model_params, train_params)"
   ]
  },
  {
   "cell_type": "markdown",
   "id": "24a8c194-d699-4146-a52d-96124beacc69",
   "metadata": {},
   "source": [
    "## Train model"
   ]
  },
  {
   "cell_type": "code",
   "execution_count": null,
   "id": "ac4d52b7-b73b-4302-b747-78c52ba06712",
   "metadata": {
    "scrolled": true
   },
   "outputs": [
    {
     "name": "stderr",
     "output_type": "stream",
     "text": [
      "GPU available: True (cuda), used: True\n",
      "TPU available: False, using: 0 TPU cores\n",
      "HPU available: False, using: 0 HPUs\n",
      "Missing logger folder: train_GM12878_DNase/2024_27_07_00_33\n",
      "LOCAL_RANK: 0 - CUDA_VISIBLE_DEVICES: [0]\n"
     ]
    },
    {
     "name": "stdout",
     "output_type": "stream",
     "text": [
      "Validation DataLoader 0: 100%|███████████████████████████████████████████████████████████████████████████████████████████████████████████████████████████████████████████████████████████████████████████████████████████████████████████████████████████████| 11/11 [00:01<00:00,  9.11it/s]\n"
     ]
    },
    {
     "data": {
      "text/html": [
       "<pre style=\"white-space:pre;overflow-x:auto;line-height:normal;font-family:Menlo,'DejaVu Sans Mono',consolas,'Courier New',monospace\">┏━━━━━━━━━━━━━━━━━━━━━━━━━━━┳━━━━━━━━━━━━━━━━━━━━━━━━━━━┓\n",
       "┃<span style=\"font-weight: bold\">      Validate metric      </span>┃<span style=\"font-weight: bold\">       DataLoader 0        </span>┃\n",
       "┡━━━━━━━━━━━━━━━━━━━━━━━━━━━╇━━━━━━━━━━━━━━━━━━━━━━━━━━━┩\n",
       "│<span style=\"color: #008080; text-decoration-color: #008080\">         val_loss          </span>│<span style=\"color: #800080; text-decoration-color: #800080\">    21.348608016967773     </span>│\n",
       "│<span style=\"color: #008080; text-decoration-color: #008080\">          val_mse          </span>│<span style=\"color: #800080; text-decoration-color: #800080\">     21.37464714050293     </span>│\n",
       "│<span style=\"color: #008080; text-decoration-color: #008080\">        val_pearson        </span>│<span style=\"color: #800080; text-decoration-color: #800080\">    -0.2583931088447571    </span>│\n",
       "└───────────────────────────┴───────────────────────────┘\n",
       "</pre>\n"
      ],
      "text/plain": [
       "┏━━━━━━━━━━━━━━━━━━━━━━━━━━━┳━━━━━━━━━━━━━━━━━━━━━━━━━━━┓\n",
       "┃\u001b[1m \u001b[0m\u001b[1m     Validate metric     \u001b[0m\u001b[1m \u001b[0m┃\u001b[1m \u001b[0m\u001b[1m      DataLoader 0       \u001b[0m\u001b[1m \u001b[0m┃\n",
       "┡━━━━━━━━━━━━━━━━━━━━━━━━━━━╇━━━━━━━━━━━━━━━━━━━━━━━━━━━┩\n",
       "│\u001b[36m \u001b[0m\u001b[36m        val_loss         \u001b[0m\u001b[36m \u001b[0m│\u001b[35m \u001b[0m\u001b[35m   21.348608016967773    \u001b[0m\u001b[35m \u001b[0m│\n",
       "│\u001b[36m \u001b[0m\u001b[36m         val_mse         \u001b[0m\u001b[36m \u001b[0m│\u001b[35m \u001b[0m\u001b[35m    21.37464714050293    \u001b[0m\u001b[35m \u001b[0m│\n",
       "│\u001b[36m \u001b[0m\u001b[36m       val_pearson       \u001b[0m\u001b[36m \u001b[0m│\u001b[35m \u001b[0m\u001b[35m   -0.2583931088447571   \u001b[0m\u001b[35m \u001b[0m│\n",
       "└───────────────────────────┴───────────────────────────┘\n"
      ]
     },
     "metadata": {},
     "output_type": "display_data"
    },
    {
     "name": "stderr",
     "output_type": "stream",
     "text": [
      "LOCAL_RANK: 0 - CUDA_VISIBLE_DEVICES: [0]\n",
      "\n",
      "  | Name         | Type             | Params | Mode \n",
      "----------------------------------------------------------\n",
      "0 | model        | DilatedConvModel | 1.6 M  | train\n",
      "1 | loss         | MSELoss          | 0      | train\n",
      "2 | activation   | Identity         | 0      | train\n",
      "3 | val_metrics  | MetricCollection | 0      | train\n",
      "4 | test_metrics | MetricCollection | 0      | train\n",
      "5 | transform    | Identity         | 0      | train\n",
      "----------------------------------------------------------\n",
      "1.6 M     Trainable params\n",
      "0         Non-trainable params\n",
      "1.6 M     Total params\n",
      "6.388     Total estimated model params size (MB)\n"
     ]
    },
    {
     "name": "stdout",
     "output_type": "stream",
     "text": [
      "                                                                                                                                                                                                                                                                                             \r"
     ]
    },
    {
     "name": "stderr",
     "output_type": "stream",
     "text": [
      "/usr/local/lib/python3.11/dist-packages/torchmetrics/utilities/prints.py:43: UserWarning: The variance of predictions or target is close to zero. This can cause instability in Pearson correlationcoefficient, leading to wrong results. Consider re-scaling the input if possible or computing using alarger dtype (currently using torch.float32).\n"
     ]
    },
    {
     "name": "stdout",
     "output_type": "stream",
     "text": [
      "Epoch 0: 100%|███████████████████████████████████████████████████████████████████████████████████████████████████████████████████████████████████████████████████████████████████████████████████████████████████████████| 2769/2769 [02:50<00:00, 16.21it/s, v_num=0, train_loss_step=0.520]\n",
      "Validation: |                                                                                                                                                                                                                                                          | 0/? [00:00<?, ?it/s]\u001b[A\n",
      "Validation:   0%|                                                                                                                                                                                                                                                     | 0/11 [00:00<?, ?it/s]\u001b[A\n",
      "Validation DataLoader 0:   0%|                                                                                                                                                                                                                                        | 0/11 [00:00<?, ?it/s]\u001b[A\n",
      "Validation DataLoader 0:   9%|████████████████████▎                                                                                                                                                                                                           | 1/11 [00:00<00:00, 39.68it/s]\u001b[A\n",
      "Validation DataLoader 0:  18%|████████████████████████████████████████▋                                                                                                                                                                                       | 2/11 [00:00<00:00, 40.90it/s]\u001b[A\n",
      "Validation DataLoader 0:  27%|█████████████████████████████████████████████████████████████                                                                                                                                                                   | 3/11 [00:00<00:00, 41.51it/s]\u001b[A\n",
      "Validation DataLoader 0:  36%|█████████████████████████████████████████████████████████████████████████████████▍                                                                                                                                              | 4/11 [00:00<00:00, 41.36it/s]\u001b[A\n",
      "Validation DataLoader 0:  45%|█████████████████████████████████████████████████████████████████████████████████████████████████████▊                                                                                                                          | 5/11 [00:00<00:00, 41.46it/s]\u001b[A\n",
      "Validation DataLoader 0:  55%|██████████████████████████████████████████████████████████████████████████████████████████████████████████████████████████▏                                                                                                     | 6/11 [00:00<00:00, 40.53it/s]\u001b[A\n",
      "Validation DataLoader 0:  64%|██████████████████████████████████████████████████████████████████████████████████████████████████████████████████████████████████████████████▌                                                                                 | 7/11 [00:00<00:00, 40.74it/s]\u001b[A\n",
      "Validation DataLoader 0:  73%|██████████████████████████████████████████████████████████████████████████████████████████████████████████████████████████████████████████████████████████████████▉                                                             | 8/11 [00:00<00:00, 41.00it/s]\u001b[A\n",
      "Validation DataLoader 0:  82%|███████████████████████████████████████████████████████████████████████████████████████████████████████████████████████████████████████████████████████████████████████████████████████▎                                        | 9/11 [00:00<00:00, 41.18it/s]\u001b[A\n",
      "Validation DataLoader 0:  91%|██████████████████████████████████████████████████████████████████████████████████████████████████████████████████████████████████████████████████████████████████████████████████████████████████████████▋                    | 10/11 [00:00<00:00, 41.27it/s]\u001b[A\n",
      "Validation DataLoader 0: 100%|███████████████████████████████████████████████████████████████████████████████████████████████████████████████████████████████████████████████████████████████████████████████████████████████████████████████████████████████| 11/11 [00:00<00:00, 41.59it/s]\u001b[A\n",
      "Epoch 1: 100%|███████████████████████████████████████████████████████████████████████████████████████████████████████████████████████████████████████████████████████████████████████████████████| 2769/2769 [02:50<00:00, 16.26it/s, v_num=0, train_loss_step=0.336, train_loss_epoch=0.912]\u001b[A\n",
      "Validation: |                                                                                                                                                                                                                                                          | 0/? [00:00<?, ?it/s]\u001b[A\n",
      "Validation:   0%|                                                                                                                                                                                                                                                     | 0/11 [00:00<?, ?it/s]\u001b[A\n",
      "Validation DataLoader 0:   0%|                                                                                                                                                                                                                                        | 0/11 [00:00<?, ?it/s]\u001b[A\n",
      "Validation DataLoader 0:   9%|████████████████████▎                                                                                                                                                                                                           | 1/11 [00:00<00:00, 41.97it/s]\u001b[A\n",
      "Validation DataLoader 0:  18%|████████████████████████████████████████▋                                                                                                                                                                                       | 2/11 [00:00<00:00, 41.48it/s]\u001b[A\n",
      "Validation DataLoader 0:  27%|█████████████████████████████████████████████████████████████                                                                                                                                                                   | 3/11 [00:00<00:00, 41.38it/s]\u001b[A\n",
      "Validation DataLoader 0:  36%|█████████████████████████████████████████████████████████████████████████████████▍                                                                                                                                              | 4/11 [00:00<00:00, 39.68it/s]\u001b[A\n",
      "Validation DataLoader 0:  45%|█████████████████████████████████████████████████████████████████████████████████████████████████████▊                                                                                                                          | 5/11 [00:00<00:00, 40.05it/s]\u001b[A\n",
      "Validation DataLoader 0:  55%|██████████████████████████████████████████████████████████████████████████████████████████████████████████████████████████▏                                                                                                     | 6/11 [00:00<00:00, 40.19it/s]\u001b[A\n",
      "Validation DataLoader 0:  64%|██████████████████████████████████████████████████████████████████████████████████████████████████████████████████████████████████████████████▌                                                                                 | 7/11 [00:00<00:00, 40.52it/s]\u001b[A\n",
      "Validation DataLoader 0:  73%|██████████████████████████████████████████████████████████████████████████████████████████████████████████████████████████████████████████████████████████████████▉                                                             | 8/11 [00:00<00:00, 40.76it/s]\u001b[A\n",
      "Validation DataLoader 0:  82%|███████████████████████████████████████████████████████████████████████████████████████████████████████████████████████████████████████████████████████████████████████████████████████▎                                        | 9/11 [00:00<00:00, 40.91it/s]\u001b[A\n",
      "Validation DataLoader 0:  91%|██████████████████████████████████████████████████████████████████████████████████████████████████████████████████████████████████████████████████████████████████████████████████████████████████████████▋                    | 10/11 [00:00<00:00, 41.10it/s]\u001b[A\n",
      "Validation DataLoader 0: 100%|███████████████████████████████████████████████████████████████████████████████████████████████████████████████████████████████████████████████████████████████████████████████████████████████████████████████████████████████| 11/11 [00:00<00:00, 41.43it/s]\u001b[A\n",
      "Epoch 2: 100%|███████████████████████████████████████████████████████████████████████████████████████████████████████████████████████████████████████████████████████████████████████████████████| 2769/2769 [02:50<00:00, 16.27it/s, v_num=0, train_loss_step=0.505, train_loss_epoch=0.728]\u001b[A\n",
      "Validation: |                                                                                                                                                                                                                                                          | 0/? [00:00<?, ?it/s]\u001b[A\n",
      "Validation:   0%|                                                                                                                                                                                                                                                     | 0/11 [00:00<?, ?it/s]\u001b[A\n",
      "Validation DataLoader 0:   0%|                                                                                                                                                                                                                                        | 0/11 [00:00<?, ?it/s]\u001b[A\n",
      "Validation DataLoader 0:   9%|████████████████████▎                                                                                                                                                                                                           | 1/11 [00:00<00:00, 41.99it/s]\u001b[A\n",
      "Validation DataLoader 0:  18%|████████████████████████████████████████▋                                                                                                                                                                                       | 2/11 [00:00<00:00, 42.11it/s]\u001b[A\n",
      "Validation DataLoader 0:  27%|█████████████████████████████████████████████████████████████                                                                                                                                                                   | 3/11 [00:00<00:00, 40.94it/s]\u001b[A\n",
      "Validation DataLoader 0:  36%|█████████████████████████████████████████████████████████████████████████████████▍                                                                                                                                              | 4/11 [00:00<00:00, 41.29it/s]\u001b[A\n",
      "Validation DataLoader 0:  45%|█████████████████████████████████████████████████████████████████████████████████████████████████████▊                                                                                                                          | 5/11 [00:00<00:00, 41.58it/s]\u001b[A\n",
      "Validation DataLoader 0:  55%|██████████████████████████████████████████████████████████████████████████████████████████████████████████████████████████▏                                                                                                     | 6/11 [00:00<00:00, 41.79it/s]\u001b[A\n",
      "Validation DataLoader 0:  64%|██████████████████████████████████████████████████████████████████████████████████████████████████████████████████████████████████████████████▌                                                                                 | 7/11 [00:00<00:00, 41.56it/s]\u001b[A\n",
      "Validation DataLoader 0:  73%|██████████████████████████████████████████████████████████████████████████████████████████████████████████████████████████████████████████████████████████████████▉                                                             | 8/11 [00:00<00:00, 41.42it/s]\u001b[A\n",
      "Validation DataLoader 0:  82%|███████████████████████████████████████████████████████████████████████████████████████████████████████████████████████████████████████████████████████████████████████████████████████▎                                        | 9/11 [00:00<00:00, 41.32it/s]\u001b[A\n",
      "Validation DataLoader 0:  91%|██████████████████████████████████████████████████████████████████████████████████████████████████████████████████████████████████████████████████████████████████████████████████████████████████████████▋                    | 10/11 [00:00<00:00, 41.31it/s]\u001b[A\n",
      "Validation DataLoader 0: 100%|███████████████████████████████████████████████████████████████████████████████████████████████████████████████████████████████████████████████████████████████████████████████████████████████████████████████████████████████| 11/11 [00:00<00:00, 41.62it/s]\u001b[A\n",
      "Epoch 3: 100%|███████████████████████████████████████████████████████████████████████████████████████████████████████████████████████████████████████████████████████████████████████████████████| 2769/2769 [02:50<00:00, 16.27it/s, v_num=0, train_loss_step=0.682, train_loss_epoch=0.664]\u001b[A\n",
      "Validation: |                                                                                                                                                                                                                                                          | 0/? [00:00<?, ?it/s]\u001b[A\n",
      "Validation:   0%|                                                                                                                                                                                                                                                     | 0/11 [00:00<?, ?it/s]\u001b[A\n",
      "Validation DataLoader 0:   0%|                                                                                                                                                                                                                                        | 0/11 [00:00<?, ?it/s]\u001b[A\n",
      "Validation DataLoader 0:   9%|████████████████████▎                                                                                                                                                                                                           | 1/11 [00:00<00:00, 41.62it/s]\u001b[A\n",
      "Validation DataLoader 0:  18%|████████████████████████████████████████▋                                                                                                                                                                                       | 2/11 [00:00<00:00, 40.50it/s]\u001b[A\n",
      "Validation DataLoader 0:  27%|█████████████████████████████████████████████████████████████                                                                                                                                                                   | 3/11 [00:00<00:00, 40.67it/s]\u001b[A\n",
      "Validation DataLoader 0:  36%|█████████████████████████████████████████████████████████████████████████████████▍                                                                                                                                              | 4/11 [00:00<00:00, 41.11it/s]\u001b[A\n",
      "Validation DataLoader 0:  45%|█████████████████████████████████████████████████████████████████████████████████████████████████████▊                                                                                                                          | 5/11 [00:00<00:00, 41.41it/s]\u001b[A\n",
      "Validation DataLoader 0:  55%|██████████████████████████████████████████████████████████████████████████████████████████████████████████████████████████▏                                                                                                     | 6/11 [00:00<00:00, 41.48it/s]\u001b[A\n",
      "Validation DataLoader 0:  64%|██████████████████████████████████████████████████████████████████████████████████████████████████████████████████████████████████████████████▌                                                                                 | 7/11 [00:00<00:00, 41.22it/s]\u001b[A\n",
      "Validation DataLoader 0:  73%|██████████████████████████████████████████████████████████████████████████████████████████████████████████████████████████████████████████████████████████████████▉                                                             | 8/11 [00:00<00:00, 41.38it/s]\u001b[A\n",
      "Validation DataLoader 0:  82%|███████████████████████████████████████████████████████████████████████████████████████████████████████████████████████████████████████████████████████████████████████████████████████▎                                        | 9/11 [00:00<00:00, 41.55it/s]\u001b[A\n",
      "Validation DataLoader 0:  91%|██████████████████████████████████████████████████████████████████████████████████████████████████████████████████████████████████████████████████████████████████████████████████████████████████████████▋                    | 10/11 [00:00<00:00, 41.68it/s]\u001b[A\n",
      "Validation DataLoader 0: 100%|███████████████████████████████████████████████████████████████████████████████████████████████████████████████████████████████████████████████████████████████████████████████████████████████████████████████████████████████| 11/11 [00:00<00:00, 41.79it/s]\u001b[A\n",
      "Epoch 4: 100%|███████████████████████████████████████████████████████████████████████████████████████████████████████████████████████████████████████████████████████████████████████████████████| 2769/2769 [02:49<00:00, 16.31it/s, v_num=0, train_loss_step=0.402, train_loss_epoch=0.611]\u001b[A\n",
      "Validation: |                                                                                                                                                                                                                                                          | 0/? [00:00<?, ?it/s]\u001b[A\n",
      "Validation:   0%|                                                                                                                                                                                                                                                     | 0/11 [00:00<?, ?it/s]\u001b[A\n",
      "Validation DataLoader 0:   0%|                                                                                                                                                                                                                                        | 0/11 [00:00<?, ?it/s]\u001b[A\n",
      "Validation DataLoader 0:   9%|████████████████████▎                                                                                                                                                                                                           | 1/11 [00:00<00:00, 42.20it/s]\u001b[A\n",
      "Validation DataLoader 0:  18%|████████████████████████████████████████▋                                                                                                                                                                                       | 2/11 [00:00<00:00, 42.29it/s]\u001b[A\n",
      "Validation DataLoader 0:  27%|█████████████████████████████████████████████████████████████                                                                                                                                                                   | 3/11 [00:00<00:00, 42.33it/s]\u001b[A\n",
      "Validation DataLoader 0:  36%|█████████████████████████████████████████████████████████████████████████████████▍                                                                                                                                              | 4/11 [00:00<00:00, 42.40it/s]\u001b[A\n",
      "Validation DataLoader 0:  45%|█████████████████████████████████████████████████████████████████████████████████████████████████████▊                                                                                                                          | 5/11 [00:00<00:00, 41.94it/s]\u001b[A\n",
      "Validation DataLoader 0:  55%|██████████████████████████████████████████████████████████████████████████████████████████████████████████████████████████▏                                                                                                     | 6/11 [00:00<00:00, 41.60it/s]\u001b[A\n",
      "Validation DataLoader 0:  64%|██████████████████████████████████████████████████████████████████████████████████████████████████████████████████████████████████████████████▌                                                                                 | 7/11 [00:00<00:00, 41.26it/s]\u001b[A\n",
      "Validation DataLoader 0:  73%|██████████████████████████████████████████████████████████████████████████████████████████████████████████████████████████████████████████████████████████████████▉                                                             | 8/11 [00:00<00:00, 41.28it/s]\u001b[A\n",
      "Validation DataLoader 0:  82%|███████████████████████████████████████████████████████████████████████████████████████████████████████████████████████████████████████████████████████████████████████████████████████▎                                        | 9/11 [00:00<00:00, 41.19it/s]\u001b[A\n",
      "Validation DataLoader 0:  91%|██████████████████████████████████████████████████████████████████████████████████████████████████████████████████████████████████████████████████████████████████████████████████████████████████████████▋                    | 10/11 [00:00<00:00, 41.35it/s]\u001b[A\n",
      "Validation DataLoader 0: 100%|███████████████████████████████████████████████████████████████████████████████████████████████████████████████████████████████████████████████████████████████████████████████████████████████████████████████████████████████| 11/11 [00:00<00:00, 41.68it/s]\u001b[A\n",
      "Epoch 5: 100%|███████████████████████████████████████████████████████████████████████████████████████████████████████████████████████████████████████████████████████████████████████████████████| 2769/2769 [02:49<00:00, 16.32it/s, v_num=0, train_loss_step=0.490, train_loss_epoch=0.573]\u001b[A\n",
      "Validation: |                                                                                                                                                                                                                                                          | 0/? [00:00<?, ?it/s]\u001b[A\n",
      "Validation:   0%|                                                                                                                                                                                                                                                     | 0/11 [00:00<?, ?it/s]\u001b[A\n",
      "Validation DataLoader 0:   0%|                                                                                                                                                                                                                                        | 0/11 [00:00<?, ?it/s]\u001b[A\n",
      "Validation DataLoader 0:   9%|████████████████████▎                                                                                                                                                                                                           | 1/11 [00:00<00:00, 40.83it/s]\u001b[A\n",
      "Validation DataLoader 0:  18%|████████████████████████████████████████▋                                                                                                                                                                                       | 2/11 [00:00<00:00, 41.33it/s]\u001b[A\n",
      "Validation DataLoader 0:  27%|█████████████████████████████████████████████████████████████                                                                                                                                                                   | 3/11 [00:00<00:00, 41.75it/s]\u001b[A\n",
      "Validation DataLoader 0:  36%|█████████████████████████████████████████████████████████████████████████████████▍                                                                                                                                              | 4/11 [00:00<00:00, 41.94it/s]\u001b[A\n",
      "Validation DataLoader 0:  45%|█████████████████████████████████████████████████████████████████████████████████████████████████████▊                                                                                                                          | 5/11 [00:00<00:00, 41.58it/s]\u001b[A\n",
      "Validation DataLoader 0:  55%|██████████████████████████████████████████████████████████████████████████████████████████████████████████████████████████▏                                                                                                     | 6/11 [00:00<00:00, 41.60it/s]\u001b[A\n",
      "Validation DataLoader 0:  64%|██████████████████████████████████████████████████████████████████████████████████████████████████████████████████████████████████████████████▌                                                                                 | 7/11 [00:00<00:00, 41.75it/s]\u001b[A\n",
      "Validation DataLoader 0:  73%|██████████████████████████████████████████████████████████████████████████████████████████████████████████████████████████████████████████████████████████████████▉                                                             | 8/11 [00:00<00:00, 41.86it/s]\u001b[A\n",
      "Validation DataLoader 0:  82%|███████████████████████████████████████████████████████████████████████████████████████████████████████████████████████████████████████████████████████████████████████████████████████▎                                        | 9/11 [00:00<00:00, 41.97it/s]\u001b[A\n",
      "Validation DataLoader 0:  91%|██████████████████████████████████████████████████████████████████████████████████████████████████████████████████████████████████████████████████████████████████████████████████████████████████████████▋                    | 10/11 [00:00<00:00, 41.56it/s]\u001b[A\n",
      "Validation DataLoader 0: 100%|███████████████████████████████████████████████████████████████████████████████████████████████████████████████████████████████████████████████████████████████████████████████████████████████████████████████████████████████| 11/11 [00:00<00:00, 41.86it/s]\u001b[A\n",
      "Epoch 6: 100%|███████████████████████████████████████████████████████████████████████████████████████████████████████████████████████████████████████████████████████████████████████████████████| 2769/2769 [02:49<00:00, 16.30it/s, v_num=0, train_loss_step=0.670, train_loss_epoch=0.534]\u001b[A\n",
      "Validation: |                                                                                                                                                                                                                                                          | 0/? [00:00<?, ?it/s]\u001b[A\n",
      "Validation:   0%|                                                                                                                                                                                                                                                     | 0/11 [00:00<?, ?it/s]\u001b[A\n",
      "Validation DataLoader 0:   0%|                                                                                                                                                                                                                                        | 0/11 [00:00<?, ?it/s]\u001b[A\n",
      "Validation DataLoader 0:   9%|████████████████████▎                                                                                                                                                                                                           | 1/11 [00:00<00:00, 41.92it/s]\u001b[A\n",
      "Validation DataLoader 0:  18%|████████████████████████████████████████▋                                                                                                                                                                                       | 2/11 [00:00<00:00, 41.79it/s]\u001b[A\n",
      "Validation DataLoader 0:  27%|█████████████████████████████████████████████████████████████                                                                                                                                                                   | 3/11 [00:00<00:00, 42.07it/s]\u001b[A\n",
      "Validation DataLoader 0:  36%|█████████████████████████████████████████████████████████████████████████████████▍                                                                                                                                              | 4/11 [00:00<00:00, 42.11it/s]\u001b[A\n",
      "Validation DataLoader 0:  45%|█████████████████████████████████████████████████████████████████████████████████████████████████████▊                                                                                                                          | 5/11 [00:00<00:00, 42.19it/s]\u001b[A\n",
      "Validation DataLoader 0:  55%|██████████████████████████████████████████████████████████████████████████████████████████████████████████████████████████▏                                                                                                     | 6/11 [00:00<00:00, 41.95it/s]\u001b[A\n",
      "Validation DataLoader 0:  64%|██████████████████████████████████████████████████████████████████████████████████████████████████████████████████████████████████████████████▌                                                                                 | 7/11 [00:00<00:00, 41.25it/s]\u001b[A\n",
      "Validation DataLoader 0:  73%|██████████████████████████████████████████████████████████████████████████████████████████████████████████████████████████████████████████████████████████████████▉                                                             | 8/11 [00:00<00:00, 41.15it/s]\u001b[A\n",
      "Validation DataLoader 0:  82%|███████████████████████████████████████████████████████████████████████████████████████████████████████████████████████████████████████████████████████████████████████████████████████▎                                        | 9/11 [00:00<00:00, 41.28it/s]\u001b[A\n",
      "Validation DataLoader 0:  91%|██████████████████████████████████████████████████████████████████████████████████████████████████████████████████████████████████████████████████████████████████████████████████████████████████████████▋                    | 10/11 [00:00<00:00, 41.25it/s]\u001b[A\n",
      "Validation DataLoader 0: 100%|███████████████████████████████████████████████████████████████████████████████████████████████████████████████████████████████████████████████████████████████████████████████████████████████████████████████████████████████| 11/11 [00:00<00:00, 41.50it/s]\u001b[A\n",
      "Epoch 7: 100%|███████████████████████████████████████████████████████████████████████████████████████████████████████████████████████████████████████████████████████████████████████████████████| 2769/2769 [02:49<00:00, 16.33it/s, v_num=0, train_loss_step=0.246, train_loss_epoch=0.501]\u001b[A\n",
      "Validation: |                                                                                                                                                                                                                                                          | 0/? [00:00<?, ?it/s]\u001b[A\n",
      "Validation:   0%|                                                                                                                                                                                                                                                     | 0/11 [00:00<?, ?it/s]\u001b[A\n",
      "Validation DataLoader 0:   0%|                                                                                                                                                                                                                                        | 0/11 [00:00<?, ?it/s]\u001b[A\n",
      "Validation DataLoader 0:   9%|████████████████████▎                                                                                                                                                                                                           | 1/11 [00:00<00:00, 41.47it/s]\u001b[A\n",
      "Validation DataLoader 0:  18%|████████████████████████████████████████▋                                                                                                                                                                                       | 2/11 [00:00<00:00, 39.01it/s]\u001b[A\n",
      "Validation DataLoader 0:  27%|█████████████████████████████████████████████████████████████                                                                                                                                                                   | 3/11 [00:00<00:00, 39.82it/s]\u001b[A\n",
      "Validation DataLoader 0:  36%|█████████████████████████████████████████████████████████████████████████████████▍                                                                                                                                              | 4/11 [00:00<00:00, 40.54it/s]\u001b[A\n",
      "Validation DataLoader 0:  45%|█████████████████████████████████████████████████████████████████████████████████████████████████████▊                                                                                                                          | 5/11 [00:00<00:00, 40.93it/s]\u001b[A\n",
      "Validation DataLoader 0:  55%|██████████████████████████████████████████████████████████████████████████████████████████████████████████████████████████▏                                                                                                     | 6/11 [00:00<00:00, 40.74it/s]\u001b[A\n",
      "Validation DataLoader 0:  64%|██████████████████████████████████████████████████████████████████████████████████████████████████████████████████████████████████████████████▌                                                                                 | 7/11 [00:00<00:00, 40.64it/s]\u001b[A\n",
      "Validation DataLoader 0:  73%|██████████████████████████████████████████████████████████████████████████████████████████████████████████████████████████████████████████████████████████████████▉                                                             | 8/11 [00:00<00:00, 40.89it/s]\u001b[A\n",
      "Validation DataLoader 0:  82%|███████████████████████████████████████████████████████████████████████████████████████████████████████████████████████████████████████████████████████████████████████████████████████▎                                        | 9/11 [00:00<00:00, 41.09it/s]\u001b[A\n",
      "Validation DataLoader 0:  91%|██████████████████████████████████████████████████████████████████████████████████████████████████████████████████████████████████████████████████████████████████████████████████████████████████████████▋                    | 10/11 [00:00<00:00, 41.09it/s]\u001b[A\n",
      "Validation DataLoader 0: 100%|███████████████████████████████████████████████████████████████████████████████████████████████████████████████████████████████████████████████████████████████████████████████████████████████████████████████████████████████| 11/11 [00:00<00:00, 41.30it/s]\u001b[A\n",
      "Epoch 8: 100%|███████████████████████████████████████████████████████████████████████████████████████████████████████████████████████████████████████████████████████████████████████████████████| 2769/2769 [02:49<00:00, 16.29it/s, v_num=0, train_loss_step=0.674, train_loss_epoch=0.473]\u001b[A\n",
      "Validation: |                                                                                                                                                                                                                                                          | 0/? [00:00<?, ?it/s]\u001b[A\n",
      "Validation:   0%|                                                                                                                                                                                                                                                     | 0/11 [00:00<?, ?it/s]\u001b[A\n",
      "Validation DataLoader 0:   0%|                                                                                                                                                                                                                                        | 0/11 [00:00<?, ?it/s]\u001b[A\n",
      "Validation DataLoader 0:   9%|████████████████████▎                                                                                                                                                                                                           | 1/11 [00:00<00:00, 42.08it/s]\u001b[A\n",
      "Validation DataLoader 0:  18%|████████████████████████████████████████▋                                                                                                                                                                                       | 2/11 [00:00<00:00, 38.22it/s]\u001b[A\n",
      "Validation DataLoader 0:  27%|█████████████████████████████████████████████████████████████                                                                                                                                                                   | 3/11 [00:00<00:00, 39.35it/s]\u001b[A\n",
      "Validation DataLoader 0:  36%|█████████████████████████████████████████████████████████████████████████████████▍                                                                                                                                              | 4/11 [00:00<00:00, 39.85it/s]\u001b[A\n",
      "Validation DataLoader 0:  45%|█████████████████████████████████████████████████████████████████████████████████████████████████████▊                                                                                                                          | 5/11 [00:00<00:00, 40.12it/s]\u001b[A\n",
      "Validation DataLoader 0:  55%|██████████████████████████████████████████████████████████████████████████████████████████████████████████████████████████▏                                                                                                     | 6/11 [00:00<00:00, 40.38it/s]\u001b[A\n",
      "Validation DataLoader 0:  64%|██████████████████████████████████████████████████████████████████████████████████████████████████████████████████████████████████████████████▌                                                                                 | 7/11 [00:00<00:00, 40.61it/s]\u001b[A\n",
      "Validation DataLoader 0:  73%|██████████████████████████████████████████████████████████████████████████████████████████████████████████████████████████████████████████████████████████████████▉                                                             | 8/11 [00:00<00:00, 40.83it/s]\u001b[A\n",
      "Validation DataLoader 0:  82%|███████████████████████████████████████████████████████████████████████████████████████████████████████████████████████████████████████████████████████████████████████████████████████▎                                        | 9/11 [00:00<00:00, 41.03it/s]\u001b[A\n",
      "Validation DataLoader 0:  91%|██████████████████████████████████████████████████████████████████████████████████████████████████████████████████████████████████████████████████████████████████████████████████████████████████████████▋                    | 10/11 [00:00<00:00, 41.13it/s]\u001b[A\n",
      "Validation DataLoader 0: 100%|███████████████████████████████████████████████████████████████████████████████████████████████████████████████████████████████████████████████████████████████████████████████████████████████████████████████████████████████| 11/11 [00:00<00:00, 41.40it/s]\u001b[A\n",
      "Epoch 9: 100%|███████████████████████████████████████████████████████████████████████████████████████████████████████████████████████████████████████████████████████████████████████████████████| 2769/2769 [02:52<00:00, 16.06it/s, v_num=0, train_loss_step=0.328, train_loss_epoch=0.453]\u001b[A\n",
      "Validation: |                                                                                                                                                                                                                                                          | 0/? [00:00<?, ?it/s]\u001b[A\n",
      "Validation:   0%|                                                                                                                                                                                                                                                     | 0/11 [00:00<?, ?it/s]\u001b[A\n",
      "Validation DataLoader 0:   0%|                                                                                                                                                                                                                                        | 0/11 [00:00<?, ?it/s]\u001b[A\n",
      "Validation DataLoader 0:   9%|████████████████████▎                                                                                                                                                                                                           | 1/11 [00:00<00:00, 42.01it/s]\u001b[A\n",
      "Validation DataLoader 0:  18%|████████████████████████████████████████▋                                                                                                                                                                                       | 2/11 [00:00<00:00, 40.71it/s]\u001b[A\n",
      "Validation DataLoader 0:  27%|█████████████████████████████████████████████████████████████                                                                                                                                                                   | 3/11 [00:00<00:00, 40.49it/s]\u001b[A\n",
      "Validation DataLoader 0:  36%|█████████████████████████████████████████████████████████████████████████████████▍                                                                                                                                              | 4/11 [00:00<00:00, 40.97it/s]\u001b[A\n",
      "Validation DataLoader 0:  45%|█████████████████████████████████████████████████████████████████████████████████████████████████████▊                                                                                                                          | 5/11 [00:00<00:00, 41.40it/s]\u001b[A\n",
      "Validation DataLoader 0:  55%|██████████████████████████████████████████████████████████████████████████████████████████████████████████████████████████▏                                                                                                     | 6/11 [00:00<00:00, 41.32it/s]\u001b[A\n",
      "Validation DataLoader 0:  64%|██████████████████████████████████████████████████████████████████████████████████████████████████████████████████████████████████████████████▌                                                                                 | 7/11 [00:00<00:00, 41.35it/s]\u001b[A\n",
      "Validation DataLoader 0:  73%|██████████████████████████████████████████████████████████████████████████████████████████████████████████████████████████████████████████████████████████████████▉                                                             | 8/11 [00:00<00:00, 41.11it/s]\u001b[A\n",
      "Validation DataLoader 0:  82%|███████████████████████████████████████████████████████████████████████████████████████████████████████████████████████████████████████████████████████████████████████████████████████▎                                        | 9/11 [00:00<00:00, 41.19it/s]\u001b[A\n",
      "Validation DataLoader 0:  91%|██████████████████████████████████████████████████████████████████████████████████████████████████████████████████████████████████████████████████████████████████████████████████████████████████████████▋                    | 10/11 [00:00<00:00, 41.34it/s]\u001b[A\n",
      "Validation DataLoader 0: 100%|███████████████████████████████████████████████████████████████████████████████████████████████████████████████████████████████████████████████████████████████████████████████████████████████████████████████████████████████| 11/11 [00:00<00:00, 41.49it/s]\u001b[A\n",
      "Epoch 10: 100%|██████████████████████████████████████████████████████████████████████████████████████████████████████████████████████████████████████████████████████████████████████████████████| 2769/2769 [02:49<00:00, 16.32it/s, v_num=0, train_loss_step=0.323, train_loss_epoch=0.439]\u001b[A\n",
      "Validation: |                                                                                                                                                                                                                                                          | 0/? [00:00<?, ?it/s]\u001b[A\n",
      "Validation:   0%|                                                                                                                                                                                                                                                     | 0/11 [00:00<?, ?it/s]\u001b[A\n",
      "Validation DataLoader 0:   0%|                                                                                                                                                                                                                                        | 0/11 [00:00<?, ?it/s]\u001b[A\n",
      "Validation DataLoader 0:   9%|████████████████████▎                                                                                                                                                                                                           | 1/11 [00:00<00:00, 42.36it/s]\u001b[A\n",
      "Validation DataLoader 0:  18%|████████████████████████████████████████▋                                                                                                                                                                                       | 2/11 [00:00<00:00, 41.88it/s]\u001b[A\n",
      "Validation DataLoader 0:  27%|█████████████████████████████████████████████████████████████                                                                                                                                                                   | 3/11 [00:00<00:00, 41.88it/s]\u001b[A\n",
      "Validation DataLoader 0:  36%|█████████████████████████████████████████████████████████████████████████████████▍                                                                                                                                              | 4/11 [00:00<00:00, 40.63it/s]\u001b[A\n",
      "Validation DataLoader 0:  45%|█████████████████████████████████████████████████████████████████████████████████████████████████████▊                                                                                                                          | 5/11 [00:00<00:00, 40.96it/s]\u001b[A\n",
      "Validation DataLoader 0:  55%|██████████████████████████████████████████████████████████████████████████████████████████████████████████████████████████▏                                                                                                     | 6/11 [00:00<00:00, 41.21it/s]\u001b[A\n",
      "Validation DataLoader 0:  64%|██████████████████████████████████████████████████████████████████████████████████████████████████████████████████████████████████████████████▌                                                                                 | 7/11 [00:00<00:00, 41.41it/s]\u001b[A\n",
      "Validation DataLoader 0:  73%|██████████████████████████████████████████████████████████████████████████████████████████████████████████████████████████████████████████████████████████████████▉                                                             | 8/11 [00:00<00:00, 41.50it/s]\u001b[A\n",
      "Validation DataLoader 0:  82%|███████████████████████████████████████████████████████████████████████████████████████████████████████████████████████████████████████████████████████████████████████████████████████▎                                        | 9/11 [00:00<00:00, 41.58it/s]\u001b[A\n",
      "Validation DataLoader 0:  91%|██████████████████████████████████████████████████████████████████████████████████████████████████████████████████████████████████████████████████████████████████████████████████████████████████████████▋                    | 10/11 [00:00<00:00, 41.66it/s]\u001b[A\n",
      "Validation DataLoader 0: 100%|███████████████████████████████████████████████████████████████████████████████████████████████████████████████████████████████████████████████████████████████████████████████████████████████████████████████████████████████| 11/11 [00:00<00:00, 41.96it/s]\u001b[A\n",
      "Epoch 11: 100%|██████████████████████████████████████████████████████████████████████████████████████████████████████████████████████████████████████████████████████████████████████████████████| 2769/2769 [02:49<00:00, 16.29it/s, v_num=0, train_loss_step=0.397, train_loss_epoch=0.425]\u001b[A\n",
      "Validation: |                                                                                                                                                                                                                                                          | 0/? [00:00<?, ?it/s]\u001b[A\n",
      "Validation:   0%|                                                                                                                                                                                                                                                     | 0/11 [00:00<?, ?it/s]\u001b[A\n",
      "Validation DataLoader 0:   0%|                                                                                                                                                                                                                                        | 0/11 [00:00<?, ?it/s]\u001b[A\n",
      "Validation DataLoader 0:   9%|████████████████████▎                                                                                                                                                                                                           | 1/11 [00:00<00:00, 42.00it/s]\u001b[A\n",
      "Validation DataLoader 0:  18%|████████████████████████████████████████▋                                                                                                                                                                                       | 2/11 [00:00<00:00, 42.02it/s]\u001b[A\n",
      "Validation DataLoader 0:  27%|█████████████████████████████████████████████████████████████                                                                                                                                                                   | 3/11 [00:00<00:00, 42.06it/s]\u001b[A\n",
      "Validation DataLoader 0:  36%|█████████████████████████████████████████████████████████████████████████████████▍                                                                                                                                              | 4/11 [00:00<00:00, 42.21it/s]\u001b[A\n",
      "Validation DataLoader 0:  45%|█████████████████████████████████████████████████████████████████████████████████████████████████████▊                                                                                                                          | 5/11 [00:00<00:00, 42.25it/s]\u001b[A\n",
      "Validation DataLoader 0:  55%|██████████████████████████████████████████████████████████████████████████████████████████████████████████████████████████▏                                                                                                     | 6/11 [00:00<00:00, 41.96it/s]\u001b[A\n",
      "Validation DataLoader 0:  64%|██████████████████████████████████████████████████████████████████████████████████████████████████████████████████████████████████████████████▌                                                                                 | 7/11 [00:00<00:00, 41.72it/s]\u001b[A\n",
      "Validation DataLoader 0:  73%|██████████████████████████████████████████████████████████████████████████████████████████████████████████████████████████████████████████████████████████████████▉                                                             | 8/11 [00:00<00:00, 41.35it/s]\u001b[A\n",
      "Validation DataLoader 0:  82%|███████████████████████████████████████████████████████████████████████████████████████████████████████████████████████████████████████████████████████████████████████████████████████▎                                        | 9/11 [00:00<00:00, 41.42it/s]\u001b[A\n",
      "Validation DataLoader 0:  91%|██████████████████████████████████████████████████████████████████████████████████████████████████████████████████████████████████████████████████████████████████████████████████████████████████████████▋                    | 10/11 [00:00<00:00, 41.55it/s]\u001b[A\n",
      "Validation DataLoader 0: 100%|███████████████████████████████████████████████████████████████████████████████████████████████████████████████████████████████████████████████████████████████████████████████████████████████████████████████████████████████| 11/11 [00:00<00:00, 41.71it/s]\u001b[A\n",
      "Epoch 12: 100%|██████████████████████████████████████████████████████████████████████████████████████████████████████████████████████████████████████████████████████████████████████████████████| 2769/2769 [02:49<00:00, 16.31it/s, v_num=0, train_loss_step=0.219, train_loss_epoch=0.412]\u001b[A\n",
      "Validation: |                                                                                                                                                                                                                                                          | 0/? [00:00<?, ?it/s]\u001b[A\n",
      "Validation:   0%|                                                                                                                                                                                                                                                     | 0/11 [00:00<?, ?it/s]\u001b[A\n",
      "Validation DataLoader 0:   0%|                                                                                                                                                                                                                                        | 0/11 [00:00<?, ?it/s]\u001b[A\n",
      "Validation DataLoader 0:   9%|████████████████████▎                                                                                                                                                                                                           | 1/11 [00:00<00:00, 41.77it/s]\u001b[A\n",
      "Validation DataLoader 0:  18%|████████████████████████████████████████▋                                                                                                                                                                                       | 2/11 [00:00<00:00, 40.53it/s]\u001b[A\n",
      "Validation DataLoader 0:  27%|█████████████████████████████████████████████████████████████                                                                                                                                                                   | 3/11 [00:00<00:00, 40.82it/s]\u001b[A\n",
      "Validation DataLoader 0:  36%|█████████████████████████████████████████████████████████████████████████████████▍                                                                                                                                              | 4/11 [00:00<00:00, 40.96it/s]\u001b[A\n",
      "Validation DataLoader 0:  45%|█████████████████████████████████████████████████████████████████████████████████████████████████████▊                                                                                                                          | 5/11 [00:00<00:00, 41.20it/s]\u001b[A\n",
      "Validation DataLoader 0:  55%|██████████████████████████████████████████████████████████████████████████████████████████████████████████████████████████▏                                                                                                     | 6/11 [00:00<00:00, 41.32it/s]\u001b[A\n",
      "Validation DataLoader 0:  64%|██████████████████████████████████████████████████████████████████████████████████████████████████████████████████████████████████████████████▌                                                                                 | 7/11 [00:00<00:00, 41.02it/s]\u001b[A\n",
      "Validation DataLoader 0:  73%|██████████████████████████████████████████████████████████████████████████████████████████████████████████████████████████████████████████████████████████████████▉                                                             | 8/11 [00:00<00:00, 41.14it/s]\u001b[A\n",
      "Validation DataLoader 0:  82%|███████████████████████████████████████████████████████████████████████████████████████████████████████████████████████████████████████████████████████████████████████████████████████▎                                        | 9/11 [00:00<00:00, 40.97it/s]\u001b[A\n",
      "Validation DataLoader 0:  91%|██████████████████████████████████████████████████████████████████████████████████████████████████████████████████████████████████████████████████████████████████████████████████████████████████████████▋                    | 10/11 [00:00<00:00, 41.06it/s]\u001b[A\n",
      "Validation DataLoader 0: 100%|███████████████████████████████████████████████████████████████████████████████████████████████████████████████████████████████████████████████████████████████████████████████████████████████████████████████████████████████| 11/11 [00:00<00:00, 41.37it/s]\u001b[A\n",
      "Epoch 13: 100%|██████████████████████████████████████████████████████████████████████████████████████████████████████████████████████████████████████████████████████████████████████████████████| 2769/2769 [02:50<00:00, 16.27it/s, v_num=0, train_loss_step=0.266, train_loss_epoch=0.400]\u001b[A\n",
      "Validation: |                                                                                                                                                                                                                                                          | 0/? [00:00<?, ?it/s]\u001b[A\n",
      "Validation:   0%|                                                                                                                                                                                                                                                     | 0/11 [00:00<?, ?it/s]\u001b[A\n",
      "Validation DataLoader 0:   0%|                                                                                                                                                                                                                                        | 0/11 [00:00<?, ?it/s]\u001b[A\n",
      "Validation DataLoader 0:   9%|████████████████████▎                                                                                                                                                                                                           | 1/11 [00:00<00:00, 41.81it/s]\u001b[A\n",
      "Validation DataLoader 0:  18%|████████████████████████████████████████▋                                                                                                                                                                                       | 2/11 [00:00<00:00, 40.64it/s]\u001b[A\n",
      "Validation DataLoader 0:  27%|█████████████████████████████████████████████████████████████                                                                                                                                                                   | 3/11 [00:00<00:00, 41.27it/s]\u001b[A\n",
      "Validation DataLoader 0:  36%|█████████████████████████████████████████████████████████████████████████████████▍                                                                                                                                              | 4/11 [00:00<00:00, 40.83it/s]\u001b[A\n",
      "Validation DataLoader 0:  45%|█████████████████████████████████████████████████████████████████████████████████████████████████████▊                                                                                                                          | 5/11 [00:00<00:00, 41.09it/s]\u001b[A\n",
      "Validation DataLoader 0:  55%|██████████████████████████████████████████████████████████████████████████████████████████████████████████████████████████▏                                                                                                     | 6/11 [00:00<00:00, 40.38it/s]\u001b[A\n",
      "Validation DataLoader 0:  64%|██████████████████████████████████████████████████████████████████████████████████████████████████████████████████████████████████████████████▌                                                                                 | 7/11 [00:00<00:00, 40.62it/s]\u001b[A\n",
      "Validation DataLoader 0:  73%|██████████████████████████████████████████████████████████████████████████████████████████████████████████████████████████████████████████████████████████████████▉                                                             | 8/11 [00:00<00:00, 40.45it/s]\u001b[A\n",
      "Validation DataLoader 0:  82%|███████████████████████████████████████████████████████████████████████████████████████████████████████████████████████████████████████████████████████████████████████████████████████▎                                        | 9/11 [00:00<00:00, 40.63it/s]\u001b[A\n",
      "Validation DataLoader 0:  91%|██████████████████████████████████████████████████████████████████████████████████████████████████████████████████████████████████████████████████████████████████████████████████████████████████████████▋                    | 10/11 [00:00<00:00, 40.82it/s]\u001b[A\n",
      "Validation DataLoader 0: 100%|███████████████████████████████████████████████████████████████████████████████████████████████████████████████████████████████████████████████████████████████████████████████████████████████████████████████████████████████| 11/11 [00:00<00:00, 41.20it/s]\u001b[A\n",
      "Epoch 14: 100%|██████████████████████████████████████████████████████████████████████████████████████████████████████████████████████████████████████████████████████████████████████████████████| 2769/2769 [02:49<00:00, 16.32it/s, v_num=0, train_loss_step=0.254, train_loss_epoch=0.388]\u001b[A\n",
      "Validation: |                                                                                                                                                                                                                                                          | 0/? [00:00<?, ?it/s]\u001b[A\n",
      "Validation:   0%|                                                                                                                                                                                                                                                     | 0/11 [00:00<?, ?it/s]\u001b[A\n",
      "Validation DataLoader 0:   0%|                                                                                                                                                                                                                                        | 0/11 [00:00<?, ?it/s]\u001b[A\n",
      "Validation DataLoader 0:   9%|████████████████████▎                                                                                                                                                                                                           | 1/11 [00:00<00:00, 41.13it/s]\u001b[A\n",
      "Validation DataLoader 0:  18%|████████████████████████████████████████▋                                                                                                                                                                                       | 2/11 [00:00<00:00, 41.43it/s]\u001b[A\n",
      "Validation DataLoader 0:  27%|█████████████████████████████████████████████████████████████                                                                                                                                                                   | 3/11 [00:00<00:00, 41.07it/s]\u001b[A\n",
      "Validation DataLoader 0:  36%|█████████████████████████████████████████████████████████████████████████████████▍                                                                                                                                              | 4/11 [00:00<00:00, 41.35it/s]\u001b[A\n",
      "Validation DataLoader 0:  45%|█████████████████████████████████████████████████████████████████████████████████████████████████████▊                                                                                                                          | 5/11 [00:00<00:00, 41.60it/s]\u001b[A\n",
      "Validation DataLoader 0:  55%|██████████████████████████████████████████████████████████████████████████████████████████████████████████████████████████▏                                                                                                     | 6/11 [00:00<00:00, 41.30it/s]\u001b[A\n",
      "Validation DataLoader 0:  64%|██████████████████████████████████████████████████████████████████████████████████████████████████████████████████████████████████████████████▌                                                                                 | 7/11 [00:00<00:00, 41.23it/s]\u001b[A\n",
      "Validation DataLoader 0:  73%|██████████████████████████████████████████████████████████████████████████████████████████████████████████████████████████████████████████████████████████████████▉                                                             | 8/11 [00:00<00:00, 41.36it/s]\u001b[A\n",
      "Validation DataLoader 0:  82%|███████████████████████████████████████████████████████████████████████████████████████████████████████████████████████████████████████████████████████████████████████████████████████▎                                        | 9/11 [00:00<00:00, 41.26it/s]\u001b[A\n",
      "Validation DataLoader 0:  91%|██████████████████████████████████████████████████████████████████████████████████████████████████████████████████████████████████████████████████████████████████████████████████████████████████████████▋                    | 10/11 [00:00<00:00, 41.12it/s]\u001b[A\n",
      "Validation DataLoader 0: 100%|███████████████████████████████████████████████████████████████████████████████████████████████████████████████████████████████████████████████████████████████████████████████████████████████████████████████████████████████| 11/11 [00:00<00:00, 41.42it/s]\u001b[A\n",
      "Epoch 15: 100%|██████████████████████████████████████████████████████████████████████████████████████████████████████████████████████████████████████████████████████████████████████████████████| 2769/2769 [02:49<00:00, 16.32it/s, v_num=0, train_loss_step=0.494, train_loss_epoch=0.378]\u001b[A\n",
      "Validation: |                                                                                                                                                                                                                                                          | 0/? [00:00<?, ?it/s]\u001b[A\n",
      "Validation:   0%|                                                                                                                                                                                                                                                     | 0/11 [00:00<?, ?it/s]\u001b[A\n",
      "Validation DataLoader 0:   0%|                                                                                                                                                                                                                                        | 0/11 [00:00<?, ?it/s]\u001b[A\n",
      "Validation DataLoader 0:   9%|████████████████████▎                                                                                                                                                                                                           | 1/11 [00:00<00:00, 41.18it/s]\u001b[A\n",
      "Validation DataLoader 0:  18%|████████████████████████████████████████▋                                                                                                                                                                                       | 2/11 [00:00<00:00, 40.24it/s]\u001b[A\n",
      "Validation DataLoader 0:  27%|█████████████████████████████████████████████████████████████                                                                                                                                                                   | 3/11 [00:00<00:00, 40.51it/s]\u001b[A\n",
      "Validation DataLoader 0:  36%|█████████████████████████████████████████████████████████████████████████████████▍                                                                                                                                              | 4/11 [00:00<00:00, 41.00it/s]\u001b[A\n",
      "Validation DataLoader 0:  45%|█████████████████████████████████████████████████████████████████████████████████████████████████████▊                                                                                                                          | 5/11 [00:00<00:00, 40.94it/s]\u001b[A\n",
      "Validation DataLoader 0:  55%|██████████████████████████████████████████████████████████████████████████████████████████████████████████████████████████▏                                                                                                     | 6/11 [00:00<00:00, 40.63it/s]\u001b[A\n",
      "Validation DataLoader 0:  64%|██████████████████████████████████████████████████████████████████████████████████████████████████████████████████████████████████████████████▌                                                                                 | 7/11 [00:00<00:00, 40.62it/s]\u001b[A\n",
      "Validation DataLoader 0:  73%|██████████████████████████████████████████████████████████████████████████████████████████████████████████████████████████████████████████████████████████████████▉                                                             | 8/11 [00:00<00:00, 40.49it/s]\u001b[A\n",
      "Validation DataLoader 0:  82%|███████████████████████████████████████████████████████████████████████████████████████████████████████████████████████████████████████████████████████████████████████████████████████▎                                        | 9/11 [00:00<00:00, 40.64it/s]\u001b[A\n",
      "Validation DataLoader 0:  91%|██████████████████████████████████████████████████████████████████████████████████████████████████████████████████████████████████████████████████████████████████████████████████████████████████████████▋                    | 10/11 [00:00<00:00, 40.65it/s]\u001b[A\n",
      "Validation DataLoader 0: 100%|███████████████████████████████████████████████████████████████████████████████████████████████████████████████████████████████████████████████████████████████████████████████████████████████████████████████████████████████| 11/11 [00:00<00:00, 41.07it/s]\u001b[A\n",
      "Epoch 16: 100%|██████████████████████████████████████████████████████████████████████████████████████████████████████████████████████████████████████████████████████████████████████████████████| 2769/2769 [02:49<00:00, 16.34it/s, v_num=0, train_loss_step=0.422, train_loss_epoch=0.367]\u001b[A\n",
      "Validation: |                                                                                                                                                                                                                                                          | 0/? [00:00<?, ?it/s]\u001b[A\n",
      "Validation:   0%|                                                                                                                                                                                                                                                     | 0/11 [00:00<?, ?it/s]\u001b[A\n",
      "Validation DataLoader 0:   0%|                                                                                                                                                                                                                                        | 0/11 [00:00<?, ?it/s]\u001b[A\n",
      "Validation DataLoader 0:   9%|████████████████████▎                                                                                                                                                                                                           | 1/11 [00:00<00:00, 41.78it/s]\u001b[A\n",
      "Validation DataLoader 0:  18%|████████████████████████████████████████▋                                                                                                                                                                                       | 2/11 [00:00<00:00, 41.73it/s]\u001b[A\n",
      "Validation DataLoader 0:  27%|█████████████████████████████████████████████████████████████                                                                                                                                                                   | 3/11 [00:00<00:00, 40.64it/s]\u001b[A\n",
      "Validation DataLoader 0:  36%|█████████████████████████████████████████████████████████████████████████████████▍                                                                                                                                              | 4/11 [00:00<00:00, 41.11it/s]\u001b[A\n",
      "Validation DataLoader 0:  45%|█████████████████████████████████████████████████████████████████████████████████████████████████████▊                                                                                                                          | 5/11 [00:00<00:00, 41.11it/s]\u001b[A\n",
      "Validation DataLoader 0:  55%|██████████████████████████████████████████████████████████████████████████████████████████████████████████████████████████▏                                                                                                     | 6/11 [00:00<00:00, 41.35it/s]\u001b[A\n",
      "Validation DataLoader 0:  64%|██████████████████████████████████████████████████████████████████████████████████████████████████████████████████████████████████████████████▌                                                                                 | 7/11 [00:00<00:00, 41.34it/s]\u001b[A\n",
      "Validation DataLoader 0:  73%|██████████████████████████████████████████████████████████████████████████████████████████████████████████████████████████████████████████████████████████████████▉                                                             | 8/11 [00:00<00:00, 41.52it/s]\u001b[A\n",
      "Validation DataLoader 0:  82%|███████████████████████████████████████████████████████████████████████████████████████████████████████████████████████████████████████████████████████████████████████████████████████▎                                        | 9/11 [00:00<00:00, 41.48it/s]\u001b[A\n",
      "Validation DataLoader 0:  91%|██████████████████████████████████████████████████████████████████████████████████████████████████████████████████████████████████████████████████████████████████████████████████████████████████████████▋                    | 10/11 [00:00<00:00, 41.32it/s]\u001b[A\n",
      "Validation DataLoader 0: 100%|███████████████████████████████████████████████████████████████████████████████████████████████████████████████████████████████████████████████████████████████████████████████████████████████████████████████████████████████| 11/11 [00:00<00:00, 41.62it/s]\u001b[A\n",
      "Epoch 17: 100%|██████████████████████████████████████████████████████████████████████████████████████████████████████████████████████████████████████████████████████████████████████████████████| 2769/2769 [02:49<00:00, 16.34it/s, v_num=0, train_loss_step=0.270, train_loss_epoch=0.356]\u001b[A\n",
      "Validation: |                                                                                                                                                                                                                                                          | 0/? [00:00<?, ?it/s]\u001b[A\n",
      "Validation:   0%|                                                                                                                                                                                                                                                     | 0/11 [00:00<?, ?it/s]\u001b[A\n",
      "Validation DataLoader 0:   0%|                                                                                                                                                                                                                                        | 0/11 [00:00<?, ?it/s]\u001b[A\n",
      "Validation DataLoader 0:   9%|████████████████████▎                                                                                                                                                                                                           | 1/11 [00:00<00:00, 41.85it/s]\u001b[A\n",
      "Validation DataLoader 0:  18%|████████████████████████████████████████▋                                                                                                                                                                                       | 2/11 [00:00<00:00, 40.56it/s]\u001b[A\n",
      "Validation DataLoader 0:  27%|█████████████████████████████████████████████████████████████                                                                                                                                                                   | 3/11 [00:00<00:00, 40.11it/s]\u001b[A\n",
      "Validation DataLoader 0:  36%|█████████████████████████████████████████████████████████████████████████████████▍                                                                                                                                              | 4/11 [00:00<00:00, 40.72it/s]\u001b[A\n",
      "Validation DataLoader 0:  45%|█████████████████████████████████████████████████████████████████████████████████████████████████████▊                                                                                                                          | 5/11 [00:00<00:00, 41.08it/s]\u001b[A\n",
      "Validation DataLoader 0:  55%|██████████████████████████████████████████████████████████████████████████████████████████████████████████████████████████▏                                                                                                     | 6/11 [00:00<00:00, 41.26it/s]\u001b[A\n",
      "Validation DataLoader 0:  64%|██████████████████████████████████████████████████████████████████████████████████████████████████████████████████████████████████████████████▌                                                                                 | 7/11 [00:00<00:00, 40.61it/s]\u001b[A\n",
      "Validation DataLoader 0:  73%|██████████████████████████████████████████████████████████████████████████████████████████████████████████████████████████████████████████████████████████████████▉                                                             | 8/11 [00:00<00:00, 40.81it/s]\u001b[A\n",
      "Validation DataLoader 0:  82%|███████████████████████████████████████████████████████████████████████████████████████████████████████████████████████████████████████████████████████████████████████████████████████▎                                        | 9/11 [00:00<00:00, 40.92it/s]\u001b[A\n",
      "Validation DataLoader 0:  91%|██████████████████████████████████████████████████████████████████████████████████████████████████████████████████████████████████████████████████████████████████████████████████████████████████████████▋                    | 10/11 [00:00<00:00, 41.11it/s]\u001b[A\n",
      "Validation DataLoader 0: 100%|███████████████████████████████████████████████████████████████████████████████████████████████████████████████████████████████████████████████████████████████████████████████████████████████████████████████████████████████| 11/11 [00:00<00:00, 41.44it/s]\u001b[A\n",
      "Epoch 18: 100%|██████████████████████████████████████████████████████████████████████████████████████████████████████████████████████████████████████████████████████████████████████████████████| 2769/2769 [03:12<00:00, 14.37it/s, v_num=0, train_loss_step=0.245, train_loss_epoch=0.345]\u001b[A\n",
      "Validation: |                                                                                                                                                                                                                                                          | 0/? [00:00<?, ?it/s]\u001b[A\n",
      "Validation:   0%|                                                                                                                                                                                                                                                     | 0/11 [00:00<?, ?it/s]\u001b[A\n",
      "Validation DataLoader 0:   0%|                                                                                                                                                                                                                                        | 0/11 [00:00<?, ?it/s]\u001b[A\n",
      "Validation DataLoader 0:   9%|████████████████████▎                                                                                                                                                                                                           | 1/11 [00:00<00:00, 40.12it/s]\u001b[A\n",
      "Validation DataLoader 0:  18%|████████████████████████████████████████▋                                                                                                                                                                                       | 2/11 [00:00<00:00, 38.89it/s]\u001b[A\n",
      "Validation DataLoader 0:  27%|█████████████████████████████████████████████████████████████                                                                                                                                                                   | 3/11 [00:00<00:00, 38.30it/s]\u001b[A\n",
      "Validation DataLoader 0:  36%|█████████████████████████████████████████████████████████████████████████████████▍                                                                                                                                              | 4/11 [00:00<00:00, 39.24it/s]\u001b[A\n",
      "Validation DataLoader 0:  45%|█████████████████████████████████████████████████████████████████████████████████████████████████████▊                                                                                                                          | 5/11 [00:00<00:00, 39.81it/s]\u001b[A\n",
      "Validation DataLoader 0:  55%|██████████████████████████████████████████████████████████████████████████████████████████████████████████████████████████▏                                                                                                     | 6/11 [00:00<00:00, 40.23it/s]\u001b[A\n",
      "Validation DataLoader 0:  64%|██████████████████████████████████████████████████████████████████████████████████████████████████████████████████████████████████████████████▌                                                                                 | 7/11 [00:00<00:00, 40.54it/s]\u001b[A\n",
      "Validation DataLoader 0:  73%|██████████████████████████████████████████████████████████████████████████████████████████████████████████████████████████████████████████████████████████████████▉                                                             | 8/11 [00:00<00:00, 40.75it/s]\u001b[A\n",
      "Validation DataLoader 0:  82%|███████████████████████████████████████████████████████████████████████████████████████████████████████████████████████████████████████████████████████████████████████████████████████▎                                        | 9/11 [00:00<00:00, 40.76it/s]\u001b[A\n",
      "Validation DataLoader 0:  91%|██████████████████████████████████████████████████████████████████████████████████████████████████████████████████████████████████████████████████████████████████████████████████████████████████████████▋                    | 10/11 [00:00<00:00, 40.67it/s]\u001b[A\n",
      "Validation DataLoader 0: 100%|███████████████████████████████████████████████████████████████████████████████████████████████████████████████████████████████████████████████████████████████████████████████████████████████████████████████████████████████| 11/11 [00:00<00:00, 41.06it/s]\u001b[A\n",
      "Epoch 19: 100%|██████████████████████████████████████████████████████████████████████████████████████████████████████████████████████████████████████████████████████████████████████████████████| 2769/2769 [02:49<00:00, 16.32it/s, v_num=0, train_loss_step=0.546, train_loss_epoch=0.335]\u001b[A\n",
      "Validation: |                                                                                                                                                                                                                                                          | 0/? [00:00<?, ?it/s]\u001b[A\n",
      "Validation:   0%|                                                                                                                                                                                                                                                     | 0/11 [00:00<?, ?it/s]\u001b[A\n",
      "Validation DataLoader 0:   0%|                                                                                                                                                                                                                                        | 0/11 [00:00<?, ?it/s]\u001b[A\n",
      "Validation DataLoader 0:   9%|████████████████████▎                                                                                                                                                                                                           | 1/11 [00:00<00:00, 41.94it/s]\u001b[A\n",
      "Validation DataLoader 0:  18%|████████████████████████████████████████▋                                                                                                                                                                                       | 2/11 [00:00<00:00, 40.39it/s]\u001b[A\n",
      "Validation DataLoader 0:  27%|█████████████████████████████████████████████████████████████                                                                                                                                                                   | 3/11 [00:00<00:00, 39.01it/s]\u001b[A\n",
      "Validation DataLoader 0:  36%|█████████████████████████████████████████████████████████████████████████████████▍                                                                                                                                              | 4/11 [00:00<00:00, 39.83it/s]\u001b[A\n",
      "Validation DataLoader 0:  45%|█████████████████████████████████████████████████████████████████████████████████████████████████████▊                                                                                                                          | 5/11 [00:00<00:00, 39.84it/s]\u001b[A\n",
      "Validation DataLoader 0:  55%|██████████████████████████████████████████████████████████████████████████████████████████████████████████████████████████▏                                                                                                     | 6/11 [00:00<00:00, 40.25it/s]\u001b[A\n",
      "Validation DataLoader 0:  64%|██████████████████████████████████████████████████████████████████████████████████████████████████████████████████████████████████████████████▌                                                                                 | 7/11 [00:00<00:00, 40.61it/s]\u001b[A\n",
      "Validation DataLoader 0:  73%|██████████████████████████████████████████████████████████████████████████████████████████████████████████████████████████████████████████████████████████████████▉                                                             | 8/11 [00:00<00:00, 40.78it/s]\u001b[A\n",
      "Validation DataLoader 0:  82%|███████████████████████████████████████████████████████████████████████████████████████████████████████████████████████████████████████████████████████████████████████████████████████▎                                        | 9/11 [00:00<00:00, 40.88it/s]\u001b[A\n",
      "Validation DataLoader 0:  91%|██████████████████████████████████████████████████████████████████████████████████████████████████████████████████████████████████████████████████████████████████████████████████████████████████████████▋                    | 10/11 [00:00<00:00, 41.05it/s]\u001b[A\n",
      "Validation DataLoader 0: 100%|███████████████████████████████████████████████████████████████████████████████████████████████████████████████████████████████████████████████████████████████████████████████████████████████████████████████████████████████| 11/11 [00:00<00:00, 41.42it/s]\u001b[A\n",
      "Epoch 20: 100%|██████████████████████████████████████████████████████████████████████████████████████████████████████████████████████████████████████████████████████████████████████████████████| 2769/2769 [02:49<00:00, 16.34it/s, v_num=0, train_loss_step=0.486, train_loss_epoch=0.325]\u001b[A\n",
      "Validation: |                                                                                                                                                                                                                                                          | 0/? [00:00<?, ?it/s]\u001b[A\n",
      "Validation:   0%|                                                                                                                                                                                                                                                     | 0/11 [00:00<?, ?it/s]\u001b[A\n",
      "Validation DataLoader 0:   0%|                                                                                                                                                                                                                                        | 0/11 [00:00<?, ?it/s]\u001b[A\n",
      "Validation DataLoader 0:   9%|████████████████████▎                                                                                                                                                                                                           | 1/11 [00:00<00:00, 42.09it/s]\u001b[A\n",
      "Validation DataLoader 0:  18%|████████████████████████████████████████▋                                                                                                                                                                                       | 2/11 [00:00<00:00, 40.51it/s]\u001b[A\n",
      "Validation DataLoader 0:  27%|█████████████████████████████████████████████████████████████                                                                                                                                                                   | 3/11 [00:00<00:00, 41.23it/s]\u001b[A\n",
      "Validation DataLoader 0:  36%|█████████████████████████████████████████████████████████████████████████████████▍                                                                                                                                              | 4/11 [00:00<00:00, 41.60it/s]\u001b[A\n",
      "Validation DataLoader 0:  45%|█████████████████████████████████████████████████████████████████████████████████████████████████████▊                                                                                                                          | 5/11 [00:00<00:00, 41.85it/s]\u001b[A\n",
      "Validation DataLoader 0:  55%|██████████████████████████████████████████████████████████████████████████████████████████████████████████████████████████▏                                                                                                     | 6/11 [00:00<00:00, 41.98it/s]\u001b[A\n",
      "Validation DataLoader 0:  64%|██████████████████████████████████████████████████████████████████████████████████████████████████████████████████████████████████████████████▌                                                                                 | 7/11 [00:00<00:00, 42.06it/s]\u001b[A\n",
      "Validation DataLoader 0:  73%|██████████████████████████████████████████████████████████████████████████████████████████████████████████████████████████████████████████████████████████████████▉                                                             | 8/11 [00:00<00:00, 41.49it/s]\u001b[A\n",
      "Validation DataLoader 0:  82%|███████████████████████████████████████████████████████████████████████████████████████████████████████████████████████████████████████████████████████████████████████████████████████▎                                        | 9/11 [00:00<00:00, 41.55it/s]\u001b[A\n",
      "Validation DataLoader 0:  91%|██████████████████████████████████████████████████████████████████████████████████████████████████████████████████████████████████████████████████████████████████████████████████████████████████████████▋                    | 10/11 [00:00<00:00, 41.58it/s]\u001b[A\n",
      "Validation DataLoader 0: 100%|███████████████████████████████████████████████████████████████████████████████████████████████████████████████████████████████████████████████████████████████████████████████████████████████████████████████████████████████| 11/11 [00:00<00:00, 41.67it/s]\u001b[A\n",
      "Epoch 21: 100%|██████████████████████████████████████████████████████████████████████████████████████████████████████████████████████████████████████████████████████████████████████████████████| 2769/2769 [02:50<00:00, 16.28it/s, v_num=0, train_loss_step=0.181, train_loss_epoch=0.311]\u001b[A\n",
      "Validation: |                                                                                                                                                                                                                                                          | 0/? [00:00<?, ?it/s]\u001b[A\n",
      "Validation:   0%|                                                                                                                                                                                                                                                     | 0/11 [00:00<?, ?it/s]\u001b[A\n",
      "Validation DataLoader 0:   0%|                                                                                                                                                                                                                                        | 0/11 [00:00<?, ?it/s]\u001b[A\n",
      "Validation DataLoader 0:   9%|████████████████████▎                                                                                                                                                                                                           | 1/11 [00:00<00:00, 42.05it/s]\u001b[A\n",
      "Validation DataLoader 0:  18%|████████████████████████████████████████▋                                                                                                                                                                                       | 2/11 [00:00<00:00, 42.02it/s]\u001b[A\n",
      "Validation DataLoader 0:  27%|█████████████████████████████████████████████████████████████                                                                                                                                                                   | 3/11 [00:00<00:00, 41.59it/s]\u001b[A\n",
      "Validation DataLoader 0:  36%|█████████████████████████████████████████████████████████████████████████████████▍                                                                                                                                              | 4/11 [00:00<00:00, 40.09it/s]\u001b[A\n",
      "Validation DataLoader 0:  45%|█████████████████████████████████████████████████████████████████████████████████████████████████████▊                                                                                                                          | 5/11 [00:00<00:00, 40.51it/s]\u001b[A\n",
      "Validation DataLoader 0:  55%|██████████████████████████████████████████████████████████████████████████████████████████████████████████████████████████▏                                                                                                     | 6/11 [00:00<00:00, 40.86it/s]\u001b[A\n",
      "Validation DataLoader 0:  64%|██████████████████████████████████████████████████████████████████████████████████████████████████████████████████████████████████████████████▌                                                                                 | 7/11 [00:00<00:00, 41.09it/s]\u001b[A\n",
      "Validation DataLoader 0:  73%|██████████████████████████████████████████████████████████████████████████████████████████████████████████████████████████████████████████████████████████████████▉                                                             | 8/11 [00:00<00:00, 41.25it/s]\u001b[A\n",
      "Validation DataLoader 0:  82%|███████████████████████████████████████████████████████████████████████████████████████████████████████████████████████████████████████████████████████████████████████████████████████▎                                        | 9/11 [00:00<00:00, 41.35it/s]\u001b[A\n",
      "Validation DataLoader 0:  91%|██████████████████████████████████████████████████████████████████████████████████████████████████████████████████████████████████████████████████████████████████████████████████████████████████████████▋                    | 10/11 [00:00<00:00, 41.39it/s]\u001b[A\n",
      "Validation DataLoader 0: 100%|███████████████████████████████████████████████████████████████████████████████████████████████████████████████████████████████████████████████████████████████████████████████████████████████████████████████████████████████| 11/11 [00:00<00:00, 41.73it/s]\u001b[A\n",
      "Epoch 22: 100%|██████████████████████████████████████████████████████████████████████████████████████████████████████████████████████████████████████████████████████████████████████████████████| 2769/2769 [02:49<00:00, 16.32it/s, v_num=0, train_loss_step=0.426, train_loss_epoch=0.302]\u001b[A\n",
      "Validation: |                                                                                                                                                                                                                                                          | 0/? [00:00<?, ?it/s]\u001b[A\n",
      "Validation:   0%|                                                                                                                                                                                                                                                     | 0/11 [00:00<?, ?it/s]\u001b[A\n",
      "Validation DataLoader 0:   0%|                                                                                                                                                                                                                                        | 0/11 [00:00<?, ?it/s]\u001b[A\n",
      "Validation DataLoader 0:   9%|████████████████████▎                                                                                                                                                                                                           | 1/11 [00:00<00:00, 42.15it/s]\u001b[A\n",
      "Validation DataLoader 0:  18%|████████████████████████████████████████▋                                                                                                                                                                                       | 2/11 [00:00<00:00, 40.20it/s]\u001b[A\n",
      "Validation DataLoader 0:  27%|█████████████████████████████████████████████████████████████                                                                                                                                                                   | 3/11 [00:00<00:00, 40.98it/s]\u001b[A\n",
      "Validation DataLoader 0:  36%|█████████████████████████████████████████████████████████████████████████████████▍                                                                                                                                              | 4/11 [00:00<00:00, 41.40it/s]\u001b[A\n",
      "Validation DataLoader 0:  45%|█████████████████████████████████████████████████████████████████████████████████████████████████████▊                                                                                                                          | 5/11 [00:00<00:00, 40.36it/s]\u001b[A\n",
      "Validation DataLoader 0:  55%|██████████████████████████████████████████████████████████████████████████████████████████████████████████████████████████▏                                                                                                     | 6/11 [00:00<00:00, 40.69it/s]\u001b[A\n",
      "Validation DataLoader 0:  64%|██████████████████████████████████████████████████████████████████████████████████████████████████████████████████████████████████████████████▌                                                                                 | 7/11 [00:00<00:00, 40.92it/s]\u001b[A\n",
      "Validation DataLoader 0:  73%|██████████████████████████████████████████████████████████████████████████████████████████████████████████████████████████████████████████████████████████████████▉                                                             | 8/11 [00:00<00:00, 41.12it/s]\u001b[A\n",
      "Validation DataLoader 0:  82%|███████████████████████████████████████████████████████████████████████████████████████████████████████████████████████████████████████████████████████████████████████████████████████▎                                        | 9/11 [00:00<00:00, 41.14it/s]\u001b[A\n",
      "Validation DataLoader 0:  91%|██████████████████████████████████████████████████████████████████████████████████████████████████████████████████████████████████████████████████████████████████████████████████████████████████████████▋                    | 10/11 [00:00<00:00, 41.28it/s]\u001b[A\n",
      "Validation DataLoader 0: 100%|███████████████████████████████████████████████████████████████████████████████████████████████████████████████████████████████████████████████████████████████████████████████████████████████████████████████████████████████| 11/11 [00:00<00:00, 41.66it/s]\u001b[A\n",
      "Epoch 23: 100%|██████████████████████████████████████████████████████████████████████████████████████████████████████████████████████████████████████████████████████████████████████████████████| 2769/2769 [02:49<00:00, 16.33it/s, v_num=0, train_loss_step=0.296, train_loss_epoch=0.292]\u001b[A\n",
      "Validation: |                                                                                                                                                                                                                                                          | 0/? [00:00<?, ?it/s]\u001b[A\n",
      "Validation:   0%|                                                                                                                                                                                                                                                     | 0/11 [00:00<?, ?it/s]\u001b[A\n",
      "Validation DataLoader 0:   0%|                                                                                                                                                                                                                                        | 0/11 [00:00<?, ?it/s]\u001b[A\n",
      "Validation DataLoader 0:   9%|████████████████████▎                                                                                                                                                                                                           | 1/11 [00:00<00:00, 42.19it/s]\u001b[A\n",
      "Validation DataLoader 0:  18%|████████████████████████████████████████▋                                                                                                                                                                                       | 2/11 [00:00<00:00, 41.10it/s]\u001b[A\n",
      "Validation DataLoader 0:  27%|█████████████████████████████████████████████████████████████                                                                                                                                                                   | 3/11 [00:00<00:00, 41.11it/s]\u001b[A\n",
      "Validation DataLoader 0:  36%|█████████████████████████████████████████████████████████████████████████████████▍                                                                                                                                              | 4/11 [00:00<00:00, 41.47it/s]\u001b[A\n",
      "Validation DataLoader 0:  45%|█████████████████████████████████████████████████████████████████████████████████████████████████████▊                                                                                                                          | 5/11 [00:00<00:00, 41.50it/s]\u001b[A\n",
      "Validation DataLoader 0:  55%|██████████████████████████████████████████████████████████████████████████████████████████████████████████████████████████▏                                                                                                     | 6/11 [00:00<00:00, 41.48it/s]\u001b[A\n",
      "Validation DataLoader 0:  64%|██████████████████████████████████████████████████████████████████████████████████████████████████████████████████████████████████████████████▌                                                                                 | 7/11 [00:00<00:00, 40.81it/s]\u001b[A\n",
      "Validation DataLoader 0:  73%|██████████████████████████████████████████████████████████████████████████████████████████████████████████████████████████████████████████████████████████████████▉                                                             | 8/11 [00:00<00:00, 40.98it/s]\u001b[A\n",
      "Validation DataLoader 0:  82%|███████████████████████████████████████████████████████████████████████████████████████████████████████████████████████████████████████████████████████████████████████████████████████▎                                        | 9/11 [00:00<00:00, 41.12it/s]\u001b[A\n",
      "Validation DataLoader 0:  91%|██████████████████████████████████████████████████████████████████████████████████████████████████████████████████████████████████████████████████████████████████████████████████████████████████████████▋                    | 10/11 [00:00<00:00, 41.29it/s]\u001b[A\n",
      "Validation DataLoader 0: 100%|███████████████████████████████████████████████████████████████████████████████████████████████████████████████████████████████████████████████████████████████████████████████████████████████████████████████████████████████| 11/11 [00:00<00:00, 41.59it/s]\u001b[A\n",
      "Epoch 24: 100%|██████████████████████████████████████████████████████████████████████████████████████████████████████████████████████████████████████████████████████████████████████████████████| 2769/2769 [02:49<00:00, 16.31it/s, v_num=0, train_loss_step=0.261, train_loss_epoch=0.282]\u001b[A\n",
      "Validation: |                                                                                                                                                                                                                                                          | 0/? [00:00<?, ?it/s]\u001b[A\n",
      "Validation:   0%|                                                                                                                                                                                                                                                     | 0/11 [00:00<?, ?it/s]\u001b[A\n",
      "Validation DataLoader 0:   0%|                                                                                                                                                                                                                                        | 0/11 [00:00<?, ?it/s]\u001b[A\n",
      "Validation DataLoader 0:   9%|████████████████████▎                                                                                                                                                                                                           | 1/11 [00:00<00:00, 41.77it/s]\u001b[A\n",
      "Validation DataLoader 0:  18%|████████████████████████████████████████▋                                                                                                                                                                                       | 2/11 [00:00<00:00, 41.89it/s]\u001b[A\n",
      "Validation DataLoader 0:  27%|█████████████████████████████████████████████████████████████                                                                                                                                                                   | 3/11 [00:00<00:00, 41.23it/s]\u001b[A\n",
      "Validation DataLoader 0:  36%|█████████████████████████████████████████████████████████████████████████████████▍                                                                                                                                              | 4/11 [00:00<00:00, 41.46it/s]\u001b[A\n",
      "Validation DataLoader 0:  45%|█████████████████████████████████████████████████████████████████████████████████████████████████████▊                                                                                                                          | 5/11 [00:00<00:00, 41.30it/s]\u001b[A\n",
      "Validation DataLoader 0:  55%|██████████████████████████████████████████████████████████████████████████████████████████████████████████████████████████▏                                                                                                     | 6/11 [00:00<00:00, 41.56it/s]\u001b[A\n",
      "Validation DataLoader 0:  64%|██████████████████████████████████████████████████████████████████████████████████████████████████████████████████████████████████████████████▌                                                                                 | 7/11 [00:00<00:00, 41.66it/s]\u001b[A\n",
      "Validation DataLoader 0:  73%|██████████████████████████████████████████████████████████████████████████████████████████████████████████████████████████████████████████████████████████████████▉                                                             | 8/11 [00:00<00:00, 41.74it/s]\u001b[A\n",
      "Validation DataLoader 0:  82%|███████████████████████████████████████████████████████████████████████████████████████████████████████████████████████████████████████████████████████████████████████████████████████▎                                        | 9/11 [00:00<00:00, 41.65it/s]\u001b[A\n",
      "Validation DataLoader 0:  91%|██████████████████████████████████████████████████████████████████████████████████████████████████████████████████████████████████████████████████████████████████████████████████████████████████████████▋                    | 10/11 [00:00<00:00, 41.46it/s]\u001b[A\n",
      "Validation DataLoader 0: 100%|███████████████████████████████████████████████████████████████████████████████████████████████████████████████████████████████████████████████████████████████████████████████████████████████████████████████████████████████| 11/11 [00:00<00:00, 41.75it/s]\u001b[A\n",
      "Epoch 25: 100%|██████████████████████████████████████████████████████████████████████████████████████████████████████████████████████████████████████████████████████████████████████████████████| 2769/2769 [02:49<00:00, 16.29it/s, v_num=0, train_loss_step=0.251, train_loss_epoch=0.273]\u001b[A\n",
      "Validation: |                                                                                                                                                                                                                                                          | 0/? [00:00<?, ?it/s]\u001b[A\n",
      "Validation:   0%|                                                                                                                                                                                                                                                     | 0/11 [00:00<?, ?it/s]\u001b[A\n",
      "Validation DataLoader 0:   0%|                                                                                                                                                                                                                                        | 0/11 [00:00<?, ?it/s]\u001b[A\n",
      "Validation DataLoader 0:   9%|████████████████████▎                                                                                                                                                                                                           | 1/11 [00:00<00:00, 41.99it/s]\u001b[A\n",
      "Validation DataLoader 0:  18%|████████████████████████████████████████▋                                                                                                                                                                                       | 2/11 [00:00<00:00, 41.42it/s]\u001b[A\n",
      "Validation DataLoader 0:  27%|█████████████████████████████████████████████████████████████                                                                                                                                                                   | 3/11 [00:00<00:00, 39.69it/s]\u001b[A\n",
      "Validation DataLoader 0:  36%|█████████████████████████████████████████████████████████████████████████████████▍                                                                                                                                              | 4/11 [00:00<00:00, 40.24it/s]\u001b[A\n",
      "Validation DataLoader 0:  45%|█████████████████████████████████████████████████████████████████████████████████████████████████████▊                                                                                                                          | 5/11 [00:00<00:00, 40.63it/s]\u001b[A\n",
      "Validation DataLoader 0:  55%|██████████████████████████████████████████████████████████████████████████████████████████████████████████████████████████▏                                                                                                     | 6/11 [00:00<00:00, 39.72it/s]\u001b[A\n",
      "Validation DataLoader 0:  64%|██████████████████████████████████████████████████████████████████████████████████████████████████████████████████████████████████████████████▌                                                                                 | 7/11 [00:00<00:00, 39.53it/s]\u001b[A\n",
      "Validation DataLoader 0:  73%|██████████████████████████████████████████████████████████████████████████████████████████████████████████████████████████████████████████████████████████████████▉                                                             | 8/11 [00:00<00:00, 39.66it/s]\u001b[A\n",
      "Validation DataLoader 0:  82%|███████████████████████████████████████████████████████████████████████████████████████████████████████████████████████████████████████████████████████████████████████████████████████▎                                        | 9/11 [00:00<00:00, 39.78it/s]\u001b[A\n",
      "Validation DataLoader 0:  91%|██████████████████████████████████████████████████████████████████████████████████████████████████████████████████████████████████████████████████████████████████████████████████████████████████████████▋                    | 10/11 [00:00<00:00, 40.02it/s]\u001b[A\n",
      "Validation DataLoader 0: 100%|███████████████████████████████████████████████████████████████████████████████████████████████████████████████████████████████████████████████████████████████████████████████████████████████████████████████████████████████| 11/11 [00:00<00:00, 40.44it/s]\u001b[A\n",
      "Epoch 26: 100%|██████████████████████████████████████████████████████████████████████████████████████████████████████████████████████████████████████████████████████████████████████████████████| 2769/2769 [02:51<00:00, 16.18it/s, v_num=0, train_loss_step=0.317, train_loss_epoch=0.264]\u001b[A\n",
      "Validation: |                                                                                                                                                                                                                                                          | 0/? [00:00<?, ?it/s]\u001b[A\n",
      "Validation:   0%|                                                                                                                                                                                                                                                     | 0/11 [00:00<?, ?it/s]\u001b[A\n",
      "Validation DataLoader 0:   0%|                                                                                                                                                                                                                                        | 0/11 [00:00<?, ?it/s]\u001b[A\n",
      "Validation DataLoader 0:   9%|████████████████████▎                                                                                                                                                                                                           | 1/11 [00:00<00:00, 41.72it/s]\u001b[A\n",
      "Validation DataLoader 0:  18%|████████████████████████████████████████▋                                                                                                                                                                                       | 2/11 [00:00<00:00, 40.18it/s]\u001b[A\n",
      "Validation DataLoader 0:  27%|█████████████████████████████████████████████████████████████                                                                                                                                                                   | 3/11 [00:00<00:00, 40.79it/s]\u001b[A\n",
      "Validation DataLoader 0:  36%|█████████████████████████████████████████████████████████████████████████████████▍                                                                                                                                              | 4/11 [00:00<00:00, 40.59it/s]\u001b[A\n",
      "Validation DataLoader 0:  45%|█████████████████████████████████████████████████████████████████████████████████████████████████████▊                                                                                                                          | 5/11 [00:00<00:00, 40.93it/s]\u001b[A\n",
      "Validation DataLoader 0:  55%|██████████████████████████████████████████████████████████████████████████████████████████████████████████████████████████▏                                                                                                     | 6/11 [00:00<00:00, 41.23it/s]\u001b[A\n",
      "Validation DataLoader 0:  64%|██████████████████████████████████████████████████████████████████████████████████████████████████████████████████████████████████████████████▌                                                                                 | 7/11 [00:00<00:00, 41.13it/s]\u001b[A\n",
      "Validation DataLoader 0:  73%|██████████████████████████████████████████████████████████████████████████████████████████████████████████████████████████████████████████████████████████████████▉                                                             | 8/11 [00:00<00:00, 41.12it/s]\u001b[A\n",
      "Validation DataLoader 0:  82%|███████████████████████████████████████████████████████████████████████████████████████████████████████████████████████████████████████████████████████████████████████████████████████▎                                        | 9/11 [00:00<00:00, 40.98it/s]\u001b[A\n",
      "Validation DataLoader 0:  91%|██████████████████████████████████████████████████████████████████████████████████████████████████████████████████████████████████████████████████████████████████████████████████████████████████████████▋                    | 10/11 [00:00<00:00, 40.95it/s]\u001b[A\n",
      "Validation DataLoader 0: 100%|███████████████████████████████████████████████████████████████████████████████████████████████████████████████████████████████████████████████████████████████████████████████████████████████████████████████████████████████| 11/11 [00:00<00:00, 41.29it/s]\u001b[A\n",
      "Epoch 27: 100%|██████████████████████████████████████████████████████████████████████████████████████████████████████████████████████████████████████████████████████████████████████████████████| 2769/2769 [02:49<00:00, 16.30it/s, v_num=0, train_loss_step=0.215, train_loss_epoch=0.255]\u001b[A\n",
      "Validation: |                                                                                                                                                                                                                                                          | 0/? [00:00<?, ?it/s]\u001b[A\n",
      "Validation:   0%|                                                                                                                                                                                                                                                     | 0/11 [00:00<?, ?it/s]\u001b[A\n",
      "Validation DataLoader 0:   0%|                                                                                                                                                                                                                                        | 0/11 [00:00<?, ?it/s]\u001b[A\n",
      "Validation DataLoader 0:   9%|████████████████████▎                                                                                                                                                                                                           | 1/11 [00:00<00:00, 41.27it/s]\u001b[A\n",
      "Validation DataLoader 0:  18%|████████████████████████████████████████▋                                                                                                                                                                                       | 2/11 [00:00<00:00, 40.68it/s]\u001b[A\n",
      "Validation DataLoader 0:  27%|█████████████████████████████████████████████████████████████                                                                                                                                                                   | 3/11 [00:00<00:00, 40.54it/s]\u001b[A\n",
      "Validation DataLoader 0:  36%|█████████████████████████████████████████████████████████████████████████████████▍                                                                                                                                              | 4/11 [00:00<00:00, 40.33it/s]\u001b[A\n",
      "Validation DataLoader 0:  45%|█████████████████████████████████████████████████████████████████████████████████████████████████████▊                                                                                                                          | 5/11 [00:00<00:00, 40.66it/s]\u001b[A\n",
      "Validation DataLoader 0:  55%|██████████████████████████████████████████████████████████████████████████████████████████████████████████████████████████▏                                                                                                     | 6/11 [00:00<00:00, 40.66it/s]\u001b[A\n",
      "Validation DataLoader 0:  64%|██████████████████████████████████████████████████████████████████████████████████████████████████████████████████████████████████████████████▌                                                                                 | 7/11 [00:00<00:00, 40.50it/s]\u001b[A\n",
      "Validation DataLoader 0:  73%|██████████████████████████████████████████████████████████████████████████████████████████████████████████████████████████████████████████████████████████████████▉                                                             | 8/11 [00:00<00:00, 40.41it/s]\u001b[A\n",
      "Validation DataLoader 0:  82%|███████████████████████████████████████████████████████████████████████████████████████████████████████████████████████████████████████████████████████████████████████████████████████▎                                        | 9/11 [00:00<00:00, 40.44it/s]\u001b[A\n",
      "Validation DataLoader 0:  91%|██████████████████████████████████████████████████████████████████████████████████████████████████████████████████████████████████████████████████████████████████████████████████████████████████████████▋                    | 10/11 [00:00<00:00, 40.60it/s]\u001b[A\n",
      "Validation DataLoader 0: 100%|███████████████████████████████████████████████████████████████████████████████████████████████████████████████████████████████████████████████████████████████████████████████████████████████████████████████████████████████| 11/11 [00:00<00:00, 40.93it/s]\u001b[A\n",
      "Epoch 28: 100%|██████████████████████████████████████████████████████████████████████████████████████████████████████████████████████████████████████████████████████████████████████████████████| 2769/2769 [02:50<00:00, 16.29it/s, v_num=0, train_loss_step=0.257, train_loss_epoch=0.245]\u001b[A\n",
      "Validation: |                                                                                                                                                                                                                                                          | 0/? [00:00<?, ?it/s]\u001b[A\n",
      "Validation:   0%|                                                                                                                                                                                                                                                     | 0/11 [00:00<?, ?it/s]\u001b[A\n",
      "Validation DataLoader 0:   0%|                                                                                                                                                                                                                                        | 0/11 [00:00<?, ?it/s]\u001b[A\n",
      "Validation DataLoader 0:   9%|████████████████████▎                                                                                                                                                                                                           | 1/11 [00:00<00:00, 41.59it/s]\u001b[A\n",
      "Validation DataLoader 0:  18%|████████████████████████████████████████▋                                                                                                                                                                                       | 2/11 [00:00<00:00, 40.28it/s]\u001b[A\n",
      "Validation DataLoader 0:  27%|█████████████████████████████████████████████████████████████                                                                                                                                                                   | 3/11 [00:00<00:00, 39.37it/s]\u001b[A\n",
      "Validation DataLoader 0:  36%|█████████████████████████████████████████████████████████████████████████████████▍                                                                                                                                              | 4/11 [00:00<00:00, 40.07it/s]\u001b[A\n",
      "Validation DataLoader 0:  45%|█████████████████████████████████████████████████████████████████████████████████████████████████████▊                                                                                                                          | 5/11 [00:00<00:00, 40.25it/s]\u001b[A\n",
      "Validation DataLoader 0:  55%|██████████████████████████████████████████████████████████████████████████████████████████████████████████████████████████▏                                                                                                     | 6/11 [00:00<00:00, 40.58it/s]\u001b[A\n",
      "Validation DataLoader 0:  64%|██████████████████████████████████████████████████████████████████████████████████████████████████████████████████████████████████████████████▌                                                                                 | 7/11 [00:00<00:00, 40.81it/s]\u001b[A\n",
      "Validation DataLoader 0:  73%|██████████████████████████████████████████████████████████████████████████████████████████████████████████████████████████████████████████████████████████████████▉                                                             | 8/11 [00:00<00:00, 41.03it/s]\u001b[A\n",
      "Validation DataLoader 0:  82%|███████████████████████████████████████████████████████████████████████████████████████████████████████████████████████████████████████████████████████████████████████████████████████▎                                        | 9/11 [00:00<00:00, 40.75it/s]\u001b[A\n",
      "Validation DataLoader 0:  91%|██████████████████████████████████████████████████████████████████████████████████████████████████████████████████████████████████████████████████████████████████████████████████████████████████████████▋                    | 10/11 [00:00<00:00, 40.88it/s]\u001b[A\n",
      "Validation DataLoader 0: 100%|███████████████████████████████████████████████████████████████████████████████████████████████████████████████████████████████████████████████████████████████████████████████████████████████████████████████████████████████| 11/11 [00:00<00:00, 41.24it/s]\u001b[A\n",
      "Epoch 29: 100%|██████████████████████████████████████████████████████████████████████████████████████████████████████████████████████████████████████████████████████████████████████████████████| 2769/2769 [02:49<00:00, 16.31it/s, v_num=0, train_loss_step=0.225, train_loss_epoch=0.236]\u001b[A\n",
      "Validation: |                                                                                                                                                                                                                                                          | 0/? [00:00<?, ?it/s]\u001b[A\n",
      "Validation:   0%|                                                                                                                                                                                                                                                     | 0/11 [00:00<?, ?it/s]\u001b[A\n",
      "Validation DataLoader 0:   0%|                                                                                                                                                                                                                                        | 0/11 [00:00<?, ?it/s]\u001b[A\n",
      "Validation DataLoader 0:   9%|████████████████████▎                                                                                                                                                                                                           | 1/11 [00:00<00:00, 41.69it/s]\u001b[A\n",
      "Validation DataLoader 0:  18%|████████████████████████████████████████▋                                                                                                                                                                                       | 2/11 [00:00<00:00, 41.07it/s]\u001b[A\n",
      "Validation DataLoader 0:  27%|█████████████████████████████████████████████████████████████                                                                                                                                                                   | 3/11 [00:00<00:00, 39.37it/s]\u001b[A\n",
      "Validation DataLoader 0:  36%|█████████████████████████████████████████████████████████████████████████████████▍                                                                                                                                              | 4/11 [00:00<00:00, 39.50it/s]\u001b[A\n",
      "Validation DataLoader 0:  45%|█████████████████████████████████████████████████████████████████████████████████████████████████████▊                                                                                                                          | 5/11 [00:00<00:00, 39.99it/s]\u001b[A\n",
      "Validation DataLoader 0:  55%|██████████████████████████████████████████████████████████████████████████████████████████████████████████████████████████▏                                                                                                     | 6/11 [00:00<00:00, 40.27it/s]\u001b[A\n",
      "Validation DataLoader 0:  64%|██████████████████████████████████████████████████████████████████████████████████████████████████████████████████████████████████████████████▌                                                                                 | 7/11 [00:00<00:00, 40.52it/s]\u001b[A\n",
      "Validation DataLoader 0:  73%|██████████████████████████████████████████████████████████████████████████████████████████████████████████████████████████████████████████████████████████████████▉                                                             | 8/11 [00:00<00:00, 40.77it/s]\u001b[A\n",
      "Validation DataLoader 0:  82%|███████████████████████████████████████████████████████████████████████████████████████████████████████████████████████████████████████████████████████████████████████████████████████▎                                        | 9/11 [00:00<00:00, 40.87it/s]\u001b[A\n",
      "Validation DataLoader 0:  91%|██████████████████████████████████████████████████████████████████████████████████████████████████████████████████████████████████████████████████████████████████████████████████████████████████████████▋                    | 10/11 [00:00<00:00, 41.04it/s]\u001b[A\n",
      "Validation DataLoader 0: 100%|███████████████████████████████████████████████████████████████████████████████████████████████████████████████████████████████████████████████████████████████████████████████████████████████████████████████████████████████| 11/11 [00:00<00:00, 41.20it/s]\u001b[A\n",
      "Epoch 30: 100%|██████████████████████████████████████████████████████████████████████████████████████████████████████████████████████████████████████████████████████████████████████████████████| 2769/2769 [02:50<00:00, 16.28it/s, v_num=0, train_loss_step=0.167, train_loss_epoch=0.227]\u001b[A\n",
      "Validation: |                                                                                                                                                                                                                                                          | 0/? [00:00<?, ?it/s]\u001b[A\n",
      "Validation:   0%|                                                                                                                                                                                                                                                     | 0/11 [00:00<?, ?it/s]\u001b[A\n",
      "Validation DataLoader 0:   0%|                                                                                                                                                                                                                                        | 0/11 [00:00<?, ?it/s]\u001b[A\n",
      "Validation DataLoader 0:   9%|████████████████████▎                                                                                                                                                                                                           | 1/11 [00:00<00:00, 41.77it/s]\u001b[A\n",
      "Validation DataLoader 0:  18%|████████████████████████████████████████▋                                                                                                                                                                                       | 2/11 [00:00<00:00, 40.30it/s]\u001b[A\n",
      "Validation DataLoader 0:  27%|█████████████████████████████████████████████████████████████                                                                                                                                                                   | 3/11 [00:00<00:00, 41.02it/s]\u001b[A\n",
      "Validation DataLoader 0:  36%|█████████████████████████████████████████████████████████████████████████████████▍                                                                                                                                              | 4/11 [00:00<00:00, 40.73it/s]\u001b[A\n",
      "Validation DataLoader 0:  45%|█████████████████████████████████████████████████████████████████████████████████████████████████████▊                                                                                                                          | 5/11 [00:00<00:00, 40.79it/s]\u001b[A\n",
      "Validation DataLoader 0:  55%|██████████████████████████████████████████████████████████████████████████████████████████████████████████████████████████▏                                                                                                     | 6/11 [00:00<00:00, 41.03it/s]\u001b[A\n",
      "Validation DataLoader 0:  64%|██████████████████████████████████████████████████████████████████████████████████████████████████████████████████████████████████████████████▌                                                                                 | 7/11 [00:00<00:00, 40.67it/s]\u001b[A\n",
      "Validation DataLoader 0:  73%|██████████████████████████████████████████████████████████████████████████████████████████████████████████████████████████████████████████████████████████████████▉                                                             | 8/11 [00:00<00:00, 40.53it/s]\u001b[A\n",
      "Validation DataLoader 0:  82%|███████████████████████████████████████████████████████████████████████████████████████████████████████████████████████████████████████████████████████████████████████████████████████▎                                        | 9/11 [00:00<00:00, 40.70it/s]\u001b[A\n",
      "Validation DataLoader 0:  91%|██████████████████████████████████████████████████████████████████████████████████████████████████████████████████████████████████████████████████████████████████████████████████████████████████████████▋                    | 10/11 [00:00<00:00, 40.83it/s]\u001b[A\n",
      "Validation DataLoader 0: 100%|███████████████████████████████████████████████████████████████████████████████████████████████████████████████████████████████████████████████████████████████████████████████████████████████████████████████████████████████| 11/11 [00:00<00:00, 41.17it/s]\u001b[A\n",
      "Epoch 31: 100%|██████████████████████████████████████████████████████████████████████████████████████████████████████████████████████████████████████████████████████████████████████████████████| 2769/2769 [02:49<00:00, 16.31it/s, v_num=0, train_loss_step=0.151, train_loss_epoch=0.220]\u001b[A\n",
      "Validation: |                                                                                                                                                                                                                                                          | 0/? [00:00<?, ?it/s]\u001b[A\n",
      "Validation:   0%|                                                                                                                                                                                                                                                     | 0/11 [00:00<?, ?it/s]\u001b[A\n",
      "Validation DataLoader 0:   0%|                                                                                                                                                                                                                                        | 0/11 [00:00<?, ?it/s]\u001b[A\n",
      "Validation DataLoader 0:   9%|████████████████████▎                                                                                                                                                                                                           | 1/11 [00:00<00:00, 41.93it/s]\u001b[A\n",
      "Validation DataLoader 0:  18%|████████████████████████████████████████▋                                                                                                                                                                                       | 2/11 [00:00<00:00, 41.83it/s]\u001b[A\n",
      "Validation DataLoader 0:  27%|█████████████████████████████████████████████████████████████                                                                                                                                                                   | 3/11 [00:00<00:00, 41.91it/s]\u001b[A\n",
      "Validation DataLoader 0:  36%|█████████████████████████████████████████████████████████████████████████████████▍                                                                                                                                              | 4/11 [00:00<00:00, 41.96it/s]\u001b[A\n",
      "Validation DataLoader 0:  45%|█████████████████████████████████████████████████████████████████████████████████████████████████████▊                                                                                                                          | 5/11 [00:00<00:00, 42.12it/s]\u001b[A\n",
      "Validation DataLoader 0:  55%|██████████████████████████████████████████████████████████████████████████████████████████████████████████████████████████▏                                                                                                     | 6/11 [00:00<00:00, 41.88it/s]\u001b[A\n",
      "Validation DataLoader 0:  64%|██████████████████████████████████████████████████████████████████████████████████████████████████████████████████████████████████████████████▌                                                                                 | 7/11 [00:00<00:00, 41.76it/s]\u001b[A\n",
      "Validation DataLoader 0:  73%|██████████████████████████████████████████████████████████████████████████████████████████████████████████████████████████████████████████████████████████████████▉                                                             | 8/11 [00:00<00:00, 41.81it/s]\u001b[A\n",
      "Validation DataLoader 0:  82%|███████████████████████████████████████████████████████████████████████████████████████████████████████████████████████████████████████████████████████████████████████████████████████▎                                        | 9/11 [00:00<00:00, 41.88it/s]\u001b[A\n",
      "Validation DataLoader 0:  91%|██████████████████████████████████████████████████████████████████████████████████████████████████████████████████████████████████████████████████████████████████████████████████████████████████████████▋                    | 10/11 [00:00<00:00, 41.93it/s]\u001b[A\n",
      "Validation DataLoader 0: 100%|███████████████████████████████████████████████████████████████████████████████████████████████████████████████████████████████████████████████████████████████████████████████████████████████████████████████████████████████| 11/11 [00:00<00:00, 42.19it/s]\u001b[A\n",
      "Epoch 32: 100%|██████████████████████████████████████████████████████████████████████████████████████████████████████████████████████████████████████████████████████████████████████████████████| 2769/2769 [02:49<00:00, 16.34it/s, v_num=0, train_loss_step=0.105, train_loss_epoch=0.212]\u001b[A\n",
      "Validation: |                                                                                                                                                                                                                                                          | 0/? [00:00<?, ?it/s]\u001b[A\n",
      "Validation:   0%|                                                                                                                                                                                                                                                     | 0/11 [00:00<?, ?it/s]\u001b[A\n",
      "Validation DataLoader 0:   0%|                                                                                                                                                                                                                                        | 0/11 [00:00<?, ?it/s]\u001b[A\n",
      "Validation DataLoader 0:   9%|████████████████████▎                                                                                                                                                                                                           | 1/11 [00:00<00:00, 42.22it/s]\u001b[A\n",
      "Validation DataLoader 0:  18%|████████████████████████████████████████▋                                                                                                                                                                                       | 2/11 [00:00<00:00, 40.84it/s]\u001b[A\n",
      "Validation DataLoader 0:  27%|█████████████████████████████████████████████████████████████                                                                                                                                                                   | 3/11 [00:00<00:00, 40.86it/s]\u001b[A\n",
      "Validation DataLoader 0:  36%|█████████████████████████████████████████████████████████████████████████████████▍                                                                                                                                              | 4/11 [00:00<00:00, 40.94it/s]\u001b[A\n",
      "Validation DataLoader 0:  45%|█████████████████████████████████████████████████████████████████████████████████████████████████████▊                                                                                                                          | 5/11 [00:00<00:00, 41.22it/s]\u001b[A\n",
      "Validation DataLoader 0:  55%|██████████████████████████████████████████████████████████████████████████████████████████████████████████████████████████▏                                                                                                     | 6/11 [00:00<00:00, 40.46it/s]\u001b[A\n",
      "Validation DataLoader 0:  64%|██████████████████████████████████████████████████████████████████████████████████████████████████████████████████████████████████████████████▌                                                                                 | 7/11 [00:00<00:00, 40.65it/s]\u001b[A\n",
      "Validation DataLoader 0:  73%|██████████████████████████████████████████████████████████████████████████████████████████████████████████████████████████████████████████████████████████████████▉                                                             | 8/11 [00:00<00:00, 40.90it/s]\u001b[A\n",
      "Validation DataLoader 0:  82%|███████████████████████████████████████████████████████████████████████████████████████████████████████████████████████████████████████████████████████████████████████████████████████▎                                        | 9/11 [00:00<00:00, 40.86it/s]\u001b[A\n",
      "Validation DataLoader 0:  91%|██████████████████████████████████████████████████████████████████████████████████████████████████████████████████████████████████████████████████████████████████████████████████████████████████████████▋                    | 10/11 [00:00<00:00, 41.01it/s]\u001b[A\n",
      "Validation DataLoader 0: 100%|███████████████████████████████████████████████████████████████████████████████████████████████████████████████████████████████████████████████████████████████████████████████████████████████████████████████████████████████| 11/11 [00:00<00:00, 41.34it/s]\u001b[A\n",
      "Epoch 33: 100%|██████████████████████████████████████████████████████████████████████████████████████████████████████████████████████████████████████████████████████████████████████████████████| 2769/2769 [02:49<00:00, 16.32it/s, v_num=0, train_loss_step=0.208, train_loss_epoch=0.205]\u001b[A\n",
      "Validation: |                                                                                                                                                                                                                                                          | 0/? [00:00<?, ?it/s]\u001b[A\n",
      "Validation:   0%|                                                                                                                                                                                                                                                     | 0/11 [00:00<?, ?it/s]\u001b[A\n",
      "Validation DataLoader 0:   0%|                                                                                                                                                                                                                                        | 0/11 [00:00<?, ?it/s]\u001b[A\n",
      "Validation DataLoader 0:   9%|████████████████████▎                                                                                                                                                                                                           | 1/11 [00:00<00:00, 41.21it/s]\u001b[A\n",
      "Validation DataLoader 0:  18%|████████████████████████████████████████▋                                                                                                                                                                                       | 2/11 [00:00<00:00, 40.71it/s]\u001b[A\n",
      "Validation DataLoader 0:  27%|█████████████████████████████████████████████████████████████                                                                                                                                                                   | 3/11 [00:00<00:00, 40.62it/s]\u001b[A\n",
      "Validation DataLoader 0:  36%|█████████████████████████████████████████████████████████████████████████████████▍                                                                                                                                              | 4/11 [00:00<00:00, 40.70it/s]\u001b[A\n",
      "Validation DataLoader 0:  45%|█████████████████████████████████████████████████████████████████████████████████████████████████████▊                                                                                                                          | 5/11 [00:00<00:00, 40.22it/s]\u001b[A\n",
      "Validation DataLoader 0:  55%|██████████████████████████████████████████████████████████████████████████████████████████████████████████████████████████▏                                                                                                     | 6/11 [00:00<00:00, 39.62it/s]\u001b[A\n",
      "Validation DataLoader 0:  64%|██████████████████████████████████████████████████████████████████████████████████████████████████████████████████████████████████████████████▌                                                                                 | 7/11 [00:00<00:00, 39.94it/s]\u001b[A\n",
      "Validation DataLoader 0:  73%|██████████████████████████████████████████████████████████████████████████████████████████████████████████████████████████████████████████████████████████████████▉                                                             | 8/11 [00:00<00:00, 40.22it/s]\u001b[A\n",
      "Validation DataLoader 0:  82%|███████████████████████████████████████████████████████████████████████████████████████████████████████████████████████████████████████████████████████████████████████████████████████▎                                        | 9/11 [00:00<00:00, 40.48it/s]\u001b[A\n",
      "Validation DataLoader 0:  91%|██████████████████████████████████████████████████████████████████████████████████████████████████████████████████████████████████████████████████████████████████████████████████████████████████████████▋                    | 10/11 [00:00<00:00, 40.61it/s]\u001b[A\n",
      "Validation DataLoader 0: 100%|███████████████████████████████████████████████████████████████████████████████████████████████████████████████████████████████████████████████████████████████████████████████████████████████████████████████████████████████| 11/11 [00:00<00:00, 40.94it/s]\u001b[A\n",
      "Epoch 34: 100%|██████████████████████████████████████████████████████████████████████████████████████████████████████████████████████████████████████████████████████████████████████████████████| 2769/2769 [02:49<00:00, 16.31it/s, v_num=0, train_loss_step=0.176, train_loss_epoch=0.199]\u001b[A\n",
      "Validation: |                                                                                                                                                                                                                                                          | 0/? [00:00<?, ?it/s]\u001b[A\n",
      "Validation:   0%|                                                                                                                                                                                                                                                     | 0/11 [00:00<?, ?it/s]\u001b[A\n",
      "Validation DataLoader 0:   0%|                                                                                                                                                                                                                                        | 0/11 [00:00<?, ?it/s]\u001b[A\n",
      "Validation DataLoader 0:   9%|████████████████████▎                                                                                                                                                                                                           | 1/11 [00:00<00:00, 41.50it/s]\u001b[A\n",
      "Validation DataLoader 0:  18%|████████████████████████████████████████▋                                                                                                                                                                                       | 2/11 [00:00<00:00, 40.40it/s]\u001b[A\n",
      "Validation DataLoader 0:  27%|█████████████████████████████████████████████████████████████                                                                                                                                                                   | 3/11 [00:00<00:00, 41.07it/s]\u001b[A\n",
      "Validation DataLoader 0:  36%|█████████████████████████████████████████████████████████████████████████████████▍                                                                                                                                              | 4/11 [00:00<00:00, 40.79it/s]\u001b[A\n",
      "Validation DataLoader 0:  45%|█████████████████████████████████████████████████████████████████████████████████████████████████████▊                                                                                                                          | 5/11 [00:00<00:00, 40.85it/s]\u001b[A\n",
      "Validation DataLoader 0:  55%|██████████████████████████████████████████████████████████████████████████████████████████████████████████████████████████▏                                                                                                     | 6/11 [00:00<00:00, 41.03it/s]\u001b[A\n",
      "Validation DataLoader 0:  64%|██████████████████████████████████████████████████████████████████████████████████████████████████████████████████████████████████████████████▌                                                                                 | 7/11 [00:00<00:00, 40.72it/s]\u001b[A\n",
      "Validation DataLoader 0:  73%|██████████████████████████████████████████████████████████████████████████████████████████████████████████████████████████████████████████████████████████████████▉                                                             | 8/11 [00:00<00:00, 40.90it/s]\u001b[A\n",
      "Validation DataLoader 0:  82%|███████████████████████████████████████████████████████████████████████████████████████████████████████████████████████████████████████████████████████████████████████████████████████▎                                        | 9/11 [00:00<00:00, 40.77it/s]\u001b[A\n",
      "Validation DataLoader 0:  91%|██████████████████████████████████████████████████████████████████████████████████████████████████████████████████████████████████████████████████████████████████████████████████████████████████████████▋                    | 10/11 [00:00<00:00, 40.90it/s]\u001b[A\n",
      "Validation DataLoader 0: 100%|███████████████████████████████████████████████████████████████████████████████████████████████████████████████████████████████████████████████████████████████████████████████████████████████████████████████████████████████| 11/11 [00:00<00:00, 41.23it/s]\u001b[A\n",
      "Epoch 35: 100%|██████████████████████████████████████████████████████████████████████████████████████████████████████████████████████████████████████████████████████████████████████████████████| 2769/2769 [02:50<00:00, 16.27it/s, v_num=0, train_loss_step=0.196, train_loss_epoch=0.192]\u001b[A\n",
      "Validation: |                                                                                                                                                                                                                                                          | 0/? [00:00<?, ?it/s]\u001b[A\n",
      "Validation:   0%|                                                                                                                                                                                                                                                     | 0/11 [00:00<?, ?it/s]\u001b[A\n",
      "Validation DataLoader 0:   0%|                                                                                                                                                                                                                                        | 0/11 [00:00<?, ?it/s]\u001b[A\n",
      "Validation DataLoader 0:   9%|████████████████████▎                                                                                                                                                                                                           | 1/11 [00:00<00:00, 41.64it/s]\u001b[A\n",
      "Validation DataLoader 0:  18%|████████████████████████████████████████▋                                                                                                                                                                                       | 2/11 [00:00<00:00, 41.94it/s]\u001b[A\n",
      "Validation DataLoader 0:  27%|█████████████████████████████████████████████████████████████                                                                                                                                                                   | 3/11 [00:00<00:00, 41.55it/s]\u001b[A\n",
      "Validation DataLoader 0:  36%|█████████████████████████████████████████████████████████████████████████████████▍                                                                                                                                              | 4/11 [00:00<00:00, 40.36it/s]\u001b[A\n",
      "Validation DataLoader 0:  45%|█████████████████████████████████████████████████████████████████████████████████████████████████████▊                                                                                                                          | 5/11 [00:00<00:00, 40.70it/s]\u001b[A\n",
      "Validation DataLoader 0:  55%|██████████████████████████████████████████████████████████████████████████████████████████████████████████████████████████▏                                                                                                     | 6/11 [00:00<00:00, 40.71it/s]\u001b[A\n",
      "Validation DataLoader 0:  64%|██████████████████████████████████████████████████████████████████████████████████████████████████████████████████████████████████████████████▌                                                                                 | 7/11 [00:00<00:00, 40.86it/s]\u001b[A\n",
      "Validation DataLoader 0:  73%|██████████████████████████████████████████████████████████████████████████████████████████████████████████████████████████████████████████████████████████████████▉                                                             | 8/11 [00:00<00:00, 41.01it/s]\u001b[A\n",
      "Validation DataLoader 0:  82%|███████████████████████████████████████████████████████████████████████████████████████████████████████████████████████████████████████████████████████████████████████████████████████▎                                        | 9/11 [00:00<00:00, 41.21it/s]\u001b[A\n",
      "Validation DataLoader 0:  91%|██████████████████████████████████████████████████████████████████████████████████████████████████████████████████████████████████████████████████████████████████████████████████████████████████████████▋                    | 10/11 [00:00<00:00, 41.33it/s]\u001b[A\n",
      "Validation DataLoader 0: 100%|███████████████████████████████████████████████████████████████████████████████████████████████████████████████████████████████████████████████████████████████████████████████████████████████████████████████████████████████| 11/11 [00:00<00:00, 41.48it/s]\u001b[A\n",
      "Epoch 36: 100%|██████████████████████████████████████████████████████████████████████████████████████████████████████████████████████████████████████████████████████████████████████████████████| 2769/2769 [02:49<00:00, 16.30it/s, v_num=0, train_loss_step=0.117, train_loss_epoch=0.185]\u001b[A\n",
      "Validation: |                                                                                                                                                                                                                                                          | 0/? [00:00<?, ?it/s]\u001b[A\n",
      "Validation:   0%|                                                                                                                                                                                                                                                     | 0/11 [00:00<?, ?it/s]\u001b[A\n",
      "Validation DataLoader 0:   0%|                                                                                                                                                                                                                                        | 0/11 [00:00<?, ?it/s]\u001b[A\n",
      "Validation DataLoader 0:   9%|████████████████████▎                                                                                                                                                                                                           | 1/11 [00:00<00:00, 42.25it/s]\u001b[A\n",
      "Validation DataLoader 0:  18%|████████████████████████████████████████▋                                                                                                                                                                                       | 2/11 [00:00<00:00, 42.05it/s]\u001b[A\n",
      "Validation DataLoader 0:  27%|█████████████████████████████████████████████████████████████                                                                                                                                                                   | 3/11 [00:00<00:00, 40.58it/s]\u001b[A\n",
      "Validation DataLoader 0:  36%|█████████████████████████████████████████████████████████████████████████████████▍                                                                                                                                              | 4/11 [00:00<00:00, 40.12it/s]\u001b[A\n",
      "Validation DataLoader 0:  45%|█████████████████████████████████████████████████████████████████████████████████████████████████████▊                                                                                                                          | 5/11 [00:00<00:00, 40.56it/s]\u001b[A\n",
      "Validation DataLoader 0:  55%|██████████████████████████████████████████████████████████████████████████████████████████████████████████████████████████▏                                                                                                     | 6/11 [00:00<00:00, 40.89it/s]\u001b[A\n",
      "Validation DataLoader 0:  64%|██████████████████████████████████████████████████████████████████████████████████████████████████████████████████████████████████████████████▌                                                                                 | 7/11 [00:00<00:00, 41.15it/s]\u001b[A\n",
      "Validation DataLoader 0:  73%|██████████████████████████████████████████████████████████████████████████████████████████████████████████████████████████████████████████████████████████████████▉                                                             | 8/11 [00:00<00:00, 41.10it/s]\u001b[A\n",
      "Validation DataLoader 0:  82%|███████████████████████████████████████████████████████████████████████████████████████████████████████████████████████████████████████████████████████████████████████████████████████▎                                        | 9/11 [00:00<00:00, 41.03it/s]\u001b[A\n",
      "Validation DataLoader 0:  91%|██████████████████████████████████████████████████████████████████████████████████████████████████████████████████████████████████████████████████████████████████████████████████████████████████████████▋                    | 10/11 [00:00<00:00, 41.22it/s]\u001b[A\n",
      "Validation DataLoader 0: 100%|███████████████████████████████████████████████████████████████████████████████████████████████████████████████████████████████████████████████████████████████████████████████████████████████████████████████████████████████| 11/11 [00:00<00:00, 41.55it/s]\u001b[A\n",
      "Epoch 37: 100%|██████████████████████████████████████████████████████████████████████████████████████████████████████████████████████████████████████████████████████████████████████████████████| 2769/2769 [02:49<00:00, 16.31it/s, v_num=0, train_loss_step=0.260, train_loss_epoch=0.179]\u001b[A\n",
      "Validation: |                                                                                                                                                                                                                                                          | 0/? [00:00<?, ?it/s]\u001b[A\n",
      "Validation:   0%|                                                                                                                                                                                                                                                     | 0/11 [00:00<?, ?it/s]\u001b[A\n",
      "Validation DataLoader 0:   0%|                                                                                                                                                                                                                                        | 0/11 [00:00<?, ?it/s]\u001b[A\n",
      "Validation DataLoader 0:   9%|████████████████████▎                                                                                                                                                                                                           | 1/11 [00:00<00:00, 41.90it/s]\u001b[A\n",
      "Validation DataLoader 0:  18%|████████████████████████████████████████▋                                                                                                                                                                                       | 2/11 [00:00<00:00, 42.10it/s]\u001b[A\n",
      "Validation DataLoader 0:  27%|█████████████████████████████████████████████████████████████                                                                                                                                                                   | 3/11 [00:00<00:00, 42.45it/s]\u001b[A\n",
      "Validation DataLoader 0:  36%|█████████████████████████████████████████████████████████████████████████████████▍                                                                                                                                              | 4/11 [00:00<00:00, 42.47it/s]\u001b[A\n",
      "Validation DataLoader 0:  45%|█████████████████████████████████████████████████████████████████████████████████████████████████████▊                                                                                                                          | 5/11 [00:00<00:00, 42.40it/s]\u001b[A\n",
      "Validation DataLoader 0:  55%|██████████████████████████████████████████████████████████████████████████████████████████████████████████████████████████▏                                                                                                     | 6/11 [00:00<00:00, 42.17it/s]\u001b[A\n",
      "Validation DataLoader 0:  64%|██████████████████████████████████████████████████████████████████████████████████████████████████████████████████████████████████████████████▌                                                                                 | 7/11 [00:00<00:00, 42.02it/s]\u001b[A\n",
      "Validation DataLoader 0:  73%|██████████████████████████████████████████████████████████████████████████████████████████████████████████████████████████████████████████████████████████████████▉                                                             | 8/11 [00:00<00:00, 41.68it/s]\u001b[A\n",
      "Validation DataLoader 0:  82%|███████████████████████████████████████████████████████████████████████████████████████████████████████████████████████████████████████████████████████████████████████████████████████▎                                        | 9/11 [00:00<00:00, 41.76it/s]\u001b[A\n",
      "Validation DataLoader 0:  91%|██████████████████████████████████████████████████████████████████████████████████████████████████████████████████████████████████████████████████████████████████████████████████████████████████████████▋                    | 10/11 [00:00<00:00, 41.67it/s]\u001b[A\n",
      "Validation DataLoader 0: 100%|███████████████████████████████████████████████████████████████████████████████████████████████████████████████████████████████████████████████████████████████████████████████████████████████████████████████████████████████| 11/11 [00:00<00:00, 41.95it/s]\u001b[A\n",
      "Epoch 38: 100%|██████████████████████████████████████████████████████████████████████████████████████████████████████████████████████████████████████████████████████████████████████████████████| 2769/2769 [02:49<00:00, 16.33it/s, v_num=0, train_loss_step=0.126, train_loss_epoch=0.172]\u001b[A\n",
      "Validation: |                                                                                                                                                                                                                                                          | 0/? [00:00<?, ?it/s]\u001b[A\n",
      "Validation:   0%|                                                                                                                                                                                                                                                     | 0/11 [00:00<?, ?it/s]\u001b[A\n",
      "Validation DataLoader 0:   0%|                                                                                                                                                                                                                                        | 0/11 [00:00<?, ?it/s]\u001b[A\n",
      "Validation DataLoader 0:   9%|████████████████████▎                                                                                                                                                                                                           | 1/11 [00:00<00:00, 42.32it/s]\u001b[A\n",
      "Validation DataLoader 0:  18%|████████████████████████████████████████▋                                                                                                                                                                                       | 2/11 [00:00<00:00, 39.38it/s]\u001b[A\n",
      "Validation DataLoader 0:  27%|█████████████████████████████████████████████████████████████                                                                                                                                                                   | 3/11 [00:00<00:00, 40.42it/s]\u001b[A\n",
      "Validation DataLoader 0:  36%|█████████████████████████████████████████████████████████████████████████████████▍                                                                                                                                              | 4/11 [00:00<00:00, 40.99it/s]\u001b[A\n",
      "Validation DataLoader 0:  45%|█████████████████████████████████████████████████████████████████████████████████████████████████████▊                                                                                                                          | 5/11 [00:00<00:00, 40.56it/s]\u001b[A\n",
      "Validation DataLoader 0:  55%|██████████████████████████████████████████████████████████████████████████████████████████████████████████████████████████▏                                                                                                     | 6/11 [00:00<00:00, 40.82it/s]\u001b[A\n",
      "Validation DataLoader 0:  64%|██████████████████████████████████████████████████████████████████████████████████████████████████████████████████████████████████████████████▌                                                                                 | 7/11 [00:00<00:00, 41.05it/s]\u001b[A\n",
      "Validation DataLoader 0:  73%|██████████████████████████████████████████████████████████████████████████████████████████████████████████████████████████████████████████████████████████████████▉                                                             | 8/11 [00:00<00:00, 40.89it/s]\u001b[A\n",
      "Validation DataLoader 0:  82%|███████████████████████████████████████████████████████████████████████████████████████████████████████████████████████████████████████████████████████████████████████████████████████▎                                        | 9/11 [00:00<00:00, 41.01it/s]\u001b[A\n",
      "Validation DataLoader 0:  91%|██████████████████████████████████████████████████████████████████████████████████████████████████████████████████████████████████████████████████████████████████████████████████████████████████████████▋                    | 10/11 [00:00<00:00, 40.99it/s]\u001b[A\n",
      "Validation DataLoader 0: 100%|███████████████████████████████████████████████████████████████████████████████████████████████████████████████████████████████████████████████████████████████████████████████████████████████████████████████████████████████| 11/11 [00:00<00:00, 41.17it/s]\u001b[A\n",
      "Epoch 39: 100%|██████████████████████████████████████████████████████████████████████████████████████████████████████████████████████████████████████████████████████████████████████████████████| 2769/2769 [02:49<00:00, 16.32it/s, v_num=0, train_loss_step=0.153, train_loss_epoch=0.167]\u001b[A\n",
      "Validation: |                                                                                                                                                                                                                                                          | 0/? [00:00<?, ?it/s]\u001b[A\n",
      "Validation:   0%|                                                                                                                                                                                                                                                     | 0/11 [00:00<?, ?it/s]\u001b[A\n",
      "Validation DataLoader 0:   0%|                                                                                                                                                                                                                                        | 0/11 [00:00<?, ?it/s]\u001b[A\n",
      "Validation DataLoader 0:   9%|████████████████████▎                                                                                                                                                                                                           | 1/11 [00:00<00:00, 41.94it/s]\u001b[A\n",
      "Validation DataLoader 0:  18%|████████████████████████████████████████▋                                                                                                                                                                                       | 2/11 [00:00<00:00, 41.86it/s]\u001b[A\n",
      "Validation DataLoader 0:  27%|█████████████████████████████████████████████████████████████                                                                                                                                                                   | 3/11 [00:00<00:00, 42.13it/s]\u001b[A\n",
      "Validation DataLoader 0:  36%|█████████████████████████████████████████████████████████████████████████████████▍                                                                                                                                              | 4/11 [00:00<00:00, 41.19it/s]\u001b[A\n",
      "Validation DataLoader 0:  45%|█████████████████████████████████████████████████████████████████████████████████████████████████████▊                                                                                                                          | 5/11 [00:00<00:00, 41.45it/s]\u001b[A\n",
      "Validation DataLoader 0:  55%|██████████████████████████████████████████████████████████████████████████████████████████████████████████████████████████▏                                                                                                     | 6/11 [00:00<00:00, 41.68it/s]\u001b[A\n",
      "Validation DataLoader 0:  64%|██████████████████████████████████████████████████████████████████████████████████████████████████████████████████████████████████████████████▌                                                                                 | 7/11 [00:00<00:00, 41.76it/s]\u001b[A\n",
      "Validation DataLoader 0:  73%|██████████████████████████████████████████████████████████████████████████████████████████████████████████████████████████████████████████████████████████████████▉                                                             | 8/11 [00:00<00:00, 41.47it/s]\u001b[A\n",
      "Validation DataLoader 0:  82%|███████████████████████████████████████████████████████████████████████████████████████████████████████████████████████████████████████████████████████████████████████████████████████▎                                        | 9/11 [00:00<00:00, 41.34it/s]\u001b[A\n",
      "Validation DataLoader 0:  91%|██████████████████████████████████████████████████████████████████████████████████████████████████████████████████████████████████████████████████████████████████████████████████████████████████████████▋                    | 10/11 [00:00<00:00, 41.45it/s]\u001b[A\n",
      "Validation DataLoader 0: 100%|███████████████████████████████████████████████████████████████████████████████████████████████████████████████████████████████████████████████████████████████████████████████████████████████████████████████████████████████| 11/11 [00:00<00:00, 41.77it/s]\u001b[A\n",
      "Epoch 40: 100%|██████████████████████████████████████████████████████████████████████████████████████████████████████████████████████████████████████████████████████████████████████████████████| 2769/2769 [02:49<00:00, 16.34it/s, v_num=0, train_loss_step=0.175, train_loss_epoch=0.161]\u001b[A\n",
      "Validation: |                                                                                                                                                                                                                                                          | 0/? [00:00<?, ?it/s]\u001b[A\n",
      "Validation:   0%|                                                                                                                                                                                                                                                     | 0/11 [00:00<?, ?it/s]\u001b[A\n",
      "Validation DataLoader 0:   0%|                                                                                                                                                                                                                                        | 0/11 [00:00<?, ?it/s]\u001b[A\n",
      "Validation DataLoader 0:   9%|████████████████████▎                                                                                                                                                                                                           | 1/11 [00:00<00:00, 41.72it/s]\u001b[A\n",
      "Validation DataLoader 0:  18%|████████████████████████████████████████▋                                                                                                                                                                                       | 2/11 [00:00<00:00, 41.09it/s]\u001b[A\n",
      "Validation DataLoader 0:  27%|█████████████████████████████████████████████████████████████                                                                                                                                                                   | 3/11 [00:00<00:00, 40.92it/s]\u001b[A\n",
      "Validation DataLoader 0:  36%|█████████████████████████████████████████████████████████████████████████████████▍                                                                                                                                              | 4/11 [00:00<00:00, 40.88it/s]\u001b[A\n",
      "Validation DataLoader 0:  45%|█████████████████████████████████████████████████████████████████████████████████████████████████████▊                                                                                                                          | 5/11 [00:00<00:00, 41.07it/s]\u001b[A\n",
      "Validation DataLoader 0:  55%|██████████████████████████████████████████████████████████████████████████████████████████████████████████████████████████▏                                                                                                     | 6/11 [00:00<00:00, 41.03it/s]\u001b[A\n",
      "Validation DataLoader 0:  64%|██████████████████████████████████████████████████████████████████████████████████████████████████████████████████████████████████████████████▌                                                                                 | 7/11 [00:00<00:00, 40.43it/s]\u001b[A\n",
      "Validation DataLoader 0:  73%|██████████████████████████████████████████████████████████████████████████████████████████████████████████████████████████████████████████████████████████████████▉                                                             | 8/11 [00:00<00:00, 40.65it/s]\u001b[A\n",
      "Validation DataLoader 0:  82%|███████████████████████████████████████████████████████████████████████████████████████████████████████████████████████████████████████████████████████████████████████████████████████▎                                        | 9/11 [00:00<00:00, 40.79it/s]\u001b[A\n",
      "Validation DataLoader 0:  91%|██████████████████████████████████████████████████████████████████████████████████████████████████████████████████████████████████████████████████████████████████████████████████████████████████████████▋                    | 10/11 [00:00<00:00, 40.94it/s]\u001b[A\n",
      "Validation DataLoader 0: 100%|███████████████████████████████████████████████████████████████████████████████████████████████████████████████████████████████████████████████████████████████████████████████████████████████████████████████████████████████| 11/11 [00:00<00:00, 41.28it/s]\u001b[A\n",
      "Epoch 41: 100%|██████████████████████████████████████████████████████████████████████████████████████████████████████████████████████████████████████████████████████████████████████████████████| 2769/2769 [02:49<00:00, 16.33it/s, v_num=0, train_loss_step=0.128, train_loss_epoch=0.157]\u001b[A\n",
      "Validation: |                                                                                                                                                                                                                                                          | 0/? [00:00<?, ?it/s]\u001b[A\n",
      "Validation:   0%|                                                                                                                                                                                                                                                     | 0/11 [00:00<?, ?it/s]\u001b[A\n",
      "Validation DataLoader 0:   0%|                                                                                                                                                                                                                                        | 0/11 [00:00<?, ?it/s]\u001b[A\n",
      "Validation DataLoader 0:   9%|████████████████████▎                                                                                                                                                                                                           | 1/11 [00:00<00:00, 42.00it/s]\u001b[A\n",
      "Validation DataLoader 0:  18%|████████████████████████████████████████▋                                                                                                                                                                                       | 2/11 [00:00<00:00, 41.82it/s]\u001b[A\n",
      "Validation DataLoader 0:  27%|█████████████████████████████████████████████████████████████                                                                                                                                                                   | 3/11 [00:00<00:00, 42.20it/s]\u001b[A\n",
      "Validation DataLoader 0:  36%|█████████████████████████████████████████████████████████████████████████████████▍                                                                                                                                              | 4/11 [00:00<00:00, 40.12it/s]\u001b[A\n",
      "Validation DataLoader 0:  45%|█████████████████████████████████████████████████████████████████████████████████████████████████████▊                                                                                                                          | 5/11 [00:00<00:00, 40.48it/s]\u001b[A\n",
      "Validation DataLoader 0:  55%|██████████████████████████████████████████████████████████████████████████████████████████████████████████████████████████▏                                                                                                     | 6/11 [00:00<00:00, 40.72it/s]\u001b[A\n",
      "Validation DataLoader 0:  64%|██████████████████████████████████████████████████████████████████████████████████████████████████████████████████████████████████████████████▌                                                                                 | 7/11 [00:00<00:00, 40.99it/s]\u001b[A\n",
      "Validation DataLoader 0:  73%|██████████████████████████████████████████████████████████████████████████████████████████████████████████████████████████████████████████████████████████████████▉                                                             | 8/11 [00:00<00:00, 41.16it/s]\u001b[A\n",
      "Validation DataLoader 0:  82%|███████████████████████████████████████████████████████████████████████████████████████████████████████████████████████████████████████████████████████████████████████████████████████▎                                        | 9/11 [00:00<00:00, 41.08it/s]\u001b[A\n",
      "Validation DataLoader 0:  91%|██████████████████████████████████████████████████████████████████████████████████████████████████████████████████████████████████████████████████████████████████████████████████████████████████████████▋                    | 10/11 [00:00<00:00, 41.24it/s]\u001b[A\n",
      "Validation DataLoader 0: 100%|███████████████████████████████████████████████████████████████████████████████████████████████████████████████████████████████████████████████████████████████████████████████████████████████████████████████████████████████| 11/11 [00:00<00:00, 41.55it/s]\u001b[A\n",
      "Epoch 42: 100%|██████████████████████████████████████████████████████████████████████████████████████████████████████████████████████████████████████████████████████████████████████████████████| 2769/2769 [02:49<00:00, 16.29it/s, v_num=0, train_loss_step=0.140, train_loss_epoch=0.150]\u001b[A\n",
      "Validation: |                                                                                                                                                                                                                                                          | 0/? [00:00<?, ?it/s]\u001b[A\n",
      "Validation:   0%|                                                                                                                                                                                                                                                     | 0/11 [00:00<?, ?it/s]\u001b[A\n",
      "Validation DataLoader 0:   0%|                                                                                                                                                                                                                                        | 0/11 [00:00<?, ?it/s]\u001b[A\n",
      "Validation DataLoader 0:   9%|████████████████████▎                                                                                                                                                                                                           | 1/11 [00:00<00:00, 42.15it/s]\u001b[A\n",
      "Validation DataLoader 0:  18%|████████████████████████████████████████▋                                                                                                                                                                                       | 2/11 [00:00<00:00, 41.73it/s]\u001b[A\n",
      "Validation DataLoader 0:  27%|█████████████████████████████████████████████████████████████                                                                                                                                                                   | 3/11 [00:00<00:00, 41.72it/s]\u001b[A\n",
      "Validation DataLoader 0:  36%|█████████████████████████████████████████████████████████████████████████████████▍                                                                                                                                              | 4/11 [00:00<00:00, 40.01it/s]\u001b[A\n",
      "Validation DataLoader 0:  45%|█████████████████████████████████████████████████████████████████████████████████████████████████████▊                                                                                                                          | 5/11 [00:00<00:00, 40.45it/s]\u001b[A\n",
      "Validation DataLoader 0:  55%|██████████████████████████████████████████████████████████████████████████████████████████████████████████████████████████▏                                                                                                     | 6/11 [00:00<00:00, 40.79it/s]\u001b[A\n",
      "Validation DataLoader 0:  64%|██████████████████████████████████████████████████████████████████████████████████████████████████████████████████████████████████████████████▌                                                                                 | 7/11 [00:00<00:00, 41.04it/s]\u001b[A\n",
      "Validation DataLoader 0:  73%|██████████████████████████████████████████████████████████████████████████████████████████████████████████████████████████████████████████████████████████████████▉                                                             | 8/11 [00:00<00:00, 41.20it/s]\u001b[A\n",
      "Validation DataLoader 0:  82%|███████████████████████████████████████████████████████████████████████████████████████████████████████████████████████████████████████████████████████████████████████████████████████▎                                        | 9/11 [00:00<00:00, 40.97it/s]\u001b[A\n",
      "Validation DataLoader 0:  91%|██████████████████████████████████████████████████████████████████████████████████████████████████████████████████████████████████████████████████████████████████████████████████████████████████████████▋                    | 10/11 [00:00<00:00, 41.11it/s]\u001b[A\n",
      "Validation DataLoader 0: 100%|███████████████████████████████████████████████████████████████████████████████████████████████████████████████████████████████████████████████████████████████████████████████████████████████████████████████████████████████| 11/11 [00:00<00:00, 41.44it/s]\u001b[A\n",
      "Epoch 43: 100%|██████████████████████████████████████████████████████████████████████████████████████████████████████████████████████████████████████████████████████████████████████████████████| 2769/2769 [02:51<00:00, 16.18it/s, v_num=0, train_loss_step=0.151, train_loss_epoch=0.146]\u001b[A\n",
      "Validation: |                                                                                                                                                                                                                                                          | 0/? [00:00<?, ?it/s]\u001b[A\n",
      "Validation:   0%|                                                                                                                                                                                                                                                     | 0/11 [00:00<?, ?it/s]\u001b[A\n",
      "Validation DataLoader 0:   0%|                                                                                                                                                                                                                                        | 0/11 [00:00<?, ?it/s]\u001b[A\n",
      "Validation DataLoader 0:   9%|████████████████████▎                                                                                                                                                                                                           | 1/11 [00:00<00:00, 41.23it/s]\u001b[A\n",
      "Validation DataLoader 0:  18%|████████████████████████████████████████▋                                                                                                                                                                                       | 2/11 [00:00<00:00, 40.80it/s]\u001b[A\n",
      "Validation DataLoader 0:  27%|█████████████████████████████████████████████████████████████                                                                                                                                                                   | 3/11 [00:00<00:00, 41.24it/s]\u001b[A\n",
      "Validation DataLoader 0:  36%|█████████████████████████████████████████████████████████████████████████████████▍                                                                                                                                              | 4/11 [00:00<00:00, 41.13it/s]\u001b[A\n",
      "Validation DataLoader 0:  45%|█████████████████████████████████████████████████████████████████████████████████████████████████████▊                                                                                                                          | 5/11 [00:00<00:00, 41.04it/s]\u001b[A\n",
      "Validation DataLoader 0:  55%|██████████████████████████████████████████████████████████████████████████████████████████████████████████████████████████▏                                                                                                     | 6/11 [00:00<00:00, 40.12it/s]\u001b[A\n",
      "Validation DataLoader 0:  64%|██████████████████████████████████████████████████████████████████████████████████████████████████████████████████████████████████████████████▌                                                                                 | 7/11 [00:00<00:00, 40.37it/s]\u001b[A\n",
      "Validation DataLoader 0:  73%|██████████████████████████████████████████████████████████████████████████████████████████████████████████████████████████████████████████████████████████████████▉                                                             | 8/11 [00:00<00:00, 40.55it/s]\u001b[A\n",
      "Validation DataLoader 0:  82%|███████████████████████████████████████████████████████████████████████████████████████████████████████████████████████████████████████████████████████████████████████████████████████▎                                        | 9/11 [00:00<00:00, 40.74it/s]\u001b[A\n",
      "Validation DataLoader 0:  91%|██████████████████████████████████████████████████████████████████████████████████████████████████████████████████████████████████████████████████████████████████████████████████████████████████████████▋                    | 10/11 [00:00<00:00, 40.87it/s]\u001b[A\n",
      "Validation DataLoader 0: 100%|███████████████████████████████████████████████████████████████████████████████████████████████████████████████████████████████████████████████████████████████████████████████████████████████████████████████████████████████| 11/11 [00:00<00:00, 41.24it/s]\u001b[A\n",
      "Epoch 44:  85%|███████████████████████████████████████████████████████████████████████████████████████████████████████████████████████████████████████████████████████                           | 2350/2769 [02:24<00:25, 16.26it/s, v_num=0, train_loss_step=0.160, train_loss_epoch=0.142]\u001b[A"
     ]
    }
   ],
   "source": [
    "# See the tutorial_3 folder for logs.\n",
    "trainer = model.train_on_dataset(train_ds, val_ds)"
   ]
  },
  {
   "cell_type": "markdown",
   "id": "c9572c3f-004e-45bd-ab44-03ac1a40149e",
   "metadata": {},
   "source": [
    "## Load the best model version"
   ]
  },
  {
   "cell_type": "code",
   "execution_count": 91,
   "id": "ff970be1-4048-401d-86df-208e26f5c235",
   "metadata": {},
   "outputs": [
    {
     "name": "stdout",
     "output_type": "stream",
     "text": [
      "\n"
     ]
    }
   ],
   "source": [
    "best_checkpoint = trainer.checkpoint_callback.best_model_path\n",
    "print(best_checkpoint)"
   ]
  },
  {
   "cell_type": "code",
   "execution_count": null,
   "id": "8eca0de6-b90d-4fe6-b37c-e9d23a464ac5",
   "metadata": {},
   "outputs": [],
   "source": []
  },
  {
   "cell_type": "markdown",
   "id": "043e1071-5f5d-4cf1-8d76-72822a3130f1",
   "metadata": {},
   "source": [
    "## Evaluate model"
   ]
  },
  {
   "cell_type": "markdown",
   "id": "09317c76-0bc8-4099-ab65-d8428c8bc8fc",
   "metadata": {},
   "source": [
    "We now evaluate the model's performance on the test dataset."
   ]
  },
  {
   "cell_type": "code",
   "execution_count": 22,
   "id": "2623f43e-5cd3-4751-a5f0-3416687be01e",
   "metadata": {},
   "outputs": [
    {
     "name": "stderr",
     "output_type": "stream",
     "text": [
      "GPU available: True (cuda), used: True\n",
      "TPU available: False, using: 0 TPU cores\n",
      "HPU available: False, using: 0 HPUs\n",
      "LOCAL_RANK: 0 - CUDA_VISIBLE_DEVICES: [0,1,2,3,4,5,6,7]\n"
     ]
    },
    {
     "name": "stdout",
     "output_type": "stream",
     "text": [
      "Testing DataLoader 0: 100%|█████████████████████████████████████████████████████████████████████████████████████████████████████████████| 3/3 [00:03<00:00,  0.92it/s]\n"
     ]
    },
    {
     "data": {
      "text/html": [
       "<pre style=\"white-space:pre;overflow-x:auto;line-height:normal;font-family:Menlo,'DejaVu Sans Mono',consolas,'Courier New',monospace\">┏━━━━━━━━━━━━━━━━━━━━━━━━━━━┳━━━━━━━━━━━━━━━━━━━━━━━━━━━┓\n",
       "┃<span style=\"font-weight: bold\">        Test metric        </span>┃<span style=\"font-weight: bold\">       DataLoader 0        </span>┃\n",
       "┡━━━━━━━━━━━━━━━━━━━━━━━━━━━╇━━━━━━━━━━━━━━━━━━━━━━━━━━━┩\n",
       "│<span style=\"color: #008080; text-decoration-color: #008080\">         test_loss         </span>│<span style=\"color: #800080; text-decoration-color: #800080\">    0.3614264130592346     </span>│\n",
       "│<span style=\"color: #008080; text-decoration-color: #008080\">         test_mse          </span>│<span style=\"color: #800080; text-decoration-color: #800080\">    0.3638118505477905     </span>│\n",
       "│<span style=\"color: #008080; text-decoration-color: #008080\">       test_pearson        </span>│<span style=\"color: #800080; text-decoration-color: #800080\">    0.8008037805557251     </span>│\n",
       "└───────────────────────────┴───────────────────────────┘\n",
       "</pre>\n"
      ],
      "text/plain": [
       "┏━━━━━━━━━━━━━━━━━━━━━━━━━━━┳━━━━━━━━━━━━━━━━━━━━━━━━━━━┓\n",
       "┃\u001b[1m \u001b[0m\u001b[1m       Test metric       \u001b[0m\u001b[1m \u001b[0m┃\u001b[1m \u001b[0m\u001b[1m      DataLoader 0       \u001b[0m\u001b[1m \u001b[0m┃\n",
       "┡━━━━━━━━━━━━━━━━━━━━━━━━━━━╇━━━━━━━━━━━━━━━━━━━━━━━━━━━┩\n",
       "│\u001b[36m \u001b[0m\u001b[36m        test_loss        \u001b[0m\u001b[36m \u001b[0m│\u001b[35m \u001b[0m\u001b[35m   0.3614264130592346    \u001b[0m\u001b[35m \u001b[0m│\n",
       "│\u001b[36m \u001b[0m\u001b[36m        test_mse         \u001b[0m\u001b[36m \u001b[0m│\u001b[35m \u001b[0m\u001b[35m   0.3638118505477905    \u001b[0m\u001b[35m \u001b[0m│\n",
       "│\u001b[36m \u001b[0m\u001b[36m      test_pearson       \u001b[0m\u001b[36m \u001b[0m│\u001b[35m \u001b[0m\u001b[35m   0.8008037805557251    \u001b[0m\u001b[35m \u001b[0m│\n",
       "└───────────────────────────┴───────────────────────────┘\n"
      ]
     },
     "metadata": {},
     "output_type": "display_data"
    },
    {
     "data": {
      "text/html": [
       "<div>\n",
       "<style scoped>\n",
       "    .dataframe tbody tr th:only-of-type {\n",
       "        vertical-align: middle;\n",
       "    }\n",
       "\n",
       "    .dataframe tbody tr th {\n",
       "        vertical-align: top;\n",
       "    }\n",
       "\n",
       "    .dataframe thead th {\n",
       "        text-align: right;\n",
       "    }\n",
       "</style>\n",
       "<table border=\"1\" class=\"dataframe\">\n",
       "  <thead>\n",
       "    <tr style=\"text-align: right;\">\n",
       "      <th></th>\n",
       "      <th>test_mse</th>\n",
       "      <th>test_pearson</th>\n",
       "    </tr>\n",
       "  </thead>\n",
       "  <tbody>\n",
       "    <tr>\n",
       "      <th>ENCFF093VXI</th>\n",
       "      <td>0.363812</td>\n",
       "      <td>0.800804</td>\n",
       "    </tr>\n",
       "  </tbody>\n",
       "</table>\n",
       "</div>"
      ],
      "text/plain": [
       "             test_mse  test_pearson\n",
       "ENCFF093VXI  0.363812      0.800804"
      ]
     },
     "execution_count": 22,
     "metadata": {},
     "output_type": "execute_result"
    }
   ],
   "source": [
    "test_metrics = model.test_on_dataset(\n",
    "    test_ds,\n",
    "    batch_size=512,\n",
    "    devices=0,\n",
    "    num_workers=8\n",
    ")\n",
    "\n",
    "test_metrics"
   ]
  },
  {
   "cell_type": "markdown",
   "id": "6290200b-98ad-4ba2-a082-761c5aeaa648",
   "metadata": {},
   "source": [
    "## Run inference on held out sequences"
   ]
  },
  {
   "cell_type": "markdown",
   "id": "1397399f-94f2-4e6d-81c0-8171d65b252e",
   "metadata": {},
   "source": [
    "We can now get the predicted total coverage for each sequence in the test set."
   ]
  },
  {
   "cell_type": "code",
   "execution_count": 23,
   "id": "e963879f-80c7-4d34-a24b-ec8742ba6a05",
   "metadata": {},
   "outputs": [
    {
     "name": "stderr",
     "output_type": "stream",
     "text": [
      "GPU available: True (cuda), used: True\n",
      "TPU available: False, using: 0 TPU cores\n",
      "HPU available: False, using: 0 HPUs\n",
      "LOCAL_RANK: 0 - CUDA_VISIBLE_DEVICES: [0,1,2,3,4,5,6,7]\n"
     ]
    },
    {
     "name": "stdout",
     "output_type": "stream",
     "text": [
      "Predicting DataLoader 0: 100%|██████████████████████████████████████████████████████████████████████████████████████████████████████████| 6/6 [00:01<00:00,  4.14it/s]\n"
     ]
    },
    {
     "data": {
      "text/plain": [
       "(1449, 1, 1)"
      ]
     },
     "execution_count": 23,
     "metadata": {},
     "output_type": "execute_result"
    }
   ],
   "source": [
    "preds = model.predict_on_dataset(\n",
    "    test_ds, devices=0, num_workers=8\n",
    "    )\n",
    "preds.shape"
   ]
  },
  {
   "cell_type": "markdown",
   "id": "eabbf4de-aded-44e0-b4cd-8e87e10b397b",
   "metadata": {},
   "source": [
    "We can visualize a scatter plot of predicted vs. true coverage values"
   ]
  },
  {
   "cell_type": "code",
   "execution_count": 24,
   "id": "31aa4cc6-57ed-41dc-b852-d56c3395c26b",
   "metadata": {},
   "outputs": [],
   "source": [
    "import scipy.stats"
   ]
  },
  {
   "cell_type": "code",
   "execution_count": 25,
   "id": "6b892e30-1a92-487d-a516-a1f6dae13d19",
   "metadata": {},
   "outputs": [
    {
     "data": {
      "text/plain": [
       "PearsonRResult(statistic=0.8008037846693019, pvalue=0.0)"
      ]
     },
     "execution_count": 25,
     "metadata": {},
     "output_type": "execute_result"
    }
   ],
   "source": [
    "scipy.stats.pearsonr(preds.ravel(), test_ds.get_labels().ravel())"
   ]
  },
  {
   "cell_type": "code",
   "execution_count": 26,
   "id": "3fa263c5-d7a7-457f-b4c1-46c056930bbb",
   "metadata": {},
   "outputs": [],
   "source": [
    "import matplotlib.pyplot as plt"
   ]
  },
  {
   "cell_type": "code",
   "execution_count": 27,
   "id": "dabfeb23-5f9c-425f-9d36-ee9475d490e7",
   "metadata": {},
   "outputs": [],
   "source": [
    "from plotnine import *"
   ]
  },
  {
   "cell_type": "code",
   "execution_count": 56,
   "id": "a89ff769-870a-48b7-9e87-3f7609275e26",
   "metadata": {},
   "outputs": [],
   "source": [
    "plot = grelu.visualize.plot_pred_scatter(\n",
    "    preds=preds,\n",
    "    labels=test_ds.get_labels(),\n",
    "    density=True, # Color points by local density\n",
    "    figsize=(3, 2.5), # width, height\n",
    "    size=.1\n",
    ") + ggtitle(\"Test set (chr11) prediction\") + theme(text = element_text(size = 10), legend_key_size=5)"
   ]
  },
  {
   "cell_type": "code",
   "execution_count": 60,
   "id": "1467a6d4-a77c-4c85-95e1-32d546a6315a",
   "metadata": {},
   "outputs": [
    {
     "data": {
      "image/png": "[encoded data removed]"
     },
     "metadata": {
      "image/png": {
       "height": 250,
       "width": 300
      }
     },
     "output_type": "display_data"
    }
   ],
   "source": [
    "plot"
   ]
  },
  {
   "cell_type": "code",
   "execution_count": null,
   "id": "661a6098-99f4-4e0a-901c-f961f779f28d",
   "metadata": {},
   "outputs": [],
   "source": []
  },
  {
   "cell_type": "code",
   "execution_count": 61,
   "id": "91ed7988-6a3a-44cd-8bb8-63f6af5f3d2b",
   "metadata": {},
   "outputs": [
    {
     "name": "stderr",
     "output_type": "stream",
     "text": [
      "/usr/local/lib/python3.11/dist-packages/plotnine/ggplot.py:606: PlotnineWarning: Saving 3 x 2.5 in image.\n",
      "/usr/local/lib/python3.11/dist-packages/plotnine/ggplot.py:607: PlotnineWarning: Filename: test.pdf\n"
     ]
    }
   ],
   "source": [
    "plot.save(\"test.pdf\", dpi=300)"
   ]
  },
  {
   "cell_type": "code",
   "execution_count": null,
   "id": "744515ae-efcc-4672-975b-214ca89282da",
   "metadata": {},
   "outputs": [],
   "source": []
  },
  {
   "cell_type": "code",
   "execution_count": null,
   "id": "24f26bdf-2709-4398-b25a-c17ff73fd0fc",
   "metadata": {},
   "outputs": [],
   "source": []
  }
 ],
 "metadata": {
  "kernelspec": {
   "display_name": "Python 3 (ipykernel)",
   "language": "python",
   "name": "python3"
  },
  "language_info": {
   "codemirror_mode": {
    "name": "ipython",
    "version": 3
   },
   "file_extension": ".py",
   "mimetype": "text/x-python",
   "name": "python",
   "nbconvert_exporter": "python",
   "pygments_lexer": "ipython3",
   "version": "3.11.8"
  }
 },
 "nbformat": 4,
 "nbformat_minor": 5
}
