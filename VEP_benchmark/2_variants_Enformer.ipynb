{
 "cells": [
  {
   "cell_type": "markdown",
   "id": "9b5fb36a-bc93-4f66-b91f-8cc586c56e87",
   "metadata": {},
   "source": [
    "# Score LCL dsQTL variants with Enformer"
   ]
  },
  {
   "cell_type": "markdown",
   "id": "f945eb76-8120-48cc-8983-073f70905d28",
   "metadata": {},
   "source": [
    "In this notebook, we score LCL dsQTLs with Enformer from the gReLU zoo."
   ]
  },
  {
   "cell_type": "code",
   "execution_count": 1,
   "id": "a4ef50fb-af60-490c-86cb-1ab762869ab2",
   "metadata": {},
   "outputs": [],
   "source": [
    "# ! pip install git+https://github.com/Genentech/gReLU"
   ]
  },
  {
   "cell_type": "code",
   "execution_count": 1,
   "id": "d79a359c-ed31-4ab7-84dd-ed859ba7fa83",
   "metadata": {},
   "outputs": [],
   "source": [
    "import os\n",
    "import numpy as np\n",
    "import pandas as pd\n",
    "import torch\n",
    "from tqdm import tqdm\n",
    "import warnings"
   ]
  },
  {
   "cell_type": "code",
   "execution_count": 2,
   "id": "59e40a76-460a-417d-ba3f-d47491e5e8dc",
   "metadata": {},
   "outputs": [],
   "source": [
    "import matplotlib as mpl\n",
    "mpl.rcParams['pdf.fonttype'] = 42\n",
    "mpl.rcParams['ps.fonttype'] = 42"
   ]
  },
  {
   "cell_type": "markdown",
   "id": "bf7b4807-a380-4bc8-ab66-1946e70643cf",
   "metadata": {},
   "source": [
    "## Set experiment parameters"
   ]
  },
  {
   "cell_type": "code",
   "execution_count": 3,
   "id": "f128210e-47e3-453d-8d2b-125050e7e2dd",
   "metadata": {},
   "outputs": [
    {
     "data": {
      "text/plain": [
       "'1.0.5.post1.dev13'"
      ]
     },
     "execution_count": 3,
     "metadata": {},
     "output_type": "execute_result"
    }
   ],
   "source": [
    "import grelu\n",
    "grelu.__version__"
   ]
  },
  {
   "cell_type": "code",
   "execution_count": 4,
   "id": "cb7564d7-96e6-4b80-a857-7574bf7107e4",
   "metadata": {},
   "outputs": [
    {
     "name": "stderr",
     "output_type": "stream",
     "text": [
      "/home/nairs51/miniforge3/envs/grelu/lib/python3.11/site-packages/tqdm/auto.py:21: TqdmWarning: IProgress not found. Please update jupyter and ipywidgets. See https://ipywidgets.readthedocs.io/en/stable/user_install.html\n",
      "  from .autonotebook import tqdm as notebook_tqdm\n"
     ]
    }
   ],
   "source": [
    "import grelu.lightning\n",
    "import grelu.resources"
   ]
  },
  {
   "cell_type": "code",
   "execution_count": 5,
   "id": "6a3ec7ea-51f9-4c71-87a0-da665b88b636",
   "metadata": {
    "scrolled": true
   },
   "outputs": [
    {
     "name": "stderr",
     "output_type": "stream",
     "text": [
      "\u001b[34m\u001b[1mwandb\u001b[0m: Currently logged in as: \u001b[33manony-mouse-444847806635717680\u001b[0m to \u001b[32mhttps://api.wandb.ai\u001b[0m. Use \u001b[1m`wandb login --relogin`\u001b[0m to force relogin\n",
      "\u001b[34m\u001b[1mwandb\u001b[0m: \u001b[33mWARNING\u001b[0m Serializing object of type list that is 277336 bytes\n",
      "\u001b[34m\u001b[1mwandb\u001b[0m: \u001b[33mWARNING\u001b[0m Serializing object of type list that is 277336 bytes\n",
      "\u001b[34m\u001b[1mwandb\u001b[0m: \u001b[33mWARNING\u001b[0m Serializing object of type list that is 277336 bytes\n",
      "\u001b[34m\u001b[1mwandb\u001b[0m: \u001b[33mWARNING\u001b[0m Serializing object of type list that is 277336 bytes\n",
      "\u001b[34m\u001b[1mwandb\u001b[0m: \u001b[33mWARNING\u001b[0m Serializing object of type list that is 277336 bytes\n",
      "\u001b[34m\u001b[1mwandb\u001b[0m: \u001b[33mWARNING\u001b[0m Serializing object of type list that is 277336 bytes\n",
      "\u001b[34m\u001b[1mwandb\u001b[0m: Downloading large artifact human:latest, 941.03MB. 1 files... \n",
      "\u001b[34m\u001b[1mwandb\u001b[0m:   1 of 1 files downloaded.  \n",
      "Done. 0:0:0.7\n"
     ]
    }
   ],
   "source": [
    "model = grelu.resources.load_model(project=\"enformer\",\n",
    "                                   model_name=\"human\",\n",
    "                                   host=\"https://api.wandb.ai\")"
   ]
  },
  {
   "cell_type": "markdown",
   "id": "3e90b72a-234f-498b-bd52-9aef7d9927aa",
   "metadata": {},
   "source": [
    "List of Enformer tasks."
   ]
  },
  {
   "cell_type": "code",
   "execution_count": 6,
   "id": "a9ee87e9-6577-45ed-bd21-50fe594b7476",
   "metadata": {},
   "outputs": [
    {
     "data": {
      "text/html": [
       "<div>\n",
       "<style scoped>\n",
       "    .dataframe tbody tr th:only-of-type {\n",
       "        vertical-align: middle;\n",
       "    }\n",
       "\n",
       "    .dataframe tbody tr th {\n",
       "        vertical-align: top;\n",
       "    }\n",
       "\n",
       "    .dataframe thead th {\n",
       "        text-align: right;\n",
       "    }\n",
       "</style>\n",
       "<table border=\"1\" class=\"dataframe\">\n",
       "  <thead>\n",
       "    <tr style=\"text-align: right;\">\n",
       "      <th></th>\n",
       "      <th>name</th>\n",
       "      <th>file</th>\n",
       "      <th>clip</th>\n",
       "      <th>scale</th>\n",
       "      <th>sum_stat</th>\n",
       "      <th>description</th>\n",
       "      <th>assay</th>\n",
       "      <th>sample</th>\n",
       "    </tr>\n",
       "  </thead>\n",
       "  <tbody>\n",
       "    <tr>\n",
       "      <th>0</th>\n",
       "      <td>ENCFF833POA</td>\n",
       "      <td>/home/drk/tillage/datasets/human/dnase/encode/...</td>\n",
       "      <td>32</td>\n",
       "      <td>2</td>\n",
       "      <td>mean</td>\n",
       "      <td>DNASE:cerebellum male adult (27 years) and mal...</td>\n",
       "      <td>DNASE</td>\n",
       "      <td>cerebellum male adult (27 years) and male adul...</td>\n",
       "    </tr>\n",
       "    <tr>\n",
       "      <th>1</th>\n",
       "      <td>ENCFF110QGM</td>\n",
       "      <td>/home/drk/tillage/datasets/human/dnase/encode/...</td>\n",
       "      <td>32</td>\n",
       "      <td>2</td>\n",
       "      <td>mean</td>\n",
       "      <td>DNASE:frontal cortex male adult (27 years) and...</td>\n",
       "      <td>DNASE</td>\n",
       "      <td>frontal cortex male adult (27 years) and male ...</td>\n",
       "    </tr>\n",
       "    <tr>\n",
       "      <th>2</th>\n",
       "      <td>ENCFF880MKD</td>\n",
       "      <td>/home/drk/tillage/datasets/human/dnase/encode/...</td>\n",
       "      <td>32</td>\n",
       "      <td>2</td>\n",
       "      <td>mean</td>\n",
       "      <td>DNASE:chorion</td>\n",
       "      <td>DNASE</td>\n",
       "      <td>chorion</td>\n",
       "    </tr>\n",
       "    <tr>\n",
       "      <th>3</th>\n",
       "      <td>ENCFF463ZLQ</td>\n",
       "      <td>/home/drk/tillage/datasets/human/dnase/encode/...</td>\n",
       "      <td>32</td>\n",
       "      <td>2</td>\n",
       "      <td>mean</td>\n",
       "      <td>DNASE:Ishikawa treated with 0.02% dimethyl sul...</td>\n",
       "      <td>DNASE</td>\n",
       "      <td>Ishikawa treated with 0.02% dimethyl sulfoxide...</td>\n",
       "    </tr>\n",
       "    <tr>\n",
       "      <th>4</th>\n",
       "      <td>ENCFF890OGQ</td>\n",
       "      <td>/home/drk/tillage/datasets/human/dnase/encode/...</td>\n",
       "      <td>32</td>\n",
       "      <td>2</td>\n",
       "      <td>mean</td>\n",
       "      <td>DNASE:GM03348</td>\n",
       "      <td>DNASE</td>\n",
       "      <td>GM03348</td>\n",
       "    </tr>\n",
       "  </tbody>\n",
       "</table>\n",
       "</div>"
      ],
      "text/plain": [
       "          name                                               file  clip  \\\n",
       "0  ENCFF833POA  /home/drk/tillage/datasets/human/dnase/encode/...    32   \n",
       "1  ENCFF110QGM  /home/drk/tillage/datasets/human/dnase/encode/...    32   \n",
       "2  ENCFF880MKD  /home/drk/tillage/datasets/human/dnase/encode/...    32   \n",
       "3  ENCFF463ZLQ  /home/drk/tillage/datasets/human/dnase/encode/...    32   \n",
       "4  ENCFF890OGQ  /home/drk/tillage/datasets/human/dnase/encode/...    32   \n",
       "\n",
       "   scale sum_stat                                        description  assay  \\\n",
       "0      2     mean  DNASE:cerebellum male adult (27 years) and mal...  DNASE   \n",
       "1      2     mean  DNASE:frontal cortex male adult (27 years) and...  DNASE   \n",
       "2      2     mean                                      DNASE:chorion  DNASE   \n",
       "3      2     mean  DNASE:Ishikawa treated with 0.02% dimethyl sul...  DNASE   \n",
       "4      2     mean                                      DNASE:GM03348  DNASE   \n",
       "\n",
       "                                              sample  \n",
       "0  cerebellum male adult (27 years) and male adul...  \n",
       "1  frontal cortex male adult (27 years) and male ...  \n",
       "2                                            chorion  \n",
       "3  Ishikawa treated with 0.02% dimethyl sulfoxide...  \n",
       "4                                            GM03348  "
      ]
     },
     "execution_count": 6,
     "metadata": {},
     "output_type": "execute_result"
    }
   ],
   "source": [
    "tasks = pd.DataFrame(model.data_params['tasks'])\n",
    "tasks.head()"
   ]
  },
  {
   "cell_type": "code",
   "execution_count": 7,
   "id": "ca580846-9f3e-413f-b107-a455c7ee128a",
   "metadata": {},
   "outputs": [
    {
     "data": {
      "text/html": [
       "<div>\n",
       "<style scoped>\n",
       "    .dataframe tbody tr th:only-of-type {\n",
       "        vertical-align: middle;\n",
       "    }\n",
       "\n",
       "    .dataframe tbody tr th {\n",
       "        vertical-align: top;\n",
       "    }\n",
       "\n",
       "    .dataframe thead th {\n",
       "        text-align: right;\n",
       "    }\n",
       "</style>\n",
       "<table border=\"1\" class=\"dataframe\">\n",
       "  <thead>\n",
       "    <tr style=\"text-align: right;\">\n",
       "      <th></th>\n",
       "      <th>name</th>\n",
       "      <th>file</th>\n",
       "      <th>clip</th>\n",
       "      <th>scale</th>\n",
       "      <th>sum_stat</th>\n",
       "      <th>description</th>\n",
       "      <th>assay</th>\n",
       "      <th>sample</th>\n",
       "    </tr>\n",
       "  </thead>\n",
       "  <tbody>\n",
       "    <tr>\n",
       "      <th>12</th>\n",
       "      <td>ENCFF093VXI</td>\n",
       "      <td>/home/drk/tillage/datasets/human/dnase/encode/...</td>\n",
       "      <td>32</td>\n",
       "      <td>2</td>\n",
       "      <td>mean</td>\n",
       "      <td>DNASE:GM12878</td>\n",
       "      <td>DNASE</td>\n",
       "      <td>GM12878</td>\n",
       "    </tr>\n",
       "  </tbody>\n",
       "</table>\n",
       "</div>"
      ],
      "text/plain": [
       "           name                                               file  clip  \\\n",
       "12  ENCFF093VXI  /home/drk/tillage/datasets/human/dnase/encode/...    32   \n",
       "\n",
       "    scale sum_stat    description  assay   sample  \n",
       "12      2     mean  DNASE:GM12878  DNASE  GM12878  "
      ]
     },
     "execution_count": 7,
     "metadata": {},
     "output_type": "execute_result"
    }
   ],
   "source": [
    "tasks[tasks['name']==\"ENCFF093VXI\"]"
   ]
  },
  {
   "cell_type": "code",
   "execution_count": 8,
   "id": "a24aa463-8e64-4c5e-9717-a45046baeb00",
   "metadata": {},
   "outputs": [],
   "source": [
    "TASK_IDX = 12"
   ]
  },
  {
   "cell_type": "code",
   "execution_count": 9,
   "id": "5fa826eb-b466-48da-9ace-53959afa878f",
   "metadata": {},
   "outputs": [
    {
     "data": {
      "text/plain": [
       "196608"
      ]
     },
     "execution_count": 9,
     "metadata": {},
     "output_type": "execute_result"
    }
   ],
   "source": [
    "SEQLEN = model.data_params['train']['seq_len']\n",
    "SEQLEN"
   ]
  },
  {
   "cell_type": "code",
   "execution_count": 10,
   "id": "72a260fa-e127-45a9-a72c-5b1502c4b85e",
   "metadata": {},
   "outputs": [
    {
     "data": {
      "text/plain": [
       "114688"
      ]
     },
     "execution_count": 10,
     "metadata": {},
     "output_type": "execute_result"
    }
   ],
   "source": [
    "OUTLEN = model.data_params['train']['label_len']\n",
    "OUTLEN"
   ]
  },
  {
   "cell_type": "code",
   "execution_count": 11,
   "id": "3b898dfe-f410-4292-955c-930b39a5b539",
   "metadata": {},
   "outputs": [
    {
     "data": {
      "text/plain": [
       "128"
      ]
     },
     "execution_count": 11,
     "metadata": {},
     "output_type": "execute_result"
    }
   ],
   "source": [
    "BINSIZE = model.data_params['train']['bin_size']\n",
    "BINSIZE"
   ]
  },
  {
   "cell_type": "code",
   "execution_count": null,
   "id": "8a743b44-290d-4ba8-bd58-1bbdc73be2ae",
   "metadata": {},
   "outputs": [],
   "source": []
  },
  {
   "cell_type": "markdown",
   "id": "d5d89c0d-6b4c-47d2-9568-1617586bea2f",
   "metadata": {},
   "source": [
    "## Variants"
   ]
  },
  {
   "cell_type": "code",
   "execution_count": 12,
   "id": "03365109-120a-44bd-ae14-b653996e4ce9",
   "metadata": {},
   "outputs": [
    {
     "data": {
      "text/html": [
       "<div>\n",
       "<style scoped>\n",
       "    .dataframe tbody tr th:only-of-type {\n",
       "        vertical-align: middle;\n",
       "    }\n",
       "\n",
       "    .dataframe tbody tr th {\n",
       "        vertical-align: top;\n",
       "    }\n",
       "\n",
       "    .dataframe thead th {\n",
       "        text-align: right;\n",
       "    }\n",
       "</style>\n",
       "<table border=\"1\" class=\"dataframe\">\n",
       "  <thead>\n",
       "    <tr style=\"text-align: right;\">\n",
       "      <th></th>\n",
       "      <th>chrom</th>\n",
       "      <th>pos</th>\n",
       "      <th>ref</th>\n",
       "      <th>alt</th>\n",
       "      <th>label</th>\n",
       "      <th>abs_gkm_SVM</th>\n",
       "      <th>start</th>\n",
       "      <th>end</th>\n",
       "    </tr>\n",
       "  </thead>\n",
       "  <tbody>\n",
       "    <tr>\n",
       "      <th>0</th>\n",
       "      <td>chr1</td>\n",
       "      <td>856583</td>\n",
       "      <td>A</td>\n",
       "      <td>G</td>\n",
       "      <td>1</td>\n",
       "      <td>2.653531</td>\n",
       "      <td>856583</td>\n",
       "      <td>856584</td>\n",
       "    </tr>\n",
       "    <tr>\n",
       "      <th>1</th>\n",
       "      <td>chr1</td>\n",
       "      <td>911595</td>\n",
       "      <td>G</td>\n",
       "      <td>A</td>\n",
       "      <td>1</td>\n",
       "      <td>2.821422</td>\n",
       "      <td>911595</td>\n",
       "      <td>911596</td>\n",
       "    </tr>\n",
       "    <tr>\n",
       "      <th>2</th>\n",
       "      <td>chr1</td>\n",
       "      <td>1186502</td>\n",
       "      <td>T</td>\n",
       "      <td>A</td>\n",
       "      <td>1</td>\n",
       "      <td>7.167236</td>\n",
       "      <td>1186502</td>\n",
       "      <td>1186503</td>\n",
       "    </tr>\n",
       "    <tr>\n",
       "      <th>3</th>\n",
       "      <td>chr1</td>\n",
       "      <td>1227412</td>\n",
       "      <td>A</td>\n",
       "      <td>G</td>\n",
       "      <td>1</td>\n",
       "      <td>3.957382</td>\n",
       "      <td>1227412</td>\n",
       "      <td>1227413</td>\n",
       "    </tr>\n",
       "    <tr>\n",
       "      <th>4</th>\n",
       "      <td>chr1</td>\n",
       "      <td>1590575</td>\n",
       "      <td>A</td>\n",
       "      <td>G</td>\n",
       "      <td>1</td>\n",
       "      <td>4.785596</td>\n",
       "      <td>1590575</td>\n",
       "      <td>1590576</td>\n",
       "    </tr>\n",
       "  </tbody>\n",
       "</table>\n",
       "</div>"
      ],
      "text/plain": [
       "  chrom      pos ref alt  label  abs_gkm_SVM    start      end\n",
       "0  chr1   856583   A   G      1     2.653531   856583   856584\n",
       "1  chr1   911595   G   A      1     2.821422   911595   911596\n",
       "2  chr1  1186502   T   A      1     7.167236  1186502  1186503\n",
       "3  chr1  1227412   A   G      1     3.957382  1227412  1227413\n",
       "4  chr1  1590575   A   G      1     4.785596  1590575  1590576"
      ]
     },
     "execution_count": 12,
     "metadata": {},
     "output_type": "execute_result"
    }
   ],
   "source": [
    "# file can be downloaded from https://static-content.springer.com/esm/art%3A10.1038%2Fng.3331/MediaObjects/41588_2015_BFng3331_MOESM26_ESM.xlsx\n",
    "variants_df = pd.read_csv(\"/home/nairs51/resources/LCL_dsQTL/41588_2015_BFng3331_MOESM26_ESM.tsv\", sep='\\t')\n",
    "variants_df = variants_df[['chrom_hg19', 'pos_hg19', 'allele1', 'allele2', 'label', 'abs_gkm_SVM']]\n",
    "variants_df = variants_df.set_axis(['chrom', 'pos', 'ref', 'alt', 'label', 'abs_gkm_SVM'], axis=1)\n",
    "variants_df['label'] = variants_df['label'].replace(-1, 0)\n",
    "\n",
    "variants_df['start'] = variants_df['pos']\n",
    "variants_df['end'] = variants_df['start'] + 1\n",
    "\n",
    "variants_df.head()"
   ]
  },
  {
   "cell_type": "code",
   "execution_count": 13,
   "id": "7df002e4-2322-4296-b36a-9a3a00b04b44",
   "metadata": {},
   "outputs": [],
   "source": [
    "from grelu.data.preprocess import filter_blacklist, filter_chromosomes, filter_chrom_ends\n",
    "from grelu.variant import filter_variants"
   ]
  },
  {
   "cell_type": "code",
   "execution_count": null,
   "id": "b6143c3a-5ea1-4a9a-ad09-e5119b14c082",
   "metadata": {},
   "outputs": [],
   "source": []
  },
  {
   "cell_type": "code",
   "execution_count": 14,
   "id": "8b38da9c-7d99-4ae1-b287-c9d725795e69",
   "metadata": {},
   "outputs": [
    {
     "name": "stdout",
     "output_type": "stream",
     "text": [
      "Initial number of variants: 28309\n",
      "Final number of variants: 28309\n"
     ]
    }
   ],
   "source": [
    "variants = filter_variants(variants_df, max_del_len=0, max_insert_len=0, standard_bases=True)"
   ]
  },
  {
   "cell_type": "code",
   "execution_count": 15,
   "id": "b9d77ffd-79bd-4d38-9112-67bd473d2277",
   "metadata": {},
   "outputs": [
    {
     "name": "stdout",
     "output_type": "stream",
     "text": [
      "Keeping 28309 intervals\n"
     ]
    }
   ],
   "source": [
    "variants = filter_chromosomes(variants, include='autosomesXY')"
   ]
  },
  {
   "cell_type": "markdown",
   "id": "f34ca284-5d05-4ce6-a5b9-a4b3296b39be",
   "metadata": {},
   "source": [
    "Remove those near edge of chromosome, that will go out of bound for Enformer with variant at center."
   ]
  },
  {
   "cell_type": "code",
   "execution_count": 16,
   "id": "a90bb4f0-d2ad-4991-a7a3-36907ef5f7f8",
   "metadata": {},
   "outputs": [
    {
     "name": "stdout",
     "output_type": "stream",
     "text": [
      "Keeping 28274 intervals\n"
     ]
    }
   ],
   "source": [
    "variants = filter_chrom_ends(variants, genome='hg19', pad=SEQLEN//2)"
   ]
  },
  {
   "cell_type": "code",
   "execution_count": null,
   "id": "e756fde2-4bec-45f9-92d9-4f25ee81cfea",
   "metadata": {},
   "outputs": [],
   "source": []
  },
  {
   "cell_type": "markdown",
   "id": "a593fce2-1d82-4d19-83b2-63e32bd14f68",
   "metadata": {},
   "source": [
    "## Predict"
   ]
  },
  {
   "cell_type": "markdown",
   "id": "2e54dd55-5bfd-476d-985b-11b0317e29d2",
   "metadata": {},
   "source": [
    "Aggregate the output in central 8 bins corresponding to 128*8=1024 bases."
   ]
  },
  {
   "cell_type": "code",
   "execution_count": 17,
   "id": "f933889a-6260-483c-80fb-ad0147e3c3d3",
   "metadata": {},
   "outputs": [
    {
     "data": {
      "text/plain": [
       "(444, 452)"
      ]
     },
     "execution_count": 17,
     "metadata": {},
     "output_type": "execute_result"
    }
   ],
   "source": [
    "OUTLEN//BINSIZE//2-4, OUTLEN//BINSIZE//2+4"
   ]
  },
  {
   "cell_type": "code",
   "execution_count": 18,
   "id": "ce9a6310-3962-4d45-8b37-84e5796e4570",
   "metadata": {},
   "outputs": [],
   "source": [
    "def logsum_length_aggfunc(x, axis, keepdims):\n",
    "    return torch.log1p(torch.sum(x, axis=axis, keepdims=keepdims))"
   ]
  },
  {
   "cell_type": "code",
   "execution_count": 19,
   "id": "05ab6921-5141-4d67-ab8b-829be25c7415",
   "metadata": {},
   "outputs": [],
   "source": [
    "from grelu.transforms.prediction_transforms import Aggregate\n",
    "lcl_score = Aggregate(tasks=[TASK_IDX], # ENCFF093VXI (GM12878 DNase)\n",
    "                      positions=list(range(OUTLEN//BINSIZE//2-4, OUTLEN//BINSIZE//2+4)),\n",
    "                      length_aggfunc=logsum_length_aggfunc, # output log sum\n",
    "                      model=model)"
   ]
  },
  {
   "cell_type": "code",
   "execution_count": null,
   "id": "162c8091-e91d-4492-a842-b71fee542819",
   "metadata": {},
   "outputs": [],
   "source": []
  },
  {
   "cell_type": "code",
   "execution_count": 20,
   "id": "b87d68ca-2d66-4a8b-922f-9b1eaa1ba07c",
   "metadata": {},
   "outputs": [
    {
     "name": "stdout",
     "output_type": "stream",
     "text": [
      "making dataset\n"
     ]
    },
    {
     "name": "stderr",
     "output_type": "stream",
     "text": [
      "GPU available: True (cuda), used: True\n",
      "TPU available: False, using: 0 TPU cores\n",
      "HPU available: False, using: 0 HPUs\n",
      "/home/nairs51/miniforge3/envs/grelu/lib/python3.11/site-packages/pytorch_lightning/trainer/connectors/logger_connector/logger_connector.py:76: Starting from v1.9.0, `tensorboardX` has been removed as a dependency of the `pytorch_lightning` package, due to potential conflicts with other packages in the ML ecosystem. For this reason, `logger=True` will use `CSVLogger` as the default logger, unless the `tensorboard` or `tensorboardX` packages are found. Please `pip install lightning[extra]` or one of them to enable TensorBoard support by default\n",
      "LOCAL_RANK: 0 - CUDA_VISIBLE_DEVICES: [0,1,2,3,4,5,6,7]\n"
     ]
    },
    {
     "name": "stdout",
     "output_type": "stream",
     "text": [
      "Predicting DataLoader 0: 100%|███████████████████████████████████████████████████████████████████████████████████████████████████████████████████████████████████████████████████████████████████████████████████████████████████████████████████████| 28274/28274 [2:16:44<00:00,  3.45it/s]\n"
     ]
    }
   ],
   "source": [
    "import grelu.variant\n",
    "\n",
    "odds = grelu.variant.predict_variant_effects(\n",
    "    variants=variants,\n",
    "    model=model, \n",
    "    seq_len=SEQLEN,\n",
    "    devices=4, # Run on GPU 4\n",
    "    num_workers=8,\n",
    "    batch_size=4,\n",
    "    genome=\"hg19\",\n",
    "    compare_func=\"subtract\", \n",
    "    prediction_transform=lcl_score,\n",
    "    return_ad=False, # Return an anndata object.\n",
    "    rc = True, # Reverse complement the ref/alt predictions and average them.\n",
    ")"
   ]
  },
  {
   "cell_type": "code",
   "execution_count": 22,
   "id": "a0256336-267a-4066-b7f5-6d01e5d182a2",
   "metadata": {},
   "outputs": [
    {
     "data": {
      "text/plain": [
       "(28274, 1, 1)"
      ]
     },
     "execution_count": 22,
     "metadata": {},
     "output_type": "execute_result"
    }
   ],
   "source": [
    "odds.shape"
   ]
  },
  {
   "cell_type": "code",
   "execution_count": 23,
   "id": "7a56a834-26c7-490b-8605-39ebbe781681",
   "metadata": {},
   "outputs": [],
   "source": [
    "import sklearn.metrics"
   ]
  },
  {
   "cell_type": "code",
   "execution_count": 25,
   "id": "8ef4fdd2-8964-411f-bd50-312f8fda6c98",
   "metadata": {},
   "outputs": [
    {
     "data": {
      "text/plain": [
       "0.6018102676743534"
      ]
     },
     "execution_count": 25,
     "metadata": {},
     "output_type": "execute_result"
    }
   ],
   "source": [
    "auprc = sklearn.metrics.average_precision_score(variants['label'], np.abs(odds.ravel()))\n",
    "auprc"
   ]
  },
  {
   "cell_type": "code",
   "execution_count": 27,
   "id": "a745da27-43df-4a99-b910-cbea641aae39",
   "metadata": {},
   "outputs": [],
   "source": [
    "pr, rec, _ = sklearn.metrics.precision_recall_curve(variants['label'], np.abs(odds.ravel()))"
   ]
  },
  {
   "cell_type": "code",
   "execution_count": null,
   "id": "f21b671f-4b6d-463d-a2fe-585c25232865",
   "metadata": {},
   "outputs": [],
   "source": []
  },
  {
   "cell_type": "code",
   "execution_count": 29,
   "id": "542a7e6a-1352-407b-bc49-82386880f277",
   "metadata": {},
   "outputs": [
    {
     "data": {
      "text/html": [
       "<div>\n",
       "<style scoped>\n",
       "    .dataframe tbody tr th:only-of-type {\n",
       "        vertical-align: middle;\n",
       "    }\n",
       "\n",
       "    .dataframe tbody tr th {\n",
       "        vertical-align: top;\n",
       "    }\n",
       "\n",
       "    .dataframe thead th {\n",
       "        text-align: right;\n",
       "    }\n",
       "</style>\n",
       "<table border=\"1\" class=\"dataframe\">\n",
       "  <thead>\n",
       "    <tr style=\"text-align: right;\">\n",
       "      <th></th>\n",
       "      <th>chrom</th>\n",
       "      <th>pos</th>\n",
       "      <th>ref</th>\n",
       "      <th>alt</th>\n",
       "      <th>label</th>\n",
       "      <th>abs_gkm_SVM</th>\n",
       "      <th>start</th>\n",
       "      <th>end</th>\n",
       "      <th>enformer_task_12_ENCFF093VXI_LFC_rc</th>\n",
       "    </tr>\n",
       "  </thead>\n",
       "  <tbody>\n",
       "    <tr>\n",
       "      <th>0</th>\n",
       "      <td>chr1</td>\n",
       "      <td>856583</td>\n",
       "      <td>A</td>\n",
       "      <td>G</td>\n",
       "      <td>1</td>\n",
       "      <td>2.653531</td>\n",
       "      <td>856583</td>\n",
       "      <td>856584</td>\n",
       "      <td>-0.200571</td>\n",
       "    </tr>\n",
       "    <tr>\n",
       "      <th>1</th>\n",
       "      <td>chr1</td>\n",
       "      <td>911595</td>\n",
       "      <td>G</td>\n",
       "      <td>A</td>\n",
       "      <td>1</td>\n",
       "      <td>2.821422</td>\n",
       "      <td>911595</td>\n",
       "      <td>911596</td>\n",
       "      <td>0.307417</td>\n",
       "    </tr>\n",
       "    <tr>\n",
       "      <th>2</th>\n",
       "      <td>chr1</td>\n",
       "      <td>1186502</td>\n",
       "      <td>T</td>\n",
       "      <td>A</td>\n",
       "      <td>1</td>\n",
       "      <td>7.167236</td>\n",
       "      <td>1186502</td>\n",
       "      <td>1186503</td>\n",
       "      <td>0.349024</td>\n",
       "    </tr>\n",
       "    <tr>\n",
       "      <th>3</th>\n",
       "      <td>chr1</td>\n",
       "      <td>1227412</td>\n",
       "      <td>A</td>\n",
       "      <td>G</td>\n",
       "      <td>1</td>\n",
       "      <td>3.957382</td>\n",
       "      <td>1227412</td>\n",
       "      <td>1227413</td>\n",
       "      <td>0.640315</td>\n",
       "    </tr>\n",
       "    <tr>\n",
       "      <th>4</th>\n",
       "      <td>chr1</td>\n",
       "      <td>1590575</td>\n",
       "      <td>A</td>\n",
       "      <td>G</td>\n",
       "      <td>1</td>\n",
       "      <td>4.785596</td>\n",
       "      <td>1590575</td>\n",
       "      <td>1590576</td>\n",
       "      <td>0.059268</td>\n",
       "    </tr>\n",
       "  </tbody>\n",
       "</table>\n",
       "</div>"
      ],
      "text/plain": [
       "  chrom      pos ref alt  label  abs_gkm_SVM    start      end  \\\n",
       "0  chr1   856583   A   G      1     2.653531   856583   856584   \n",
       "1  chr1   911595   G   A      1     2.821422   911595   911596   \n",
       "2  chr1  1186502   T   A      1     7.167236  1186502  1186503   \n",
       "3  chr1  1227412   A   G      1     3.957382  1227412  1227413   \n",
       "4  chr1  1590575   A   G      1     4.785596  1590575  1590576   \n",
       "\n",
       "   enformer_task_12_ENCFF093VXI_LFC_rc  \n",
       "0                            -0.200571  \n",
       "1                             0.307417  \n",
       "2                             0.349024  \n",
       "3                             0.640315  \n",
       "4                             0.059268  "
      ]
     },
     "execution_count": 29,
     "metadata": {},
     "output_type": "execute_result"
    }
   ],
   "source": [
    "variants['enformer_task_12_ENCFF093VXI_LFC_rc'] = odds.ravel()\n",
    "variants.head()"
   ]
  },
  {
   "cell_type": "code",
   "execution_count": 31,
   "id": "189d084f-b638-4f5c-aff2-c098ab942c24",
   "metadata": {},
   "outputs": [],
   "source": [
    "variants.reset_index(drop=True).to_csv(\"./out/enformer_dsQTL.tsv\", sep='\\t', index=None)"
   ]
  },
  {
   "cell_type": "code",
   "execution_count": null,
   "id": "80ad216d-358c-46a4-a8a5-f8f563e8efcc",
   "metadata": {},
   "outputs": [],
   "source": []
  }
 ],
 "metadata": {
  "kernelspec": {
   "display_name": "Python 3 (ipykernel)",
   "language": "python",
   "name": "python3"
  },
  "language_info": {
   "codemirror_mode": {
    "name": "ipython",
    "version": 3
   },
   "file_extension": ".py",
   "mimetype": "text/x-python",
   "name": "python",
   "nbconvert_exporter": "python",
   "pygments_lexer": "ipython3",
   "version": "3.11.11"
  }
 },
 "nbformat": 4,
 "nbformat_minor": 5
}
