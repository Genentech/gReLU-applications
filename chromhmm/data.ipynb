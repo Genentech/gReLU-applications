{
 "cells": [
  {
   "cell_type": "code",
   "execution_count": 1,
   "id": "35c13d53-f8f7-45c9-a7f0-c0e92d7654c9",
   "metadata": {},
   "outputs": [],
   "source": [
    "import wandb\n",
    "import anndata\n",
    "import pandas as pd\n",
    "import numpy as np"
   ]
  },
  {
   "cell_type": "code",
   "execution_count": 2,
   "id": "5bf20a5c-2b73-4b88-a154-a76d5d0fe299",
   "metadata": {},
   "outputs": [],
   "source": [
    "project_name = 'human-chromhmm-fullstack'"
   ]
  },
  {
   "cell_type": "code",
   "execution_count": 3,
   "id": "795eba5c-39c5-420b-a48f-8645fc0761ae",
   "metadata": {},
   "outputs": [
    {
     "name": "stderr",
     "output_type": "stream",
     "text": [
      "\u001b[34m\u001b[1mwandb\u001b[0m: Currently logged in as: \u001b[33mavantikalal\u001b[0m (\u001b[33mgrelu\u001b[0m). Use \u001b[1m`wandb login --relogin`\u001b[0m to force relogin\n"
     ]
    },
    {
     "data": {
      "text/plain": [
       "True"
      ]
     },
     "execution_count": 3,
     "metadata": {},
     "output_type": "execute_result"
    }
   ],
   "source": [
    "wandb.login(host=\"https://api.wandb.ai\")"
   ]
  },
  {
   "cell_type": "code",
   "execution_count": 4,
   "id": "37ecd399-3fd9-4687-9d7d-95638f529dc1",
   "metadata": {},
   "outputs": [
    {
     "data": {
      "text/html": [
       "Tracking run with wandb version 0.17.0"
      ],
      "text/plain": [
       "<IPython.core.display.HTML object>"
      ]
     },
     "metadata": {},
     "output_type": "display_data"
    },
    {
     "data": {
      "text/html": [
       "Run data is saved locally in <code>/data/grelu-applications/public-model-zoo/chromhmm/wandb/run-20240528_180254-wo0zfdzt</code>"
      ],
      "text/plain": [
       "<IPython.core.display.HTML object>"
      ]
     },
     "metadata": {},
     "output_type": "display_data"
    },
    {
     "data": {
      "text/html": [
       "Syncing run <strong><a href='https://wandb.ai/grelu/human-chromhmm-fullstack/runs/wo0zfdzt' target=\"_blank\">prep</a></strong> to <a href='https://wandb.ai/grelu/human-chromhmm-fullstack' target=\"_blank\">Weights & Biases</a> (<a href='https://wandb.me/run' target=\"_blank\">docs</a>)<br/>"
      ],
      "text/plain": [
       "<IPython.core.display.HTML object>"
      ]
     },
     "metadata": {},
     "output_type": "display_data"
    },
    {
     "data": {
      "text/html": [
       " View project at <a href='https://wandb.ai/grelu/human-chromhmm-fullstack' target=\"_blank\">https://wandb.ai/grelu/human-chromhmm-fullstack</a>"
      ],
      "text/plain": [
       "<IPython.core.display.HTML object>"
      ]
     },
     "metadata": {},
     "output_type": "display_data"
    },
    {
     "data": {
      "text/html": [
       " View run at <a href='https://wandb.ai/grelu/human-chromhmm-fullstack/runs/wo0zfdzt' target=\"_blank\">https://wandb.ai/grelu/human-chromhmm-fullstack/runs/wo0zfdzt</a>"
      ],
      "text/plain": [
       "<IPython.core.display.HTML object>"
      ]
     },
     "metadata": {},
     "output_type": "display_data"
    }
   ],
   "source": [
    "run = wandb.init(\n",
    "    entity='grelu', project=project_name, job_type='preprocessing', name='prep'\n",
    ")"
   ]
  },
  {
   "cell_type": "markdown",
   "id": "b4b88d95-a65a-4e75-a309-032faf846c03",
   "metadata": {},
   "source": [
    "## Load data"
   ]
  },
  {
   "cell_type": "code",
   "execution_count": 5,
   "id": "1527622f-94c0-4377-b125-407a0eef4bec",
   "metadata": {},
   "outputs": [
    {
     "data": {
      "text/html": [
       "<div>\n",
       "<style scoped>\n",
       "    .dataframe tbody tr th:only-of-type {\n",
       "        vertical-align: middle;\n",
       "    }\n",
       "\n",
       "    .dataframe tbody tr th {\n",
       "        vertical-align: top;\n",
       "    }\n",
       "\n",
       "    .dataframe thead th {\n",
       "        text-align: right;\n",
       "    }\n",
       "</style>\n",
       "<table border=\"1\" class=\"dataframe\">\n",
       "  <thead>\n",
       "    <tr style=\"text-align: right;\">\n",
       "      <th></th>\n",
       "      <th>chrom</th>\n",
       "      <th>start</th>\n",
       "      <th>end</th>\n",
       "      <th>state</th>\n",
       "    </tr>\n",
       "  </thead>\n",
       "  <tbody>\n",
       "    <tr>\n",
       "      <th>0</th>\n",
       "      <td>chr1</td>\n",
       "      <td>10000</td>\n",
       "      <td>10400</td>\n",
       "      <td>2_GapArtf2</td>\n",
       "    </tr>\n",
       "    <tr>\n",
       "      <th>1</th>\n",
       "      <td>chr1</td>\n",
       "      <td>10400</td>\n",
       "      <td>10600</td>\n",
       "      <td>27_Acet1</td>\n",
       "    </tr>\n",
       "    <tr>\n",
       "      <th>2</th>\n",
       "      <td>chr1</td>\n",
       "      <td>10600</td>\n",
       "      <td>10800</td>\n",
       "      <td>38_EnhWk4</td>\n",
       "    </tr>\n",
       "    <tr>\n",
       "      <th>3</th>\n",
       "      <td>chr1</td>\n",
       "      <td>10800</td>\n",
       "      <td>12800</td>\n",
       "      <td>1_GapArtf1</td>\n",
       "    </tr>\n",
       "    <tr>\n",
       "      <th>4</th>\n",
       "      <td>chr1</td>\n",
       "      <td>12800</td>\n",
       "      <td>13000</td>\n",
       "      <td>38_EnhWk4</td>\n",
       "    </tr>\n",
       "  </tbody>\n",
       "</table>\n",
       "</div>"
      ],
      "text/plain": [
       "  chrom  start    end       state\n",
       "0  chr1  10000  10400  2_GapArtf2\n",
       "1  chr1  10400  10600    27_Acet1\n",
       "2  chr1  10600  10800   38_EnhWk4\n",
       "3  chr1  10800  12800  1_GapArtf1\n",
       "4  chr1  12800  13000   38_EnhWk4"
      ]
     },
     "execution_count": 5,
     "metadata": {},
     "output_type": "execute_result"
    }
   ],
   "source": [
    "chromhmm = pd.read_table('https://public.hoffman2.idre.ucla.edu/ernst/2K9RS//full_stack/full_stack_annotation_public_release/hg38/hg38_genome_100_segments.bed.gz', header=None)\n",
    "chromhmm.columns = ['chrom', 'start', 'end', 'state']\n",
    "chromhmm.head()"
   ]
  },
  {
   "cell_type": "markdown",
   "id": "91bec5b4-201c-4c66-992f-6b54ba5bc71e",
   "metadata": {},
   "source": [
    "## Process data"
   ]
  },
  {
   "cell_type": "code",
   "execution_count": 6,
   "id": "394d7f20-121f-4da7-886e-7b4184d2128d",
   "metadata": {},
   "outputs": [
    {
     "name": "stderr",
     "output_type": "stream",
     "text": [
      "/usr/local/lib/python3.11/dist-packages/tqdm/auto.py:21: TqdmWarning: IProgress not found. Please update jupyter and ipywidgets. See https://ipywidgets.readthedocs.io/en/stable/user_install.html\n",
      "  from .autonotebook import tqdm as notebook_tqdm\n"
     ]
    },
    {
     "name": "stdout",
     "output_type": "stream",
     "text": [
      "Keeping 5845850 intervals\n",
      "Keeping 5809104 intervals\n"
     ]
    }
   ],
   "source": [
    "from grelu.data.preprocess import filter_chromosomes, filter_blacklist\n",
    "from grelu.sequence.utils import resize\n",
    "\n",
    "chromhmm = filter_chromosomes(chromhmm, include='autosomes')\n",
    "chromhmm = resize(chromhmm, 1024)\n",
    "chromhmm = filter_blacklist(chromhmm, 'hg38')"
   ]
  },
  {
   "cell_type": "code",
   "execution_count": 7,
   "id": "83f76383-d253-46f0-aca8-991769c5985c",
   "metadata": {},
   "outputs": [
    {
     "name": "stdout",
     "output_type": "stream",
     "text": [
      "state\n",
      "6_Quies3      640067\n",
      "4_Quies1      317364\n",
      "29_Acet3      284771\n",
      "5_Quies2      282066\n",
      "21_ReprPC4    246809\n",
      "               ...  \n",
      "8_Quies5        6722\n",
      "84_TxEx4        6660\n",
      "25_ReprPC8      2007\n",
      "2_GapArtf2      1301\n",
      "3_GapArtf3       318\n",
      "Name: count, Length: 100, dtype: int64\n"
     ]
    }
   ],
   "source": [
    "print(chromhmm.state.value_counts()) "
   ]
  },
  {
   "cell_type": "code",
   "execution_count": 8,
   "id": "c2614cea-e479-480b-936d-168271977cd7",
   "metadata": {},
   "outputs": [
    {
     "data": {
      "text/plain": [
       "state\n",
       "38_EnhWk4    140009\n",
       "35_EnhWk1    112640\n",
       "42_EnhWk8     85187\n",
       "37_EnhWk3     66166\n",
       "47_EnhA5      63553\n",
       "39_EnhWk5     54250\n",
       "57_EnhA15     53214\n",
       "55_EnhA13     47641\n",
       "59_EnhA17     43689\n",
       "58_EnhA16     40374\n",
       "40_EnhWk6     35144\n",
       "53_EnhA11     34875\n",
       "60_EnhA18     34028\n",
       "52_EnhA10     33755\n",
       "48_EnhA6      32004\n",
       "49_EnhA7      30153\n",
       "44_EnhA2      27637\n",
       "36_EnhWk2     27069\n",
       "54_EnhA12     26953\n",
       "46_EnhA4      25419\n",
       "56_EnhA14     24511\n",
       "41_EnhWk7     22648\n",
       "61_EnhA19     21794\n",
       "62_EnhA20     19188\n",
       "45_EnhA3      17139\n",
       "50_EnhA8      13773\n",
       "43_EnhA1      13072\n",
       "51_EnhA9      11022\n",
       "Name: count, dtype: int64"
      ]
     },
     "execution_count": 8,
     "metadata": {},
     "output_type": "execute_result"
    }
   ],
   "source": [
    "chromhmm[chromhmm.state.str.contains(\"_Enh\")].state.value_counts()"
   ]
  },
  {
   "cell_type": "code",
   "execution_count": 9,
   "id": "f351b64d-3f3f-4a34-8863-54093437c434",
   "metadata": {},
   "outputs": [
    {
     "data": {
      "text/plain": [
       "state\n",
       "47_EnhA5     63553\n",
       "57_EnhA15    53214\n",
       "55_EnhA13    47641\n",
       "59_EnhA17    43689\n",
       "58_EnhA16    40374\n",
       "53_EnhA11    34875\n",
       "60_EnhA18    34028\n",
       "52_EnhA10    33755\n",
       "48_EnhA6     32004\n",
       "49_EnhA7     30153\n",
       "44_EnhA2     27637\n",
       "54_EnhA12    26953\n",
       "46_EnhA4     25419\n",
       "56_EnhA14    24511\n",
       "61_EnhA19    21794\n",
       "62_EnhA20    19188\n",
       "45_EnhA3     17139\n",
       "50_EnhA8     13773\n",
       "43_EnhA1     13072\n",
       "51_EnhA9     11022\n",
       "Name: count, dtype: int64"
      ]
     },
     "execution_count": 9,
     "metadata": {},
     "output_type": "execute_result"
    }
   ],
   "source": [
    "chromhmm[chromhmm.state.str.contains(\"_EnhA\")].state.value_counts()"
   ]
  },
  {
   "cell_type": "markdown",
   "id": "8a93565f-d819-44d4-911c-d8d1f5d7a052",
   "metadata": {},
   "source": [
    "## Get coarse-grained state labels"
   ]
  },
  {
   "cell_type": "code",
   "execution_count": 10,
   "id": "44474b8b-7f33-4608-95cb-b77e87fb4840",
   "metadata": {},
   "outputs": [
    {
     "data": {
      "text/plain": [
       "state\n",
       "Quies      1485576\n",
       "Acet        639669\n",
       "EnhA        613794\n",
       "ReprPC      610147\n",
       "Tx          561526\n",
       "EnhWk       543113\n",
       "HET         521161\n",
       "TxWk        254518\n",
       "TxEnh       190465\n",
       "TxEx        121833\n",
       "PromF        88429\n",
       "GapArtf      51474\n",
       "BivProm      48242\n",
       "znf          34146\n",
       "TSS          24402\n",
       "DNase        20609\n",
       "Name: count, dtype: int64"
      ]
     },
     "execution_count": 10,
     "metadata": {},
     "output_type": "execute_result"
    }
   ],
   "source": [
    "chromhmm['state'] = [\n",
    "    x.split('_')[1][:-1] for x in chromhmm.state\n",
    "]\n",
    "\n",
    "chromhmm.loc[chromhmm.state.isin(['EnhA1', 'EnhA2']), 'state'] = 'EnhA'\n",
    "\n",
    "chromhmm['state'] = chromhmm['state'].astype('category')\n",
    "chromhmm.state.value_counts()  "
   ]
  },
  {
   "cell_type": "markdown",
   "id": "7dbf9d8a-aa8f-45b0-a572-e7e3a6abb607",
   "metadata": {},
   "source": [
    "## Save dataset"
   ]
  },
  {
   "cell_type": "code",
   "execution_count": 11,
   "id": "801efe31-dfbc-4052-81bf-9b1de399c8f3",
   "metadata": {},
   "outputs": [],
   "source": [
    "chromhmm.to_csv('chromhmm.csv.gz', index=False) "
   ]
  },
  {
   "cell_type": "code",
   "execution_count": 12,
   "id": "be914f0c-da00-4b1a-820b-8d61d6725b70",
   "metadata": {},
   "outputs": [
    {
     "data": {
      "text/html": [
       " View run <strong style=\"color:#cdcd00\">prep</strong> at: <a href='https://wandb.ai/grelu/human-chromhmm-fullstack/runs/wo0zfdzt' target=\"_blank\">https://wandb.ai/grelu/human-chromhmm-fullstack/runs/wo0zfdzt</a><br/> View project at: <a href='https://wandb.ai/grelu/human-chromhmm-fullstack' target=\"_blank\">https://wandb.ai/grelu/human-chromhmm-fullstack</a><br/>Synced 5 W&B file(s), 0 media file(s), 3 artifact file(s) and 0 other file(s)"
      ],
      "text/plain": [
       "<IPython.core.display.HTML object>"
      ]
     },
     "metadata": {},
     "output_type": "display_data"
    },
    {
     "data": {
      "text/html": [
       "Find logs at: <code>./wandb/run-20240528_180254-wo0zfdzt/logs</code>"
      ],
      "text/plain": [
       "<IPython.core.display.HTML object>"
      ]
     },
     "metadata": {},
     "output_type": "display_data"
    }
   ],
   "source": [
    "artifact = wandb.Artifact('dataset', type='dataset')\n",
    "artifact.add_file('chromhmm.csv.gz')\n",
    "run.log_artifact(artifact)\n",
    "run.finish()"
   ]
  },
  {
   "cell_type": "code",
   "execution_count": null,
   "id": "7afe340f-d1cd-43d1-a6ce-0db10c2e2e63",
   "metadata": {},
   "outputs": [],
   "source": []
  }
 ],
 "metadata": {
  "kernelspec": {
   "display_name": "Python 3 (ipykernel)",
   "language": "python",
   "name": "python3"
  },
  "language_info": {
   "codemirror_mode": {
    "name": "ipython",
    "version": 3
   },
   "file_extension": ".py",
   "mimetype": "text/x-python",
   "name": "python",
   "nbconvert_exporter": "python",
   "pygments_lexer": "ipython3",
   "version": "3.11.8"
  }
 },
 "nbformat": 4,
 "nbformat_minor": 5
}
