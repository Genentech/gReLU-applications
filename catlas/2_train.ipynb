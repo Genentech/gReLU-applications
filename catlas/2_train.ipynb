{
 "cells": [
  {
   "cell_type": "markdown",
   "id": "69ba860c-ffee-4024-af74-3eb544ba4365",
   "metadata": {},
   "source": [
    "# Train a model on CATLAS binary accessibility data"
   ]
  },
  {
   "cell_type": "markdown",
   "id": "b2a97767-6436-42f5-aac7-ca07e22c932a",
   "metadata": {},
   "source": [
    "## Set up wandb"
   ]
  },
  {
   "cell_type": "code",
   "execution_count": 1,
   "id": "ca38366e-3365-476e-adac-a64c4986636b",
   "metadata": {},
   "outputs": [
    {
     "name": "stderr",
     "output_type": "stream",
     "text": [
      "\u001b[34m\u001b[1mwandb\u001b[0m: Using wandb-core as the SDK backend.  Please refer to https://wandb.me/wandb-core for more information.\n",
      "\u001b[34m\u001b[1mwandb\u001b[0m: Currently logged in as: \u001b[33mavantikalal\u001b[0m (\u001b[33mgrelu\u001b[0m) to \u001b[32mhttps://api.wandb.ai\u001b[0m. Use \u001b[1m`wandb login --relogin`\u001b[0m to force relogin\n"
     ]
    }
   ],
   "source": [
    "import wandb\n",
    "\n",
    "import anndata\n",
    "import os\n",
    "import pandas as pd\n",
    "import numpy as np\n",
    "%matplotlib inline\n",
    "\n",
    "os.environ[\"CUDA_VISIBLE_DEVICES\"]=\"1\"\n",
    "wandb.login(host=\"https://api.wandb.ai\")\n",
    "project_name=\"human-atac-catlas\""
   ]
  },
  {
   "cell_type": "code",
   "execution_count": 2,
   "id": "579a4364-62d6-4528-a692-576e7ae29489",
   "metadata": {},
   "outputs": [
    {
     "data": {
      "text/html": [
       "Tracking run with wandb version 0.19.7"
      ],
      "text/plain": [
       "<IPython.core.display.HTML object>"
      ]
     },
     "metadata": {},
     "output_type": "display_data"
    },
    {
     "data": {
      "text/html": [
       "Run data is saved locally in <code>/code/grelu_zoo_model_training/wandb/run-20250305_052132-ij4v9zb6</code>"
      ],
      "text/plain": [
       "<IPython.core.display.HTML object>"
      ]
     },
     "metadata": {},
     "output_type": "display_data"
    },
    {
     "data": {
      "text/html": [
       "Syncing run <strong><a href='https://wandb.ai/grelu/human-atac-catlas/runs/ij4v9zb6' target=\"_blank\">train</a></strong> to <a href='https://wandb.ai/grelu/human-atac-catlas' target=\"_blank\">Weights & Biases</a> (<a href='https://wandb.me/developer-guide' target=\"_blank\">docs</a>)<br>"
      ],
      "text/plain": [
       "<IPython.core.display.HTML object>"
      ]
     },
     "metadata": {},
     "output_type": "display_data"
    },
    {
     "data": {
      "text/html": [
       " View project at <a href='https://wandb.ai/grelu/human-atac-catlas' target=\"_blank\">https://wandb.ai/grelu/human-atac-catlas</a>"
      ],
      "text/plain": [
       "<IPython.core.display.HTML object>"
      ]
     },
     "metadata": {},
     "output_type": "display_data"
    },
    {
     "data": {
      "text/html": [
       " View run at <a href='https://wandb.ai/grelu/human-atac-catlas/runs/ij4v9zb6' target=\"_blank\">https://wandb.ai/grelu/human-atac-catlas/runs/ij4v9zb6</a>"
      ],
      "text/plain": [
       "<IPython.core.display.HTML object>"
      ]
     },
     "metadata": {},
     "output_type": "display_data"
    }
   ],
   "source": [
    "run = wandb.init(\n",
    "    entity='grelu', project=project_name, job_type='training', name='train',\n",
    "    settings=wandb.Settings(\n",
    "        program_relpath='2_train.ipynb',\n",
    "        program_abspath='/code/grelu_zoo_model_training/2_train.ipynb')\n",
    ")"
   ]
  },
  {
   "cell_type": "markdown",
   "id": "30afd8a2-6808-42b0-9dff-ff5906f786d3",
   "metadata": {},
   "source": [
    "## Load preprocessed data"
   ]
  },
  {
   "cell_type": "code",
   "execution_count": 3,
   "id": "0b1bc498-d014-4434-8fc4-ff3c9b48336c",
   "metadata": {},
   "outputs": [
    {
     "name": "stderr",
     "output_type": "stream",
     "text": [
      "\u001b[34m\u001b[1mwandb\u001b[0m: Downloading large artifact dataset:latest, 179.17MB. 1 files... \n",
      "\u001b[34m\u001b[1mwandb\u001b[0m:   1 of 1 files downloaded.  \n",
      "Done. 0:0:0.4\n",
      "/opt/conda/lib/python3.11/site-packages/anndata/_core/aligned_df.py:68: ImplicitModificationWarning: Transforming to str index.\n",
      "  warnings.warn(\"Transforming to str index.\", ImplicitModificationWarning)\n"
     ]
    }
   ],
   "source": [
    "artifact = run.use_artifact('dataset:latest')\n",
    "dir = artifact.download()\n",
    "ad = anndata.read_h5ad(os.path.join(dir, \"data.h5ad\"))"
   ]
  },
  {
   "cell_type": "markdown",
   "id": "b98e21c0-3e79-48f7-b9d6-965949b6c8ca",
   "metadata": {},
   "source": [
    "## Make datasets"
   ]
  },
  {
   "cell_type": "code",
   "execution_count": 4,
   "id": "1ac787c9-aa63-43c5-bcc6-579081ff43ad",
   "metadata": {},
   "outputs": [
    {
     "name": "stderr",
     "output_type": "stream",
     "text": [
      "/opt/conda/lib/python3.11/site-packages/tqdm/auto.py:21: TqdmWarning: IProgress not found. Please update jupyter and ipywidgets. See https://ipywidgets.readthedocs.io/en/stable/user_install.html\n",
      "  from .autonotebook import tqdm as notebook_tqdm\n"
     ]
    }
   ],
   "source": [
    "import grelu.data.dataset\n",
    "train_dataset = grelu.data.dataset.AnnDataSeqDataset(\n",
    "    ad[:, ad.var.split=='train'].copy(),\n",
    "    genome='hg38',\n",
    "    rc=True, # reverse complement\n",
    "    max_seq_shift=2, # Shift the sequence\n",
    "    augment_mode=\"random\", # Randomly select which augmentations to apply\n",
    ")\n",
    "\n",
    "val_dataset = grelu.data.dataset.AnnDataSeqDataset(\n",
    "    ad[:, ad.var.split=='valid'].copy(), genome='hg38',\n",
    ")"
   ]
  },
  {
   "cell_type": "markdown",
   "id": "c227d5e4-f5ee-46f7-a332-d0636a1ed11b",
   "metadata": {},
   "source": [
    "## Build the model"
   ]
  },
  {
   "cell_type": "code",
   "execution_count": 5,
   "id": "fff4e937-28cb-4fa9-be6a-556219f61df0",
   "metadata": {},
   "outputs": [
    {
     "name": "stderr",
     "output_type": "stream",
     "text": [
      "\u001b[34m\u001b[1mwandb\u001b[0m: \u001b[33mWARNING\u001b[0m Calling wandb.login() after wandb.init() has no effect.\n",
      "\u001b[34m\u001b[1mwandb\u001b[0m: Downloading large artifact human_state_dict:latest, 939.29MB. 1 files... \n",
      "\u001b[34m\u001b[1mwandb\u001b[0m:   1 of 1 files downloaded.  \n",
      "Done. 0:0:0.7\n",
      "/opt/conda/lib/python3.11/site-packages/grelu/model/models.py:771: FutureWarning: You are using `torch.load` with `weights_only=False` (the current default value), which uses the default pickle module implicitly. It is possible to construct malicious pickle data which will execute arbitrary code during unpickling (See https://github.com/pytorch/pytorch/blob/main/SECURITY.md#untrusted-models for more details). In a future release, the default value for `weights_only` will be flipped to `True`. This limits the functions that could be executed during unpickling. Arbitrary objects will no longer be allowed to be loaded via this mode unless they are explicitly allowlisted by the user via `torch.serialization.add_safe_globals`. We recommend you start setting `weights_only=True` for any use case where you don't have full control of the loaded file. Please open an issue on GitHub for any issues related to this experimental feature.\n",
      "  state_dict = torch.load(Path(d) / \"human.h5\")\n"
     ]
    }
   ],
   "source": [
    "model_params = {\n",
    "    'model_type':'EnformerPretrainedModel', # Type of model\n",
    "    'n_tasks': ad.shape[0], # Number of cell types to predict\n",
    "    'crop_len':0, # No cropping of the model output\n",
    "    'n_transformers': 1, # Number of transformer layers; the published Enformer model has 11\n",
    "}\n",
    "\n",
    "train_params = {\n",
    "    'task':'binary', # binary classification\n",
    "    'lr':1e-4, # learning rate\n",
    "    'logger': 'wandb', # Logs will be written to wandb\n",
    "    'batch_size': 3072,\n",
    "    'num_workers': 32,\n",
    "    'devices': 0, # GPU index\n",
    "    'save_dir': project_name,\n",
    "    'optimizer': 'adam',\n",
    "    'max_epochs': 10,\n",
    "    'checkpoint': True, # Save checkpoints\n",
    "}\n",
    "\n",
    "import grelu.lightning\n",
    "model = grelu.lightning.LightningModel(\n",
    "    model_params=model_params, train_params=train_params\n",
    ")"
   ]
  },
  {
   "cell_type": "markdown",
   "id": "7928936f-d5b6-42de-a402-3cc853aad15d",
   "metadata": {},
   "source": [
    "## Train the model"
   ]
  },
  {
   "cell_type": "code",
   "execution_count": 6,
   "id": "4f2bb0ab-8c6f-4b2e-ae21-a8fd06792d33",
   "metadata": {
    "scrolled": true
   },
   "outputs": [
    {
     "name": "stderr",
     "output_type": "stream",
     "text": [
      "GPU available: True (cuda), used: True\n",
      "TPU available: False, using: 0 TPU cores\n",
      "HPU available: False, using: 0 HPUs\n",
      "/opt/conda/lib/python3.11/site-packages/pytorch_lightning/loggers/wandb.py:397: There is a wandb run already in progress and newly created instances of `WandbLogger` will reuse this run. If this is not desired, call `wandb.finish()` before instantiating `WandbLogger`.\n",
      "LOCAL_RANK: 0 - CUDA_VISIBLE_DEVICES: [1]\n"
     ]
    },
    {
     "name": "stdout",
     "output_type": "stream",
     "text": [
      "Validation DataLoader 0: 100%|█████████████████████████████████████████████████████████████████████████████████████████████████████████████████████████████████████████████████████████████████████████████| 24/24 [00:08<00:00,  2.93it/s]\n"
     ]
    },
    {
     "data": {
      "text/html": [
       "<pre style=\"white-space:pre;overflow-x:auto;line-height:normal;font-family:Menlo,'DejaVu Sans Mono',consolas,'Courier New',monospace\">┏━━━━━━━━━━━━━━━━━━━━━━━━━━━┳━━━━━━━━━━━━━━━━━━━━━━━━━━━┓\n",
       "┃<span style=\"font-weight: bold\">      Validate metric      </span>┃<span style=\"font-weight: bold\">       DataLoader 0        </span>┃\n",
       "┡━━━━━━━━━━━━━━━━━━━━━━━━━━━╇━━━━━━━━━━━━━━━━━━━━━━━━━━━┩\n",
       "│<span style=\"color: #008080; text-decoration-color: #008080\">       val_accuracy        </span>│<span style=\"color: #800080; text-decoration-color: #800080\">    0.5151375532150269     </span>│\n",
       "│<span style=\"color: #008080; text-decoration-color: #008080\">         val_auroc         </span>│<span style=\"color: #800080; text-decoration-color: #800080\">    0.4969211220741272     </span>│\n",
       "│<span style=\"color: #008080; text-decoration-color: #008080\">        val_avgprec        </span>│<span style=\"color: #800080; text-decoration-color: #800080\">    0.10531864315271378    </span>│\n",
       "│<span style=\"color: #008080; text-decoration-color: #008080\">        val_best_f1        </span>│<span style=\"color: #800080; text-decoration-color: #800080\">    0.1646021455526352     </span>│\n",
       "│<span style=\"color: #008080; text-decoration-color: #008080\">         val_loss          </span>│<span style=\"color: #800080; text-decoration-color: #800080\">    0.6929630041122437     </span>│\n",
       "└───────────────────────────┴───────────────────────────┘\n",
       "</pre>\n"
      ],
      "text/plain": [
       "┏━━━━━━━━━━━━━━━━━━━━━━━━━━━┳━━━━━━━━━━━━━━━━━━━━━━━━━━━┓\n",
       "┃\u001b[1m \u001b[0m\u001b[1m     Validate metric     \u001b[0m\u001b[1m \u001b[0m┃\u001b[1m \u001b[0m\u001b[1m      DataLoader 0       \u001b[0m\u001b[1m \u001b[0m┃\n",
       "┡━━━━━━━━━━━━━━━━━━━━━━━━━━━╇━━━━━━━━━━━━━━━━━━━━━━━━━━━┩\n",
       "│\u001b[36m \u001b[0m\u001b[36m      val_accuracy       \u001b[0m\u001b[36m \u001b[0m│\u001b[35m \u001b[0m\u001b[35m   0.5151375532150269    \u001b[0m\u001b[35m \u001b[0m│\n",
       "│\u001b[36m \u001b[0m\u001b[36m        val_auroc        \u001b[0m\u001b[36m \u001b[0m│\u001b[35m \u001b[0m\u001b[35m   0.4969211220741272    \u001b[0m\u001b[35m \u001b[0m│\n",
       "│\u001b[36m \u001b[0m\u001b[36m       val_avgprec       \u001b[0m\u001b[36m \u001b[0m│\u001b[35m \u001b[0m\u001b[35m   0.10531864315271378   \u001b[0m\u001b[35m \u001b[0m│\n",
       "│\u001b[36m \u001b[0m\u001b[36m       val_best_f1       \u001b[0m\u001b[36m \u001b[0m│\u001b[35m \u001b[0m\u001b[35m   0.1646021455526352    \u001b[0m\u001b[35m \u001b[0m│\n",
       "│\u001b[36m \u001b[0m\u001b[36m        val_loss         \u001b[0m\u001b[36m \u001b[0m│\u001b[35m \u001b[0m\u001b[35m   0.6929630041122437    \u001b[0m\u001b[35m \u001b[0m│\n",
       "└───────────────────────────┴───────────────────────────┘\n"
      ]
     },
     "metadata": {},
     "output_type": "display_data"
    },
    {
     "name": "stderr",
     "output_type": "stream",
     "text": [
      "LOCAL_RANK: 0 - CUDA_VISIBLE_DEVICES: [1]\n",
      "\n",
      "  | Name         | Type                    | Params | Mode \n",
      "-----------------------------------------------------------------\n",
      "0 | model        | EnformerPretrainedModel | 72.1 M | train\n",
      "1 | loss         | BCEWithLogitsLoss       | 0      | train\n",
      "2 | val_metrics  | MetricCollection        | 0      | train\n",
      "3 | test_metrics | MetricCollection        | 0      | train\n",
      "4 | transform    | Identity                | 0      | train\n",
      "-----------------------------------------------------------------\n",
      "72.1 M    Trainable params\n",
      "0         Non-trainable params\n",
      "72.1 M    Total params\n",
      "288.279   Total estimated model params size (MB)\n",
      "240       Modules in train mode\n",
      "0         Modules in eval mode\n"
     ]
    },
    {
     "name": "stdout",
     "output_type": "stream",
     "text": [
      "Epoch 0: 100%|████████████████████████████████████████████████████████████████████████████████████████████████████████████████████████████████████████████████████████| 319/319 [03:07<00:00,  1.70it/s, v_num=9zb6, train_loss_step=0.154]\n",
      "Validation: |                                                                                                                                                                                                        | 0/? [00:00<?, ?it/s]\u001b[A\n",
      "Validation:   0%|                                                                                                                                                                                                   | 0/24 [00:00<?, ?it/s]\u001b[A\n",
      "Validation DataLoader 0:   0%|                                                                                                                                                                                      | 0/24 [00:00<?, ?it/s]\u001b[A\n",
      "Validation DataLoader 0:   4%|███████▎                                                                                                                                                                      | 1/24 [00:00<00:05,  4.28it/s]\u001b[A\n",
      "Validation DataLoader 0:   8%|██████████████▌                                                                                                                                                               | 2/24 [00:00<00:04,  4.50it/s]\u001b[A\n",
      "Validation DataLoader 0:  12%|█████████████████████▊                                                                                                                                                        | 3/24 [00:00<00:04,  4.56it/s]\u001b[A\n",
      "Validation DataLoader 0:  17%|█████████████████████████████                                                                                                                                                 | 4/24 [00:00<00:04,  4.62it/s]\u001b[A\n",
      "Validation DataLoader 0:  21%|████████████████████████████████████▎                                                                                                                                         | 5/24 [00:01<00:04,  4.66it/s]\u001b[A\n",
      "Validation DataLoader 0:  25%|███████████████████████████████████████████▌                                                                                                                                  | 6/24 [00:01<00:03,  4.69it/s]\u001b[A\n",
      "Validation DataLoader 0:  29%|██████████████████████████████████████████████████▊                                                                                                                           | 7/24 [00:01<00:03,  4.71it/s]\u001b[A\n",
      "Validation DataLoader 0:  33%|██████████████████████████████████████████████████████████                                                                                                                    | 8/24 [00:01<00:03,  4.71it/s]\u001b[A\n",
      "Validation DataLoader 0:  38%|█████████████████████████████████████████████████████████████████▎                                                                                                            | 9/24 [00:01<00:03,  4.72it/s]\u001b[A\n",
      "Validation DataLoader 0:  42%|████████████████████████████████████████████████████████████████████████                                                                                                     | 10/24 [00:02<00:02,  4.73it/s]\u001b[A\n",
      "Validation DataLoader 0:  46%|███████████████████████████████████████████████████████████████████████████████▎                                                                                             | 11/24 [00:02<00:02,  4.74it/s]\u001b[A\n",
      "Validation DataLoader 0:  50%|██████████████████████████████████████████████████████████████████████████████████████▌                                                                                      | 12/24 [00:02<00:02,  4.75it/s]\u001b[A\n",
      "Validation DataLoader 0:  54%|█████████████████████████████████████████████████████████████████████████████████████████████▋                                                                               | 13/24 [00:02<00:02,  4.75it/s]\u001b[A\n",
      "Validation DataLoader 0:  58%|████████████████████████████████████████████████████████████████████████████████████████████████████▉                                                                        | 14/24 [00:02<00:02,  4.75it/s]\u001b[A\n",
      "Validation DataLoader 0:  62%|████████████████████████████████████████████████████████████████████████████████████████████████████████████▏                                                                | 15/24 [00:03<00:01,  4.76it/s]\u001b[A\n",
      "Validation DataLoader 0:  67%|███████████████████████████████████████████████████████████████████████████████████████████████████████████████████▎                                                         | 16/24 [00:03<00:01,  4.76it/s]\u001b[A\n",
      "Validation DataLoader 0:  71%|██████████████████████████████████████████████████████████████████████████████████████████████████████████████████████████▌                                                  | 17/24 [00:03<00:01,  4.77it/s]\u001b[A\n",
      "Validation DataLoader 0:  75%|█████████████████████████████████████████████████████████████████████████████████████████████████████████████████████████████████▊                                           | 18/24 [00:03<00:01,  4.77it/s]\u001b[A\n",
      "Validation DataLoader 0:  79%|████████████████████████████████████████████████████████████████████████████████████████████████████████████████████████████████████████▉                                    | 19/24 [00:03<00:01,  4.77it/s]\u001b[A\n",
      "Validation DataLoader 0:  83%|████████████████████████████████████████████████████████████████████████████████████████████████████████████████████████████████████████████████▏                            | 20/24 [00:04<00:00,  4.78it/s]\u001b[A\n",
      "Validation DataLoader 0:  88%|███████████████████████████████████████████████████████████████████████████████████████████████████████████████████████████████████████████████████████▍                     | 21/24 [00:04<00:00,  4.78it/s]\u001b[A\n",
      "Validation DataLoader 0:  92%|██████████████████████████████████████████████████████████████████████████████████████████████████████████████████████████████████████████████████████████████▌              | 22/24 [00:04<00:00,  4.78it/s]\u001b[A\n",
      "Validation DataLoader 0:  96%|█████████████████████████████████████████████████████████████████████████████████████████████████████████████████████████████████████████████████████████████████████▊       | 23/24 [00:04<00:00,  4.79it/s]\u001b[A\n",
      "Validation DataLoader 0: 100%|█████████████████████████████████████████████████████████████████████████████████████████████████████████████████████████████████████████████████████████████████████████████| 24/24 [00:04<00:00,  4.94it/s]\u001b[A\n",
      "Epoch 1: 100%|████████████████████████████████████████████████████████████████████████████████████████████████████████████████████████████████| 319/319 [03:09<00:00,  1.69it/s, v_num=9zb6, train_loss_step=0.158, train_loss_epoch=0.197]\u001b[A\n",
      "Validation: |                                                                                                                                                                                                        | 0/? [00:00<?, ?it/s]\u001b[A\n",
      "Validation:   0%|                                                                                                                                                                                                   | 0/24 [00:00<?, ?it/s]\u001b[A\n",
      "Validation DataLoader 0:   0%|                                                                                                                                                                                      | 0/24 [00:00<?, ?it/s]\u001b[A\n",
      "Validation DataLoader 0:   4%|███████▎                                                                                                                                                                      | 1/24 [00:00<00:05,  4.29it/s]\u001b[A\n",
      "Validation DataLoader 0:   8%|██████████████▌                                                                                                                                                               | 2/24 [00:00<00:04,  4.54it/s]\u001b[A\n",
      "Validation DataLoader 0:  12%|█████████████████████▊                                                                                                                                                        | 3/24 [00:00<00:04,  4.63it/s]\u001b[A\n",
      "Validation DataLoader 0:  17%|█████████████████████████████                                                                                                                                                 | 4/24 [00:00<00:04,  4.67it/s]\u001b[A\n",
      "Validation DataLoader 0:  21%|████████████████████████████████████▎                                                                                                                                         | 5/24 [00:01<00:04,  4.71it/s]\u001b[A\n",
      "Validation DataLoader 0:  25%|███████████████████████████████████████████▌                                                                                                                                  | 6/24 [00:01<00:03,  4.71it/s]\u001b[A\n",
      "Validation DataLoader 0:  29%|██████████████████████████████████████████████████▊                                                                                                                           | 7/24 [00:01<00:03,  4.72it/s]\u001b[A\n",
      "Validation DataLoader 0:  33%|██████████████████████████████████████████████████████████                                                                                                                    | 8/24 [00:01<00:03,  4.73it/s]\u001b[A\n",
      "Validation DataLoader 0:  38%|█████████████████████████████████████████████████████████████████▎                                                                                                            | 9/24 [00:01<00:03,  4.74it/s]\u001b[A\n",
      "Validation DataLoader 0:  42%|████████████████████████████████████████████████████████████████████████                                                                                                     | 10/24 [00:02<00:02,  4.75it/s]\u001b[A\n",
      "Validation DataLoader 0:  46%|███████████████████████████████████████████████████████████████████████████████▎                                                                                             | 11/24 [00:02<00:02,  4.75it/s]\u001b[A\n",
      "Validation DataLoader 0:  50%|██████████████████████████████████████████████████████████████████████████████████████▌                                                                                      | 12/24 [00:02<00:02,  4.76it/s]\u001b[A\n",
      "Validation DataLoader 0:  54%|█████████████████████████████████████████████████████████████████████████████████████████████▋                                                                               | 13/24 [00:02<00:02,  4.76it/s]\u001b[A\n",
      "Validation DataLoader 0:  58%|████████████████████████████████████████████████████████████████████████████████████████████████████▉                                                                        | 14/24 [00:02<00:02,  4.77it/s]\u001b[A\n",
      "Validation DataLoader 0:  62%|████████████████████████████████████████████████████████████████████████████████████████████████████████████▏                                                                | 15/24 [00:03<00:01,  4.77it/s]\u001b[A\n",
      "Validation DataLoader 0:  67%|███████████████████████████████████████████████████████████████████████████████████████████████████████████████████▎                                                         | 16/24 [00:03<00:01,  4.77it/s]\u001b[A\n",
      "Validation DataLoader 0:  71%|██████████████████████████████████████████████████████████████████████████████████████████████████████████████████████████▌                                                  | 17/24 [00:03<00:01,  4.77it/s]\u001b[A\n",
      "Validation DataLoader 0:  75%|█████████████████████████████████████████████████████████████████████████████████████████████████████████████████████████████████▊                                           | 18/24 [00:03<00:01,  4.77it/s]\u001b[A\n",
      "Validation DataLoader 0:  79%|████████████████████████████████████████████████████████████████████████████████████████████████████████████████████████████████████████▉                                    | 19/24 [00:03<00:01,  4.78it/s]\u001b[A\n",
      "Validation DataLoader 0:  83%|████████████████████████████████████████████████████████████████████████████████████████████████████████████████████████████████████████████████▏                            | 20/24 [00:04<00:00,  4.78it/s]\u001b[A\n",
      "Validation DataLoader 0:  88%|███████████████████████████████████████████████████████████████████████████████████████████████████████████████████████████████████████████████████████▍                     | 21/24 [00:04<00:00,  4.78it/s]\u001b[A\n",
      "Validation DataLoader 0:  92%|██████████████████████████████████████████████████████████████████████████████████████████████████████████████████████████████████████████████████████████████▌              | 22/24 [00:04<00:00,  4.78it/s]\u001b[A\n",
      "Validation DataLoader 0:  96%|█████████████████████████████████████████████████████████████████████████████████████████████████████████████████████████████████████████████████████████████████████▊       | 23/24 [00:04<00:00,  4.79it/s]\u001b[A\n",
      "Validation DataLoader 0: 100%|█████████████████████████████████████████████████████████████████████████████████████████████████████████████████████████████████████████████████████████████████████████████| 24/24 [00:04<00:00,  4.94it/s]\u001b[A\n",
      "Epoch 2: 100%|████████████████████████████████████████████████████████████████████████████████████████████████████████████████████████████████| 319/319 [03:09<00:00,  1.69it/s, v_num=9zb6, train_loss_step=0.156, train_loss_epoch=0.154]\u001b[A\n",
      "Validation: |                                                                                                                                                                                                        | 0/? [00:00<?, ?it/s]\u001b[A\n",
      "Validation:   0%|                                                                                                                                                                                                   | 0/24 [00:00<?, ?it/s]\u001b[A\n",
      "Validation DataLoader 0:   0%|                                                                                                                                                                                      | 0/24 [00:00<?, ?it/s]\u001b[A\n",
      "Validation DataLoader 0:   4%|███████▎                                                                                                                                                                      | 1/24 [00:00<00:05,  4.38it/s]\u001b[A\n",
      "Validation DataLoader 0:   8%|██████████████▌                                                                                                                                                               | 2/24 [00:00<00:04,  4.57it/s]\u001b[A\n",
      "Validation DataLoader 0:  12%|█████████████████████▊                                                                                                                                                        | 3/24 [00:00<00:04,  4.55it/s]\u001b[A\n",
      "Validation DataLoader 0:  17%|█████████████████████████████                                                                                                                                                 | 4/24 [00:00<00:04,  4.61it/s]\u001b[A\n",
      "Validation DataLoader 0:  21%|████████████████████████████████████▎                                                                                                                                         | 5/24 [00:01<00:04,  4.65it/s]\u001b[A\n",
      "Validation DataLoader 0:  25%|███████████████████████████████████████████▌                                                                                                                                  | 6/24 [00:01<00:03,  4.68it/s]\u001b[A\n",
      "Validation DataLoader 0:  29%|██████████████████████████████████████████████████▊                                                                                                                           | 7/24 [00:01<00:03,  4.70it/s]\u001b[A\n",
      "Validation DataLoader 0:  33%|██████████████████████████████████████████████████████████                                                                                                                    | 8/24 [00:01<00:03,  4.71it/s]\u001b[A\n",
      "Validation DataLoader 0:  38%|█████████████████████████████████████████████████████████████████▎                                                                                                            | 9/24 [00:01<00:03,  4.72it/s]\u001b[A\n",
      "Validation DataLoader 0:  42%|████████████████████████████████████████████████████████████████████████                                                                                                     | 10/24 [00:02<00:02,  4.73it/s]\u001b[A\n",
      "Validation DataLoader 0:  46%|███████████████████████████████████████████████████████████████████████████████▎                                                                                             | 11/24 [00:02<00:02,  4.73it/s]\u001b[A\n",
      "Validation DataLoader 0:  50%|██████████████████████████████████████████████████████████████████████████████████████▌                                                                                      | 12/24 [00:02<00:02,  4.74it/s]\u001b[A\n",
      "Validation DataLoader 0:  54%|█████████████████████████████████████████████████████████████████████████████████████████████▋                                                                               | 13/24 [00:02<00:02,  4.75it/s]\u001b[A\n",
      "Validation DataLoader 0:  58%|████████████████████████████████████████████████████████████████████████████████████████████████████▉                                                                        | 14/24 [00:02<00:02,  4.75it/s]\u001b[A\n",
      "Validation DataLoader 0:  62%|████████████████████████████████████████████████████████████████████████████████████████████████████████████▏                                                                | 15/24 [00:03<00:01,  4.76it/s]\u001b[A\n",
      "Validation DataLoader 0:  67%|███████████████████████████████████████████████████████████████████████████████████████████████████████████████████▎                                                         | 16/24 [00:03<00:01,  4.76it/s]\u001b[A\n",
      "Validation DataLoader 0:  71%|██████████████████████████████████████████████████████████████████████████████████████████████████████████████████████████▌                                                  | 17/24 [00:03<00:01,  4.77it/s]\u001b[A\n",
      "Validation DataLoader 0:  75%|█████████████████████████████████████████████████████████████████████████████████████████████████████████████████████████████████▊                                           | 18/24 [00:03<00:01,  4.77it/s]\u001b[A\n",
      "Validation DataLoader 0:  79%|████████████████████████████████████████████████████████████████████████████████████████████████████████████████████████████████████████▉                                    | 19/24 [00:03<00:01,  4.77it/s]\u001b[A\n",
      "Validation DataLoader 0:  83%|████████████████████████████████████████████████████████████████████████████████████████████████████████████████████████████████████████████████▏                            | 20/24 [00:04<00:00,  4.77it/s]\u001b[A\n",
      "Validation DataLoader 0:  88%|███████████████████████████████████████████████████████████████████████████████████████████████████████████████████████████████████████████████████████▍                     | 21/24 [00:04<00:00,  4.78it/s]\u001b[A\n",
      "Validation DataLoader 0:  92%|██████████████████████████████████████████████████████████████████████████████████████████████████████████████████████████████████████████████████████████████▌              | 22/24 [00:04<00:00,  4.78it/s]\u001b[A\n",
      "Validation DataLoader 0:  96%|█████████████████████████████████████████████████████████████████████████████████████████████████████████████████████████████████████████████████████████████████████▊       | 23/24 [00:04<00:00,  4.78it/s]\u001b[A\n",
      "Validation DataLoader 0: 100%|█████████████████████████████████████████████████████████████████████████████████████████████████████████████████████████████████████████████████████████████████████████████| 24/24 [00:04<00:00,  4.93it/s]\u001b[A\n",
      "Epoch 3: 100%|████████████████████████████████████████████████████████████████████████████████████████████████████████████████████████████████| 319/319 [03:09<00:00,  1.68it/s, v_num=9zb6, train_loss_step=0.150, train_loss_epoch=0.150]\u001b[A\n",
      "Validation: |                                                                                                                                                                                                        | 0/? [00:00<?, ?it/s]\u001b[A\n",
      "Validation:   0%|                                                                                                                                                                                                   | 0/24 [00:00<?, ?it/s]\u001b[A\n",
      "Validation DataLoader 0:   0%|                                                                                                                                                                                      | 0/24 [00:00<?, ?it/s]\u001b[A\n",
      "Validation DataLoader 0:   4%|███████▎                                                                                                                                                                      | 1/24 [00:00<00:05,  4.52it/s]\u001b[A\n",
      "Validation DataLoader 0:   8%|██████████████▌                                                                                                                                                               | 2/24 [00:00<00:04,  4.48it/s]\u001b[A\n",
      "Validation DataLoader 0:  12%|█████████████████████▊                                                                                                                                                        | 3/24 [00:00<00:04,  4.59it/s]\u001b[A\n",
      "Validation DataLoader 0:  17%|█████████████████████████████                                                                                                                                                 | 4/24 [00:00<00:04,  4.65it/s]\u001b[A\n",
      "Validation DataLoader 0:  21%|████████████████████████████████████▎                                                                                                                                         | 5/24 [00:01<00:04,  4.69it/s]\u001b[A\n",
      "Validation DataLoader 0:  25%|███████████████████████████████████████████▌                                                                                                                                  | 6/24 [00:01<00:03,  4.71it/s]\u001b[A\n",
      "Validation DataLoader 0:  29%|██████████████████████████████████████████████████▊                                                                                                                           | 7/24 [00:01<00:03,  4.72it/s]\u001b[A\n",
      "Validation DataLoader 0:  33%|██████████████████████████████████████████████████████████                                                                                                                    | 8/24 [00:01<00:03,  4.73it/s]\u001b[A\n",
      "Validation DataLoader 0:  38%|█████████████████████████████████████████████████████████████████▎                                                                                                            | 9/24 [00:01<00:03,  4.74it/s]\u001b[A\n",
      "Validation DataLoader 0:  42%|████████████████████████████████████████████████████████████████████████                                                                                                     | 10/24 [00:02<00:02,  4.74it/s]\u001b[A\n",
      "Validation DataLoader 0:  46%|███████████████████████████████████████████████████████████████████████████████▎                                                                                             | 11/24 [00:02<00:02,  4.75it/s]\u001b[A\n",
      "Validation DataLoader 0:  50%|██████████████████████████████████████████████████████████████████████████████████████▌                                                                                      | 12/24 [00:02<00:02,  4.75it/s]\u001b[A\n",
      "Validation DataLoader 0:  54%|█████████████████████████████████████████████████████████████████████████████████████████████▋                                                                               | 13/24 [00:02<00:02,  4.74it/s]\u001b[A\n",
      "Validation DataLoader 0:  58%|████████████████████████████████████████████████████████████████████████████████████████████████████▉                                                                        | 14/24 [00:02<00:02,  4.74it/s]\u001b[A\n",
      "Validation DataLoader 0:  62%|████████████████████████████████████████████████████████████████████████████████████████████████████████████▏                                                                | 15/24 [00:03<00:01,  4.74it/s]\u001b[A\n",
      "Validation DataLoader 0:  67%|███████████████████████████████████████████████████████████████████████████████████████████████████████████████████▎                                                         | 16/24 [00:03<00:01,  4.75it/s]\u001b[A\n",
      "Validation DataLoader 0:  71%|██████████████████████████████████████████████████████████████████████████████████████████████████████████████████████████▌                                                  | 17/24 [00:03<00:01,  4.75it/s]\u001b[A\n",
      "Validation DataLoader 0:  75%|█████████████████████████████████████████████████████████████████████████████████████████████████████████████████████████████████▊                                           | 18/24 [00:03<00:01,  4.75it/s]\u001b[A\n",
      "Validation DataLoader 0:  79%|████████████████████████████████████████████████████████████████████████████████████████████████████████████████████████████████████████▉                                    | 19/24 [00:03<00:01,  4.75it/s]\u001b[A\n",
      "Validation DataLoader 0:  83%|████████████████████████████████████████████████████████████████████████████████████████████████████████████████████████████████████████████████▏                            | 20/24 [00:04<00:00,  4.76it/s]\u001b[A\n",
      "Validation DataLoader 0:  88%|███████████████████████████████████████████████████████████████████████████████████████████████████████████████████████████████████████████████████████▍                     | 21/24 [00:04<00:00,  4.76it/s]\u001b[A\n",
      "Validation DataLoader 0:  92%|██████████████████████████████████████████████████████████████████████████████████████████████████████████████████████████████████████████████████████████████▌              | 22/24 [00:04<00:00,  4.76it/s]\u001b[A\n",
      "Validation DataLoader 0:  96%|█████████████████████████████████████████████████████████████████████████████████████████████████████████████████████████████████████████████████████████████████████▊       | 23/24 [00:04<00:00,  4.77it/s]\u001b[A\n",
      "Validation DataLoader 0: 100%|█████████████████████████████████████████████████████████████████████████████████████████████████████████████████████████████████████████████████████████████████████████████| 24/24 [00:04<00:00,  4.92it/s]\u001b[A\n",
      "Epoch 4: 100%|████████████████████████████████████████████████████████████████████████████████████████████████████████████████████████████████| 319/319 [03:09<00:00,  1.68it/s, v_num=9zb6, train_loss_step=0.142, train_loss_epoch=0.148]\u001b[A\n",
      "Validation: |                                                                                                                                                                                                        | 0/? [00:00<?, ?it/s]\u001b[A\n",
      "Validation:   0%|                                                                                                                                                                                                   | 0/24 [00:00<?, ?it/s]\u001b[A\n",
      "Validation DataLoader 0:   0%|                                                                                                                                                                                      | 0/24 [00:00<?, ?it/s]\u001b[A\n",
      "Validation DataLoader 0:   4%|███████▎                                                                                                                                                                      | 1/24 [00:00<00:04,  4.63it/s]\u001b[A\n",
      "Validation DataLoader 0:   8%|██████████████▌                                                                                                                                                               | 2/24 [00:00<00:04,  4.69it/s]\u001b[A\n",
      "Validation DataLoader 0:  12%|█████████████████████▊                                                                                                                                                        | 3/24 [00:00<00:04,  4.69it/s]\u001b[A\n",
      "Validation DataLoader 0:  17%|█████████████████████████████                                                                                                                                                 | 4/24 [00:00<00:04,  4.73it/s]\u001b[A\n",
      "Validation DataLoader 0:  21%|████████████████████████████████████▎                                                                                                                                         | 5/24 [00:01<00:04,  4.74it/s]\u001b[A\n",
      "Validation DataLoader 0:  25%|███████████████████████████████████████████▌                                                                                                                                  | 6/24 [00:01<00:03,  4.74it/s]\u001b[A\n",
      "Validation DataLoader 0:  29%|██████████████████████████████████████████████████▊                                                                                                                           | 7/24 [00:01<00:03,  4.75it/s]\u001b[A\n",
      "Validation DataLoader 0:  33%|██████████████████████████████████████████████████████████                                                                                                                    | 8/24 [00:01<00:03,  4.76it/s]\u001b[A\n",
      "Validation DataLoader 0:  38%|█████████████████████████████████████████████████████████████████▎                                                                                                            | 9/24 [00:01<00:03,  4.76it/s]\u001b[A\n",
      "Validation DataLoader 0:  42%|████████████████████████████████████████████████████████████████████████                                                                                                     | 10/24 [00:02<00:02,  4.77it/s]\u001b[A\n",
      "Validation DataLoader 0:  46%|███████████████████████████████████████████████████████████████████████████████▎                                                                                             | 11/24 [00:02<00:02,  4.77it/s]\u001b[A\n",
      "Validation DataLoader 0:  50%|██████████████████████████████████████████████████████████████████████████████████████▌                                                                                      | 12/24 [00:02<00:02,  4.77it/s]\u001b[A\n",
      "Validation DataLoader 0:  54%|█████████████████████████████████████████████████████████████████████████████████████████████▋                                                                               | 13/24 [00:02<00:02,  4.77it/s]\u001b[A\n",
      "Validation DataLoader 0:  58%|████████████████████████████████████████████████████████████████████████████████████████████████████▉                                                                        | 14/24 [00:02<00:02,  4.77it/s]\u001b[A\n",
      "Validation DataLoader 0:  62%|████████████████████████████████████████████████████████████████████████████████████████████████████████████▏                                                                | 15/24 [00:03<00:01,  4.78it/s]\u001b[A\n",
      "Validation DataLoader 0:  67%|███████████████████████████████████████████████████████████████████████████████████████████████████████████████████▎                                                         | 16/24 [00:03<00:01,  4.78it/s]\u001b[A\n",
      "Validation DataLoader 0:  71%|██████████████████████████████████████████████████████████████████████████████████████████████████████████████████████████▌                                                  | 17/24 [00:03<00:01,  4.78it/s]\u001b[A\n",
      "Validation DataLoader 0:  75%|█████████████████████████████████████████████████████████████████████████████████████████████████████████████████████████████████▊                                           | 18/24 [00:03<00:01,  4.78it/s]\u001b[A\n",
      "Validation DataLoader 0:  79%|████████████████████████████████████████████████████████████████████████████████████████████████████████████████████████████████████████▉                                    | 19/24 [00:03<00:01,  4.79it/s]\u001b[A\n",
      "Validation DataLoader 0:  83%|████████████████████████████████████████████████████████████████████████████████████████████████████████████████████████████████████████████████▏                            | 20/24 [00:04<00:00,  4.79it/s]\u001b[A\n",
      "Validation DataLoader 0:  88%|███████████████████████████████████████████████████████████████████████████████████████████████████████████████████████████████████████████████████████▍                     | 21/24 [00:04<00:00,  4.79it/s]\u001b[A\n",
      "Validation DataLoader 0:  92%|██████████████████████████████████████████████████████████████████████████████████████████████████████████████████████████████████████████████████████████████▌              | 22/24 [00:04<00:00,  4.79it/s]\u001b[A\n",
      "Validation DataLoader 0:  96%|█████████████████████████████████████████████████████████████████████████████████████████████████████████████████████████████████████████████████████████████████████▊       | 23/24 [00:04<00:00,  4.79it/s]\u001b[A\n",
      "Validation DataLoader 0: 100%|█████████████████████████████████████████████████████████████████████████████████████████████████████████████████████████████████████████████████████████████████████████████| 24/24 [00:04<00:00,  4.94it/s]\u001b[A\n",
      "Epoch 5: 100%|████████████████████████████████████████████████████████████████████████████████████████████████████████████████████████████████| 319/319 [03:09<00:00,  1.69it/s, v_num=9zb6, train_loss_step=0.147, train_loss_epoch=0.147]\u001b[A\n",
      "Validation: |                                                                                                                                                                                                        | 0/? [00:00<?, ?it/s]\u001b[A\n",
      "Validation:   0%|                                                                                                                                                                                                   | 0/24 [00:00<?, ?it/s]\u001b[A\n",
      "Validation DataLoader 0:   0%|                                                                                                                                                                                      | 0/24 [00:00<?, ?it/s]\u001b[A\n",
      "Validation DataLoader 0:   4%|███████▎                                                                                                                                                                      | 1/24 [00:00<00:05,  4.33it/s]\u001b[A\n",
      "Validation DataLoader 0:   8%|██████████████▌                                                                                                                                                               | 2/24 [00:00<00:04,  4.49it/s]\u001b[A\n",
      "Validation DataLoader 0:  12%|█████████████████████▊                                                                                                                                                        | 3/24 [00:00<00:04,  4.58it/s]\u001b[A\n",
      "Validation DataLoader 0:  17%|█████████████████████████████                                                                                                                                                 | 4/24 [00:00<00:04,  4.59it/s]\u001b[A\n",
      "Validation DataLoader 0:  21%|████████████████████████████████████▎                                                                                                                                         | 5/24 [00:01<00:04,  4.64it/s]\u001b[A\n",
      "Validation DataLoader 0:  25%|███████████████████████████████████████████▌                                                                                                                                  | 6/24 [00:01<00:03,  4.68it/s]\u001b[A\n",
      "Validation DataLoader 0:  29%|██████████████████████████████████████████████████▊                                                                                                                           | 7/24 [00:01<00:03,  4.69it/s]\u001b[A\n",
      "Validation DataLoader 0:  33%|██████████████████████████████████████████████████████████                                                                                                                    | 8/24 [00:01<00:03,  4.71it/s]\u001b[A\n",
      "Validation DataLoader 0:  38%|█████████████████████████████████████████████████████████████████▎                                                                                                            | 9/24 [00:01<00:03,  4.72it/s]\u001b[A\n",
      "Validation DataLoader 0:  42%|████████████████████████████████████████████████████████████████████████                                                                                                     | 10/24 [00:02<00:02,  4.73it/s]\u001b[A\n",
      "Validation DataLoader 0:  46%|███████████████████████████████████████████████████████████████████████████████▎                                                                                             | 11/24 [00:02<00:02,  4.74it/s]\u001b[A\n",
      "Validation DataLoader 0:  50%|██████████████████████████████████████████████████████████████████████████████████████▌                                                                                      | 12/24 [00:02<00:02,  4.75it/s]\u001b[A\n",
      "Validation DataLoader 0:  54%|█████████████████████████████████████████████████████████████████████████████████████████████▋                                                                               | 13/24 [00:02<00:02,  4.75it/s]\u001b[A\n",
      "Validation DataLoader 0:  58%|████████████████████████████████████████████████████████████████████████████████████████████████████▉                                                                        | 14/24 [00:02<00:02,  4.76it/s]\u001b[A\n",
      "Validation DataLoader 0:  62%|████████████████████████████████████████████████████████████████████████████████████████████████████████████▏                                                                | 15/24 [00:03<00:01,  4.76it/s]\u001b[A\n",
      "Validation DataLoader 0:  67%|███████████████████████████████████████████████████████████████████████████████████████████████████████████████████▎                                                         | 16/24 [00:03<00:01,  4.76it/s]\u001b[A\n",
      "Validation DataLoader 0:  71%|██████████████████████████████████████████████████████████████████████████████████████████████████████████████████████████▌                                                  | 17/24 [00:03<00:01,  4.77it/s]\u001b[A\n",
      "Validation DataLoader 0:  75%|█████████████████████████████████████████████████████████████████████████████████████████████████████████████████████████████████▊                                           | 18/24 [00:03<00:01,  4.77it/s]\u001b[A\n",
      "Validation DataLoader 0:  79%|████████████████████████████████████████████████████████████████████████████████████████████████████████████████████████████████████████▉                                    | 19/24 [00:03<00:01,  4.78it/s]\u001b[A\n",
      "Validation DataLoader 0:  83%|████████████████████████████████████████████████████████████████████████████████████████████████████████████████████████████████████████████████▏                            | 20/24 [00:04<00:00,  4.78it/s]\u001b[A\n",
      "Validation DataLoader 0:  88%|███████████████████████████████████████████████████████████████████████████████████████████████████████████████████████████████████████████████████████▍                     | 21/24 [00:04<00:00,  4.78it/s]\u001b[A\n",
      "Validation DataLoader 0:  92%|██████████████████████████████████████████████████████████████████████████████████████████████████████████████████████████████████████████████████████████████▌              | 22/24 [00:04<00:00,  4.78it/s]\u001b[A\n",
      "Validation DataLoader 0:  96%|█████████████████████████████████████████████████████████████████████████████████████████████████████████████████████████████████████████████████████████████████████▊       | 23/24 [00:04<00:00,  4.78it/s]\u001b[A\n",
      "Validation DataLoader 0: 100%|█████████████████████████████████████████████████████████████████████████████████████████████████████████████████████████████████████████████████████████████████████████████| 24/24 [00:04<00:00,  4.94it/s]\u001b[A\n",
      "Epoch 6: 100%|████████████████████████████████████████████████████████████████████████████████████████████████████████████████████████████████| 319/319 [03:09<00:00,  1.68it/s, v_num=9zb6, train_loss_step=0.142, train_loss_epoch=0.146]\u001b[A\n",
      "Validation: |                                                                                                                                                                                                        | 0/? [00:00<?, ?it/s]\u001b[A\n",
      "Validation:   0%|                                                                                                                                                                                                   | 0/24 [00:00<?, ?it/s]\u001b[A\n",
      "Validation DataLoader 0:   0%|                                                                                                                                                                                      | 0/24 [00:00<?, ?it/s]\u001b[A\n",
      "Validation DataLoader 0:   4%|███████▎                                                                                                                                                                      | 1/24 [00:00<00:05,  4.28it/s]\u001b[A\n",
      "Validation DataLoader 0:   8%|██████████████▌                                                                                                                                                               | 2/24 [00:00<00:05,  4.37it/s]\u001b[A\n",
      "Validation DataLoader 0:  12%|█████████████████████▊                                                                                                                                                        | 3/24 [00:00<00:04,  4.53it/s]\u001b[A\n",
      "Validation DataLoader 0:  17%|█████████████████████████████                                                                                                                                                 | 4/24 [00:00<00:04,  4.58it/s]\u001b[A\n",
      "Validation DataLoader 0:  21%|████████████████████████████████████▎                                                                                                                                         | 5/24 [00:01<00:04,  4.63it/s]\u001b[A\n",
      "Validation DataLoader 0:  25%|███████████████████████████████████████████▌                                                                                                                                  | 6/24 [00:01<00:03,  4.66it/s]\u001b[A\n",
      "Validation DataLoader 0:  29%|██████████████████████████████████████████████████▊                                                                                                                           | 7/24 [00:01<00:03,  4.69it/s]\u001b[A\n",
      "Validation DataLoader 0:  33%|██████████████████████████████████████████████████████████                                                                                                                    | 8/24 [00:01<00:03,  4.70it/s]\u001b[A\n",
      "Validation DataLoader 0:  38%|█████████████████████████████████████████████████████████████████▎                                                                                                            | 9/24 [00:01<00:03,  4.71it/s]\u001b[A\n",
      "Validation DataLoader 0:  42%|████████████████████████████████████████████████████████████████████████                                                                                                     | 10/24 [00:02<00:02,  4.72it/s]\u001b[A\n",
      "Validation DataLoader 0:  46%|███████████████████████████████████████████████████████████████████████████████▎                                                                                             | 11/24 [00:02<00:02,  4.73it/s]\u001b[A\n",
      "Validation DataLoader 0:  50%|██████████████████████████████████████████████████████████████████████████████████████▌                                                                                      | 12/24 [00:02<00:02,  4.73it/s]\u001b[A\n",
      "Validation DataLoader 0:  54%|█████████████████████████████████████████████████████████████████████████████████████████████▋                                                                               | 13/24 [00:02<00:02,  4.74it/s]\u001b[A\n",
      "Validation DataLoader 0:  58%|████████████████████████████████████████████████████████████████████████████████████████████████████▉                                                                        | 14/24 [00:02<00:02,  4.74it/s]\u001b[A\n",
      "Validation DataLoader 0:  62%|████████████████████████████████████████████████████████████████████████████████████████████████████████████▏                                                                | 15/24 [00:03<00:01,  4.75it/s]\u001b[A\n",
      "Validation DataLoader 0:  67%|███████████████████████████████████████████████████████████████████████████████████████████████████████████████████▎                                                         | 16/24 [00:03<00:01,  4.75it/s]\u001b[A\n",
      "Validation DataLoader 0:  71%|██████████████████████████████████████████████████████████████████████████████████████████████████████████████████████████▌                                                  | 17/24 [00:03<00:01,  4.75it/s]\u001b[A\n",
      "Validation DataLoader 0:  75%|█████████████████████████████████████████████████████████████████████████████████████████████████████████████████████████████████▊                                           | 18/24 [00:03<00:01,  4.76it/s]\u001b[A\n",
      "Validation DataLoader 0:  79%|████████████████████████████████████████████████████████████████████████████████████████████████████████████████████████████████████████▉                                    | 19/24 [00:03<00:01,  4.76it/s]\u001b[A\n",
      "Validation DataLoader 0:  83%|████████████████████████████████████████████████████████████████████████████████████████████████████████████████████████████████████████████████▏                            | 20/24 [00:04<00:00,  4.76it/s]\u001b[A\n",
      "Validation DataLoader 0:  88%|███████████████████████████████████████████████████████████████████████████████████████████████████████████████████████████████████████████████████████▍                     | 21/24 [00:04<00:00,  4.76it/s]\u001b[A\n",
      "Validation DataLoader 0:  92%|██████████████████████████████████████████████████████████████████████████████████████████████████████████████████████████████████████████████████████████████▌              | 22/24 [00:04<00:00,  4.77it/s]\u001b[A\n",
      "Validation DataLoader 0:  96%|█████████████████████████████████████████████████████████████████████████████████████████████████████████████████████████████████████████████████████████████████████▊       | 23/24 [00:04<00:00,  4.77it/s]\u001b[A\n",
      "Validation DataLoader 0: 100%|█████████████████████████████████████████████████████████████████████████████████████████████████████████████████████████████████████████████████████████████████████████████| 24/24 [00:04<00:00,  4.90it/s]\u001b[A\n",
      "Epoch 7: 100%|████████████████████████████████████████████████████████████████████████████████████████████████████████████████████████████████| 319/319 [03:09<00:00,  1.68it/s, v_num=9zb6, train_loss_step=0.136, train_loss_epoch=0.145]\u001b[A\n",
      "Validation: |                                                                                                                                                                                                        | 0/? [00:00<?, ?it/s]\u001b[A\n",
      "Validation:   0%|                                                                                                                                                                                                   | 0/24 [00:00<?, ?it/s]\u001b[A\n",
      "Validation DataLoader 0:   0%|                                                                                                                                                                                      | 0/24 [00:00<?, ?it/s]\u001b[A\n",
      "Validation DataLoader 0:   4%|███████▎                                                                                                                                                                      | 1/24 [00:00<00:04,  4.63it/s]\u001b[A\n",
      "Validation DataLoader 0:   8%|██████████████▌                                                                                                                                                               | 2/24 [00:00<00:04,  4.72it/s]\u001b[A\n",
      "Validation DataLoader 0:  12%|█████████████████████▊                                                                                                                                                        | 3/24 [00:00<00:04,  4.75it/s]\u001b[A\n",
      "Validation DataLoader 0:  17%|█████████████████████████████                                                                                                                                                 | 4/24 [00:00<00:04,  4.78it/s]\u001b[A\n",
      "Validation DataLoader 0:  21%|████████████████████████████████████▎                                                                                                                                         | 5/24 [00:01<00:03,  4.80it/s]\u001b[A\n",
      "Validation DataLoader 0:  25%|███████████████████████████████████████████▌                                                                                                                                  | 6/24 [00:01<00:03,  4.79it/s]\u001b[A\n",
      "Validation DataLoader 0:  29%|██████████████████████████████████████████████████▊                                                                                                                           | 7/24 [00:01<00:03,  4.80it/s]\u001b[A\n",
      "Validation DataLoader 0:  33%|██████████████████████████████████████████████████████████                                                                                                                    | 8/24 [00:01<00:03,  4.80it/s]\u001b[A\n",
      "Validation DataLoader 0:  38%|█████████████████████████████████████████████████████████████████▎                                                                                                            | 9/24 [00:01<00:03,  4.80it/s]\u001b[A\n",
      "Validation DataLoader 0:  42%|████████████████████████████████████████████████████████████████████████                                                                                                     | 10/24 [00:02<00:02,  4.80it/s]\u001b[A\n",
      "Validation DataLoader 0:  46%|███████████████████████████████████████████████████████████████████████████████▎                                                                                             | 11/24 [00:02<00:02,  4.80it/s]\u001b[A\n",
      "Validation DataLoader 0:  50%|██████████████████████████████████████████████████████████████████████████████████████▌                                                                                      | 12/24 [00:02<00:02,  4.80it/s]\u001b[A\n",
      "Validation DataLoader 0:  54%|█████████████████████████████████████████████████████████████████████████████████████████████▋                                                                               | 13/24 [00:02<00:02,  4.80it/s]\u001b[A\n",
      "Validation DataLoader 0:  58%|████████████████████████████████████████████████████████████████████████████████████████████████████▉                                                                        | 14/24 [00:02<00:02,  4.80it/s]\u001b[A\n",
      "Validation DataLoader 0:  62%|████████████████████████████████████████████████████████████████████████████████████████████████████████████▏                                                                | 15/24 [00:03<00:01,  4.80it/s]\u001b[A\n",
      "Validation DataLoader 0:  67%|███████████████████████████████████████████████████████████████████████████████████████████████████████████████████▎                                                         | 16/24 [00:03<00:01,  4.81it/s]\u001b[A\n",
      "Validation DataLoader 0:  71%|██████████████████████████████████████████████████████████████████████████████████████████████████████████████████████████▌                                                  | 17/24 [00:03<00:01,  4.81it/s]\u001b[A\n",
      "Validation DataLoader 0:  75%|█████████████████████████████████████████████████████████████████████████████████████████████████████████████████████████████████▊                                           | 18/24 [00:03<00:01,  4.81it/s]\u001b[A\n",
      "Validation DataLoader 0:  79%|████████████████████████████████████████████████████████████████████████████████████████████████████████████████████████████████████████▉                                    | 19/24 [00:03<00:01,  4.81it/s]\u001b[A\n",
      "Validation DataLoader 0:  83%|████████████████████████████████████████████████████████████████████████████████████████████████████████████████████████████████████████████████▏                            | 20/24 [00:04<00:00,  4.81it/s]\u001b[A\n",
      "Validation DataLoader 0:  88%|███████████████████████████████████████████████████████████████████████████████████████████████████████████████████████████████████████████████████████▍                     | 21/24 [00:04<00:00,  4.81it/s]\u001b[A\n",
      "Validation DataLoader 0:  92%|██████████████████████████████████████████████████████████████████████████████████████████████████████████████████████████████████████████████████████████████▌              | 22/24 [00:04<00:00,  4.81it/s]\u001b[A\n",
      "Validation DataLoader 0:  96%|█████████████████████████████████████████████████████████████████████████████████████████████████████████████████████████████████████████████████████████████████████▊       | 23/24 [00:04<00:00,  4.81it/s]\u001b[A\n",
      "Validation DataLoader 0: 100%|█████████████████████████████████████████████████████████████████████████████████████████████████████████████████████████████████████████████████████████████████████████████| 24/24 [00:04<00:00,  4.96it/s]\u001b[A\n",
      "Epoch 8: 100%|████████████████████████████████████████████████████████████████████████████████████████████████████████████████████████████████| 319/319 [03:09<00:00,  1.68it/s, v_num=9zb6, train_loss_step=0.140, train_loss_epoch=0.144]\u001b[A\n",
      "Validation: |                                                                                                                                                                                                        | 0/? [00:00<?, ?it/s]\u001b[A\n",
      "Validation:   0%|                                                                                                                                                                                                   | 0/24 [00:00<?, ?it/s]\u001b[A\n",
      "Validation DataLoader 0:   0%|                                                                                                                                                                                      | 0/24 [00:00<?, ?it/s]\u001b[A\n",
      "Validation DataLoader 0:   4%|███████▎                                                                                                                                                                      | 1/24 [00:00<00:05,  4.45it/s]\u001b[A\n",
      "Validation DataLoader 0:   8%|██████████████▌                                                                                                                                                               | 2/24 [00:00<00:04,  4.58it/s]\u001b[A\n",
      "Validation DataLoader 0:  12%|█████████████████████▊                                                                                                                                                        | 3/24 [00:00<00:04,  4.65it/s]\u001b[A\n",
      "Validation DataLoader 0:  17%|█████████████████████████████                                                                                                                                                 | 4/24 [00:00<00:04,  4.70it/s]\u001b[A\n",
      "Validation DataLoader 0:  21%|████████████████████████████████████▎                                                                                                                                         | 5/24 [00:01<00:04,  4.72it/s]\u001b[A\n",
      "Validation DataLoader 0:  25%|███████████████████████████████████████████▌                                                                                                                                  | 6/24 [00:01<00:03,  4.74it/s]\u001b[A\n",
      "Validation DataLoader 0:  29%|██████████████████████████████████████████████████▊                                                                                                                           | 7/24 [00:01<00:03,  4.74it/s]\u001b[A\n",
      "Validation DataLoader 0:  33%|██████████████████████████████████████████████████████████                                                                                                                    | 8/24 [00:01<00:03,  4.74it/s]\u001b[A\n",
      "Validation DataLoader 0:  38%|█████████████████████████████████████████████████████████████████▎                                                                                                            | 9/24 [00:01<00:03,  4.75it/s]\u001b[A\n",
      "Validation DataLoader 0:  42%|████████████████████████████████████████████████████████████████████████                                                                                                     | 10/24 [00:02<00:02,  4.76it/s]\u001b[A\n",
      "Validation DataLoader 0:  46%|███████████████████████████████████████████████████████████████████████████████▎                                                                                             | 11/24 [00:02<00:02,  4.77it/s]\u001b[A\n",
      "Validation DataLoader 0:  50%|██████████████████████████████████████████████████████████████████████████████████████▌                                                                                      | 12/24 [00:02<00:02,  4.78it/s]\u001b[A\n",
      "Validation DataLoader 0:  54%|█████████████████████████████████████████████████████████████████████████████████████████████▋                                                                               | 13/24 [00:02<00:02,  4.78it/s]\u001b[A\n",
      "Validation DataLoader 0:  58%|████████████████████████████████████████████████████████████████████████████████████████████████████▉                                                                        | 14/24 [00:02<00:02,  4.79it/s]\u001b[A\n",
      "Validation DataLoader 0:  62%|████████████████████████████████████████████████████████████████████████████████████████████████████████████▏                                                                | 15/24 [00:03<00:01,  4.79it/s]\u001b[A\n",
      "Validation DataLoader 0:  67%|███████████████████████████████████████████████████████████████████████████████████████████████████████████████████▎                                                         | 16/24 [00:03<00:01,  4.79it/s]\u001b[A\n",
      "Validation DataLoader 0:  71%|██████████████████████████████████████████████████████████████████████████████████████████████████████████████████████████▌                                                  | 17/24 [00:03<00:01,  4.80it/s]\u001b[A\n",
      "Validation DataLoader 0:  75%|█████████████████████████████████████████████████████████████████████████████████████████████████████████████████████████████████▊                                           | 18/24 [00:03<00:01,  4.80it/s]\u001b[A\n",
      "Validation DataLoader 0:  79%|████████████████████████████████████████████████████████████████████████████████████████████████████████████████████████████████████████▉                                    | 19/24 [00:03<00:01,  4.80it/s]\u001b[A\n",
      "Validation DataLoader 0:  83%|████████████████████████████████████████████████████████████████████████████████████████████████████████████████████████████████████████████████▏                            | 20/24 [00:04<00:00,  4.80it/s]\u001b[A\n",
      "Validation DataLoader 0:  88%|███████████████████████████████████████████████████████████████████████████████████████████████████████████████████████████████████████████████████████▍                     | 21/24 [00:04<00:00,  4.80it/s]\u001b[A\n",
      "Validation DataLoader 0:  92%|██████████████████████████████████████████████████████████████████████████████████████████████████████████████████████████████████████████████████████████████▌              | 22/24 [00:04<00:00,  4.80it/s]\u001b[A\n",
      "Validation DataLoader 0:  96%|█████████████████████████████████████████████████████████████████████████████████████████████████████████████████████████████████████████████████████████████████████▊       | 23/24 [00:04<00:00,  4.80it/s]\u001b[A\n",
      "Validation DataLoader 0: 100%|█████████████████████████████████████████████████████████████████████████████████████████████████████████████████████████████████████████████████████████████████████████████| 24/24 [00:04<00:00,  4.95it/s]\u001b[A\n",
      "Epoch 9: 100%|████████████████████████████████████████████████████████████████████████████████████████████████████████████████████████████████| 319/319 [03:10<00:00,  1.68it/s, v_num=9zb6, train_loss_step=0.149, train_loss_epoch=0.143]\u001b[A\n",
      "Validation: |                                                                                                                                                                                                        | 0/? [00:00<?, ?it/s]\u001b[A\n",
      "Validation:   0%|                                                                                                                                                                                                   | 0/24 [00:00<?, ?it/s]\u001b[A\n",
      "Validation DataLoader 0:   0%|                                                                                                                                                                                      | 0/24 [00:00<?, ?it/s]\u001b[A\n",
      "Validation DataLoader 0:   4%|███████▎                                                                                                                                                                      | 1/24 [00:00<00:05,  4.56it/s]\u001b[A\n",
      "Validation DataLoader 0:   8%|██████████████▌                                                                                                                                                               | 2/24 [00:00<00:04,  4.49it/s]\u001b[A\n",
      "Validation DataLoader 0:  12%|█████████████████████▊                                                                                                                                                        | 3/24 [00:00<00:04,  4.58it/s]\u001b[A\n",
      "Validation DataLoader 0:  17%|█████████████████████████████                                                                                                                                                 | 4/24 [00:00<00:04,  4.63it/s]\u001b[A\n",
      "Validation DataLoader 0:  21%|████████████████████████████████████▎                                                                                                                                         | 5/24 [00:01<00:04,  4.66it/s]\u001b[A\n",
      "Validation DataLoader 0:  25%|███████████████████████████████████████████▌                                                                                                                                  | 6/24 [00:01<00:03,  4.68it/s]\u001b[A\n",
      "Validation DataLoader 0:  29%|██████████████████████████████████████████████████▊                                                                                                                           | 7/24 [00:01<00:03,  4.69it/s]\u001b[A\n",
      "Validation DataLoader 0:  33%|██████████████████████████████████████████████████████████                                                                                                                    | 8/24 [00:01<00:03,  4.70it/s]\u001b[A\n",
      "Validation DataLoader 0:  38%|█████████████████████████████████████████████████████████████████▎                                                                                                            | 9/24 [00:01<00:03,  4.71it/s]\u001b[A\n",
      "Validation DataLoader 0:  42%|████████████████████████████████████████████████████████████████████████                                                                                                     | 10/24 [00:02<00:02,  4.71it/s]\u001b[A\n",
      "Validation DataLoader 0:  46%|███████████████████████████████████████████████████████████████████████████████▎                                                                                             | 11/24 [00:02<00:02,  4.72it/s]\u001b[A\n",
      "Validation DataLoader 0:  50%|██████████████████████████████████████████████████████████████████████████████████████▌                                                                                      | 12/24 [00:02<00:02,  4.72it/s]\u001b[A\n",
      "Validation DataLoader 0:  54%|█████████████████████████████████████████████████████████████████████████████████████████████▋                                                                               | 13/24 [00:02<00:02,  4.72it/s]\u001b[A\n",
      "Validation DataLoader 0:  58%|████████████████████████████████████████████████████████████████████████████████████████████████████▉                                                                        | 14/24 [00:02<00:02,  4.73it/s]\u001b[A\n",
      "Validation DataLoader 0:  62%|████████████████████████████████████████████████████████████████████████████████████████████████████████████▏                                                                | 15/24 [00:03<00:01,  4.73it/s]\u001b[A\n",
      "Validation DataLoader 0:  67%|███████████████████████████████████████████████████████████████████████████████████████████████████████████████████▎                                                         | 16/24 [00:03<00:01,  4.73it/s]\u001b[A\n",
      "Validation DataLoader 0:  71%|██████████████████████████████████████████████████████████████████████████████████████████████████████████████████████████▌                                                  | 17/24 [00:03<00:01,  4.74it/s]\u001b[A\n",
      "Validation DataLoader 0:  75%|█████████████████████████████████████████████████████████████████████████████████████████████████████████████████████████████████▊                                           | 18/24 [00:03<00:01,  4.74it/s]\u001b[A\n",
      "Validation DataLoader 0:  79%|████████████████████████████████████████████████████████████████████████████████████████████████████████████████████████████████████████▉                                    | 19/24 [00:04<00:01,  4.75it/s]\u001b[A\n",
      "Validation DataLoader 0:  83%|████████████████████████████████████████████████████████████████████████████████████████████████████████████████████████████████████████████████▏                            | 20/24 [00:04<00:00,  4.75it/s]\u001b[A\n",
      "Validation DataLoader 0:  88%|███████████████████████████████████████████████████████████████████████████████████████████████████████████████████████████████████████████████████████▍                     | 21/24 [00:04<00:00,  4.75it/s]\u001b[A\n",
      "Validation DataLoader 0:  92%|██████████████████████████████████████████████████████████████████████████████████████████████████████████████████████████████████████████████████████████████▌              | 22/24 [00:04<00:00,  4.75it/s]\u001b[A\n",
      "Validation DataLoader 0:  96%|█████████████████████████████████████████████████████████████████████████████████████████████████████████████████████████████████████████████████████████████████████▊       | 23/24 [00:04<00:00,  4.75it/s]\u001b[A\n",
      "Validation DataLoader 0: 100%|█████████████████████████████████████████████████████████████████████████████████████████████████████████████████████████████████████████████████████████████████████████████| 24/24 [00:04<00:00,  4.90it/s]\u001b[A\n",
      "Epoch 9: 100%|████████████████████████████████████████████████████████████████████████████████████████████████████████████████████████████████| 319/319 [03:19<00:00,  1.60it/s, v_num=9zb6, train_loss_step=0.149, train_loss_epoch=0.143]\u001b[A"
     ]
    },
    {
     "name": "stderr",
     "output_type": "stream",
     "text": [
      "`Trainer.fit` stopped: `max_epochs=10` reached.\n"
     ]
    },
    {
     "name": "stdout",
     "output_type": "stream",
     "text": [
      "Epoch 9: 100%|████████████████████████████████████████████████████████████████████████████████████████████████████████████████████████████████| 319/319 [03:31<00:00,  1.51it/s, v_num=9zb6, train_loss_step=0.149, train_loss_epoch=0.143]\n"
     ]
    }
   ],
   "source": [
    "trainer = model.train_on_dataset(train_dataset=train_dataset, val_dataset=val_dataset)"
   ]
  },
  {
   "cell_type": "markdown",
   "id": "706526f0-9e71-4005-8049-f079218f5e5e",
   "metadata": {},
   "source": [
    "## Load best checkpoint"
   ]
  },
  {
   "cell_type": "code",
   "execution_count": 7,
   "id": "0994d3d9-b3de-4e0a-9ebf-2c8854cf2543",
   "metadata": {},
   "outputs": [
    {
     "name": "stderr",
     "output_type": "stream",
     "text": [
      "\u001b[34m\u001b[1mwandb\u001b[0m: \u001b[33mWARNING\u001b[0m Calling wandb.login() after wandb.init() has no effect.\n",
      "\u001b[34m\u001b[1mwandb\u001b[0m: Downloading large artifact human_state_dict:latest, 939.29MB. 1 files... \n",
      "\u001b[34m\u001b[1mwandb\u001b[0m:   1 of 1 files downloaded.  \n",
      "Done. 0:0:0.8\n",
      "/opt/conda/lib/python3.11/site-packages/grelu/model/models.py:771: FutureWarning: You are using `torch.load` with `weights_only=False` (the current default value), which uses the default pickle module implicitly. It is possible to construct malicious pickle data which will execute arbitrary code during unpickling (See https://github.com/pytorch/pytorch/blob/main/SECURITY.md#untrusted-models for more details). In a future release, the default value for `weights_only` will be flipped to `True`. This limits the functions that could be executed during unpickling. Arbitrary objects will no longer be allowed to be loaded via this mode unless they are explicitly allowlisted by the user via `torch.serialization.add_safe_globals`. We recommend you start setting `weights_only=True` for any use case where you don't have full control of the loaded file. Please open an issue on GitHub for any issues related to this experimental feature.\n",
      "  state_dict = torch.load(Path(d) / \"human.h5\")\n"
     ]
    }
   ],
   "source": [
    "best_checkpoint = trainer.checkpoint_callback.best_model_path\n",
    "model = grelu.lightning.LightningModel.load_from_checkpoint(best_checkpoint)"
   ]
  },
  {
   "cell_type": "markdown",
   "id": "2fb562c7-a37b-49a5-9815-bbc522004d28",
   "metadata": {},
   "source": [
    "## Evaluate"
   ]
  },
  {
   "cell_type": "code",
   "execution_count": 10,
   "id": "4ba34d26-0133-4017-a0a6-f86358ec282f",
   "metadata": {},
   "outputs": [],
   "source": [
    "test_dataset = grelu.data.dataset.AnnDataSeqDataset(\n",
    "    ad[:, ad.var.split=='test'].copy(), genome='hg38',\n",
    ")"
   ]
  },
  {
   "cell_type": "code",
   "execution_count": 12,
   "id": "f898e170-a7c6-4bfc-8976-1ca24600a41b",
   "metadata": {},
   "outputs": [
    {
     "name": "stderr",
     "output_type": "stream",
     "text": [
      "GPU available: True (cuda), used: True\n",
      "TPU available: False, using: 0 TPU cores\n",
      "HPU available: False, using: 0 HPUs\n",
      "LOCAL_RANK: 0 - CUDA_VISIBLE_DEVICES: [1]\n"
     ]
    },
    {
     "name": "stdout",
     "output_type": "stream",
     "text": [
      "Testing DataLoader 0: 100%|██████████████████████████████████████████████████████████████████████████████████████████████████████████████████████████████████████████████████████████████████████████████| 281/281 [00:09<00:00, 28.11it/s]\n"
     ]
    },
    {
     "data": {
      "text/html": [
       "<pre style=\"white-space:pre;overflow-x:auto;line-height:normal;font-family:Menlo,'DejaVu Sans Mono',consolas,'Courier New',monospace\">┏━━━━━━━━━━━━━━━━━━━━━━━━━━━┳━━━━━━━━━━━━━━━━━━━━━━━━━━━┓\n",
       "┃<span style=\"font-weight: bold\">        Test metric        </span>┃<span style=\"font-weight: bold\">       DataLoader 0        </span>┃\n",
       "┡━━━━━━━━━━━━━━━━━━━━━━━━━━━╇━━━━━━━━━━━━━━━━━━━━━━━━━━━┩\n",
       "│<span style=\"color: #008080; text-decoration-color: #008080\">       test_accuracy       </span>│<span style=\"color: #800080; text-decoration-color: #800080\">    0.9418918490409851     </span>│\n",
       "│<span style=\"color: #008080; text-decoration-color: #008080\">        test_auroc         </span>│<span style=\"color: #800080; text-decoration-color: #800080\">     0.905402421951294     </span>│\n",
       "│<span style=\"color: #008080; text-decoration-color: #008080\">       test_avgprec        </span>│<span style=\"color: #800080; text-decoration-color: #800080\">    0.6109075546264648     </span>│\n",
       "│<span style=\"color: #008080; text-decoration-color: #008080\">       test_best_f1        </span>│<span style=\"color: #800080; text-decoration-color: #800080\">    0.5719066858291626     </span>│\n",
       "│<span style=\"color: #008080; text-decoration-color: #008080\">         test_loss         </span>│<span style=\"color: #800080; text-decoration-color: #800080\">    0.16323788464069366    </span>│\n",
       "└───────────────────────────┴───────────────────────────┘\n",
       "</pre>\n"
      ],
      "text/plain": [
       "┏━━━━━━━━━━━━━━━━━━━━━━━━━━━┳━━━━━━━━━━━━━━━━━━━━━━━━━━━┓\n",
       "┃\u001b[1m \u001b[0m\u001b[1m       Test metric       \u001b[0m\u001b[1m \u001b[0m┃\u001b[1m \u001b[0m\u001b[1m      DataLoader 0       \u001b[0m\u001b[1m \u001b[0m┃\n",
       "┡━━━━━━━━━━━━━━━━━━━━━━━━━━━╇━━━━━━━━━━━━━━━━━━━━━━━━━━━┩\n",
       "│\u001b[36m \u001b[0m\u001b[36m      test_accuracy      \u001b[0m\u001b[36m \u001b[0m│\u001b[35m \u001b[0m\u001b[35m   0.9418918490409851    \u001b[0m\u001b[35m \u001b[0m│\n",
       "│\u001b[36m \u001b[0m\u001b[36m       test_auroc        \u001b[0m\u001b[36m \u001b[0m│\u001b[35m \u001b[0m\u001b[35m    0.905402421951294    \u001b[0m\u001b[35m \u001b[0m│\n",
       "│\u001b[36m \u001b[0m\u001b[36m      test_avgprec       \u001b[0m\u001b[36m \u001b[0m│\u001b[35m \u001b[0m\u001b[35m   0.6109075546264648    \u001b[0m\u001b[35m \u001b[0m│\n",
       "│\u001b[36m \u001b[0m\u001b[36m      test_best_f1       \u001b[0m\u001b[36m \u001b[0m│\u001b[35m \u001b[0m\u001b[35m   0.5719066858291626    \u001b[0m\u001b[35m \u001b[0m│\n",
       "│\u001b[36m \u001b[0m\u001b[36m        test_loss        \u001b[0m\u001b[36m \u001b[0m│\u001b[35m \u001b[0m\u001b[35m   0.16323788464069366   \u001b[0m\u001b[35m \u001b[0m│\n",
       "└───────────────────────────┴───────────────────────────┘\n"
      ]
     },
     "metadata": {},
     "output_type": "display_data"
    },
    {
     "data": {
      "text/html": [
       "<div>\n",
       "<style scoped>\n",
       "    .dataframe tbody tr th:only-of-type {\n",
       "        vertical-align: middle;\n",
       "    }\n",
       "\n",
       "    .dataframe tbody tr th {\n",
       "        vertical-align: top;\n",
       "    }\n",
       "\n",
       "    .dataframe thead th {\n",
       "        text-align: right;\n",
       "    }\n",
       "</style>\n",
       "<table border=\"1\" class=\"dataframe\">\n",
       "  <thead>\n",
       "    <tr style=\"text-align: right;\">\n",
       "      <th></th>\n",
       "      <th>test_accuracy</th>\n",
       "      <th>test_auroc</th>\n",
       "      <th>test_avgprec</th>\n",
       "      <th>test_best_f1</th>\n",
       "    </tr>\n",
       "  </thead>\n",
       "  <tbody>\n",
       "    <tr>\n",
       "      <th>Follicular</th>\n",
       "      <td>0.902749</td>\n",
       "      <td>0.873614</td>\n",
       "      <td>0.609485</td>\n",
       "      <td>0.567260</td>\n",
       "    </tr>\n",
       "    <tr>\n",
       "      <th>Fibro General</th>\n",
       "      <td>0.912211</td>\n",
       "      <td>0.883738</td>\n",
       "      <td>0.615966</td>\n",
       "      <td>0.571655</td>\n",
       "    </tr>\n",
       "    <tr>\n",
       "      <th>Acinar</th>\n",
       "      <td>0.935036</td>\n",
       "      <td>0.909199</td>\n",
       "      <td>0.641150</td>\n",
       "      <td>0.592622</td>\n",
       "    </tr>\n",
       "    <tr>\n",
       "      <th>T Lymphocyte 1 (CD8+)</th>\n",
       "      <td>0.953500</td>\n",
       "      <td>0.928728</td>\n",
       "      <td>0.642585</td>\n",
       "      <td>0.600279</td>\n",
       "    </tr>\n",
       "    <tr>\n",
       "      <th>T lymphocyte 2 (CD4+)</th>\n",
       "      <td>0.958823</td>\n",
       "      <td>0.929545</td>\n",
       "      <td>0.616950</td>\n",
       "      <td>0.577314</td>\n",
       "    </tr>\n",
       "    <tr>\n",
       "      <th>...</th>\n",
       "      <td>...</td>\n",
       "      <td>...</td>\n",
       "      <td>...</td>\n",
       "      <td>...</td>\n",
       "    </tr>\n",
       "    <tr>\n",
       "      <th>Fetal Stellate</th>\n",
       "      <td>0.958642</td>\n",
       "      <td>0.910730</td>\n",
       "      <td>0.595540</td>\n",
       "      <td>0.562300</td>\n",
       "    </tr>\n",
       "    <tr>\n",
       "      <th>Fetal Alveolar Epithelial 1</th>\n",
       "      <td>0.900422</td>\n",
       "      <td>0.865749</td>\n",
       "      <td>0.644052</td>\n",
       "      <td>0.590152</td>\n",
       "    </tr>\n",
       "    <tr>\n",
       "      <th>Fetal Cilliated</th>\n",
       "      <td>0.916949</td>\n",
       "      <td>0.878486</td>\n",
       "      <td>0.626063</td>\n",
       "      <td>0.584166</td>\n",
       "    </tr>\n",
       "    <tr>\n",
       "      <th>Fetal Excitatory Neuron 1</th>\n",
       "      <td>0.918705</td>\n",
       "      <td>0.877348</td>\n",
       "      <td>0.615934</td>\n",
       "      <td>0.577068</td>\n",
       "    </tr>\n",
       "    <tr>\n",
       "      <th>Fetal Excitatory Neuron 2</th>\n",
       "      <td>0.952845</td>\n",
       "      <td>0.905197</td>\n",
       "      <td>0.579370</td>\n",
       "      <td>0.540991</td>\n",
       "    </tr>\n",
       "  </tbody>\n",
       "</table>\n",
       "<p>204 rows × 4 columns</p>\n",
       "</div>"
      ],
      "text/plain": [
       "                             test_accuracy  test_auroc  test_avgprec  \\\n",
       "Follicular                        0.902749    0.873614      0.609485   \n",
       "Fibro General                     0.912211    0.883738      0.615966   \n",
       "Acinar                            0.935036    0.909199      0.641150   \n",
       "T Lymphocyte 1 (CD8+)             0.953500    0.928728      0.642585   \n",
       "T lymphocyte 2 (CD4+)             0.958823    0.929545      0.616950   \n",
       "...                                    ...         ...           ...   \n",
       "Fetal Stellate                    0.958642    0.910730      0.595540   \n",
       "Fetal Alveolar Epithelial 1       0.900422    0.865749      0.644052   \n",
       "Fetal Cilliated                   0.916949    0.878486      0.626063   \n",
       "Fetal Excitatory Neuron 1         0.918705    0.877348      0.615934   \n",
       "Fetal Excitatory Neuron 2         0.952845    0.905197      0.579370   \n",
       "\n",
       "                             test_best_f1  \n",
       "Follicular                       0.567260  \n",
       "Fibro General                    0.571655  \n",
       "Acinar                           0.592622  \n",
       "T Lymphocyte 1 (CD8+)            0.600279  \n",
       "T lymphocyte 2 (CD4+)            0.577314  \n",
       "...                                   ...  \n",
       "Fetal Stellate                   0.562300  \n",
       "Fetal Alveolar Epithelial 1      0.590152  \n",
       "Fetal Cilliated                  0.584166  \n",
       "Fetal Excitatory Neuron 1        0.577068  \n",
       "Fetal Excitatory Neuron 2        0.540991  \n",
       "\n",
       "[204 rows x 4 columns]"
      ]
     },
     "execution_count": 12,
     "metadata": {},
     "output_type": "execute_result"
    }
   ],
   "source": [
    "test_metrics = model.test_on_dataset(\n",
    "    test_dataset,\n",
    "    batch_size=256,\n",
    "    devices=0,\n",
    "    num_workers=8,\n",
    "    write_path = os.path.join(project_name, 'model.ckpt') # Update the checkpoint with the results\n",
    ")\n",
    "\n",
    "test_metrics"
   ]
  },
  {
   "cell_type": "markdown",
   "id": "d50622c6-503b-4525-be81-847ecfa18967",
   "metadata": {},
   "source": [
    "## Save"
   ]
  },
  {
   "cell_type": "code",
   "execution_count": 13,
   "id": "2fabeb1e-bfc9-4b42-8c04-09306861ec0a",
   "metadata": {},
   "outputs": [
    {
     "data": {
      "text/plain": [
       "<Artifact model>"
      ]
     },
     "execution_count": 13,
     "metadata": {},
     "output_type": "execute_result"
    }
   ],
   "source": [
    "artifact = wandb.Artifact('model', type='model')\n",
    "artifact.add_file(os.path.join(project_name, 'model.ckpt'), name=\"model.ckpt\")\n",
    "run.log_artifact(artifact)"
   ]
  },
  {
   "cell_type": "code",
   "execution_count": 14,
   "id": "45c008ac-6dfc-4654-b070-f17a970f67a5",
   "metadata": {},
   "outputs": [
    {
     "name": "stderr",
     "output_type": "stream",
     "text": [
      "\u001b[34m\u001b[1mwandb\u001b[0m: \u001b[33mWARNING\u001b[0m No relevant files were detected in the specified directory. No code will be logged to your run.\n"
     ]
    }
   ],
   "source": [
    "run.log_code()"
   ]
  },
  {
   "cell_type": "code",
   "execution_count": 15,
   "id": "8e88febd-e844-43c1-8185-cd2ac9fc40a6",
   "metadata": {},
   "outputs": [
    {
     "data": {
      "text/html": [],
      "text/plain": [
       "<IPython.core.display.HTML object>"
      ]
     },
     "metadata": {},
     "output_type": "display_data"
    },
    {
     "data": {
      "text/html": [
       "<br>    <style><br>        .wandb-row {<br>            display: flex;<br>            flex-direction: row;<br>            flex-wrap: wrap;<br>            justify-content: flex-start;<br>            width: 100%;<br>        }<br>        .wandb-col {<br>            display: flex;<br>            flex-direction: column;<br>            flex-basis: 100%;<br>            flex: 1;<br>            padding: 10px;<br>        }<br>    </style><br><div class=\"wandb-row\"><div class=\"wandb-col\"><h3>Run history:</h3><br/><table class=\"wandb\"><tr><td>epoch</td><td>▁▁▁▁▁▁▁▂▂▂▂▃▃▃▃▃▃▄▄▄▅▅▆▆▆▆▆▆▆▆▆▆▆▆▇▇▇███</td></tr><tr><td>train_loss_epoch</td><td>█▂▂▂▂▁▁▁▁▁</td></tr><tr><td>train_loss_step</td><td>█▅▃▃▃▃▃▂▃▂▃▃▃▂▂▂▂▂▃▃▂▂▂▂▂▁▂▂▂▂▂▂▁▂▁▂▁▂▁▂</td></tr><tr><td>trainer/global_step</td><td>▁▁▁▁▁▂▂▂▂▂▂▂▂▃▃▃▄▄▄▄▅▅▅▅▅▅▆▆▆▆▆▆▆▆▇▇▇▇██</td></tr><tr><td>val_accuracy</td><td>▁██████████</td></tr><tr><td>val_auroc</td><td>▁██████████</td></tr><tr><td>val_avgprec</td><td>▁▇█████████</td></tr><tr><td>val_best_f1</td><td>▁▇█████████</td></tr><tr><td>val_loss</td><td>█▁▁▁▁▁▁▁▁▁▁</td></tr></table><br/></div><div class=\"wandb-col\"><h3>Run summary:</h3><br/><table class=\"wandb\"><tr><td>epoch</td><td>9</td></tr><tr><td>train_loss_epoch</td><td>0.14265</td></tr><tr><td>train_loss_step</td><td>0.1443</td></tr><tr><td>trainer/global_step</td><td>3189</td></tr><tr><td>val_accuracy</td><td>0.94824</td></tr><tr><td>val_auroc</td><td>0.8932</td></tr><tr><td>val_avgprec</td><td>0.55064</td></tr><tr><td>val_best_f1</td><td>0.52444</td></tr><tr><td>val_loss</td><td>0.15176</td></tr></table><br/></div></div>"
      ],
      "text/plain": [
       "<IPython.core.display.HTML object>"
      ]
     },
     "metadata": {},
     "output_type": "display_data"
    },
    {
     "data": {
      "text/html": [
       " View run <strong style=\"color:#cdcd00\">train</strong> at: <a href='https://wandb.ai/grelu/human-atac-catlas/runs/ij4v9zb6' target=\"_blank\">https://wandb.ai/grelu/human-atac-catlas/runs/ij4v9zb6</a><br> View project at: <a href='https://wandb.ai/grelu/human-atac-catlas' target=\"_blank\">https://wandb.ai/grelu/human-atac-catlas</a><br>Synced 6 W&B file(s), 0 media file(s), 4 artifact file(s) and 0 other file(s)"
      ],
      "text/plain": [
       "<IPython.core.display.HTML object>"
      ]
     },
     "metadata": {},
     "output_type": "display_data"
    },
    {
     "data": {
      "text/html": [
       "Find logs at: <code>./wandb/run-20250305_052132-ij4v9zb6/logs</code>"
      ],
      "text/plain": [
       "<IPython.core.display.HTML object>"
      ]
     },
     "metadata": {},
     "output_type": "display_data"
    }
   ],
   "source": [
    "run.finish()"
   ]
  }
 ],
 "metadata": {
  "kernelspec": {
   "display_name": "Python 3 (ipykernel)",
   "language": "python",
   "name": "python3"
  },
  "language_info": {
   "codemirror_mode": {
    "name": "ipython",
    "version": 3
   },
   "file_extension": ".py",
   "mimetype": "text/x-python",
   "name": "python",
   "nbconvert_exporter": "python",
   "pygments_lexer": "ipython3",
   "version": "3.11.9"
  }
 },
 "nbformat": 4,
 "nbformat_minor": 5
}
