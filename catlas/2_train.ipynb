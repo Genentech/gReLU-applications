{
 "cells": [
  {
   "cell_type": "markdown",
   "id": "69ba860c-ffee-4024-af74-3eb544ba4365",
   "metadata": {},
   "source": [
    "# Train a model on CATLAS binary accessibility data"
   ]
  },
  {
   "cell_type": "markdown",
   "id": "b2a97767-6436-42f5-aac7-ca07e22c932a",
   "metadata": {},
   "source": [
    "## Set up wandb"
   ]
  },
  {
   "cell_type": "code",
   "execution_count": 1,
   "id": "ca38366e-3365-476e-adac-a64c4986636b",
   "metadata": {},
   "outputs": [
    {
     "name": "stderr",
     "output_type": "stream",
     "text": [
      "/opt/conda/lib/python3.11/site-packages/tqdm/auto.py:21: TqdmWarning: IProgress not found. Please update jupyter and ipywidgets. See https://ipywidgets.readthedocs.io/en/stable/user_install.html\n",
      "  from .autonotebook import tqdm as notebook_tqdm\n",
      "\u001b[34m\u001b[1mwandb\u001b[0m: Using wandb-core as the SDK backend.  Please refer to https://wandb.me/wandb-core for more information.\n",
      "\u001b[34m\u001b[1mwandb\u001b[0m: Currently logged in as: \u001b[33mavantikalal\u001b[0m (\u001b[33mgrelu\u001b[0m) to \u001b[32mhttps://api.wandb.ai\u001b[0m. Use \u001b[1m`wandb login --relogin`\u001b[0m to force relogin\n"
     ]
    }
   ],
   "source": [
    "import wandb\n",
    "\n",
    "import anndata\n",
    "import os\n",
    "import pandas as pd\n",
    "import numpy as np\n",
    "%matplotlib inline\n",
    "\n",
    "from grelu.data.dataset import AnnDataSeqDataset\n",
    "from grelu.lightning import LightningModel\n",
    "from grelu.visualize import plot_distribution, plot_calibration_curve\n",
    "\n",
    "os.environ[\"CUDA_VISIBLE_DEVICES\"]=\"1\"\n",
    "wandb.login(host=\"https://api.wandb.ai\")\n",
    "project_name=\"human-atac-catlas\""
   ]
  },
  {
   "cell_type": "code",
   "execution_count": 2,
   "id": "579a4364-62d6-4528-a692-576e7ae29489",
   "metadata": {},
   "outputs": [
    {
     "data": {
      "text/html": [
       "Tracking run with wandb version 0.19.7"
      ],
      "text/plain": [
       "<IPython.core.display.HTML object>"
      ]
     },
     "metadata": {},
     "output_type": "display_data"
    },
    {
     "data": {
      "text/html": [
       "Run data is saved locally in <code>/code/github/gReLU-applications/catlas/wandb/run-20250306_000617-xx0mt24e</code>"
      ],
      "text/plain": [
       "<IPython.core.display.HTML object>"
      ]
     },
     "metadata": {},
     "output_type": "display_data"
    },
    {
     "data": {
      "text/html": [
       "Syncing run <strong><a href='https://wandb.ai/grelu/human-atac-catlas/runs/xx0mt24e' target=\"_blank\">train</a></strong> to <a href='https://wandb.ai/grelu/human-atac-catlas' target=\"_blank\">Weights & Biases</a> (<a href='https://wandb.me/developer-guide' target=\"_blank\">docs</a>)<br>"
      ],
      "text/plain": [
       "<IPython.core.display.HTML object>"
      ]
     },
     "metadata": {},
     "output_type": "display_data"
    },
    {
     "data": {
      "text/html": [
       " View project at <a href='https://wandb.ai/grelu/human-atac-catlas' target=\"_blank\">https://wandb.ai/grelu/human-atac-catlas</a>"
      ],
      "text/plain": [
       "<IPython.core.display.HTML object>"
      ]
     },
     "metadata": {},
     "output_type": "display_data"
    },
    {
     "data": {
      "text/html": [
       " View run at <a href='https://wandb.ai/grelu/human-atac-catlas/runs/xx0mt24e' target=\"_blank\">https://wandb.ai/grelu/human-atac-catlas/runs/xx0mt24e</a>"
      ],
      "text/plain": [
       "<IPython.core.display.HTML object>"
      ]
     },
     "metadata": {},
     "output_type": "display_data"
    }
   ],
   "source": [
    "run = wandb.init(\n",
    "    entity='grelu', project=project_name, job_type='training', name='train',\n",
    "    settings=wandb.Settings(\n",
    "        program_relpath='2_train.ipynb',\n",
    "        program_abspath='/code/github/gReLU-applications/catlas/2_train.ipynb')\n",
    ")"
   ]
  },
  {
   "cell_type": "markdown",
   "id": "30afd8a2-6808-42b0-9dff-ff5906f786d3",
   "metadata": {},
   "source": [
    "## Load preprocessed data"
   ]
  },
  {
   "cell_type": "code",
   "execution_count": 3,
   "id": "0b1bc498-d014-4434-8fc4-ff3c9b48336c",
   "metadata": {},
   "outputs": [
    {
     "name": "stderr",
     "output_type": "stream",
     "text": [
      "\u001b[34m\u001b[1mwandb\u001b[0m: Downloading large artifact dataset:latest, 179.17MB. 1 files... \n",
      "\u001b[34m\u001b[1mwandb\u001b[0m:   1 of 1 files downloaded.  \n",
      "Done. 0:0:0.3\n",
      "/opt/conda/lib/python3.11/site-packages/anndata/_core/aligned_df.py:68: ImplicitModificationWarning: Transforming to str index.\n"
     ]
    }
   ],
   "source": [
    "artifact = run.use_artifact('dataset:latest')\n",
    "dir = artifact.download()\n",
    "ad = anndata.read_h5ad(os.path.join(dir, \"data.h5ad\"))"
   ]
  },
  {
   "cell_type": "markdown",
   "id": "b98e21c0-3e79-48f7-b9d6-965949b6c8ca",
   "metadata": {},
   "source": [
    "## Make datasets"
   ]
  },
  {
   "cell_type": "code",
   "execution_count": 4,
   "id": "1ac787c9-aa63-43c5-bcc6-579081ff43ad",
   "metadata": {},
   "outputs": [],
   "source": [
    "train_dataset = AnnDataSeqDataset(\n",
    "    ad[:, ad.var.split=='train'].copy(),\n",
    "    genome='hg38',\n",
    "    rc=True, # reverse complement\n",
    "    max_seq_shift=2, # Shift the sequence\n",
    "    augment_mode=\"random\", # Randomly select which augmentations to apply\n",
    ")\n",
    "\n",
    "val_dataset = AnnDataSeqDataset(\n",
    "    ad[:, ad.var.split=='valid'].copy(), genome='hg38',\n",
    ")"
   ]
  },
  {
   "cell_type": "markdown",
   "id": "c227d5e4-f5ee-46f7-a332-d0636a1ed11b",
   "metadata": {},
   "source": [
    "## Build the model"
   ]
  },
  {
   "cell_type": "code",
   "execution_count": 5,
   "id": "fff4e937-28cb-4fa9-be6a-556219f61df0",
   "metadata": {},
   "outputs": [
    {
     "name": "stderr",
     "output_type": "stream",
     "text": [
      "\u001b[34m\u001b[1mwandb\u001b[0m: \u001b[33mWARNING\u001b[0m Calling wandb.login() after wandb.init() has no effect.\n",
      "\u001b[34m\u001b[1mwandb\u001b[0m: Downloading large artifact human_state_dict:latest, 939.29MB. 1 files... \n",
      "\u001b[34m\u001b[1mwandb\u001b[0m:   1 of 1 files downloaded.  \n",
      "Done. 0:0:0.7\n",
      "/opt/conda/lib/python3.11/site-packages/grelu/model/models.py:771: FutureWarning: You are using `torch.load` with `weights_only=False` (the current default value), which uses the default pickle module implicitly. It is possible to construct malicious pickle data which will execute arbitrary code during unpickling (See https://github.com/pytorch/pytorch/blob/main/SECURITY.md#untrusted-models for more details). In a future release, the default value for `weights_only` will be flipped to `True`. This limits the functions that could be executed during unpickling. Arbitrary objects will no longer be allowed to be loaded via this mode unless they are explicitly allowlisted by the user via `torch.serialization.add_safe_globals`. We recommend you start setting `weights_only=True` for any use case where you don't have full control of the loaded file. Please open an issue on GitHub for any issues related to this experimental feature.\n"
     ]
    }
   ],
   "source": [
    "model_params = {\n",
    "    'model_type':'EnformerPretrainedModel', # Type of model\n",
    "    'n_tasks': ad.shape[0], # Number of cell types to predict\n",
    "    'crop_len':0, # No cropping of the model output\n",
    "    'n_transformers': 1, # Number of transformer layers; the published Enformer model has 11\n",
    "}\n",
    "\n",
    "train_params = {\n",
    "    'task':'binary', # binary classification\n",
    "    'lr':1e-4, # learning rate\n",
    "    'logger': 'wandb', # Logs will be written to wandb\n",
    "    'batch_size': 3072,\n",
    "    'num_workers': 32,\n",
    "    'devices': 0, # GPU index\n",
    "    'save_dir': project_name,\n",
    "    'optimizer': 'adam',\n",
    "    'max_epochs': 10,\n",
    "    'checkpoint': True, # Save checkpoints\n",
    "}\n",
    "\n",
    "model = LightningModel(model_params=model_params, train_params=train_params)"
   ]
  },
  {
   "cell_type": "markdown",
   "id": "7928936f-d5b6-42de-a402-3cc853aad15d",
   "metadata": {},
   "source": [
    "## Train the model"
   ]
  },
  {
   "cell_type": "code",
   "execution_count": 6,
   "id": "4f2bb0ab-8c6f-4b2e-ae21-a8fd06792d33",
   "metadata": {
    "scrolled": true
   },
   "outputs": [
    {
     "name": "stderr",
     "output_type": "stream",
     "text": [
      "GPU available: True (cuda), used: True\n",
      "TPU available: False, using: 0 TPU cores\n",
      "HPU available: False, using: 0 HPUs\n",
      "/opt/conda/lib/python3.11/site-packages/pytorch_lightning/loggers/wandb.py:397: UserWarning: There is a wandb run already in progress and newly created instances of `WandbLogger` will reuse this run. If this is not desired, call `wandb.finish()` before instantiating `WandbLogger`.\n",
      "LOCAL_RANK: 0 - CUDA_VISIBLE_DEVICES: [1]\n"
     ]
    },
    {
     "name": "stdout",
     "output_type": "stream",
     "text": [
      "Validation DataLoader 0: 100%|█████████████████████████████████████████████████████████████████████████████████████████████████████████████████████████████████████████████████████████████████████████████| 24/24 [00:08<00:00,  2.84it/s]\n"
     ]
    },
    {
     "data": {
      "text/html": [
       "<pre style=\"white-space:pre;overflow-x:auto;line-height:normal;font-family:Menlo,'DejaVu Sans Mono',consolas,'Courier New',monospace\">┏━━━━━━━━━━━━━━━━━━━━━━━━━━━┳━━━━━━━━━━━━━━━━━━━━━━━━━━━┓\n",
       "┃<span style=\"font-weight: bold\">      Validate metric      </span>┃<span style=\"font-weight: bold\">       DataLoader 0        </span>┃\n",
       "┡━━━━━━━━━━━━━━━━━━━━━━━━━━━╇━━━━━━━━━━━━━━━━━━━━━━━━━━━┩\n",
       "│<span style=\"color: #008080; text-decoration-color: #008080\">       val_accuracy        </span>│<span style=\"color: #800080; text-decoration-color: #800080\">    0.4883847236633301     </span>│\n",
       "│<span style=\"color: #008080; text-decoration-color: #008080\">         val_auroc         </span>│<span style=\"color: #800080; text-decoration-color: #800080\">    0.5049463510513306     </span>│\n",
       "│<span style=\"color: #008080; text-decoration-color: #008080\">        val_avgprec        </span>│<span style=\"color: #800080; text-decoration-color: #800080\">    0.11118414252996445    </span>│\n",
       "│<span style=\"color: #008080; text-decoration-color: #008080\">        val_best_f1        </span>│<span style=\"color: #800080; text-decoration-color: #800080\">    0.17346523702144623    </span>│\n",
       "│<span style=\"color: #008080; text-decoration-color: #008080\">         val_loss          </span>│<span style=\"color: #800080; text-decoration-color: #800080\">    0.6949121952056885     </span>│\n",
       "└───────────────────────────┴───────────────────────────┘\n",
       "</pre>\n"
      ],
      "text/plain": [
       "┏━━━━━━━━━━━━━━━━━━━━━━━━━━━┳━━━━━━━━━━━━━━━━━━━━━━━━━━━┓\n",
       "┃\u001b[1m \u001b[0m\u001b[1m     Validate metric     \u001b[0m\u001b[1m \u001b[0m┃\u001b[1m \u001b[0m\u001b[1m      DataLoader 0       \u001b[0m\u001b[1m \u001b[0m┃\n",
       "┡━━━━━━━━━━━━━━━━━━━━━━━━━━━╇━━━━━━━━━━━━━━━━━━━━━━━━━━━┩\n",
       "│\u001b[36m \u001b[0m\u001b[36m      val_accuracy       \u001b[0m\u001b[36m \u001b[0m│\u001b[35m \u001b[0m\u001b[35m   0.4883847236633301    \u001b[0m\u001b[35m \u001b[0m│\n",
       "│\u001b[36m \u001b[0m\u001b[36m        val_auroc        \u001b[0m\u001b[36m \u001b[0m│\u001b[35m \u001b[0m\u001b[35m   0.5049463510513306    \u001b[0m\u001b[35m \u001b[0m│\n",
       "│\u001b[36m \u001b[0m\u001b[36m       val_avgprec       \u001b[0m\u001b[36m \u001b[0m│\u001b[35m \u001b[0m\u001b[35m   0.11118414252996445   \u001b[0m\u001b[35m \u001b[0m│\n",
       "│\u001b[36m \u001b[0m\u001b[36m       val_best_f1       \u001b[0m\u001b[36m \u001b[0m│\u001b[35m \u001b[0m\u001b[35m   0.17346523702144623   \u001b[0m\u001b[35m \u001b[0m│\n",
       "│\u001b[36m \u001b[0m\u001b[36m        val_loss         \u001b[0m\u001b[36m \u001b[0m│\u001b[35m \u001b[0m\u001b[35m   0.6949121952056885    \u001b[0m\u001b[35m \u001b[0m│\n",
       "└───────────────────────────┴───────────────────────────┘\n"
      ]
     },
     "metadata": {},
     "output_type": "display_data"
    },
    {
     "name": "stderr",
     "output_type": "stream",
     "text": [
      "LOCAL_RANK: 0 - CUDA_VISIBLE_DEVICES: [1]\n",
      "\n",
      "  | Name         | Type                    | Params | Mode \n",
      "-----------------------------------------------------------------\n",
      "0 | model        | EnformerPretrainedModel | 72.1 M | train\n",
      "1 | loss         | BCEWithLogitsLoss       | 0      | train\n",
      "2 | val_metrics  | MetricCollection        | 0      | train\n",
      "3 | test_metrics | MetricCollection        | 0      | train\n",
      "4 | transform    | Identity                | 0      | train\n",
      "-----------------------------------------------------------------\n",
      "72.1 M    Trainable params\n",
      "0         Non-trainable params\n",
      "72.1 M    Total params\n",
      "288.279   Total estimated model params size (MB)\n",
      "240       Modules in train mode\n",
      "0         Modules in eval mode\n"
     ]
    },
    {
     "name": "stdout",
     "output_type": "stream",
     "text": [
      "Epoch 0: 100%|████████████████████████████████████████████████████████████████████████████████████████████████████████████████████████████████████████████████████████| 319/319 [03:07<00:00,  1.70it/s, v_num=t24e, train_loss_step=0.137]\n",
      "Validation: |                                                                                                                                                                                                        | 0/? [00:00<?, ?it/s]\u001b[A\n",
      "Validation:   0%|                                                                                                                                                                                                   | 0/24 [00:00<?, ?it/s]\u001b[A\n",
      "Validation DataLoader 0:   0%|                                                                                                                                                                                      | 0/24 [00:00<?, ?it/s]\u001b[A\n",
      "Validation DataLoader 0:   4%|███████▎                                                                                                                                                                      | 1/24 [00:00<00:04,  4.82it/s]\u001b[A\n",
      "Validation DataLoader 0:   8%|██████████████▌                                                                                                                                                               | 2/24 [00:00<00:04,  4.79it/s]\u001b[A\n",
      "Validation DataLoader 0:  12%|█████████████████████▊                                                                                                                                                        | 3/24 [00:00<00:04,  4.72it/s]\u001b[A\n",
      "Validation DataLoader 0:  17%|█████████████████████████████                                                                                                                                                 | 4/24 [00:00<00:04,  4.75it/s]\u001b[A\n",
      "Validation DataLoader 0:  21%|████████████████████████████████████▎                                                                                                                                         | 5/24 [00:01<00:03,  4.76it/s]\u001b[A\n",
      "Validation DataLoader 0:  25%|███████████████████████████████████████████▌                                                                                                                                  | 6/24 [00:01<00:03,  4.77it/s]\u001b[A\n",
      "Validation DataLoader 0:  29%|██████████████████████████████████████████████████▊                                                                                                                           | 7/24 [00:01<00:03,  4.77it/s]\u001b[A\n",
      "Validation DataLoader 0:  33%|██████████████████████████████████████████████████████████                                                                                                                    | 8/24 [00:01<00:03,  4.78it/s]\u001b[A\n",
      "Validation DataLoader 0:  38%|█████████████████████████████████████████████████████████████████▎                                                                                                            | 9/24 [00:01<00:03,  4.77it/s]\u001b[A\n",
      "Validation DataLoader 0:  42%|████████████████████████████████████████████████████████████████████████                                                                                                     | 10/24 [00:02<00:02,  4.77it/s]\u001b[A\n",
      "Validation DataLoader 0:  46%|███████████████████████████████████████████████████████████████████████████████▎                                                                                             | 11/24 [00:02<00:02,  4.77it/s]\u001b[A\n",
      "Validation DataLoader 0:  50%|██████████████████████████████████████████████████████████████████████████████████████▌                                                                                      | 12/24 [00:02<00:02,  4.77it/s]\u001b[A\n",
      "Validation DataLoader 0:  54%|█████████████████████████████████████████████████████████████████████████████████████████████▋                                                                               | 13/24 [00:02<00:02,  4.77it/s]\u001b[A\n",
      "Validation DataLoader 0:  58%|████████████████████████████████████████████████████████████████████████████████████████████████████▉                                                                        | 14/24 [00:02<00:02,  4.77it/s]\u001b[A\n",
      "Validation DataLoader 0:  62%|████████████████████████████████████████████████████████████████████████████████████████████████████████████▏                                                                | 15/24 [00:03<00:01,  4.77it/s]\u001b[A\n",
      "Validation DataLoader 0:  67%|███████████████████████████████████████████████████████████████████████████████████████████████████████████████████▎                                                         | 16/24 [00:03<00:01,  4.78it/s]\u001b[A\n",
      "Validation DataLoader 0:  71%|██████████████████████████████████████████████████████████████████████████████████████████████████████████████████████████▌                                                  | 17/24 [00:03<00:01,  4.78it/s]\u001b[A\n",
      "Validation DataLoader 0:  75%|█████████████████████████████████████████████████████████████████████████████████████████████████████████████████████████████████▊                                           | 18/24 [00:03<00:01,  4.78it/s]\u001b[A\n",
      "Validation DataLoader 0:  79%|████████████████████████████████████████████████████████████████████████████████████████████████████████████████████████████████████████▉                                    | 19/24 [00:03<00:01,  4.78it/s]\u001b[A\n",
      "Validation DataLoader 0:  83%|████████████████████████████████████████████████████████████████████████████████████████████████████████████████████████████████████████████████▏                            | 20/24 [00:04<00:00,  4.78it/s]\u001b[A\n",
      "Validation DataLoader 0:  88%|███████████████████████████████████████████████████████████████████████████████████████████████████████████████████████████████████████████████████████▍                     | 21/24 [00:04<00:00,  4.79it/s]\u001b[A\n",
      "Validation DataLoader 0:  92%|██████████████████████████████████████████████████████████████████████████████████████████████████████████████████████████████████████████████████████████████▌              | 22/24 [00:04<00:00,  4.79it/s]\u001b[A\n",
      "Validation DataLoader 0:  96%|█████████████████████████████████████████████████████████████████████████████████████████████████████████████████████████████████████████████████████████████████████▊       | 23/24 [00:04<00:00,  4.79it/s]\u001b[A\n",
      "Validation DataLoader 0: 100%|█████████████████████████████████████████████████████████████████████████████████████████████████████████████████████████████████████████████████████████████████████████████| 24/24 [00:04<00:00,  4.92it/s]\u001b[A\n",
      "Epoch 1: 100%|████████████████████████████████████████████████████████████████████████████████████████████████████████████████████████████████| 319/319 [03:08<00:00,  1.69it/s, v_num=t24e, train_loss_step=0.134, train_loss_epoch=0.197]\u001b[A\n",
      "Validation: |                                                                                                                                                                                                        | 0/? [00:00<?, ?it/s]\u001b[A\n",
      "Validation:   0%|                                                                                                                                                                                                   | 0/24 [00:00<?, ?it/s]\u001b[A\n",
      "Validation DataLoader 0:   0%|                                                                                                                                                                                      | 0/24 [00:00<?, ?it/s]\u001b[A\n",
      "Validation DataLoader 0:   4%|███████▎                                                                                                                                                                      | 1/24 [00:00<00:05,  4.51it/s]\u001b[A\n",
      "Validation DataLoader 0:   8%|██████████████▌                                                                                                                                                               | 2/24 [00:00<00:04,  4.65it/s]\u001b[A\n",
      "Validation DataLoader 0:  12%|█████████████████████▊                                                                                                                                                        | 3/24 [00:00<00:04,  4.70it/s]\u001b[A\n",
      "Validation DataLoader 0:  17%|█████████████████████████████                                                                                                                                                 | 4/24 [00:00<00:04,  4.72it/s]\u001b[A\n",
      "Validation DataLoader 0:  21%|████████████████████████████████████▎                                                                                                                                         | 5/24 [00:01<00:04,  4.69it/s]\u001b[A\n",
      "Validation DataLoader 0:  25%|███████████████████████████████████████████▌                                                                                                                                  | 6/24 [00:01<00:03,  4.70it/s]\u001b[A\n",
      "Validation DataLoader 0:  29%|██████████████████████████████████████████████████▊                                                                                                                           | 7/24 [00:01<00:03,  4.72it/s]\u001b[A\n",
      "Validation DataLoader 0:  33%|██████████████████████████████████████████████████████████                                                                                                                    | 8/24 [00:01<00:03,  4.72it/s]\u001b[A\n",
      "Validation DataLoader 0:  38%|█████████████████████████████████████████████████████████████████▎                                                                                                            | 9/24 [00:01<00:03,  4.73it/s]\u001b[A\n",
      "Validation DataLoader 0:  42%|████████████████████████████████████████████████████████████████████████                                                                                                     | 10/24 [00:02<00:02,  4.73it/s]\u001b[A\n",
      "Validation DataLoader 0:  46%|███████████████████████████████████████████████████████████████████████████████▎                                                                                             | 11/24 [00:02<00:02,  4.74it/s]\u001b[A\n",
      "Validation DataLoader 0:  50%|██████████████████████████████████████████████████████████████████████████████████████▌                                                                                      | 12/24 [00:02<00:02,  4.74it/s]\u001b[A\n",
      "Validation DataLoader 0:  54%|█████████████████████████████████████████████████████████████████████████████████████████████▋                                                                               | 13/24 [00:02<00:02,  4.74it/s]\u001b[A\n",
      "Validation DataLoader 0:  58%|████████████████████████████████████████████████████████████████████████████████████████████████████▉                                                                        | 14/24 [00:02<00:02,  4.75it/s]\u001b[A\n",
      "Validation DataLoader 0:  62%|████████████████████████████████████████████████████████████████████████████████████████████████████████████▏                                                                | 15/24 [00:03<00:01,  4.75it/s]\u001b[A\n",
      "Validation DataLoader 0:  67%|███████████████████████████████████████████████████████████████████████████████████████████████████████████████████▎                                                         | 16/24 [00:03<00:01,  4.76it/s]\u001b[A\n",
      "Validation DataLoader 0:  71%|██████████████████████████████████████████████████████████████████████████████████████████████████████████████████████████▌                                                  | 17/24 [00:03<00:01,  4.76it/s]\u001b[A\n",
      "Validation DataLoader 0:  75%|█████████████████████████████████████████████████████████████████████████████████████████████████████████████████████████████████▊                                           | 18/24 [00:03<00:01,  4.76it/s]\u001b[A\n",
      "Validation DataLoader 0:  79%|████████████████████████████████████████████████████████████████████████████████████████████████████████████████████████████████████████▉                                    | 19/24 [00:03<00:01,  4.76it/s]\u001b[A\n",
      "Validation DataLoader 0:  83%|████████████████████████████████████████████████████████████████████████████████████████████████████████████████████████████████████████████████▏                            | 20/24 [00:04<00:00,  4.77it/s]\u001b[A\n",
      "Validation DataLoader 0:  88%|███████████████████████████████████████████████████████████████████████████████████████████████████████████████████████████████████████████████████████▍                     | 21/24 [00:04<00:00,  4.77it/s]\u001b[A\n",
      "Validation DataLoader 0:  92%|██████████████████████████████████████████████████████████████████████████████████████████████████████████████████████████████████████████████████████████████▌              | 22/24 [00:04<00:00,  4.77it/s]\u001b[A\n",
      "Validation DataLoader 0:  96%|█████████████████████████████████████████████████████████████████████████████████████████████████████████████████████████████████████████████████████████████████████▊       | 23/24 [00:04<00:00,  4.77it/s]\u001b[A\n",
      "Validation DataLoader 0: 100%|█████████████████████████████████████████████████████████████████████████████████████████████████████████████████████████████████████████████████████████████████████████████| 24/24 [00:04<00:00,  4.90it/s]\u001b[A\n",
      "Epoch 2: 100%|████████████████████████████████████████████████████████████████████████████████████████████████████████████████████████████████| 319/319 [03:09<00:00,  1.69it/s, v_num=t24e, train_loss_step=0.119, train_loss_epoch=0.154]\u001b[A\n",
      "Validation: |                                                                                                                                                                                                        | 0/? [00:00<?, ?it/s]\u001b[A\n",
      "Validation:   0%|                                                                                                                                                                                                   | 0/24 [00:00<?, ?it/s]\u001b[A\n",
      "Validation DataLoader 0:   0%|                                                                                                                                                                                      | 0/24 [00:00<?, ?it/s]\u001b[A\n",
      "Validation DataLoader 0:   4%|███████▎                                                                                                                                                                      | 1/24 [00:00<00:05,  4.53it/s]\u001b[A\n",
      "Validation DataLoader 0:   8%|██████████████▌                                                                                                                                                               | 2/24 [00:00<00:04,  4.53it/s]\u001b[A\n",
      "Validation DataLoader 0:  12%|█████████████████████▊                                                                                                                                                        | 3/24 [00:00<00:04,  4.63it/s]\u001b[A\n",
      "Validation DataLoader 0:  17%|█████████████████████████████                                                                                                                                                 | 4/24 [00:00<00:04,  4.67it/s]\u001b[A\n",
      "Validation DataLoader 0:  21%|████████████████████████████████████▎                                                                                                                                         | 5/24 [00:01<00:04,  4.69it/s]\u001b[A\n",
      "Validation DataLoader 0:  25%|███████████████████████████████████████████▌                                                                                                                                  | 6/24 [00:01<00:03,  4.71it/s]\u001b[A\n",
      "Validation DataLoader 0:  29%|██████████████████████████████████████████████████▊                                                                                                                           | 7/24 [00:01<00:03,  4.73it/s]\u001b[A\n",
      "Validation DataLoader 0:  33%|██████████████████████████████████████████████████████████                                                                                                                    | 8/24 [00:01<00:03,  4.74it/s]\u001b[A\n",
      "Validation DataLoader 0:  38%|█████████████████████████████████████████████████████████████████▎                                                                                                            | 9/24 [00:01<00:03,  4.75it/s]\u001b[A\n",
      "Validation DataLoader 0:  42%|████████████████████████████████████████████████████████████████████████                                                                                                     | 10/24 [00:02<00:02,  4.75it/s]\u001b[A\n",
      "Validation DataLoader 0:  46%|███████████████████████████████████████████████████████████████████████████████▎                                                                                             | 11/24 [00:02<00:02,  4.76it/s]\u001b[A\n",
      "Validation DataLoader 0:  50%|██████████████████████████████████████████████████████████████████████████████████████▌                                                                                      | 12/24 [00:02<00:02,  4.77it/s]\u001b[A\n",
      "Validation DataLoader 0:  54%|█████████████████████████████████████████████████████████████████████████████████████████████▋                                                                               | 13/24 [00:02<00:02,  4.76it/s]\u001b[A\n",
      "Validation DataLoader 0:  58%|████████████████████████████████████████████████████████████████████████████████████████████████████▉                                                                        | 14/24 [00:02<00:02,  4.77it/s]\u001b[A\n",
      "Validation DataLoader 0:  62%|████████████████████████████████████████████████████████████████████████████████████████████████████████████▏                                                                | 15/24 [00:03<00:01,  4.73it/s]\u001b[A\n",
      "Validation DataLoader 0:  67%|███████████████████████████████████████████████████████████████████████████████████████████████████████████████████▎                                                         | 16/24 [00:03<00:01,  4.73it/s]\u001b[A\n",
      "Validation DataLoader 0:  71%|██████████████████████████████████████████████████████████████████████████████████████████████████████████████████████████▌                                                  | 17/24 [00:03<00:01,  4.73it/s]\u001b[A\n",
      "Validation DataLoader 0:  75%|█████████████████████████████████████████████████████████████████████████████████████████████████████████████████████████████████▊                                           | 18/24 [00:03<00:01,  4.73it/s]\u001b[A\n",
      "Validation DataLoader 0:  79%|████████████████████████████████████████████████████████████████████████████████████████████████████████████████████████████████████████▉                                    | 19/24 [00:04<00:01,  4.73it/s]\u001b[A\n",
      "Validation DataLoader 0:  83%|████████████████████████████████████████████████████████████████████████████████████████████████████████████████████████████████████████████████▏                            | 20/24 [00:04<00:00,  4.74it/s]\u001b[A\n",
      "Validation DataLoader 0:  88%|███████████████████████████████████████████████████████████████████████████████████████████████████████████████████████████████████████████████████████▍                     | 21/24 [00:04<00:00,  4.74it/s]\u001b[A\n",
      "Validation DataLoader 0:  92%|██████████████████████████████████████████████████████████████████████████████████████████████████████████████████████████████████████████████████████████████▌              | 22/24 [00:04<00:00,  4.74it/s]\u001b[A\n",
      "Validation DataLoader 0:  96%|█████████████████████████████████████████████████████████████████████████████████████████████████████████████████████████████████████████████████████████████████████▊       | 23/24 [00:04<00:00,  4.75it/s]\u001b[A\n",
      "Validation DataLoader 0: 100%|█████████████████████████████████████████████████████████████████████████████████████████████████████████████████████████████████████████████████████████████████████████████| 24/24 [00:04<00:00,  4.88it/s]\u001b[A\n",
      "Epoch 3: 100%|████████████████████████████████████████████████████████████████████████████████████████████████████████████████████████████████| 319/319 [03:09<00:00,  1.68it/s, v_num=t24e, train_loss_step=0.140, train_loss_epoch=0.150]\u001b[A\n",
      "Validation: |                                                                                                                                                                                                        | 0/? [00:00<?, ?it/s]\u001b[A\n",
      "Validation:   0%|                                                                                                                                                                                                   | 0/24 [00:00<?, ?it/s]\u001b[A\n",
      "Validation DataLoader 0:   0%|                                                                                                                                                                                      | 0/24 [00:00<?, ?it/s]\u001b[A\n",
      "Validation DataLoader 0:   4%|███████▎                                                                                                                                                                      | 1/24 [00:00<00:05,  4.26it/s]\u001b[A\n",
      "Validation DataLoader 0:   8%|██████████████▌                                                                                                                                                               | 2/24 [00:00<00:05,  4.39it/s]\u001b[A\n",
      "Validation DataLoader 0:  12%|█████████████████████▊                                                                                                                                                        | 3/24 [00:00<00:04,  4.52it/s]\u001b[A\n",
      "Validation DataLoader 0:  17%|█████████████████████████████                                                                                                                                                 | 4/24 [00:00<00:04,  4.59it/s]\u001b[A\n",
      "Validation DataLoader 0:  21%|████████████████████████████████████▎                                                                                                                                         | 5/24 [00:01<00:04,  4.60it/s]\u001b[A\n",
      "Validation DataLoader 0:  25%|███████████████████████████████████████████▌                                                                                                                                  | 6/24 [00:01<00:03,  4.63it/s]\u001b[A\n",
      "Validation DataLoader 0:  29%|██████████████████████████████████████████████████▊                                                                                                                           | 7/24 [00:01<00:03,  4.65it/s]\u001b[A\n",
      "Validation DataLoader 0:  33%|██████████████████████████████████████████████████████████                                                                                                                    | 8/24 [00:01<00:03,  4.67it/s]\u001b[A\n",
      "Validation DataLoader 0:  38%|█████████████████████████████████████████████████████████████████▎                                                                                                            | 9/24 [00:01<00:03,  4.68it/s]\u001b[A\n",
      "Validation DataLoader 0:  42%|████████████████████████████████████████████████████████████████████████                                                                                                     | 10/24 [00:02<00:02,  4.69it/s]\u001b[A\n",
      "Validation DataLoader 0:  46%|███████████████████████████████████████████████████████████████████████████████▎                                                                                             | 11/24 [00:02<00:02,  4.70it/s]\u001b[A\n",
      "Validation DataLoader 0:  50%|██████████████████████████████████████████████████████████████████████████████████████▌                                                                                      | 12/24 [00:02<00:02,  4.71it/s]\u001b[A\n",
      "Validation DataLoader 0:  54%|█████████████████████████████████████████████████████████████████████████████████████████████▋                                                                               | 13/24 [00:02<00:02,  4.71it/s]\u001b[A\n",
      "Validation DataLoader 0:  58%|████████████████████████████████████████████████████████████████████████████████████████████████████▉                                                                        | 14/24 [00:02<00:02,  4.72it/s]\u001b[A\n",
      "Validation DataLoader 0:  62%|████████████████████████████████████████████████████████████████████████████████████████████████████████████▏                                                                | 15/24 [00:03<00:01,  4.72it/s]\u001b[A\n",
      "Validation DataLoader 0:  67%|███████████████████████████████████████████████████████████████████████████████████████████████████████████████████▎                                                         | 16/24 [00:03<00:01,  4.73it/s]\u001b[A\n",
      "Validation DataLoader 0:  71%|██████████████████████████████████████████████████████████████████████████████████████████████████████████████████████████▌                                                  | 17/24 [00:03<00:01,  4.74it/s]\u001b[A\n",
      "Validation DataLoader 0:  75%|█████████████████████████████████████████████████████████████████████████████████████████████████████████████████████████████████▊                                           | 18/24 [00:03<00:01,  4.74it/s]\u001b[A\n",
      "Validation DataLoader 0:  79%|████████████████████████████████████████████████████████████████████████████████████████████████████████████████████████████████████████▉                                    | 19/24 [00:04<00:01,  4.74it/s]\u001b[A\n",
      "Validation DataLoader 0:  83%|████████████████████████████████████████████████████████████████████████████████████████████████████████████████████████████████████████████████▏                            | 20/24 [00:04<00:00,  4.74it/s]\u001b[A\n",
      "Validation DataLoader 0:  88%|███████████████████████████████████████████████████████████████████████████████████████████████████████████████████████████████████████████████████████▍                     | 21/24 [00:04<00:00,  4.75it/s]\u001b[A\n",
      "Validation DataLoader 0:  92%|██████████████████████████████████████████████████████████████████████████████████████████████████████████████████████████████████████████████████████████████▌              | 22/24 [00:04<00:00,  4.75it/s]\u001b[A\n",
      "Validation DataLoader 0:  96%|█████████████████████████████████████████████████████████████████████████████████████████████████████████████████████████████████████████████████████████████████████▊       | 23/24 [00:04<00:00,  4.75it/s]\u001b[A\n",
      "Validation DataLoader 0: 100%|█████████████████████████████████████████████████████████████████████████████████████████████████████████████████████████████████████████████████████████████████████████████| 24/24 [00:04<00:00,  4.87it/s]\u001b[A\n",
      "Epoch 4: 100%|████████████████████████████████████████████████████████████████████████████████████████████████████████████████████████████████| 319/319 [03:09<00:00,  1.69it/s, v_num=t24e, train_loss_step=0.153, train_loss_epoch=0.148]\u001b[A\n",
      "Validation: |                                                                                                                                                                                                        | 0/? [00:00<?, ?it/s]\u001b[A\n",
      "Validation:   0%|                                                                                                                                                                                                   | 0/24 [00:00<?, ?it/s]\u001b[A\n",
      "Validation DataLoader 0:   0%|                                                                                                                                                                                      | 0/24 [00:00<?, ?it/s]\u001b[A\n",
      "Validation DataLoader 0:   4%|███████▎                                                                                                                                                                      | 1/24 [00:00<00:05,  4.39it/s]\u001b[A\n",
      "Validation DataLoader 0:   8%|██████████████▌                                                                                                                                                               | 2/24 [00:00<00:04,  4.59it/s]\u001b[A\n",
      "Validation DataLoader 0:  12%|█████████████████████▊                                                                                                                                                        | 3/24 [00:00<00:04,  4.64it/s]\u001b[A\n",
      "Validation DataLoader 0:  17%|█████████████████████████████                                                                                                                                                 | 4/24 [00:00<00:04,  4.69it/s]\u001b[A\n",
      "Validation DataLoader 0:  21%|████████████████████████████████████▎                                                                                                                                         | 5/24 [00:01<00:04,  4.70it/s]\u001b[A\n",
      "Validation DataLoader 0:  25%|███████████████████████████████████████████▌                                                                                                                                  | 6/24 [00:01<00:03,  4.71it/s]\u001b[A\n",
      "Validation DataLoader 0:  29%|██████████████████████████████████████████████████▊                                                                                                                           | 7/24 [00:01<00:03,  4.72it/s]\u001b[A\n",
      "Validation DataLoader 0:  33%|██████████████████████████████████████████████████████████                                                                                                                    | 8/24 [00:01<00:03,  4.73it/s]\u001b[A\n",
      "Validation DataLoader 0:  38%|█████████████████████████████████████████████████████████████████▎                                                                                                            | 9/24 [00:01<00:03,  4.74it/s]\u001b[A\n",
      "Validation DataLoader 0:  42%|████████████████████████████████████████████████████████████████████████                                                                                                     | 10/24 [00:02<00:02,  4.75it/s]\u001b[A\n",
      "Validation DataLoader 0:  46%|███████████████████████████████████████████████████████████████████████████████▎                                                                                             | 11/24 [00:02<00:02,  4.75it/s]\u001b[A\n",
      "Validation DataLoader 0:  50%|██████████████████████████████████████████████████████████████████████████████████████▌                                                                                      | 12/24 [00:02<00:02,  4.76it/s]\u001b[A\n",
      "Validation DataLoader 0:  54%|█████████████████████████████████████████████████████████████████████████████████████████████▋                                                                               | 13/24 [00:02<00:02,  4.76it/s]\u001b[A\n",
      "Validation DataLoader 0:  58%|████████████████████████████████████████████████████████████████████████████████████████████████████▉                                                                        | 14/24 [00:02<00:02,  4.76it/s]\u001b[A\n",
      "Validation DataLoader 0:  62%|████████████████████████████████████████████████████████████████████████████████████████████████████████████▏                                                                | 15/24 [00:03<00:01,  4.76it/s]\u001b[A\n",
      "Validation DataLoader 0:  67%|███████████████████████████████████████████████████████████████████████████████████████████████████████████████████▎                                                         | 16/24 [00:03<00:01,  4.76it/s]\u001b[A\n",
      "Validation DataLoader 0:  71%|██████████████████████████████████████████████████████████████████████████████████████████████████████████████████████████▌                                                  | 17/24 [00:03<00:01,  4.77it/s]\u001b[A\n",
      "Validation DataLoader 0:  75%|█████████████████████████████████████████████████████████████████████████████████████████████████████████████████████████████████▊                                           | 18/24 [00:03<00:01,  4.77it/s]\u001b[A\n",
      "Validation DataLoader 0:  79%|████████████████████████████████████████████████████████████████████████████████████████████████████████████████████████████████████████▉                                    | 19/24 [00:03<00:01,  4.77it/s]\u001b[A\n",
      "Validation DataLoader 0:  83%|████████████████████████████████████████████████████████████████████████████████████████████████████████████████████████████████████████████████▏                            | 20/24 [00:04<00:00,  4.77it/s]\u001b[A\n",
      "Validation DataLoader 0:  88%|███████████████████████████████████████████████████████████████████████████████████████████████████████████████████████████████████████████████████████▍                     | 21/24 [00:04<00:00,  4.78it/s]\u001b[A\n",
      "Validation DataLoader 0:  92%|██████████████████████████████████████████████████████████████████████████████████████████████████████████████████████████████████████████████████████████████▌              | 22/24 [00:04<00:00,  4.78it/s]\u001b[A\n",
      "Validation DataLoader 0:  96%|█████████████████████████████████████████████████████████████████████████████████████████████████████████████████████████████████████████████████████████████████████▊       | 23/24 [00:04<00:00,  4.78it/s]\u001b[A\n",
      "Validation DataLoader 0: 100%|█████████████████████████████████████████████████████████████████████████████████████████████████████████████████████████████████████████████████████████████████████████████| 24/24 [00:04<00:00,  4.90it/s]\u001b[A\n",
      "Epoch 5: 100%|████████████████████████████████████████████████████████████████████████████████████████████████████████████████████████████████| 319/319 [03:09<00:00,  1.68it/s, v_num=t24e, train_loss_step=0.112, train_loss_epoch=0.147]\u001b[A\n",
      "Validation: |                                                                                                                                                                                                        | 0/? [00:00<?, ?it/s]\u001b[A\n",
      "Validation:   0%|                                                                                                                                                                                                   | 0/24 [00:00<?, ?it/s]\u001b[A\n",
      "Validation DataLoader 0:   0%|                                                                                                                                                                                      | 0/24 [00:00<?, ?it/s]\u001b[A\n",
      "Validation DataLoader 0:   4%|███████▎                                                                                                                                                                      | 1/24 [00:00<00:05,  4.45it/s]\u001b[A\n",
      "Validation DataLoader 0:   8%|██████████████▌                                                                                                                                                               | 2/24 [00:00<00:04,  4.50it/s]\u001b[A\n",
      "Validation DataLoader 0:  12%|█████████████████████▊                                                                                                                                                        | 3/24 [00:00<00:04,  4.58it/s]\u001b[A\n",
      "Validation DataLoader 0:  17%|█████████████████████████████                                                                                                                                                 | 4/24 [00:00<00:04,  4.64it/s]\u001b[A\n",
      "Validation DataLoader 0:  21%|████████████████████████████████████▎                                                                                                                                         | 5/24 [00:01<00:04,  4.67it/s]\u001b[A\n",
      "Validation DataLoader 0:  25%|███████████████████████████████████████████▌                                                                                                                                  | 6/24 [00:01<00:03,  4.69it/s]\u001b[A\n",
      "Validation DataLoader 0:  29%|██████████████████████████████████████████████████▊                                                                                                                           | 7/24 [00:01<00:03,  4.70it/s]\u001b[A\n",
      "Validation DataLoader 0:  33%|██████████████████████████████████████████████████████████                                                                                                                    | 8/24 [00:01<00:03,  4.72it/s]\u001b[A\n",
      "Validation DataLoader 0:  38%|█████████████████████████████████████████████████████████████████▎                                                                                                            | 9/24 [00:01<00:03,  4.72it/s]\u001b[A\n",
      "Validation DataLoader 0:  42%|████████████████████████████████████████████████████████████████████████                                                                                                     | 10/24 [00:02<00:02,  4.73it/s]\u001b[A\n",
      "Validation DataLoader 0:  46%|███████████████████████████████████████████████████████████████████████████████▎                                                                                             | 11/24 [00:02<00:02,  4.74it/s]\u001b[A\n",
      "Validation DataLoader 0:  50%|██████████████████████████████████████████████████████████████████████████████████████▌                                                                                      | 12/24 [00:02<00:02,  4.75it/s]\u001b[A\n",
      "Validation DataLoader 0:  54%|█████████████████████████████████████████████████████████████████████████████████████████████▋                                                                               | 13/24 [00:02<00:02,  4.75it/s]\u001b[A\n",
      "Validation DataLoader 0:  58%|████████████████████████████████████████████████████████████████████████████████████████████████████▉                                                                        | 14/24 [00:02<00:02,  4.76it/s]\u001b[A\n",
      "Validation DataLoader 0:  62%|████████████████████████████████████████████████████████████████████████████████████████████████████████████▏                                                                | 15/24 [00:03<00:01,  4.76it/s]\u001b[A\n",
      "Validation DataLoader 0:  67%|███████████████████████████████████████████████████████████████████████████████████████████████████████████████████▎                                                         | 16/24 [00:03<00:01,  4.77it/s]\u001b[A\n",
      "Validation DataLoader 0:  71%|██████████████████████████████████████████████████████████████████████████████████████████████████████████████████████████▌                                                  | 17/24 [00:03<00:01,  4.77it/s]\u001b[A\n",
      "Validation DataLoader 0:  75%|█████████████████████████████████████████████████████████████████████████████████████████████████████████████████████████████████▊                                           | 18/24 [00:03<00:01,  4.77it/s]\u001b[A\n",
      "Validation DataLoader 0:  79%|████████████████████████████████████████████████████████████████████████████████████████████████████████████████████████████████████████▉                                    | 19/24 [00:03<00:01,  4.78it/s]\u001b[A\n",
      "Validation DataLoader 0:  83%|████████████████████████████████████████████████████████████████████████████████████████████████████████████████████████████████████████████████▏                            | 20/24 [00:04<00:00,  4.78it/s]\u001b[A\n",
      "Validation DataLoader 0:  88%|███████████████████████████████████████████████████████████████████████████████████████████████████████████████████████████████████████████████████████▍                     | 21/24 [00:04<00:00,  4.78it/s]\u001b[A\n",
      "Validation DataLoader 0:  92%|██████████████████████████████████████████████████████████████████████████████████████████████████████████████████████████████████████████████████████████████▌              | 22/24 [00:04<00:00,  4.78it/s]\u001b[A\n",
      "Validation DataLoader 0:  96%|█████████████████████████████████████████████████████████████████████████████████████████████████████████████████████████████████████████████████████████████████████▊       | 23/24 [00:04<00:00,  4.78it/s]\u001b[A\n",
      "Validation DataLoader 0: 100%|█████████████████████████████████████████████████████████████████████████████████████████████████████████████████████████████████████████████████████████████████████████████| 24/24 [00:04<00:00,  4.91it/s]\u001b[A\n",
      "Epoch 6: 100%|████████████████████████████████████████████████████████████████████████████████████████████████████████████████████████████████| 319/319 [03:09<00:00,  1.69it/s, v_num=t24e, train_loss_step=0.155, train_loss_epoch=0.146]\u001b[A\n",
      "Validation: |                                                                                                                                                                                                        | 0/? [00:00<?, ?it/s]\u001b[A\n",
      "Validation:   0%|                                                                                                                                                                                                   | 0/24 [00:00<?, ?it/s]\u001b[A\n",
      "Validation DataLoader 0:   0%|                                                                                                                                                                                      | 0/24 [00:00<?, ?it/s]\u001b[A\n",
      "Validation DataLoader 0:   4%|███████▎                                                                                                                                                                      | 1/24 [00:00<00:04,  4.81it/s]\u001b[A\n",
      "Validation DataLoader 0:   8%|██████████████▌                                                                                                                                                               | 2/24 [00:00<00:04,  4.76it/s]\u001b[A\n",
      "Validation DataLoader 0:  12%|█████████████████████▊                                                                                                                                                        | 3/24 [00:00<00:04,  4.77it/s]\u001b[A\n",
      "Validation DataLoader 0:  17%|█████████████████████████████                                                                                                                                                 | 4/24 [00:00<00:04,  4.78it/s]\u001b[A\n",
      "Validation DataLoader 0:  21%|████████████████████████████████████▎                                                                                                                                         | 5/24 [00:01<00:03,  4.77it/s]\u001b[A\n",
      "Validation DataLoader 0:  25%|███████████████████████████████████████████▌                                                                                                                                  | 6/24 [00:01<00:03,  4.77it/s]\u001b[A\n",
      "Validation DataLoader 0:  29%|██████████████████████████████████████████████████▊                                                                                                                           | 7/24 [00:01<00:03,  4.78it/s]\u001b[A\n",
      "Validation DataLoader 0:  33%|██████████████████████████████████████████████████████████                                                                                                                    | 8/24 [00:01<00:03,  4.79it/s]\u001b[A\n",
      "Validation DataLoader 0:  38%|█████████████████████████████████████████████████████████████████▎                                                                                                            | 9/24 [00:01<00:03,  4.80it/s]\u001b[A\n",
      "Validation DataLoader 0:  42%|████████████████████████████████████████████████████████████████████████                                                                                                     | 10/24 [00:02<00:02,  4.80it/s]\u001b[A\n",
      "Validation DataLoader 0:  46%|███████████████████████████████████████████████████████████████████████████████▎                                                                                             | 11/24 [00:02<00:02,  4.80it/s]\u001b[A\n",
      "Validation DataLoader 0:  50%|██████████████████████████████████████████████████████████████████████████████████████▌                                                                                      | 12/24 [00:02<00:02,  4.80it/s]\u001b[A\n",
      "Validation DataLoader 0:  54%|█████████████████████████████████████████████████████████████████████████████████████████████▋                                                                               | 13/24 [00:02<00:02,  4.81it/s]\u001b[A\n",
      "Validation DataLoader 0:  58%|████████████████████████████████████████████████████████████████████████████████████████████████████▉                                                                        | 14/24 [00:02<00:02,  4.81it/s]\u001b[A\n",
      "Validation DataLoader 0:  62%|████████████████████████████████████████████████████████████████████████████████████████████████████████████▏                                                                | 15/24 [00:03<00:01,  4.81it/s]\u001b[A\n",
      "Validation DataLoader 0:  67%|███████████████████████████████████████████████████████████████████████████████████████████████████████████████████▎                                                         | 16/24 [00:03<00:01,  4.81it/s]\u001b[A\n",
      "Validation DataLoader 0:  71%|██████████████████████████████████████████████████████████████████████████████████████████████████████████████████████████▌                                                  | 17/24 [00:03<00:01,  4.81it/s]\u001b[A\n",
      "Validation DataLoader 0:  75%|█████████████████████████████████████████████████████████████████████████████████████████████████████████████████████████████████▊                                           | 18/24 [00:03<00:01,  4.81it/s]\u001b[A\n",
      "Validation DataLoader 0:  79%|████████████████████████████████████████████████████████████████████████████████████████████████████████████████████████████████████████▉                                    | 19/24 [00:03<00:01,  4.81it/s]\u001b[A\n",
      "Validation DataLoader 0:  83%|████████████████████████████████████████████████████████████████████████████████████████████████████████████████████████████████████████████████▏                            | 20/24 [00:04<00:00,  4.82it/s]\u001b[A\n",
      "Validation DataLoader 0:  88%|███████████████████████████████████████████████████████████████████████████████████████████████████████████████████████████████████████████████████████▍                     | 21/24 [00:04<00:00,  4.82it/s]\u001b[A\n",
      "Validation DataLoader 0:  92%|██████████████████████████████████████████████████████████████████████████████████████████████████████████████████████████████████████████████████████████████▌              | 22/24 [00:04<00:00,  4.82it/s]\u001b[A\n",
      "Validation DataLoader 0:  96%|█████████████████████████████████████████████████████████████████████████████████████████████████████████████████████████████████████████████████████████████████████▊       | 23/24 [00:04<00:00,  4.82it/s]\u001b[A\n",
      "Validation DataLoader 0: 100%|█████████████████████████████████████████████████████████████████████████████████████████████████████████████████████████████████████████████████████████████████████████████| 24/24 [00:04<00:00,  4.95it/s]\u001b[A\n",
      "Epoch 7: 100%|████████████████████████████████████████████████████████████████████████████████████████████████████████████████████████████████| 319/319 [03:08<00:00,  1.70it/s, v_num=t24e, train_loss_step=0.127, train_loss_epoch=0.145]\u001b[A\n",
      "Validation: |                                                                                                                                                                                                        | 0/? [00:00<?, ?it/s]\u001b[A\n",
      "Validation:   0%|                                                                                                                                                                                                   | 0/24 [00:00<?, ?it/s]\u001b[A\n",
      "Validation DataLoader 0:   0%|                                                                                                                                                                                      | 0/24 [00:00<?, ?it/s]\u001b[A\n",
      "Validation DataLoader 0:   4%|███████▎                                                                                                                                                                      | 1/24 [00:00<00:04,  4.87it/s]\u001b[A\n",
      "Validation DataLoader 0:   8%|██████████████▌                                                                                                                                                               | 2/24 [00:00<00:04,  4.86it/s]\u001b[A\n",
      "Validation DataLoader 0:  12%|█████████████████████▊                                                                                                                                                        | 3/24 [00:00<00:04,  4.87it/s]\u001b[A\n",
      "Validation DataLoader 0:  17%|█████████████████████████████                                                                                                                                                 | 4/24 [00:00<00:04,  4.85it/s]\u001b[A\n",
      "Validation DataLoader 0:  21%|████████████████████████████████████▎                                                                                                                                         | 5/24 [00:01<00:03,  4.84it/s]\u001b[A\n",
      "Validation DataLoader 0:  25%|███████████████████████████████████████████▌                                                                                                                                  | 6/24 [00:01<00:03,  4.84it/s]\u001b[A\n",
      "Validation DataLoader 0:  29%|██████████████████████████████████████████████████▊                                                                                                                           | 7/24 [00:01<00:03,  4.84it/s]\u001b[A\n",
      "Validation DataLoader 0:  33%|██████████████████████████████████████████████████████████                                                                                                                    | 8/24 [00:01<00:03,  4.83it/s]\u001b[A\n",
      "Validation DataLoader 0:  38%|█████████████████████████████████████████████████████████████████▎                                                                                                            | 9/24 [00:01<00:03,  4.82it/s]\u001b[A\n",
      "Validation DataLoader 0:  42%|████████████████████████████████████████████████████████████████████████                                                                                                     | 10/24 [00:02<00:02,  4.82it/s]\u001b[A\n",
      "Validation DataLoader 0:  46%|███████████████████████████████████████████████████████████████████████████████▎                                                                                             | 11/24 [00:02<00:02,  4.82it/s]\u001b[A\n",
      "Validation DataLoader 0:  50%|██████████████████████████████████████████████████████████████████████████████████████▌                                                                                      | 12/24 [00:02<00:02,  4.82it/s]\u001b[A\n",
      "Validation DataLoader 0:  54%|█████████████████████████████████████████████████████████████████████████████████████████████▋                                                                               | 13/24 [00:02<00:02,  4.82it/s]\u001b[A\n",
      "Validation DataLoader 0:  58%|████████████████████████████████████████████████████████████████████████████████████████████████████▉                                                                        | 14/24 [00:02<00:02,  4.82it/s]\u001b[A\n",
      "Validation DataLoader 0:  62%|████████████████████████████████████████████████████████████████████████████████████████████████████████████▏                                                                | 15/24 [00:03<00:01,  4.83it/s]\u001b[A\n",
      "Validation DataLoader 0:  67%|███████████████████████████████████████████████████████████████████████████████████████████████████████████████████▎                                                         | 16/24 [00:03<00:01,  4.83it/s]\u001b[A\n",
      "Validation DataLoader 0:  71%|██████████████████████████████████████████████████████████████████████████████████████████████████████████████████████████▌                                                  | 17/24 [00:03<00:01,  4.83it/s]\u001b[A\n",
      "Validation DataLoader 0:  75%|█████████████████████████████████████████████████████████████████████████████████████████████████████████████████████████████████▊                                           | 18/24 [00:03<00:01,  4.83it/s]\u001b[A\n",
      "Validation DataLoader 0:  79%|████████████████████████████████████████████████████████████████████████████████████████████████████████████████████████████████████████▉                                    | 19/24 [00:03<00:01,  4.83it/s]\u001b[A\n",
      "Validation DataLoader 0:  83%|████████████████████████████████████████████████████████████████████████████████████████████████████████████████████████████████████████████████▏                            | 20/24 [00:04<00:00,  4.83it/s]\u001b[A\n",
      "Validation DataLoader 0:  88%|███████████████████████████████████████████████████████████████████████████████████████████████████████████████████████████████████████████████████████▍                     | 21/24 [00:04<00:00,  4.83it/s]\u001b[A\n",
      "Validation DataLoader 0:  92%|██████████████████████████████████████████████████████████████████████████████████████████████████████████████████████████████████████████████████████████████▌              | 22/24 [00:04<00:00,  4.83it/s]\u001b[A\n",
      "Validation DataLoader 0:  96%|█████████████████████████████████████████████████████████████████████████████████████████████████████████████████████████████████████████████████████████████████████▊       | 23/24 [00:04<00:00,  4.83it/s]\u001b[A\n",
      "Validation DataLoader 0: 100%|█████████████████████████████████████████████████████████████████████████████████████████████████████████████████████████████████████████████████████████████████████████████| 24/24 [00:04<00:00,  4.96it/s]\u001b[A\n",
      "Epoch 8: 100%|████████████████████████████████████████████████████████████████████████████████████████████████████████████████████████████████| 319/319 [03:08<00:00,  1.70it/s, v_num=t24e, train_loss_step=0.164, train_loss_epoch=0.144]\u001b[A\n",
      "Validation: |                                                                                                                                                                                                        | 0/? [00:00<?, ?it/s]\u001b[A\n",
      "Validation:   0%|                                                                                                                                                                                                   | 0/24 [00:00<?, ?it/s]\u001b[A\n",
      "Validation DataLoader 0:   0%|                                                                                                                                                                                      | 0/24 [00:00<?, ?it/s]\u001b[A\n",
      "Validation DataLoader 0:   4%|███████▎                                                                                                                                                                      | 1/24 [00:00<00:04,  4.88it/s]\u001b[A\n",
      "Validation DataLoader 0:   8%|██████████████▌                                                                                                                                                               | 2/24 [00:00<00:04,  4.87it/s]\u001b[A\n",
      "Validation DataLoader 0:  12%|█████████████████████▊                                                                                                                                                        | 3/24 [00:00<00:04,  4.87it/s]\u001b[A\n",
      "Validation DataLoader 0:  17%|█████████████████████████████                                                                                                                                                 | 4/24 [00:00<00:04,  4.87it/s]\u001b[A\n",
      "Validation DataLoader 0:  21%|████████████████████████████████████▎                                                                                                                                         | 5/24 [00:01<00:03,  4.86it/s]\u001b[A\n",
      "Validation DataLoader 0:  25%|███████████████████████████████████████████▌                                                                                                                                  | 6/24 [00:01<00:03,  4.86it/s]\u001b[A\n",
      "Validation DataLoader 0:  29%|██████████████████████████████████████████████████▊                                                                                                                           | 7/24 [00:01<00:03,  4.86it/s]\u001b[A\n",
      "Validation DataLoader 0:  33%|██████████████████████████████████████████████████████████                                                                                                                    | 8/24 [00:01<00:03,  4.86it/s]\u001b[A\n",
      "Validation DataLoader 0:  38%|█████████████████████████████████████████████████████████████████▎                                                                                                            | 9/24 [00:01<00:03,  4.86it/s]\u001b[A\n",
      "Validation DataLoader 0:  42%|████████████████████████████████████████████████████████████████████████                                                                                                     | 10/24 [00:02<00:02,  4.86it/s]\u001b[A\n",
      "Validation DataLoader 0:  46%|███████████████████████████████████████████████████████████████████████████████▎                                                                                             | 11/24 [00:02<00:02,  4.86it/s]\u001b[A\n",
      "Validation DataLoader 0:  50%|██████████████████████████████████████████████████████████████████████████████████████▌                                                                                      | 12/24 [00:02<00:02,  4.86it/s]\u001b[A\n",
      "Validation DataLoader 0:  54%|█████████████████████████████████████████████████████████████████████████████████████████████▋                                                                               | 13/24 [00:02<00:02,  4.86it/s]\u001b[A\n",
      "Validation DataLoader 0:  58%|████████████████████████████████████████████████████████████████████████████████████████████████████▉                                                                        | 14/24 [00:02<00:02,  4.86it/s]\u001b[A\n",
      "Validation DataLoader 0:  62%|████████████████████████████████████████████████████████████████████████████████████████████████████████████▏                                                                | 15/24 [00:03<00:01,  4.86it/s]\u001b[A\n",
      "Validation DataLoader 0:  67%|███████████████████████████████████████████████████████████████████████████████████████████████████████████████████▎                                                         | 16/24 [00:03<00:01,  4.86it/s]\u001b[A\n",
      "Validation DataLoader 0:  71%|██████████████████████████████████████████████████████████████████████████████████████████████████████████████████████████▌                                                  | 17/24 [00:03<00:01,  4.85it/s]\u001b[A\n",
      "Validation DataLoader 0:  75%|█████████████████████████████████████████████████████████████████████████████████████████████████████████████████████████████████▊                                           | 18/24 [00:03<00:01,  4.85it/s]\u001b[A\n",
      "Validation DataLoader 0:  79%|████████████████████████████████████████████████████████████████████████████████████████████████████████████████████████████████████████▉                                    | 19/24 [00:03<00:01,  4.85it/s]\u001b[A\n",
      "Validation DataLoader 0:  83%|████████████████████████████████████████████████████████████████████████████████████████████████████████████████████████████████████████████████▏                            | 20/24 [00:04<00:00,  4.85it/s]\u001b[A\n",
      "Validation DataLoader 0:  88%|███████████████████████████████████████████████████████████████████████████████████████████████████████████████████████████████████████████████████████▍                     | 21/24 [00:04<00:00,  4.85it/s]\u001b[A\n",
      "Validation DataLoader 0:  92%|██████████████████████████████████████████████████████████████████████████████████████████████████████████████████████████████████████████████████████████████▌              | 22/24 [00:04<00:00,  4.85it/s]\u001b[A\n",
      "Validation DataLoader 0:  96%|█████████████████████████████████████████████████████████████████████████████████████████████████████████████████████████████████████████████████████████████████████▊       | 23/24 [00:04<00:00,  4.85it/s]\u001b[A\n",
      "Validation DataLoader 0: 100%|█████████████████████████████████████████████████████████████████████████████████████████████████████████████████████████████████████████████████████████████████████████████| 24/24 [00:04<00:00,  4.98it/s]\u001b[A\n",
      "Epoch 9: 100%|████████████████████████████████████████████████████████████████████████████████████████████████████████████████████████████████| 319/319 [03:08<00:00,  1.70it/s, v_num=t24e, train_loss_step=0.118, train_loss_epoch=0.143]\u001b[A\n",
      "Validation: |                                                                                                                                                                                                        | 0/? [00:00<?, ?it/s]\u001b[A\n",
      "Validation:   0%|                                                                                                                                                                                                   | 0/24 [00:00<?, ?it/s]\u001b[A\n",
      "Validation DataLoader 0:   0%|                                                                                                                                                                                      | 0/24 [00:00<?, ?it/s]\u001b[A\n",
      "Validation DataLoader 0:   4%|███████▎                                                                                                                                                                      | 1/24 [00:00<00:04,  4.79it/s]\u001b[A\n",
      "Validation DataLoader 0:   8%|██████████████▌                                                                                                                                                               | 2/24 [00:00<00:04,  4.80it/s]\u001b[A\n",
      "Validation DataLoader 0:  12%|█████████████████████▊                                                                                                                                                        | 3/24 [00:00<00:04,  4.78it/s]\u001b[A\n",
      "Validation DataLoader 0:  17%|█████████████████████████████                                                                                                                                                 | 4/24 [00:00<00:04,  4.80it/s]\u001b[A\n",
      "Validation DataLoader 0:  21%|████████████████████████████████████▎                                                                                                                                         | 5/24 [00:01<00:03,  4.78it/s]\u001b[A\n",
      "Validation DataLoader 0:  25%|███████████████████████████████████████████▌                                                                                                                                  | 6/24 [00:01<00:03,  4.79it/s]\u001b[A\n",
      "Validation DataLoader 0:  29%|██████████████████████████████████████████████████▊                                                                                                                           | 7/24 [00:01<00:03,  4.80it/s]\u001b[A\n",
      "Validation DataLoader 0:  33%|██████████████████████████████████████████████████████████                                                                                                                    | 8/24 [00:01<00:03,  4.81it/s]\u001b[A\n",
      "Validation DataLoader 0:  38%|█████████████████████████████████████████████████████████████████▎                                                                                                            | 9/24 [00:01<00:03,  4.81it/s]\u001b[A\n",
      "Validation DataLoader 0:  42%|████████████████████████████████████████████████████████████████████████                                                                                                     | 10/24 [00:02<00:02,  4.81it/s]\u001b[A\n",
      "Validation DataLoader 0:  46%|███████████████████████████████████████████████████████████████████████████████▎                                                                                             | 11/24 [00:02<00:02,  4.81it/s]\u001b[A\n",
      "Validation DataLoader 0:  50%|██████████████████████████████████████████████████████████████████████████████████████▌                                                                                      | 12/24 [00:02<00:02,  4.82it/s]\u001b[A\n",
      "Validation DataLoader 0:  54%|█████████████████████████████████████████████████████████████████████████████████████████████▋                                                                               | 13/24 [00:02<00:02,  4.82it/s]\u001b[A\n",
      "Validation DataLoader 0:  58%|████████████████████████████████████████████████████████████████████████████████████████████████████▉                                                                        | 14/24 [00:02<00:02,  4.82it/s]\u001b[A\n",
      "Validation DataLoader 0:  62%|████████████████████████████████████████████████████████████████████████████████████████████████████████████▏                                                                | 15/24 [00:03<00:01,  4.82it/s]\u001b[A\n",
      "Validation DataLoader 0:  67%|███████████████████████████████████████████████████████████████████████████████████████████████████████████████████▎                                                         | 16/24 [00:03<00:01,  4.82it/s]\u001b[A\n",
      "Validation DataLoader 0:  71%|██████████████████████████████████████████████████████████████████████████████████████████████████████████████████████████▌                                                  | 17/24 [00:03<00:01,  4.82it/s]\u001b[A\n",
      "Validation DataLoader 0:  75%|█████████████████████████████████████████████████████████████████████████████████████████████████████████████████████████████████▊                                           | 18/24 [00:03<00:01,  4.82it/s]\u001b[A\n",
      "Validation DataLoader 0:  79%|████████████████████████████████████████████████████████████████████████████████████████████████████████████████████████████████████████▉                                    | 19/24 [00:03<00:01,  4.82it/s]\u001b[A\n",
      "Validation DataLoader 0:  83%|████████████████████████████████████████████████████████████████████████████████████████████████████████████████████████████████████████████████▏                            | 20/24 [00:04<00:00,  4.82it/s]\u001b[A\n",
      "Validation DataLoader 0:  88%|███████████████████████████████████████████████████████████████████████████████████████████████████████████████████████████████████████████████████████▍                     | 21/24 [00:04<00:00,  4.83it/s]\u001b[A\n",
      "Validation DataLoader 0:  92%|██████████████████████████████████████████████████████████████████████████████████████████████████████████████████████████████████████████████████████████████▌              | 22/24 [00:04<00:00,  4.83it/s]\u001b[A\n",
      "Validation DataLoader 0:  96%|█████████████████████████████████████████████████████████████████████████████████████████████████████████████████████████████████████████████████████████████████████▊       | 23/24 [00:04<00:00,  4.83it/s]\u001b[A\n",
      "Validation DataLoader 0: 100%|█████████████████████████████████████████████████████████████████████████████████████████████████████████████████████████████████████████████████████████████████████████████| 24/24 [00:04<00:00,  4.96it/s]\u001b[A\n",
      "Epoch 9: 100%|████████████████████████████████████████████████████████████████████████████████████████████████████████████████████████████████| 319/319 [03:17<00:00,  1.62it/s, v_num=t24e, train_loss_step=0.118, train_loss_epoch=0.143]\u001b[A"
     ]
    },
    {
     "name": "stderr",
     "output_type": "stream",
     "text": [
      "`Trainer.fit` stopped: `max_epochs=10` reached.\n"
     ]
    },
    {
     "name": "stdout",
     "output_type": "stream",
     "text": [
      "Epoch 9: 100%|████████████████████████████████████████████████████████████████████████████████████████████████████████████████████████████████| 319/319 [03:28<00:00,  1.53it/s, v_num=t24e, train_loss_step=0.118, train_loss_epoch=0.143]\n"
     ]
    }
   ],
   "source": [
    "trainer = model.train_on_dataset(train_dataset=train_dataset, val_dataset=val_dataset)"
   ]
  },
  {
   "cell_type": "markdown",
   "id": "706526f0-9e71-4005-8049-f079218f5e5e",
   "metadata": {},
   "source": [
    "## Load best checkpoint"
   ]
  },
  {
   "cell_type": "code",
   "execution_count": 8,
   "id": "0994d3d9-b3de-4e0a-9ebf-2c8854cf2543",
   "metadata": {},
   "outputs": [
    {
     "name": "stderr",
     "output_type": "stream",
     "text": [
      "\u001b[34m\u001b[1mwandb\u001b[0m: \u001b[33mWARNING\u001b[0m Calling wandb.login() after wandb.init() has no effect.\n",
      "\u001b[34m\u001b[1mwandb\u001b[0m: Downloading large artifact human_state_dict:latest, 939.29MB. 1 files... \n",
      "\u001b[34m\u001b[1mwandb\u001b[0m:   1 of 1 files downloaded.  \n",
      "Done. 0:0:0.7\n",
      "/opt/conda/lib/python3.11/site-packages/grelu/model/models.py:771: FutureWarning: You are using `torch.load` with `weights_only=False` (the current default value), which uses the default pickle module implicitly. It is possible to construct malicious pickle data which will execute arbitrary code during unpickling (See https://github.com/pytorch/pytorch/blob/main/SECURITY.md#untrusted-models for more details). In a future release, the default value for `weights_only` will be flipped to `True`. This limits the functions that could be executed during unpickling. Arbitrary objects will no longer be allowed to be loaded via this mode unless they are explicitly allowlisted by the user via `torch.serialization.add_safe_globals`. We recommend you start setting `weights_only=True` for any use case where you don't have full control of the loaded file. Please open an issue on GitHub for any issues related to this experimental feature.\n"
     ]
    }
   ],
   "source": [
    "best_checkpoint = trainer.checkpoint_callback.best_model_path\n",
    "model = LightningModel.load_from_checkpoint(best_checkpoint)"
   ]
  },
  {
   "cell_type": "markdown",
   "id": "2fb562c7-a37b-49a5-9815-bbc522004d28",
   "metadata": {},
   "source": [
    "## Evaluate"
   ]
  },
  {
   "cell_type": "code",
   "execution_count": 10,
   "id": "4ba34d26-0133-4017-a0a6-f86358ec282f",
   "metadata": {},
   "outputs": [],
   "source": [
    "test_dataset = AnnDataSeqDataset(\n",
    "    ad[:, ad.var.split=='test'].copy(), genome='hg38',\n",
    ")"
   ]
  },
  {
   "cell_type": "code",
   "execution_count": 11,
   "id": "f898e170-a7c6-4bfc-8976-1ca24600a41b",
   "metadata": {
    "scrolled": true
   },
   "outputs": [
    {
     "name": "stderr",
     "output_type": "stream",
     "text": [
      "GPU available: True (cuda), used: True\n",
      "TPU available: False, using: 0 TPU cores\n",
      "HPU available: False, using: 0 HPUs\n",
      "LOCAL_RANK: 0 - CUDA_VISIBLE_DEVICES: [1]\n"
     ]
    },
    {
     "name": "stdout",
     "output_type": "stream",
     "text": [
      "Testing DataLoader 0: 100%|██████████████████████████████████████████████████████████████████████████████████████████████████████████████████████████████████████████████████████████████████████████████| 284/284 [00:09<00:00, 28.44it/s]\n"
     ]
    },
    {
     "data": {
      "text/html": [
       "<pre style=\"white-space:pre;overflow-x:auto;line-height:normal;font-family:Menlo,'DejaVu Sans Mono',consolas,'Courier New',monospace\">┏━━━━━━━━━━━━━━━━━━━━━━━━━━━┳━━━━━━━━━━━━━━━━━━━━━━━━━━━┓\n",
       "┃<span style=\"font-weight: bold\">        Test metric        </span>┃<span style=\"font-weight: bold\">       DataLoader 0        </span>┃\n",
       "┡━━━━━━━━━━━━━━━━━━━━━━━━━━━╇━━━━━━━━━━━━━━━━━━━━━━━━━━━┩\n",
       "│<span style=\"color: #008080; text-decoration-color: #008080\">       test_accuracy       </span>│<span style=\"color: #800080; text-decoration-color: #800080\">    0.9416285753250122     </span>│\n",
       "│<span style=\"color: #008080; text-decoration-color: #008080\">        test_auroc         </span>│<span style=\"color: #800080; text-decoration-color: #800080\">    0.9053414463996887     </span>│\n",
       "│<span style=\"color: #008080; text-decoration-color: #008080\">       test_avgprec        </span>│<span style=\"color: #800080; text-decoration-color: #800080\">    0.6097266674041748     </span>│\n",
       "│<span style=\"color: #008080; text-decoration-color: #008080\">       test_best_f1        </span>│<span style=\"color: #800080; text-decoration-color: #800080\">    0.5716205835342407     </span>│\n",
       "│<span style=\"color: #008080; text-decoration-color: #008080\">         test_loss         </span>│<span style=\"color: #800080; text-decoration-color: #800080\">    0.16409701108932495    </span>│\n",
       "└───────────────────────────┴───────────────────────────┘\n",
       "</pre>\n"
      ],
      "text/plain": [
       "┏━━━━━━━━━━━━━━━━━━━━━━━━━━━┳━━━━━━━━━━━━━━━━━━━━━━━━━━━┓\n",
       "┃\u001b[1m \u001b[0m\u001b[1m       Test metric       \u001b[0m\u001b[1m \u001b[0m┃\u001b[1m \u001b[0m\u001b[1m      DataLoader 0       \u001b[0m\u001b[1m \u001b[0m┃\n",
       "┡━━━━━━━━━━━━━━━━━━━━━━━━━━━╇━━━━━━━━━━━━━━━━━━━━━━━━━━━┩\n",
       "│\u001b[36m \u001b[0m\u001b[36m      test_accuracy      \u001b[0m\u001b[36m \u001b[0m│\u001b[35m \u001b[0m\u001b[35m   0.9416285753250122    \u001b[0m\u001b[35m \u001b[0m│\n",
       "│\u001b[36m \u001b[0m\u001b[36m       test_auroc        \u001b[0m\u001b[36m \u001b[0m│\u001b[35m \u001b[0m\u001b[35m   0.9053414463996887    \u001b[0m\u001b[35m \u001b[0m│\n",
       "│\u001b[36m \u001b[0m\u001b[36m      test_avgprec       \u001b[0m\u001b[36m \u001b[0m│\u001b[35m \u001b[0m\u001b[35m   0.6097266674041748    \u001b[0m\u001b[35m \u001b[0m│\n",
       "│\u001b[36m \u001b[0m\u001b[36m      test_best_f1       \u001b[0m\u001b[36m \u001b[0m│\u001b[35m \u001b[0m\u001b[35m   0.5716205835342407    \u001b[0m\u001b[35m \u001b[0m│\n",
       "│\u001b[36m \u001b[0m\u001b[36m        test_loss        \u001b[0m\u001b[36m \u001b[0m│\u001b[35m \u001b[0m\u001b[35m   0.16409701108932495   \u001b[0m\u001b[35m \u001b[0m│\n",
       "└───────────────────────────┴───────────────────────────┘\n"
      ]
     },
     "metadata": {},
     "output_type": "display_data"
    },
    {
     "name": "stdout",
     "output_type": "stream",
     "text": [
      "CPU times: user 13.7 s, sys: 1.66 s, total: 15.4 s\n",
      "Wall time: 15.7 s\n"
     ]
    }
   ],
   "source": [
    "%%time\n",
    "test_metrics = model.test_on_dataset(\n",
    "    test_dataset,\n",
    "    batch_size=256,\n",
    "    devices=0,\n",
    "    num_workers=8,\n",
    "    write_path = 'model.ckpt' # Update the checkpoint with the results\n",
    ")"
   ]
  },
  {
   "cell_type": "code",
   "execution_count": 12,
   "id": "974c8e9c-0c90-4cd7-8b90-2206319b7d1a",
   "metadata": {},
   "outputs": [
    {
     "name": "stderr",
     "output_type": "stream",
     "text": [
      "/opt/conda/lib/python3.11/site-packages/plotnine/stats/stat_bin.py:109: PlotnineWarning: 'stat_bin()' using 'bins = 19'. Pick better value with 'binwidth'.\n"
     ]
    },
    {
     "data": {
      "image/png": "[encoded data removed]"
     },
     "metadata": {
      "image/png": {
       "height": 300,
       "width": 400
      }
     },
     "output_type": "display_data"
    }
   ],
   "source": [
    "plot_distribution(test_metrics.test_avgprec, method='histogram')"
   ]
  },
  {
   "cell_type": "code",
   "execution_count": 13,
   "id": "48f3b53b-164f-4427-aff9-1becc224432e",
   "metadata": {},
   "outputs": [
    {
     "name": "stderr",
     "output_type": "stream",
     "text": [
      "GPU available: True (cuda), used: True\n",
      "TPU available: False, using: 0 TPU cores\n",
      "HPU available: False, using: 0 HPUs\n",
      "LOCAL_RANK: 0 - CUDA_VISIBLE_DEVICES: [1]\n",
      "/opt/conda/lib/python3.11/site-packages/pytorch_lightning/trainer/connectors/data_connector.py:425: PossibleUserWarning: The 'predict_dataloader' does not have many workers which may be a bottleneck. Consider increasing the value of the `num_workers` argument` to `num_workers=255` in the `DataLoader` to improve performance.\n"
     ]
    },
    {
     "name": "stdout",
     "output_type": "stream",
     "text": [
      "Predicting DataLoader 0: 100%|█████████████████████████████████████████████████████████████████████████████████████████████████████████████████████████████████████████████████████████████████████████████| 71/71 [00:04<00:00, 14.21it/s]\n"
     ]
    }
   ],
   "source": [
    "probs = model.predict_on_dataset(test_dataset, devices=0, batch_size=1024)"
   ]
  },
  {
   "cell_type": "code",
   "execution_count": 14,
   "id": "83f05ff6-c558-4c64-9d09-ec56c63a0fe3",
   "metadata": {},
   "outputs": [
    {
     "data": {
      "image/png": "[encoded data removed]"
     },
     "metadata": {
      "image/png": {
       "height": 300,
       "width": 400
      }
     },
     "output_type": "display_data"
    }
   ],
   "source": [
    "plot_calibration_curve(\n",
    "    probs,\n",
    "    test_dataset.labels,\n",
    "    figsize=(4,3),\n",
    "    aggregate=True\n",
    ")"
   ]
  },
  {
   "cell_type": "markdown",
   "id": "d50622c6-503b-4525-be81-847ecfa18967",
   "metadata": {},
   "source": [
    "## Save"
   ]
  },
  {
   "cell_type": "code",
   "execution_count": 16,
   "id": "2fabeb1e-bfc9-4b42-8c04-09306861ec0a",
   "metadata": {},
   "outputs": [
    {
     "data": {
      "text/plain": [
       "<Artifact model>"
      ]
     },
     "execution_count": 16,
     "metadata": {},
     "output_type": "execute_result"
    }
   ],
   "source": [
    "artifact = wandb.Artifact('model', type='model')\n",
    "artifact.add_file('model.ckpt', name=\"model.ckpt\")\n",
    "run.log_artifact(artifact)"
   ]
  },
  {
   "cell_type": "code",
   "execution_count": 17,
   "id": "8e88febd-e844-43c1-8185-cd2ac9fc40a6",
   "metadata": {},
   "outputs": [
    {
     "data": {
      "text/html": [],
      "text/plain": [
       "<IPython.core.display.HTML object>"
      ]
     },
     "metadata": {},
     "output_type": "display_data"
    },
    {
     "data": {
      "text/html": [
       "<br>    <style><br>        .wandb-row {<br>            display: flex;<br>            flex-direction: row;<br>            flex-wrap: wrap;<br>            justify-content: flex-start;<br>            width: 100%;<br>        }<br>        .wandb-col {<br>            display: flex;<br>            flex-direction: column;<br>            flex-basis: 100%;<br>            flex: 1;<br>            padding: 10px;<br>        }<br>    </style><br><div class=\"wandb-row\"><div class=\"wandb-col\"><h3>Run history:</h3><br/><table class=\"wandb\"><tr><td>epoch</td><td>▁▁▁▁▁▂▂▂▂▃▃▃▃▃▄▄▅▅▅▅▅▅▆▆▆▆▆▆▆▆▆▆▇▇▇█████</td></tr><tr><td>train_loss_epoch</td><td>█▂▂▂▂▁▁▁▁▁</td></tr><tr><td>train_loss_step</td><td>█▇▆▅▄▄▃▃▂▃▃▃▃▃▂▃▂▁▃▂▂▃▂▂▂▃▂▂▂▂▃▂▂▂▁▂▁▃▁▂</td></tr><tr><td>trainer/global_step</td><td>▁▁▁▁▂▂▂▂▂▂▃▃▃▃▃▄▄▄▄▄▅▅▅▅▅▆▆▆▆▆▇▇▇▇▇▇▇▇██</td></tr><tr><td>val_accuracy</td><td>▁██████████</td></tr><tr><td>val_auroc</td><td>▁██████████</td></tr><tr><td>val_avgprec</td><td>▁▇█████████</td></tr><tr><td>val_best_f1</td><td>▁▇█████████</td></tr><tr><td>val_loss</td><td>█▁▁▁▁▁▁▁▁▁▁</td></tr></table><br/></div><div class=\"wandb-col\"><h3>Run summary:</h3><br/><table class=\"wandb\"><tr><td>epoch</td><td>9</td></tr><tr><td>train_loss_epoch</td><td>0.14265</td></tr><tr><td>train_loss_step</td><td>0.14165</td></tr><tr><td>trainer/global_step</td><td>3189</td></tr><tr><td>val_accuracy</td><td>0.94825</td></tr><tr><td>val_auroc</td><td>0.89354</td></tr><tr><td>val_avgprec</td><td>0.55242</td></tr><tr><td>val_best_f1</td><td>0.52531</td></tr><tr><td>val_loss</td><td>0.152</td></tr></table><br/></div></div>"
      ],
      "text/plain": [
       "<IPython.core.display.HTML object>"
      ]
     },
     "metadata": {},
     "output_type": "display_data"
    },
    {
     "data": {
      "text/html": [
       " View run <strong style=\"color:#cdcd00\">train</strong> at: <a href='https://wandb.ai/grelu/human-atac-catlas/runs/xx0mt24e' target=\"_blank\">https://wandb.ai/grelu/human-atac-catlas/runs/xx0mt24e</a><br> View project at: <a href='https://wandb.ai/grelu/human-atac-catlas' target=\"_blank\">https://wandb.ai/grelu/human-atac-catlas</a><br>Synced 6 W&B file(s), 0 media file(s), 4 artifact file(s) and 0 other file(s)"
      ],
      "text/plain": [
       "<IPython.core.display.HTML object>"
      ]
     },
     "metadata": {},
     "output_type": "display_data"
    },
    {
     "data": {
      "text/html": [
       "Find logs at: <code>./wandb/run-20250306_000617-xx0mt24e/logs</code>"
      ],
      "text/plain": [
       "<IPython.core.display.HTML object>"
      ]
     },
     "metadata": {},
     "output_type": "display_data"
    }
   ],
   "source": [
    "run.finish()"
   ]
  },
  {
   "cell_type": "code",
   "execution_count": null,
   "id": "6905eb42-ca4c-45f4-ac4c-adc495a62876",
   "metadata": {},
   "outputs": [],
   "source": []
  }
 ],
 "metadata": {
  "kernelspec": {
   "display_name": "Python 3 (ipykernel)",
   "language": "python",
   "name": "python3"
  },
  "language_info": {
   "codemirror_mode": {
    "name": "ipython",
    "version": 3
   },
   "file_extension": ".py",
   "mimetype": "text/x-python",
   "name": "python",
   "nbconvert_exporter": "python",
   "pygments_lexer": "ipython3",
   "version": "3.11.9"
  }
 },
 "nbformat": 4,
 "nbformat_minor": 5
}
